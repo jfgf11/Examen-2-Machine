{
  "nbformat": 4,
  "nbformat_minor": 0,
  "metadata": {
    "colab": {
      "name": "examen2.ipynb",
      "provenance": [],
      "collapsed_sections": [],
      "toc_visible": true,
      "include_colab_link": true
    },
    "kernelspec": {
      "name": "python3",
      "display_name": "Python 3"
    },
    "accelerator": "GPU"
  },
  "cells": [
    {
      "cell_type": "markdown",
      "metadata": {
        "id": "view-in-github",
        "colab_type": "text"
      },
      "source": [
        "<a href=\"https://colab.research.google.com/github/jfgf11/Examen-2-Machine/blob/master/examen2.ipynb\" target=\"_parent\"><img src=\"https://colab.research.google.com/assets/colab-badge.svg\" alt=\"Open In Colab\"/></a>"
      ]
    },
    {
      "cell_type": "markdown",
      "metadata": {
        "id": "Geb2T0_TB3BM",
        "colab_type": "text"
      },
      "source": [
        "\n",
        "# Examen 2\n",
        "\n",
        "\n"
      ]
    },
    {
      "cell_type": "code",
      "metadata": {
        "id": "brhsDHYQokNd",
        "colab_type": "code",
        "outputId": "469ab35e-bd03-481a-ca0d-821c6b756452",
        "colab": {
          "base_uri": "https://localhost:8080/",
          "height": 121
        }
      },
      "source": [
        "from google.colab import drive\n",
        "drive.mount('/content/drive')#, force_remount = True)"
      ],
      "execution_count": 1,
      "outputs": [
        {
          "output_type": "stream",
          "text": [
            "Go to this URL in a browser: https://accounts.google.com/o/oauth2/auth?client_id=947318989803-6bn6qk8qdgf4n4g3pfee6491hc0brc4i.apps.googleusercontent.com&redirect_uri=urn%3aietf%3awg%3aoauth%3a2.0%3aoob&response_type=code&scope=email%20https%3a%2f%2fwww.googleapis.com%2fauth%2fdocs.test%20https%3a%2f%2fwww.googleapis.com%2fauth%2fdrive%20https%3a%2f%2fwww.googleapis.com%2fauth%2fdrive.photos.readonly%20https%3a%2f%2fwww.googleapis.com%2fauth%2fpeopleapi.readonly\n",
            "\n",
            "Enter your authorization code:\n",
            "··········\n",
            "Mounted at /content/drive\n"
          ],
          "name": "stdout"
        }
      ]
    },
    {
      "cell_type": "markdown",
      "metadata": {
        "id": "nigPT0LkuBmI",
        "colab_type": "text"
      },
      "source": [
        "#Instalación"
      ]
    },
    {
      "cell_type": "code",
      "metadata": {
        "id": "UT9ry2xHBUyV",
        "colab_type": "code",
        "outputId": "908a7b9a-5c33-413e-e895-a06cd2da09c2",
        "colab": {
          "base_uri": "https://localhost:8080/",
          "height": 272
        }
      },
      "source": [
        "!pip install pyEDFlib\n",
        "!pip install progressbar2"
      ],
      "execution_count": 2,
      "outputs": [
        {
          "output_type": "stream",
          "text": [
            "Collecting pyEDFlib\n",
            "\u001b[?25l  Downloading https://files.pythonhosted.org/packages/bc/8b/47ce5a889e1f6917390ba2328b494424d018cf9c263ab59e14ac851e194f/pyEDFlib-0.1.15.tar.gz (1.1MB)\n",
            "\r\u001b[K     |▎                               | 10kB 23.9MB/s eta 0:00:01\r\u001b[K     |▋                               | 20kB 6.6MB/s eta 0:00:01\r\u001b[K     |▉                               | 30kB 9.3MB/s eta 0:00:01\r\u001b[K     |█▏                              | 40kB 6.2MB/s eta 0:00:01\r\u001b[K     |█▌                              | 51kB 7.5MB/s eta 0:00:01\r\u001b[K     |█▊                              | 61kB 8.8MB/s eta 0:00:01\r\u001b[K     |██                              | 71kB 10.0MB/s eta 0:00:01\r\u001b[K     |██▍                             | 81kB 11.1MB/s eta 0:00:01\r\u001b[K     |██▋                             | 92kB 12.3MB/s eta 0:00:01\r\u001b[K     |███                             | 102kB 10.0MB/s eta 0:00:01\r\u001b[K     |███▏                            | 112kB 10.0MB/s eta 0:00:01\r\u001b[K     |███▌                            | 122kB 10.0MB/s eta 0:00:01\r\u001b[K     |███▉                            | 133kB 10.0MB/s eta 0:00:01\r\u001b[K     |████                            | 143kB 10.0MB/s eta 0:00:01\r\u001b[K     |████▍                           | 153kB 10.0MB/s eta 0:00:01\r\u001b[K     |████▊                           | 163kB 10.0MB/s eta 0:00:01\r\u001b[K     |█████                           | 174kB 10.0MB/s eta 0:00:01\r\u001b[K     |█████▎                          | 184kB 10.0MB/s eta 0:00:01\r\u001b[K     |█████▋                          | 194kB 10.0MB/s eta 0:00:01\r\u001b[K     |█████▉                          | 204kB 10.0MB/s eta 0:00:01\r\u001b[K     |██████▏                         | 215kB 10.0MB/s eta 0:00:01\r\u001b[K     |██████▍                         | 225kB 10.0MB/s eta 0:00:01\r\u001b[K     |██████▊                         | 235kB 10.0MB/s eta 0:00:01\r\u001b[K     |███████                         | 245kB 10.0MB/s eta 0:00:01\r\u001b[K     |███████▎                        | 256kB 10.0MB/s eta 0:00:01\r\u001b[K     |███████▋                        | 266kB 10.0MB/s eta 0:00:01\r\u001b[K     |████████                        | 276kB 10.0MB/s eta 0:00:01\r\u001b[K     |████████▏                       | 286kB 10.0MB/s eta 0:00:01\r\u001b[K     |████████▌                       | 296kB 10.0MB/s eta 0:00:01\r\u001b[K     |████████▉                       | 307kB 10.0MB/s eta 0:00:01\r\u001b[K     |█████████                       | 317kB 10.0MB/s eta 0:00:01\r\u001b[K     |█████████▍                      | 327kB 10.0MB/s eta 0:00:01\r\u001b[K     |█████████▋                      | 337kB 10.0MB/s eta 0:00:01\r\u001b[K     |██████████                      | 348kB 10.0MB/s eta 0:00:01\r\u001b[K     |██████████▎                     | 358kB 10.0MB/s eta 0:00:01\r\u001b[K     |██████████▌                     | 368kB 10.0MB/s eta 0:00:01\r\u001b[K     |██████████▉                     | 378kB 10.0MB/s eta 0:00:01\r\u001b[K     |███████████▏                    | 389kB 10.0MB/s eta 0:00:01\r\u001b[K     |███████████▍                    | 399kB 10.0MB/s eta 0:00:01\r\u001b[K     |███████████▊                    | 409kB 10.0MB/s eta 0:00:01\r\u001b[K     |████████████                    | 419kB 10.0MB/s eta 0:00:01\r\u001b[K     |████████████▎                   | 430kB 10.0MB/s eta 0:00:01\r\u001b[K     |████████████▋                   | 440kB 10.0MB/s eta 0:00:01\r\u001b[K     |████████████▉                   | 450kB 10.0MB/s eta 0:00:01\r\u001b[K     |█████████████▏                  | 460kB 10.0MB/s eta 0:00:01\r\u001b[K     |█████████████▌                  | 471kB 10.0MB/s eta 0:00:01\r\u001b[K     |█████████████▊                  | 481kB 10.0MB/s eta 0:00:01\r\u001b[K     |██████████████                  | 491kB 10.0MB/s eta 0:00:01\r\u001b[K     |██████████████▍                 | 501kB 10.0MB/s eta 0:00:01\r\u001b[K     |██████████████▋                 | 512kB 10.0MB/s eta 0:00:01\r\u001b[K     |███████████████                 | 522kB 10.0MB/s eta 0:00:01\r\u001b[K     |███████████████▏                | 532kB 10.0MB/s eta 0:00:01\r\u001b[K     |███████████████▌                | 542kB 10.0MB/s eta 0:00:01\r\u001b[K     |███████████████▉                | 552kB 10.0MB/s eta 0:00:01\r\u001b[K     |████████████████                | 563kB 10.0MB/s eta 0:00:01\r\u001b[K     |████████████████▍               | 573kB 10.0MB/s eta 0:00:01\r\u001b[K     |████████████████▊               | 583kB 10.0MB/s eta 0:00:01\r\u001b[K     |█████████████████               | 593kB 10.0MB/s eta 0:00:01\r\u001b[K     |█████████████████▎              | 604kB 10.0MB/s eta 0:00:01\r\u001b[K     |█████████████████▋              | 614kB 10.0MB/s eta 0:00:01\r\u001b[K     |█████████████████▉              | 624kB 10.0MB/s eta 0:00:01\r\u001b[K     |██████████████████▏             | 634kB 10.0MB/s eta 0:00:01\r\u001b[K     |██████████████████▍             | 645kB 10.0MB/s eta 0:00:01\r\u001b[K     |██████████████████▊             | 655kB 10.0MB/s eta 0:00:01\r\u001b[K     |███████████████████             | 665kB 10.0MB/s eta 0:00:01\r\u001b[K     |███████████████████▎            | 675kB 10.0MB/s eta 0:00:01\r\u001b[K     |███████████████████▋            | 686kB 10.0MB/s eta 0:00:01\r\u001b[K     |████████████████████            | 696kB 10.0MB/s eta 0:00:01\r\u001b[K     |████████████████████▏           | 706kB 10.0MB/s eta 0:00:01\r\u001b[K     |████████████████████▌           | 716kB 10.0MB/s eta 0:00:01\r\u001b[K     |████████████████████▉           | 727kB 10.0MB/s eta 0:00:01\r\u001b[K     |█████████████████████           | 737kB 10.0MB/s eta 0:00:01\r\u001b[K     |█████████████████████▍          | 747kB 10.0MB/s eta 0:00:01\r\u001b[K     |█████████████████████▋          | 757kB 10.0MB/s eta 0:00:01\r\u001b[K     |██████████████████████          | 768kB 10.0MB/s eta 0:00:01\r\u001b[K     |██████████████████████▎         | 778kB 10.0MB/s eta 0:00:01\r\u001b[K     |██████████████████████▌         | 788kB 10.0MB/s eta 0:00:01\r\u001b[K     |██████████████████████▉         | 798kB 10.0MB/s eta 0:00:01\r\u001b[K     |███████████████████████▏        | 808kB 10.0MB/s eta 0:00:01\r\u001b[K     |███████████████████████▍        | 819kB 10.0MB/s eta 0:00:01\r\u001b[K     |███████████████████████▊        | 829kB 10.0MB/s eta 0:00:01\r\u001b[K     |████████████████████████        | 839kB 10.0MB/s eta 0:00:01\r\u001b[K     |████████████████████████▎       | 849kB 10.0MB/s eta 0:00:01\r\u001b[K     |████████████████████████▋       | 860kB 10.0MB/s eta 0:00:01\r\u001b[K     |████████████████████████▉       | 870kB 10.0MB/s eta 0:00:01\r\u001b[K     |█████████████████████████▏      | 880kB 10.0MB/s eta 0:00:01\r\u001b[K     |█████████████████████████▌      | 890kB 10.0MB/s eta 0:00:01\r\u001b[K     |█████████████████████████▊      | 901kB 10.0MB/s eta 0:00:01\r\u001b[K     |██████████████████████████      | 911kB 10.0MB/s eta 0:00:01\r\u001b[K     |██████████████████████████▍     | 921kB 10.0MB/s eta 0:00:01\r\u001b[K     |██████████████████████████▋     | 931kB 10.0MB/s eta 0:00:01\r\u001b[K     |███████████████████████████     | 942kB 10.0MB/s eta 0:00:01\r\u001b[K     |███████████████████████████▏    | 952kB 10.0MB/s eta 0:00:01\r\u001b[K     |███████████████████████████▌    | 962kB 10.0MB/s eta 0:00:01\r\u001b[K     |███████████████████████████▉    | 972kB 10.0MB/s eta 0:00:01\r\u001b[K     |████████████████████████████    | 983kB 10.0MB/s eta 0:00:01\r\u001b[K     |████████████████████████████▍   | 993kB 10.0MB/s eta 0:00:01\r\u001b[K     |████████████████████████████▊   | 1.0MB 10.0MB/s eta 0:00:01\r\u001b[K     |█████████████████████████████   | 1.0MB 10.0MB/s eta 0:00:01\r\u001b[K     |█████████████████████████████▎  | 1.0MB 10.0MB/s eta 0:00:01\r\u001b[K     |█████████████████████████████▋  | 1.0MB 10.0MB/s eta 0:00:01\r\u001b[K     |█████████████████████████████▉  | 1.0MB 10.0MB/s eta 0:00:01\r\u001b[K     |██████████████████████████████▏ | 1.1MB 10.0MB/s eta 0:00:01\r\u001b[K     |██████████████████████████████▍ | 1.1MB 10.0MB/s eta 0:00:01\r\u001b[K     |██████████████████████████████▊ | 1.1MB 10.0MB/s eta 0:00:01\r\u001b[K     |███████████████████████████████ | 1.1MB 10.0MB/s eta 0:00:01\r\u001b[K     |███████████████████████████████▎| 1.1MB 10.0MB/s eta 0:00:01\r\u001b[K     |███████████████████████████████▋| 1.1MB 10.0MB/s eta 0:00:01\r\u001b[K     |████████████████████████████████| 1.1MB 10.0MB/s eta 0:00:01\r\u001b[K     |████████████████████████████████| 1.1MB 10.0MB/s \n",
            "\u001b[?25hRequirement already satisfied: numpy>=1.9.1 in /usr/local/lib/python3.6/dist-packages (from pyEDFlib) (1.17.4)\n",
            "Building wheels for collected packages: pyEDFlib\n",
            "  Building wheel for pyEDFlib (setup.py) ... \u001b[?25l\u001b[?25hdone\n",
            "  Created wheel for pyEDFlib: filename=pyEDFlib-0.1.15-cp36-cp36m-linux_x86_64.whl size=920116 sha256=adddb3f50e9804a993f4ac6c9b038b04501921057deb37bcc9029423ea4fda18\n",
            "  Stored in directory: /root/.cache/pip/wheels/57/e3/8e/ce6236e9ada08b8ff91ef922c7418dbd66f1182dfbb22f8579\n",
            "Successfully built pyEDFlib\n",
            "Installing collected packages: pyEDFlib\n",
            "Successfully installed pyEDFlib-0.1.15\n",
            "Requirement already satisfied: progressbar2 in /usr/local/lib/python3.6/dist-packages (3.38.0)\n",
            "Requirement already satisfied: six in /usr/local/lib/python3.6/dist-packages (from progressbar2) (1.12.0)\n",
            "Requirement already satisfied: python-utils>=2.3.0 in /usr/local/lib/python3.6/dist-packages (from progressbar2) (2.3.0)\n"
          ],
          "name": "stdout"
        }
      ]
    },
    {
      "cell_type": "markdown",
      "metadata": {
        "id": "-BNRjiy0hckX",
        "colab_type": "text"
      },
      "source": [
        "#Librerías"
      ]
    },
    {
      "cell_type": "code",
      "metadata": {
        "id": "dbliV9ktoI5F",
        "colab_type": "code",
        "colab": {}
      },
      "source": [
        "%tensorflow_version 1.x\n",
        "import tensorflow as tf\n",
        "import tensorflow.keras as keras\n",
        "\n",
        "from tensorflow.keras import Sequential\n",
        "from tensorflow.keras.layers import Dense\n",
        "from tensorflow.keras.layers import Dropout\n",
        "from tensorflow.keras.layers import Conv1D\n",
        "from tensorflow.keras.layers import MaxPooling1D\n",
        "from tensorflow.keras.layers import AveragePooling1D\n",
        "from tensorflow.keras.layers import GlobalAveragePooling1D\n",
        "from tensorflow.keras.layers import GlobalMaxPooling1D\n",
        "from tensorflow.keras.layers import Flatten\n",
        "from tensorflow.keras import optimizers\n",
        "from tensorflow.keras.regularizers import l2\n",
        "from tensorflow.keras.wrappers.scikit_learn import KerasClassifier\n",
        "\n",
        "import pandas as pd\n",
        "import pyedflib as pyedf\n",
        "import numpy as np\n",
        "import matplotlib.pyplot as plt\n",
        "import os\n",
        "import time\n",
        "from tqdm import tqdm\n",
        "import progressbar\n",
        "\n",
        "from sklearn.model_selection import train_test_split\n",
        "from sklearn.model_selection import GridSearchCV\n",
        "from sklearn.metrics import confusion_matrix \n",
        "from sklearn.ensemble import AdaBoostClassifier\n",
        "import sklearn as sk\n",
        "import itertools"
      ],
      "execution_count": 0,
      "outputs": []
    },
    {
      "cell_type": "markdown",
      "metadata": {
        "id": "NG1AdmN0FjVA",
        "colab_type": "text"
      },
      "source": [
        "#Clases"
      ]
    },
    {
      "cell_type": "code",
      "metadata": {
        "id": "rT-Z0AiyFiq-",
        "colab_type": "code",
        "colab": {}
      },
      "source": [
        "#Esta no esta terminada.\n",
        "class Resultados:\n",
        "    def __init__(self, p_y_pred, p_y_true):#, p_labels):\n",
        "        self.y_pred = p_y_pred\n",
        "        self.y_true = p_y_true\n",
        "        #self.convertirClases()\n",
        "        #self.labels = p_labels\n",
        "\n",
        "    def convertirClases(self):\n",
        "      self.y_pred_convertidos = ((self.y_pred == 1) + (self.y_pred == 2)) + 2*((self.y_pred == 3) + (self.y_pred == 4)) + 3*(self.y_pred == 5)\n",
        "      self.y_true_convertidos = ((self.y_true == 1) + (self.y_true == 2)) + 2*((self.y_true == 3) + (self.y_true == 4)) + 3*(self.y_true == 5)\n",
        "\n",
        "    def darMatrizConfusion(self):\n",
        "      cm = confusion_matrix(self.y_true, self.y_pred)#, self.labels)\n",
        "      print(cm)\n",
        "      #Terminar esto\n",
        "      #ax = plt.subplot()\n",
        "      #sns.heatmap(cm, annot = True, ax = ax); #annot=True to annotate cells\n",
        "      #return cm\n",
        "\n",
        "    def calcularError(self):\n",
        "      error = np.sum(self.y_pred_convertidos != self.y_true_convertidos)\n",
        "      error = error/len(self.y_pred_convertidos)\n",
        "\n",
        "      return error\n",
        "\n",
        "      "
      ],
      "execution_count": 0,
      "outputs": []
    },
    {
      "cell_type": "markdown",
      "metadata": {
        "id": "Aivhu85eoNx8",
        "colab_type": "text"
      },
      "source": [
        "#Lectura de los Datos"
      ]
    },
    {
      "cell_type": "code",
      "metadata": {
        "id": "Y9fVcGp6pV7W",
        "colab_type": "code",
        "colab": {}
      },
      "source": [
        "filenameDatos = \"drive/My Drive/sleep-cassette\"\n",
        "filenameDescripcion = \"drive/My Drive/SC-subjects.xls\"\n",
        "\n",
        "ArchivoLightsOff=pd.read_excel(filenameDescripcion, sheet_name='Blad1')\n",
        "\n",
        "TiempoLightsOff=ArchivoLightsOff[\"LightsOff\"].values\n",
        "TiempoLightsOffSegundos=TiempoLightsOff\n",
        "HorasSuenio=8\n",
        "\n",
        "for i in range (0, len(TiempoLightsOff)):\n",
        "  segundos=int(TiempoLightsOff[i].hour) * 3600 + int(TiempoLightsOff[i].minute) * 60\n",
        "  TiempoLightsOffSegundos[i]=segundos\n",
        "\n",
        "listaArchivos = os.listdir(filenameDatos)\n",
        "\n",
        "listaHypnograms = [i for i in listaArchivos if \"Hypnogram\" in i] \n",
        "listaPSGs = [i for i in listaArchivos if \"PSG\" in i]\n",
        "\n",
        "listaHypnograms.sort()\n",
        "listaPSGs.sort()\n",
        "\n",
        "print(\"Importando datos...\")\n",
        "\n",
        "start = time.time()\n",
        "\n",
        "Datos1=np.zeros(3000)\n",
        "Datos2=np.zeros(3000)\n",
        "Datos3=np.zeros(3000)\n",
        "\n",
        "Etiquetas=[0]\n",
        "\n",
        "p = 0\n",
        "inicioNumArchivos =10\n",
        "numArchivos = 10\n",
        "\n",
        "with progressbar.ProgressBar(max_value=numArchivos*960) as bar:\n",
        "  for i in range(inicioNumArchivos,inicioNumArchivos+numArchivos):#len(listaHypnograms)):\n",
        "\n",
        "    hyp = listaHypnograms[i]\n",
        "    psg = listaPSGs[i]\n",
        "\n",
        "    print(\"Hyp: {}, PSG: {}\".format(hyp,psg))\n",
        "\n",
        "    fileHyp = pyedf.EdfReader(filenameDatos + \"/\" + hyp)\n",
        "    filePSG = pyedf.EdfReader(filenameDatos + \"/\" + psg)\n",
        "\n",
        "    hypTime, hypDur, hypEtiqueta = fileHyp.readAnnotations()\n",
        "\n",
        "    tiempoComienzo = fileHyp.starttime_hour*3600+fileHyp.starttime_minute*60+fileHyp.starttime_second\n",
        "    offset=TiempoLightsOffSegundos[i]-tiempoComienzo\n",
        "    if offset<0:\n",
        "      offset+=24*3600\n",
        "    LimiteSuperior=offset+HorasSuenio*3600\n",
        "    ventana=30\n",
        "    tiempo=offset\n",
        "    j=0\n",
        "    referenciaSenial=0\n",
        "    FrecuenciaMuestreo = filePSG.getSampleFrequency(referenciaSenial)\n",
        "\n",
        "    while tiempo<LimiteSuperior:\n",
        "      if tiempo>hypTime[j]:\n",
        "        j+=1\n",
        "        \n",
        "      ventanaMuestra = np.round(FrecuenciaMuestreo * ventana)\n",
        "      muestraInicial = np.round(FrecuenciaMuestreo * tiempo)\n",
        "      senial1=filePSG.readSignal(0)\n",
        "      senial2=filePSG.readSignal(1)\n",
        "      senial3=filePSG.readSignal(2)\n",
        "      senialActual1=senial1[muestraInicial:muestraInicial+ventanaMuestra]\n",
        "      senialActual2=senial2[muestraInicial:muestraInicial+ventanaMuestra]\n",
        "      senialActual3=senial3[muestraInicial:muestraInicial+ventanaMuestra]\n",
        "      \n",
        "      etiquetaActual=hypEtiqueta[j]\n",
        "      \n",
        "      Datos1=np.vstack((Datos1,senialActual1))\n",
        "      Datos2=np.vstack((Datos2,senialActual2))\n",
        "      Datos3=np.vstack((Datos3,senialActual3))\n",
        "\n",
        "      Etiquetas=np.vstack((Etiquetas,etiquetaActual))\n",
        "      tiempo+=ventana\n",
        "      p+=1\n",
        "      bar.update(p)\n",
        "\n",
        "    fileHyp._close() \n",
        "    filePSG._close()\n",
        "#print(listaHypnograms)\n",
        "#print(listaPSGs)\n",
        "\n",
        "print(\"Termino.\")\n",
        "print(\"Tiempo: {} segundos.\".format(time.time()-start))"
      ],
      "execution_count": 0,
      "outputs": []
    },
    {
      "cell_type": "code",
      "metadata": {
        "id": "zTq6m6HZqImV",
        "colab_type": "code",
        "colab": {}
      },
      "source": [
        "def appendDatos(pDatos1, pDatos2, pDatos3):\n",
        "  Datos_Generales=np.zeros((pDatos1.shape[0],3000,3))\n",
        "\n",
        "  for i in progressbar.progressbar(range(0,pDatos1.shape[0])):\n",
        "\n",
        "    Datos_Generales[i,:,0]=pDatos1[i]\n",
        "    Datos_Generales[i,:,1]=pDatos2[i]\n",
        "    Datos_Generales[i,:,2]=pDatos3[i]\n",
        "    \n",
        "  return Datos_Generales\n"
      ],
      "execution_count": 0,
      "outputs": []
    },
    {
      "cell_type": "code",
      "metadata": {
        "id": "oXKEo6bq2c_m",
        "colab_type": "code",
        "outputId": "6270fae6-0714-416e-ec3f-924b3bf2e4b7",
        "colab": {
          "base_uri": "https://localhost:8080/",
          "height": 35
        }
      },
      "source": [
        "test = appendDatos(Datos1, Datos2, Datos3)"
      ],
      "execution_count": 0,
      "outputs": [
        {
          "output_type": "execute_result",
          "data": {
            "text/plain": [
              "(3, 3000, 8864)"
            ]
          },
          "metadata": {
            "tags": []
          },
          "execution_count": 56
        }
      ]
    },
    {
      "cell_type": "code",
      "metadata": {
        "id": "xhi9yZL7jWbY",
        "colab_type": "code",
        "outputId": "e2d04f6c-e10f-4559-9144-74e60eeb1109",
        "colab": {
          "base_uri": "https://localhost:8080/",
          "height": 35
        }
      },
      "source": [
        "#filePSG = pyedf.EdfReader(filenameDatos + \"/\" + psg)\n",
        "#filePSG._close()\n",
        "filenameDatos + \"/\" + psg"
      ],
      "execution_count": 0,
      "outputs": [
        {
          "output_type": "execute_result",
          "data": {
            "text/plain": [
              "'drive/My Drive/sleep-cassette/SC4002E0-PSG.edf'"
            ]
          },
          "metadata": {
            "tags": []
          },
          "execution_count": 16
        }
      ]
    },
    {
      "cell_type": "code",
      "metadata": {
        "id": "kf3DBKIQpPy6",
        "colab_type": "code",
        "colab": {}
      },
      "source": [
        "#Esto solo se corre una vez.\n",
        "Etiquetas = Etiquetas[1:len(Etiquetas)]\n",
        "Datos = Datos[1:Datos.shape[0]]"
      ],
      "execution_count": 0,
      "outputs": []
    },
    {
      "cell_type": "code",
      "metadata": {
        "id": "vqNHjkpQM14h",
        "colab_type": "code",
        "colab": {}
      },
      "source": [
        "numArchivos = 10\n",
        "def eliminarClaseDesconocida(pDatos, pEtiquetas):\n",
        "  et = []\n",
        "  dat = np.zeros(3000)\n",
        "\n",
        "  with progressbar.ProgressBar(max_value=numArchivos*960) as bar:\n",
        "    for i in range(0, len(pEtiquetas)):\n",
        "      bar.update(i)\n",
        "      if pEtiquetas[i] != 'Sleep stage ?':\n",
        "        \n",
        "        if pEtiquetas[i]==\"Sleep stage W\":\n",
        "          et = np.append(et,0)\n",
        "          dat = np.vstack((dat, pDatos[i,:]))\n",
        "        elif pEtiquetas[i]==\"Sleep stage 1\":\n",
        "          et = np.append(et,1)\n",
        "          dat = np.vstack((dat, pDatos[i,:]))\n",
        "        elif pEtiquetas[i]==\"Sleep stage 2\":\n",
        "          et = np.append(et,2)\n",
        "          dat = np.vstack((dat, pDatos[i,:]))\n",
        "        elif pEtiquetas[i]==\"Sleep stage 3\":\n",
        "          et = np.append(et,3)\n",
        "          dat = np.vstack((dat, pDatos[i,:]))\n",
        "        elif pEtiquetas[i]==\"Sleep stage 4\":\n",
        "          et = np.append(et,4)\n",
        "          dat = np.vstack((dat, pDatos[i,:]))\n",
        "        elif pEtiquetas[i]==\"Sleep stage R\":\n",
        "          et = np.append(et,5)\n",
        "          dat = np.vstack((dat, pDatos[i,:]))\n",
        "        else:\n",
        "          pass\n",
        "          #print(\"Hay una clase distinta a las definidas.\")\n",
        "\n",
        "  dat = dat[1:dat.shape[0]]\n",
        "  return dat, et\n",
        "\n",
        "#Datos1, Etiquetas = eliminarClaseDesconocida(unosDatos, unosEtiquetas)\n",
        "#np.save(\"Datos\", unosDatos)\n",
        "#np.save(\"Etiquetas\", unosEtiquetas)\n",
        "\n",
        "#print(len(unosEtiquetas))\n",
        "#print(len(unosDatos))"
      ],
      "execution_count": 0,
      "outputs": []
    },
    {
      "cell_type": "markdown",
      "metadata": {
        "id": "hzhUvNhtoToM",
        "colab_type": "text"
      },
      "source": [
        "#Entrenamiento del Modelo"
      ]
    },
    {
      "cell_type": "code",
      "metadata": {
        "id": "EuS9aI-kWy-v",
        "colab_type": "code",
        "colab": {}
      },
      "source": [
        "#unosEtiquetas=np.load(\"drive/My Drive/Etiquetas.npy\")\n",
        "#unosDatos=np.load(\"drive/My Drive/Datos.npy\")\n",
        "#np.save(\"drive/My Drive/Datos1\", Datos1)\n",
        "#np.save(\"drive/My Drive/Etiquetas\", unosEtiquetas)\n",
        "#np.save(\"drive/My Drive/Etiquetas\", unosEtiquetas)\n",
        "#Datos1 = np.load(\"drive/My Drive/Datos1.npy\")\n",
        "#Datos2 = np.load(\"drive/My Drive/Datos2.npy\")\n",
        "#Datos3 = np.load(\"drive/My Drive/Datos3.npy\")\n",
        "\n",
        "#Datos1, unosEtiquetas = eliminarClaseDesconocida(Datos1, unosEtiquetas)\n",
        "\n",
        "#unosDatos = appendDatos(Datos1, Datos2, Datos3)\n",
        "#np.save(\"drive/My Drive/DatosCompletos.npy\", unosDatos)\n",
        "unosDatos = np.load(\"drive/My Drive/DatosCompletos.npy\")\n",
        "unosEtiquetas=np.load(\"drive/My Drive/Etiquetas.npy\")"
      ],
      "execution_count": 0,
      "outputs": []
    },
    {
      "cell_type": "code",
      "metadata": {
        "id": "Z1l-HpMoSXCv",
        "colab_type": "code",
        "outputId": "e4b3af79-773f-4810-d7f3-76727c788050",
        "colab": {
          "base_uri": "https://localhost:8080/",
          "height": 34
        }
      },
      "source": [
        "unosEtiquetas.shape"
      ],
      "execution_count": 8,
      "outputs": [
        {
          "output_type": "execute_result",
          "data": {
            "text/plain": [
              "(8864,)"
            ]
          },
          "metadata": {
            "tags": []
          },
          "execution_count": 8
        }
      ]
    },
    {
      "cell_type": "code",
      "metadata": {
        "id": "q3whNaa5S7ka",
        "colab_type": "code",
        "outputId": "12a0d494-0db5-4c8e-8d53-bae588f93ca6",
        "colab": {
          "base_uri": "https://localhost:8080/",
          "height": 134
        }
      },
      "source": [
        "unosDatos[1, :, :]"
      ],
      "execution_count": 10,
      "outputs": [
        {
          "output_type": "execute_result",
          "data": {
            "text/plain": [
              "array([[ -24.70915751,  -11.87252747, -130.34456654],\n",
              "       [ -23.67765568,   -7.64981685, -129.35897436],\n",
              "       [ -22.64615385,  -11.39267399, -126.89499389],\n",
              "       ...,\n",
              "       [   5.01684982,    2.23516484,   17.0014652 ],\n",
              "       [   5.67326007,   -3.61904762,    1.23199023],\n",
              "       [  16.73846154,  -16.57509158,   -2.21758242]])"
            ]
          },
          "metadata": {
            "tags": []
          },
          "execution_count": 10
        }
      ]
    },
    {
      "cell_type": "code",
      "metadata": {
        "id": "0b1TTqXl1eEZ",
        "colab_type": "code",
        "outputId": "d6b3abca-f6c6-43f1-caaf-9a6f4de2ef01",
        "colab": {
          "base_uri": "https://localhost:8080/",
          "height": 134
        }
      },
      "source": [
        "unosDatos[990,:,:]"
      ],
      "execution_count": 19,
      "outputs": [
        {
          "output_type": "execute_result",
          "data": {
            "text/plain": [
              "array([[-15.33479853,   5.85934066,  -9.38705739],\n",
              "       [-18.28791209,   5.46666667,  -1.18803419],\n",
              "       [-16.45494505,   4.48498168,   0.74114774],\n",
              "       ...,\n",
              "       [ 24.99047619,   0.95091575, -40.73626374],\n",
              "       [ 15.52014652,   1.83443223, -16.13919414],\n",
              "       [ 22.95384615,  -0.81611722, -14.69230769]])"
            ]
          },
          "metadata": {
            "tags": []
          },
          "execution_count": 19
        }
      ]
    },
    {
      "cell_type": "code",
      "metadata": {
        "id": "1SZKHJ8m1003",
        "colab_type": "code",
        "outputId": "6c290c0a-265d-4383-b229-a5bb48c64702",
        "colab": {
          "base_uri": "https://localhost:8080/",
          "height": 34
        }
      },
      "source": [
        "unosEtiquetas"
      ],
      "execution_count": 20,
      "outputs": [
        {
          "output_type": "execute_result",
          "data": {
            "text/plain": [
              "array([1., 1., 1., ..., 1., 1., 2.])"
            ]
          },
          "metadata": {
            "tags": []
          },
          "execution_count": 20
        }
      ]
    },
    {
      "cell_type": "code",
      "metadata": {
        "id": "7gpvaGVTVhg8",
        "colab_type": "code",
        "outputId": "0a789ec1-f7d9-4678-8c44-0e7002c2feb2",
        "colab": {
          "base_uri": "https://localhost:8080/",
          "height": 35
        }
      },
      "source": [
        "#x_train, x_test, y_train, y_test = train_test_split(np.transpose(unosDatos), unosEtiquetas , random_state = 0, test_size=0.10)\n",
        "#x_train = np.expand_dims(np.transpose(x_train), axis=3) # reshape (569, 30) to (569, 30, 1) \n",
        "\n",
        "print(x_train.shape)"
      ],
      "execution_count": 0,
      "outputs": [
        {
          "output_type": "stream",
          "text": [
            "(7977, 3000, 3)\n"
          ],
          "name": "stdout"
        }
      ]
    },
    {
      "cell_type": "markdown",
      "metadata": {
        "id": "ZNDN_jn4GUq2",
        "colab_type": "text"
      },
      "source": [
        "#Implementación en Keras"
      ]
    },
    {
      "cell_type": "markdown",
      "metadata": {
        "id": "Lr8mo_2xZolJ",
        "colab_type": "text"
      },
      "source": [
        "Se separan los datos de entrenamiento y validación"
      ]
    },
    {
      "cell_type": "code",
      "metadata": {
        "id": "hARh2hKqpioi",
        "colab_type": "code",
        "colab": {}
      },
      "source": [
        "x_train, x_test, y_train, y_test = train_test_split(unosDatos, unosEtiquetas , random_state = 0, test_size=0.10)\n",
        "#x_train = np.expand_dims(np.transpose(x_train), axis=3) # reshape (569, 30) to (569, 30, 1) \n",
        "#x_test = np.expand_dims(np.transpose(x_test), axis=3) # reshape (569, 30) to (569, 30, 1) "
      ],
      "execution_count": 0,
      "outputs": []
    },
    {
      "cell_type": "markdown",
      "metadata": {
        "id": "tp7kfuqjTA38",
        "colab_type": "text"
      },
      "source": [
        "Creación del modelo"
      ]
    },
    {
      "cell_type": "code",
      "metadata": {
        "id": "R54HzoQ0LDZ0",
        "colab_type": "code",
        "outputId": "62cd68ce-7a0a-4f47-adf9-435faa8cc11e",
        "colab": {
          "base_uri": "https://localhost:8080/",
          "height": 386
        }
      },
      "source": [
        "def crearModelo(pTasa, pAlpha, pNumFiltros, pTamFiltros, pTamPooling, pNumNeuronas, pOptimizer):\n",
        "  #Numero de clases\n",
        "  numClases = 6\n",
        "\n",
        "  modelo = Sequential()\n",
        "\n",
        "  #Esto corresponderia a la parte convolucional.\n",
        "  #modelo.add(Conv1D(pNumFiltros[0], int(pTamFiltros[0]), activation = 'relu', input_shape = (3000,1)))\n",
        "  modelo.add(Conv1D(pNumFiltros[0], int(pTamFiltros[0]), activation = 'relu', input_shape = (3000,3)))\n",
        "  #modelo.add(MaxPooling1D(int(pTamPooling[0])))\n",
        "  modelo.add(Conv1D(pNumFiltros[1], int(pTamFiltros[1]), activation = 'relu'))\n",
        "  modelo.add(MaxPooling1D(int(pTamPooling[0])))\n",
        "  modelo.add(Conv1D(pNumFiltros[2], int(pTamFiltros[2]), activation = 'relu'))\n",
        "  modelo.add(Conv1D(pNumFiltros[3], int(pTamFiltros[3]), activation = 'relu'))\n",
        "  #modelo.add(AveragePooling1D(int(pTamPooling[1])))\n",
        "  #modelo.add(Conv1D(pNumFiltros[4], int(pTamFiltros[4]), activation = 'relu'))\n",
        "  #modelo.add(Conv1D(pNumFiltros[5], int(pTamFiltros[5]), activation = 'relu'))\n",
        "  modelo.add(GlobalAveragePooling1D())\n",
        "  #modelo.add(GlobalMaxPooling1D())\n",
        "  #modelo.add(MaxPooling1D(int(pTamPooling[2])))\n",
        "  #modelo.add(Flatten())\n",
        "\n",
        "  #Esto corresponderia a la parte de red neuronal normalita. (Puse cualquier cosa por ahora)\n",
        "  #modelo.add(Dropout(0.5))\n",
        "  #modelo.add(Dense(pNumNeuronas[0], activation = 'relu'))\n",
        "  #modelo.add(Dropout(0.5))\n",
        "  #modelo.add(Dense(pNumNeuronas[1], activation = 'relu'))#, activity_regularizer=l2(pAlpha)))\n",
        "  #modelo.add(Dense(pNumNeuronas[2], activation = 'relu', activity_regularizer=l2(pAlpha)))\n",
        "  modelo.add(Dense(numClases, activation = 'softmax'))#, activity_regularizer = l2(pAlpha)))\n",
        "\n",
        "  sgd = optimizers.SGD(lr = pTasa, momentum=0.9)\n",
        "  adam = optimizers.Adam(learning_rate = pTasa)\n",
        "  if pOptimizer == \"adam\":\n",
        "    opt=adam\n",
        "  elif pOptimizer ==\"sgd\":\n",
        "    opt=sgd\n",
        "  elif pOptimizer ==\"rmsprop\":\n",
        "    opt = \"rmsprop\"\n",
        "  \n",
        "  modelo.compile(loss='sparse_categorical_crossentropy', optimizer = opt, metrics = ['sparse_categorical_accuracy'])\n",
        "  #modelo.summary()\n",
        "\n",
        "  return modelo\n",
        "\n",
        "modelo = crearModelo(tasa, alpha, numFiltros, tamFiltros, tamPooling ,numNeuronas, optimizer)\n",
        "modelo.summary()"
      ],
      "execution_count": 21,
      "outputs": [
        {
          "output_type": "stream",
          "text": [
            "Model: \"sequential_3\"\n",
            "_________________________________________________________________\n",
            "Layer (type)                 Output Shape              Param #   \n",
            "=================================================================\n",
            "conv1d_12 (Conv1D)           (None, 2991, 100)         3100      \n",
            "_________________________________________________________________\n",
            "conv1d_13 (Conv1D)           (None, 2982, 100)         100100    \n",
            "_________________________________________________________________\n",
            "max_pooling1d_3 (MaxPooling1 (None, 994, 100)          0         \n",
            "_________________________________________________________________\n",
            "conv1d_14 (Conv1D)           (None, 985, 160)          160160    \n",
            "_________________________________________________________________\n",
            "conv1d_15 (Conv1D)           (None, 976, 160)          256160    \n",
            "_________________________________________________________________\n",
            "global_average_pooling1d_3 ( (None, 160)               0         \n",
            "_________________________________________________________________\n",
            "dense_3 (Dense)              (None, 6)                 966       \n",
            "=================================================================\n",
            "Total params: 520,486\n",
            "Trainable params: 520,486\n",
            "Non-trainable params: 0\n",
            "_________________________________________________________________\n"
          ],
          "name": "stdout"
        }
      ]
    },
    {
      "cell_type": "code",
      "metadata": {
        "id": "M46eR6ELpaJ2",
        "colab_type": "code",
        "outputId": "617e72a6-b579-4474-b121-30ae4c360718",
        "colab": {
          "base_uri": "https://localhost:8080/",
          "height": 1000
        }
      },
      "source": [
        "numFiltros = np.array([100, 100, 160, 160, 6, 6])\n",
        "tamFiltros = np.array([10, 10, 10, 10, 6, 6])\n",
        "tamPooling = np.array([3, 8, 6])\n",
        "optimizer=\"sgd\"\n",
        "numNeuronas = np.array([30, 20, 10])\n",
        "\n",
        "tasa = 0.001\n",
        "alpha = 0.01\n",
        "\n",
        "modelo = crearModelo(tasa, alpha, numFiltros, tamFiltros, tamPooling ,numNeuronas, optimizer)\n",
        "\n",
        "epocas = 50\n",
        "batchSize = 400\n",
        "hist = modelo.fit(x_train, y_train, verbose = 1, validation_data=(x_test, y_test), epochs = epocas, batch_size = batchSize)\n",
        "\n",
        "graficarHistoria(hist)\n",
        "\n",
        "resultadosEntrenamiento = Resultados(y_train, modelo.predict_classes(x_train))\n",
        "resultadosValidacion = Resultados(y_test, modelo.predict_classes(x_test))\n",
        "\n",
        "print(resultadosEntrenamiento.darMatrizConfusion())\n",
        "print(resultadosValidacion.darMatrizConfusion())"
      ],
      "execution_count": 22,
      "outputs": [
        {
          "output_type": "stream",
          "text": [
            "Train on 7977 samples, validate on 887 samples\n",
            "Epoch 1/50\n",
            "7977/7977 [==============================] - 12s 1ms/sample - loss: 1.6926 - sparse_categorical_accuracy: 0.3397 - val_loss: 1.5786 - val_sparse_categorical_accuracy: 0.3788\n",
            "Epoch 2/50\n",
            "7977/7977 [==============================] - 12s 1ms/sample - loss: 1.5039 - sparse_categorical_accuracy: 0.4237 - val_loss: 1.5534 - val_sparse_categorical_accuracy: 0.3878\n",
            "Epoch 3/50\n",
            "7977/7977 [==============================] - 11s 1ms/sample - loss: 1.4673 - sparse_categorical_accuracy: 0.4337 - val_loss: 1.5329 - val_sparse_categorical_accuracy: 0.3901\n",
            "Epoch 4/50\n",
            "7977/7977 [==============================] - 11s 1ms/sample - loss: 1.4502 - sparse_categorical_accuracy: 0.4356 - val_loss: 1.5147 - val_sparse_categorical_accuracy: 0.3912\n",
            "Epoch 5/50\n",
            "7977/7977 [==============================] - 11s 1ms/sample - loss: 1.4392 - sparse_categorical_accuracy: 0.4349 - val_loss: 1.5099 - val_sparse_categorical_accuracy: 0.3980\n",
            "Epoch 6/50\n",
            "7977/7977 [==============================] - 11s 1ms/sample - loss: 1.4273 - sparse_categorical_accuracy: 0.4383 - val_loss: 1.5048 - val_sparse_categorical_accuracy: 0.3890\n",
            "Epoch 7/50\n",
            "7977/7977 [==============================] - 11s 1ms/sample - loss: 1.4166 - sparse_categorical_accuracy: 0.4395 - val_loss: 1.4922 - val_sparse_categorical_accuracy: 0.3991\n",
            "Epoch 8/50\n",
            "7977/7977 [==============================] - 11s 1ms/sample - loss: 1.4092 - sparse_categorical_accuracy: 0.4462 - val_loss: 1.4868 - val_sparse_categorical_accuracy: 0.3991\n",
            "Epoch 9/50\n",
            "7977/7977 [==============================] - 11s 1ms/sample - loss: 1.4026 - sparse_categorical_accuracy: 0.4424 - val_loss: 1.4902 - val_sparse_categorical_accuracy: 0.4002\n",
            "Epoch 10/50\n",
            "7977/7977 [==============================] - 11s 1ms/sample - loss: 1.3967 - sparse_categorical_accuracy: 0.4444 - val_loss: 1.4840 - val_sparse_categorical_accuracy: 0.3991\n",
            "Epoch 11/50\n",
            "7977/7977 [==============================] - 11s 1ms/sample - loss: 1.3975 - sparse_categorical_accuracy: 0.4439 - val_loss: 1.4770 - val_sparse_categorical_accuracy: 0.3991\n",
            "Epoch 12/50\n",
            "7977/7977 [==============================] - 11s 1ms/sample - loss: 1.3909 - sparse_categorical_accuracy: 0.4485 - val_loss: 1.4691 - val_sparse_categorical_accuracy: 0.4036\n",
            "Epoch 13/50\n",
            "7977/7977 [==============================] - 11s 1ms/sample - loss: 1.3880 - sparse_categorical_accuracy: 0.4457 - val_loss: 1.4657 - val_sparse_categorical_accuracy: 0.4036\n",
            "Epoch 14/50\n",
            "7977/7977 [==============================] - 11s 1ms/sample - loss: 1.3851 - sparse_categorical_accuracy: 0.4495 - val_loss: 1.4722 - val_sparse_categorical_accuracy: 0.4025\n",
            "Epoch 15/50\n",
            "7977/7977 [==============================] - 11s 1ms/sample - loss: 1.3782 - sparse_categorical_accuracy: 0.4487 - val_loss: 1.4869 - val_sparse_categorical_accuracy: 0.3980\n",
            "Epoch 16/50\n",
            "7977/7977 [==============================] - 11s 1ms/sample - loss: 1.3846 - sparse_categorical_accuracy: 0.4493 - val_loss: 1.4870 - val_sparse_categorical_accuracy: 0.3901\n",
            "Epoch 17/50\n",
            "7977/7977 [==============================] - 11s 1ms/sample - loss: 1.3793 - sparse_categorical_accuracy: 0.4522 - val_loss: 1.4639 - val_sparse_categorical_accuracy: 0.4002\n",
            "Epoch 18/50\n",
            "7977/7977 [==============================] - 11s 1ms/sample - loss: 1.3718 - sparse_categorical_accuracy: 0.4549 - val_loss: 1.4639 - val_sparse_categorical_accuracy: 0.4025\n",
            "Epoch 19/50\n",
            "7977/7977 [==============================] - 11s 1ms/sample - loss: 1.3712 - sparse_categorical_accuracy: 0.4468 - val_loss: 1.4712 - val_sparse_categorical_accuracy: 0.4047\n",
            "Epoch 20/50\n",
            "7977/7977 [==============================] - 11s 1ms/sample - loss: 1.3646 - sparse_categorical_accuracy: 0.4561 - val_loss: 1.4645 - val_sparse_categorical_accuracy: 0.3901\n",
            "Epoch 21/50\n",
            "7977/7977 [==============================] - 11s 1ms/sample - loss: 1.3658 - sparse_categorical_accuracy: 0.4538 - val_loss: 1.4852 - val_sparse_categorical_accuracy: 0.3957\n",
            "Epoch 22/50\n",
            "7977/7977 [==============================] - 11s 1ms/sample - loss: 1.3625 - sparse_categorical_accuracy: 0.4534 - val_loss: 1.4685 - val_sparse_categorical_accuracy: 0.3935\n",
            "Epoch 23/50\n",
            "7977/7977 [==============================] - 11s 1ms/sample - loss: 1.3593 - sparse_categorical_accuracy: 0.4577 - val_loss: 1.4496 - val_sparse_categorical_accuracy: 0.4047\n",
            "Epoch 24/50\n",
            "7977/7977 [==============================] - 11s 1ms/sample - loss: 1.3518 - sparse_categorical_accuracy: 0.4591 - val_loss: 1.4450 - val_sparse_categorical_accuracy: 0.4171\n",
            "Epoch 25/50\n",
            "7977/7977 [==============================] - 11s 1ms/sample - loss: 1.3507 - sparse_categorical_accuracy: 0.4587 - val_loss: 1.4438 - val_sparse_categorical_accuracy: 0.4081\n",
            "Epoch 26/50\n",
            "7977/7977 [==============================] - 11s 1ms/sample - loss: 1.3524 - sparse_categorical_accuracy: 0.4620 - val_loss: 1.4445 - val_sparse_categorical_accuracy: 0.4239\n",
            "Epoch 27/50\n",
            "7977/7977 [==============================] - 11s 1ms/sample - loss: 1.3546 - sparse_categorical_accuracy: 0.4571 - val_loss: 1.5012 - val_sparse_categorical_accuracy: 0.4092\n",
            "Epoch 28/50\n",
            "7977/7977 [==============================] - 11s 1ms/sample - loss: 1.3511 - sparse_categorical_accuracy: 0.4607 - val_loss: 1.4485 - val_sparse_categorical_accuracy: 0.4014\n",
            "Epoch 29/50\n",
            "7977/7977 [==============================] - 11s 1ms/sample - loss: 1.3414 - sparse_categorical_accuracy: 0.4642 - val_loss: 1.4277 - val_sparse_categorical_accuracy: 0.4104\n",
            "Epoch 30/50\n",
            "7977/7977 [==============================] - 11s 1ms/sample - loss: 1.3483 - sparse_categorical_accuracy: 0.4578 - val_loss: 1.4287 - val_sparse_categorical_accuracy: 0.4115\n",
            "Epoch 31/50\n",
            "7977/7977 [==============================] - 11s 1ms/sample - loss: 1.3420 - sparse_categorical_accuracy: 0.4574 - val_loss: 1.4293 - val_sparse_categorical_accuracy: 0.4104\n",
            "Epoch 32/50\n",
            "7977/7977 [==============================] - 11s 1ms/sample - loss: 1.3359 - sparse_categorical_accuracy: 0.4633 - val_loss: 1.4466 - val_sparse_categorical_accuracy: 0.4160\n",
            "Epoch 33/50\n",
            "7977/7977 [==============================] - 11s 1ms/sample - loss: 1.3338 - sparse_categorical_accuracy: 0.4625 - val_loss: 1.4201 - val_sparse_categorical_accuracy: 0.4216\n",
            "Epoch 34/50\n",
            "7977/7977 [==============================] - 11s 1ms/sample - loss: 1.3338 - sparse_categorical_accuracy: 0.4638 - val_loss: 1.4172 - val_sparse_categorical_accuracy: 0.4284\n",
            "Epoch 35/50\n",
            "7977/7977 [==============================] - 11s 1ms/sample - loss: 1.3345 - sparse_categorical_accuracy: 0.4603 - val_loss: 1.4364 - val_sparse_categorical_accuracy: 0.4171\n",
            "Epoch 36/50\n",
            "7977/7977 [==============================] - 11s 1ms/sample - loss: 1.3311 - sparse_categorical_accuracy: 0.4650 - val_loss: 1.4275 - val_sparse_categorical_accuracy: 0.4047\n",
            "Epoch 37/50\n",
            "7977/7977 [==============================] - 11s 1ms/sample - loss: 1.3310 - sparse_categorical_accuracy: 0.4622 - val_loss: 1.4100 - val_sparse_categorical_accuracy: 0.4239\n",
            "Epoch 38/50\n",
            "7977/7977 [==============================] - 11s 1ms/sample - loss: 1.3278 - sparse_categorical_accuracy: 0.4678 - val_loss: 1.4505 - val_sparse_categorical_accuracy: 0.4149\n",
            "Epoch 39/50\n",
            "7977/7977 [==============================] - 11s 1ms/sample - loss: 1.3312 - sparse_categorical_accuracy: 0.4646 - val_loss: 1.4204 - val_sparse_categorical_accuracy: 0.4171\n",
            "Epoch 40/50\n",
            "7977/7977 [==============================] - 11s 1ms/sample - loss: 1.3321 - sparse_categorical_accuracy: 0.4636 - val_loss: 1.4316 - val_sparse_categorical_accuracy: 0.3980\n",
            "Epoch 41/50\n",
            "7977/7977 [==============================] - 11s 1ms/sample - loss: 1.3303 - sparse_categorical_accuracy: 0.4581 - val_loss: 1.4479 - val_sparse_categorical_accuracy: 0.3946\n",
            "Epoch 42/50\n",
            "7977/7977 [==============================] - 11s 1ms/sample - loss: 1.3179 - sparse_categorical_accuracy: 0.4673 - val_loss: 1.4125 - val_sparse_categorical_accuracy: 0.4160\n",
            "Epoch 43/50\n",
            "7977/7977 [==============================] - 11s 1ms/sample - loss: 1.3103 - sparse_categorical_accuracy: 0.4701 - val_loss: 1.4049 - val_sparse_categorical_accuracy: 0.4250\n",
            "Epoch 44/50\n",
            "7977/7977 [==============================] - 11s 1ms/sample - loss: 1.3102 - sparse_categorical_accuracy: 0.4687 - val_loss: 1.4324 - val_sparse_categorical_accuracy: 0.4183\n",
            "Epoch 45/50\n",
            "7977/7977 [==============================] - 11s 1ms/sample - loss: 1.3175 - sparse_categorical_accuracy: 0.4667 - val_loss: 1.3970 - val_sparse_categorical_accuracy: 0.4160\n",
            "Epoch 46/50\n",
            "7977/7977 [==============================] - 11s 1ms/sample - loss: 1.3057 - sparse_categorical_accuracy: 0.4696 - val_loss: 1.3968 - val_sparse_categorical_accuracy: 0.4262\n",
            "Epoch 47/50\n",
            "7977/7977 [==============================] - 11s 1ms/sample - loss: 1.3138 - sparse_categorical_accuracy: 0.4705 - val_loss: 1.3962 - val_sparse_categorical_accuracy: 0.4228\n",
            "Epoch 48/50\n",
            "7977/7977 [==============================] - 11s 1ms/sample - loss: 1.3132 - sparse_categorical_accuracy: 0.4658 - val_loss: 1.3968 - val_sparse_categorical_accuracy: 0.4307\n",
            "Epoch 49/50\n",
            "7977/7977 [==============================] - 11s 1ms/sample - loss: 1.3097 - sparse_categorical_accuracy: 0.4715 - val_loss: 1.4028 - val_sparse_categorical_accuracy: 0.4216\n",
            "Epoch 50/50\n",
            "7977/7977 [==============================] - 11s 1ms/sample - loss: 1.3031 - sparse_categorical_accuracy: 0.4693 - val_loss: 1.3978 - val_sparse_categorical_accuracy: 0.4307\n"
          ],
          "name": "stdout"
        },
        {
          "output_type": "error",
          "ename": "NameError",
          "evalue": "ignored",
          "traceback": [
            "\u001b[0;31m---------------------------------------------------------------------------\u001b[0m",
            "\u001b[0;31mNameError\u001b[0m                                 Traceback (most recent call last)",
            "\u001b[0;32m<ipython-input-22-4b06a30aabe1>\u001b[0m in \u001b[0;36m<module>\u001b[0;34m()\u001b[0m\n\u001b[1;32m     14\u001b[0m \u001b[0mhist\u001b[0m \u001b[0;34m=\u001b[0m \u001b[0mmodelo\u001b[0m\u001b[0;34m.\u001b[0m\u001b[0mfit\u001b[0m\u001b[0;34m(\u001b[0m\u001b[0mx_train\u001b[0m\u001b[0;34m,\u001b[0m \u001b[0my_train\u001b[0m\u001b[0;34m,\u001b[0m \u001b[0mverbose\u001b[0m \u001b[0;34m=\u001b[0m \u001b[0;36m1\u001b[0m\u001b[0;34m,\u001b[0m \u001b[0mvalidation_data\u001b[0m\u001b[0;34m=\u001b[0m\u001b[0;34m(\u001b[0m\u001b[0mx_test\u001b[0m\u001b[0;34m,\u001b[0m \u001b[0my_test\u001b[0m\u001b[0;34m)\u001b[0m\u001b[0;34m,\u001b[0m \u001b[0mepochs\u001b[0m \u001b[0;34m=\u001b[0m \u001b[0mepocas\u001b[0m\u001b[0;34m,\u001b[0m \u001b[0mbatch_size\u001b[0m \u001b[0;34m=\u001b[0m \u001b[0mbatchSize\u001b[0m\u001b[0;34m)\u001b[0m\u001b[0;34m\u001b[0m\u001b[0;34m\u001b[0m\u001b[0m\n\u001b[1;32m     15\u001b[0m \u001b[0;34m\u001b[0m\u001b[0m\n\u001b[0;32m---> 16\u001b[0;31m \u001b[0mgraficarHistoria\u001b[0m\u001b[0;34m(\u001b[0m\u001b[0mhist\u001b[0m\u001b[0;34m)\u001b[0m\u001b[0;34m\u001b[0m\u001b[0;34m\u001b[0m\u001b[0m\n\u001b[0m\u001b[1;32m     17\u001b[0m \u001b[0;34m\u001b[0m\u001b[0m\n\u001b[1;32m     18\u001b[0m \u001b[0mresultadosEntrenamiento\u001b[0m \u001b[0;34m=\u001b[0m \u001b[0mResultados\u001b[0m\u001b[0;34m(\u001b[0m\u001b[0my_train\u001b[0m\u001b[0;34m,\u001b[0m \u001b[0mmodelo\u001b[0m\u001b[0;34m.\u001b[0m\u001b[0mpredict_classes\u001b[0m\u001b[0;34m(\u001b[0m\u001b[0mx_train\u001b[0m\u001b[0;34m)\u001b[0m\u001b[0;34m)\u001b[0m\u001b[0;34m\u001b[0m\u001b[0;34m\u001b[0m\u001b[0m\n",
            "\u001b[0;31mNameError\u001b[0m: name 'graficarHistoria' is not defined"
          ]
        }
      ]
    },
    {
      "cell_type": "code",
      "metadata": {
        "id": "2VrX0TIqjK6i",
        "colab_type": "code",
        "colab": {}
      },
      "source": [
        "modelo6Clases=modelo"
      ],
      "execution_count": 0,
      "outputs": []
    },
    {
      "cell_type": "code",
      "metadata": {
        "id": "SeomME5GUSqQ",
        "colab_type": "code",
        "colab": {}
      },
      "source": [
        ""
      ],
      "execution_count": 0,
      "outputs": []
    },
    {
      "cell_type": "code",
      "metadata": {
        "id": "Q8yCL4TiDkZA",
        "colab_type": "code",
        "colab": {}
      },
      "source": [
        "numFiltros = np.array([100, 50, 20])\n",
        "tamFiltros = np.array([6, 6, 6])\n",
        "tamPooling = np.array([6, 6, 6])\n",
        "optimizer=\"adam\"\n",
        "numNeuronas = np.array([10, 8, 6])\n",
        "\n",
        "parametros = dict(batch_size = [30],\n",
        "               epochs = [5],\n",
        "               pOptimizer = [\"adam\", \"sgd\"],#,\"rmsprop\"],\n",
        "               pTasa = [0.01],\n",
        "               pAlphas = [0.001],\n",
        "               pNumFiltros = [numFiltros],\n",
        "              pTamFiltros = [tamFiltros],\n",
        "              pTamPooling = [tamPooling],\n",
        "              pNumNeuronas = [numNeuronas]\n",
        "              )"
      ],
      "execution_count": 0,
      "outputs": []
    },
    {
      "cell_type": "code",
      "metadata": {
        "id": "BnjxayYrBy_9",
        "colab_type": "code",
        "colab": {}
      },
      "source": [
        "def GridSearch(pXtrain, pYtrain, pXtest, pYtest, pParameters):\n",
        "  i=0\n",
        "  parameters = []\n",
        "  bestScore = 0\n",
        "  bestModel=None\n",
        "  bestHist = None\n",
        "  contador=0\n",
        "  for k in parametros.keys():\n",
        "    parameters.append(pParameters.get(k))\n",
        "  with progressbar.ProgressBar(max_value=len(list(itertools.product(*parameters)))) as bar:\n",
        "    for p in itertools.product(*parameters):\n",
        "      contador=+1\n",
        "      bar.update(contador)\n",
        "      modelo=crearModelo(p[3],p[4],p[5],p[6],p[7],p[8], p[2])\n",
        "      hist = modelo.fit(pXtrain, pYtrain, verbose = 1, validation_data=(pXtest, pYtest), epochs = p[1], batch_size = p[0])\n",
        "      l, score =modelo.evaluate(pXtest,pYtest)\n",
        "      if score>bestScore:\n",
        "        bestScore = score\n",
        "        bestModel = modelo\n",
        "        bestHist = hist\n",
        "  return bestScore, bestModel, bestHist"
      ],
      "execution_count": 0,
      "outputs": []
    },
    {
      "cell_type": "code",
      "metadata": {
        "id": "SIxa-xRJ9U3s",
        "colab_type": "code",
        "outputId": "b4312a36-e3f4-4b34-a035-7a13c7a8b6ed",
        "colab": {
          "base_uri": "https://localhost:8080/",
          "height": 720
        }
      },
      "source": [
        "bestScore, bestModel, bestHist = GridSearch(x_train,y_train,x_test,y_test,parametros)\n",
        "graficarHistoria(bestHist)"
      ],
      "execution_count": 0,
      "outputs": [
        {
          "output_type": "stream",
          "text": [
            "\r                                                                               \r\rN/A% (0 of 2) |                          | Elapsed Time: 0:00:00 ETA:  --:--:--"
          ],
          "name": "stderr"
        },
        {
          "output_type": "stream",
          "text": [
            "Train on 7977 samples, validate on 887 samples\n",
            "Epoch 1/5\n",
            "7977/7977 [==============================] - 3s 361us/sample - loss: 1.6520 - sparse_categorical_accuracy: 0.3236 - val_loss: 1.6377 - val_sparse_categorical_accuracy: 0.2954\n",
            "Epoch 2/5\n",
            "7977/7977 [==============================] - 2s 302us/sample - loss: 1.6042 - sparse_categorical_accuracy: 0.3412 - val_loss: 1.6478 - val_sparse_categorical_accuracy: 0.2954\n",
            "Epoch 3/5\n",
            "7977/7977 [==============================] - 2s 304us/sample - loss: 1.6057 - sparse_categorical_accuracy: 0.3421 - val_loss: 1.6405 - val_sparse_categorical_accuracy: 0.2954\n",
            "Epoch 4/5\n",
            "7977/7977 [==============================] - 2s 305us/sample - loss: 1.6134 - sparse_categorical_accuracy: 0.3273 - val_loss: 1.6373 - val_sparse_categorical_accuracy: 0.2954\n",
            "Epoch 5/5\n",
            "7977/7977 [==============================] - 2s 307us/sample - loss: 1.6135 - sparse_categorical_accuracy: 0.3273 - val_loss: 1.6402 - val_sparse_categorical_accuracy: 0.2954\n",
            "887/887 [==============================] - 0s 143us/sample - loss: 1.6402 - sparse_categorical_accuracy: 0.2954\n"
          ],
          "name": "stdout"
        },
        {
          "output_type": "stream",
          "text": [
            "\r                                                                               \r\r 50% (1 of 2) |#############             | Elapsed Time: 0:00:13 ETA:   0:00:13"
          ],
          "name": "stderr"
        },
        {
          "output_type": "stream",
          "text": [
            "Train on 7977 samples, validate on 887 samples\n",
            "Epoch 1/5\n",
            "7977/7977 [==============================] - 3s 349us/sample - loss: 1.6346 - sparse_categorical_accuracy: 0.3383 - val_loss: 1.6308 - val_sparse_categorical_accuracy: 0.2965\n",
            "Epoch 2/5\n",
            "7977/7977 [==============================] - 2s 306us/sample - loss: 1.5496 - sparse_categorical_accuracy: 0.3894 - val_loss: 1.5556 - val_sparse_categorical_accuracy: 0.3901\n",
            "Epoch 3/5\n",
            "7977/7977 [==============================] - 2s 302us/sample - loss: 1.4849 - sparse_categorical_accuracy: 0.4159 - val_loss: 1.5129 - val_sparse_categorical_accuracy: 0.3890\n",
            "Epoch 4/5\n",
            "7977/7977 [==============================] - 2s 303us/sample - loss: 1.4540 - sparse_categorical_accuracy: 0.4355 - val_loss: 1.4913 - val_sparse_categorical_accuracy: 0.4002\n",
            "Epoch 5/5\n",
            "7977/7977 [==============================] - 2s 304us/sample - loss: 1.4258 - sparse_categorical_accuracy: 0.4369 - val_loss: 1.4619 - val_sparse_categorical_accuracy: 0.4036\n",
            "887/887 [==============================] - 0s 144us/sample - loss: 1.4619 - sparse_categorical_accuracy: 0.4036\n"
          ],
          "name": "stdout"
        },
        {
          "output_type": "stream",
          "text": [
            "\r                                                                               \r\r100% (2 of 2) |##########################| Elapsed Time: 0:00:27 Time:  0:00:27\n"
          ],
          "name": "stderr"
        },
        {
          "output_type": "display_data",
          "data": {
            "image/png": "[encoded data removed]",
            "text/plain": [
              "<Figure size 432x288 with 1 Axes>"
            ]
          },
          "metadata": {
            "tags": []
          }
        }
      ]
    },
    {
      "cell_type": "code",
      "metadata": {
        "id": "Jx-8FwHyPopv",
        "colab_type": "code",
        "colab": {}
      },
      "source": [
        "backUpEtiquetas = unosEtiquetas\n",
        "def convertirClases(pY):\n",
        "      y = ((pY == 1) + (pY == 2)) + 2*((pY == 3) + (pY == 4)) + 3*(pY == 5)\n",
        "\n",
        "      return y\n",
        "\n",
        "unosEtiquetas = convertirClases(unosEtiquetas)\n",
        "\n"
      ],
      "execution_count": 0,
      "outputs": []
    },
    {
      "cell_type": "code",
      "metadata": {
        "id": "ckh_fHHNHhJZ",
        "colab_type": "code",
        "outputId": "d219b9dd-cfbe-4c5b-d2b8-3c3b46f6c1f1",
        "colab": {
          "base_uri": "https://localhost:8080/",
          "height": 88
        }
      },
      "source": [
        "print(backUpEtiquetas[10:50].astype(int))\n",
        "print(unosEtiquetas[10:50])"
      ],
      "execution_count": 0,
      "outputs": [
        {
          "output_type": "stream",
          "text": [
            "[1 1 2 2 2 2 3 3 3 3 3 3 3 3 3 3 3 3 3 2 3 4 4 4 4 4 3 4 4 3 3 4 3 3 3 3 4\n",
            " 0 0 0]\n",
            "[1 1 1 1 1 1 2 2 2 2 2 2 2 2 2 2 2 2 2 1 2 2 2 2 2 2 2 2 2 2 2 2 2 2 2 2 2\n",
            " 0 0 0]\n"
          ],
          "name": "stdout"
        }
      ]
    },
    {
      "cell_type": "markdown",
      "metadata": {
        "id": "pN-cEkgDFy3U",
        "colab_type": "text"
      },
      "source": [
        "#Resultados"
      ]
    },
    {
      "cell_type": "code",
      "metadata": {
        "id": "LO5euyGuFxdI",
        "colab_type": "code",
        "colab": {}
      },
      "source": [
        "def graficarHistoria(pHist):\n",
        "  plt.plot(pHist.history['sparse_categorical_accuracy'], label = 'Accuracy Entrenamiento')\n",
        "  plt.plot(pHist.history['val_sparse_categorical_accuracy'], label = 'Accuracy Validacion')\n",
        "  plt.xlabel('Epoca')\n",
        "  plt.ylabel('Accuracy')\n",
        "  plt.title(\"Accuracy vs Epoca\")\n",
        "  plt.legend()\n",
        "  plt.show()"
      ],
      "execution_count": 0,
      "outputs": []
    },
    {
      "cell_type": "code",
      "metadata": {
        "id": "7Mt5I00ySoCj",
        "colab_type": "code",
        "outputId": "29ecc008-5ac2-4381-8439-af3fe7feaa0e",
        "colab": {
          "base_uri": "https://localhost:8080/",
          "height": 295
        }
      },
      "source": [
        "graficarHistoria(hist)"
      ],
      "execution_count": 24,
      "outputs": [
        {
          "output_type": "display_data",
          "data": {
            "image/png": "[encoded data removed]",
            "text/plain": [
              "<Figure size 432x288 with 1 Axes>"
            ]
          },
          "metadata": {
            "tags": []
          }
        }
      ]
    },
    {
      "cell_type": "code",
      "metadata": {
        "id": "6aQdP54tHKlv",
        "colab_type": "code",
        "outputId": "ab3bd7d8-c1c7-4af4-a690-7ea716532fc0",
        "colab": {
          "base_uri": "https://localhost:8080/",
          "height": 160
        }
      },
      "source": [
        "y1 = modelo.predict_classes(x_train)\n",
        "y2 = modelo.predict_classes(x_test)\n",
        "\n",
        "print(confusion_matrix(y_train, y1))\n",
        "print(confusion_matrix(y_test, y2))"
      ],
      "execution_count": 0,
      "outputs": [
        {
          "output_type": "stream",
          "text": [
            "[[ 132  789   56   26]\n",
            " [   1 3736  229   20]\n",
            " [  10  527 1739   26]\n",
            " [   1  361    5  319]]\n",
            "[[  6 104  14   4]\n",
            " [  3 346  60  14]\n",
            " [  0  87 153   4]\n",
            " [  0  72   5  15]]\n"
          ],
          "name": "stdout"
        }
      ]
    },
    {
      "cell_type": "code",
      "metadata": {
        "id": "lML7HU_pP0Q1",
        "colab_type": "code",
        "colab": {}
      },
      "source": [
        ""
      ],
      "execution_count": 0,
      "outputs": []
    }
  ]
}