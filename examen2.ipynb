{
  "nbformat": 4,
  "nbformat_minor": 0,
  "metadata": {
    "colab": {
      "name": "examen2.ipynb",
      "provenance": [],
      "collapsed_sections": [],
      "toc_visible": true,
      "include_colab_link": true
    },
    "kernelspec": {
      "name": "python3",
      "display_name": "Python 3"
    },
    "accelerator": "GPU"
  },
  "cells": [
    {
      "cell_type": "markdown",
      "metadata": {
        "id": "view-in-github",
        "colab_type": "text"
      },
      "source": [
        "<a href=\"https://colab.research.google.com/github/jfgf11/Examen-2-Machine/blob/master/examen2.ipynb\" target=\"_parent\"><img src=\"https://colab.research.google.com/assets/colab-badge.svg\" alt=\"Open In Colab\"/></a>"
      ]
    },
    {
      "cell_type": "markdown",
      "metadata": {
        "id": "Geb2T0_TB3BM",
        "colab_type": "text"
      },
      "source": [
        "\n",
        "# Examen 2\n",
        "\n",
        "\n"
      ]
    },
    {
      "cell_type": "code",
      "metadata": {
        "id": "brhsDHYQokNd",
        "colab_type": "code",
        "outputId": "b6273d12-3c28-4573-a000-722621e52104",
        "colab": {
          "base_uri": "https://localhost:8080/",
          "height": 126
        }
      },
      "source": [
        "from google.colab import drive\n",
        "drive.mount('/content/drive')#, force_remount = True)"
      ],
      "execution_count": 1,
      "outputs": [
        {
          "output_type": "stream",
          "text": [
            "Go to this URL in a browser: https://accounts.google.com/o/oauth2/auth?client_id=947318989803-6bn6qk8qdgf4n4g3pfee6491hc0brc4i.apps.googleusercontent.com&redirect_uri=urn%3aietf%3awg%3aoauth%3a2.0%3aoob&response_type=code&scope=email%20https%3a%2f%2fwww.googleapis.com%2fauth%2fdocs.test%20https%3a%2f%2fwww.googleapis.com%2fauth%2fdrive%20https%3a%2f%2fwww.googleapis.com%2fauth%2fdrive.photos.readonly%20https%3a%2f%2fwww.googleapis.com%2fauth%2fpeopleapi.readonly\n",
            "\n",
            "Enter your authorization code:\n",
            "··········\n",
            "Mounted at /content/drive\n"
          ],
          "name": "stdout"
        }
      ]
    },
    {
      "cell_type": "markdown",
      "metadata": {
        "id": "nigPT0LkuBmI",
        "colab_type": "text"
      },
      "source": [
        "#Instalación"
      ]
    },
    {
      "cell_type": "code",
      "metadata": {
        "id": "UT9ry2xHBUyV",
        "colab_type": "code",
        "outputId": "93ac4573-8f60-4ebb-d5a5-481871aab92d",
        "colab": {
          "base_uri": "https://localhost:8080/",
          "height": 267
        }
      },
      "source": [
        "!pip install pyEDFlib\n",
        "!pip install progressbar2"
      ],
      "execution_count": 2,
      "outputs": [
        {
          "output_type": "stream",
          "text": [
            "Collecting pyEDFlib\n",
            "\u001b[?25l  Downloading https://files.pythonhosted.org/packages/bc/8b/47ce5a889e1f6917390ba2328b494424d018cf9c263ab59e14ac851e194f/pyEDFlib-0.1.15.tar.gz (1.1MB)\n",
            "\r\u001b[K     |▎                               | 10kB 20.3MB/s eta 0:00:01\r\u001b[K     |▋                               | 20kB 1.7MB/s eta 0:00:01\r\u001b[K     |▉                               | 30kB 2.6MB/s eta 0:00:01\r\u001b[K     |█▏                              | 40kB 1.7MB/s eta 0:00:01\r\u001b[K     |█▌                              | 51kB 2.1MB/s eta 0:00:01\r\u001b[K     |█▊                              | 61kB 2.5MB/s eta 0:00:01\r\u001b[K     |██                              | 71kB 2.9MB/s eta 0:00:01\r\u001b[K     |██▍                             | 81kB 3.2MB/s eta 0:00:01\r\u001b[K     |██▋                             | 92kB 3.6MB/s eta 0:00:01\r\u001b[K     |███                             | 102kB 2.8MB/s eta 0:00:01\r\u001b[K     |███▏                            | 112kB 2.8MB/s eta 0:00:01\r\u001b[K     |███▌                            | 122kB 2.8MB/s eta 0:00:01\r\u001b[K     |███▉                            | 133kB 2.8MB/s eta 0:00:01\r\u001b[K     |████                            | 143kB 2.8MB/s eta 0:00:01\r\u001b[K     |████▍                           | 153kB 2.8MB/s eta 0:00:01\r\u001b[K     |████▊                           | 163kB 2.8MB/s eta 0:00:01\r\u001b[K     |█████                           | 174kB 2.8MB/s eta 0:00:01\r\u001b[K     |█████▎                          | 184kB 2.8MB/s eta 0:00:01\r\u001b[K     |█████▋                          | 194kB 2.8MB/s eta 0:00:01\r\u001b[K     |█████▉                          | 204kB 2.8MB/s eta 0:00:01\r\u001b[K     |██████▏                         | 215kB 2.8MB/s eta 0:00:01\r\u001b[K     |██████▍                         | 225kB 2.8MB/s eta 0:00:01\r\u001b[K     |██████▊                         | 235kB 2.8MB/s eta 0:00:01\r\u001b[K     |███████                         | 245kB 2.8MB/s eta 0:00:01\r\u001b[K     |███████▎                        | 256kB 2.8MB/s eta 0:00:01\r\u001b[K     |███████▋                        | 266kB 2.8MB/s eta 0:00:01\r\u001b[K     |████████                        | 276kB 2.8MB/s eta 0:00:01\r\u001b[K     |████████▏                       | 286kB 2.8MB/s eta 0:00:01\r\u001b[K     |████████▌                       | 296kB 2.8MB/s eta 0:00:01\r\u001b[K     |████████▉                       | 307kB 2.8MB/s eta 0:00:01\r\u001b[K     |█████████                       | 317kB 2.8MB/s eta 0:00:01\r\u001b[K     |█████████▍                      | 327kB 2.8MB/s eta 0:00:01\r\u001b[K     |█████████▋                      | 337kB 2.8MB/s eta 0:00:01\r\u001b[K     |██████████                      | 348kB 2.8MB/s eta 0:00:01\r\u001b[K     |██████████▎                     | 358kB 2.8MB/s eta 0:00:01\r\u001b[K     |██████████▌                     | 368kB 2.8MB/s eta 0:00:01\r\u001b[K     |██████████▉                     | 378kB 2.8MB/s eta 0:00:01\r\u001b[K     |███████████▏                    | 389kB 2.8MB/s eta 0:00:01\r\u001b[K     |███████████▍                    | 399kB 2.8MB/s eta 0:00:01\r\u001b[K     |███████████▊                    | 409kB 2.8MB/s eta 0:00:01\r\u001b[K     |████████████                    | 419kB 2.8MB/s eta 0:00:01\r\u001b[K     |████████████▎                   | 430kB 2.8MB/s eta 0:00:01\r\u001b[K     |████████████▋                   | 440kB 2.8MB/s eta 0:00:01\r\u001b[K     |████████████▉                   | 450kB 2.8MB/s eta 0:00:01\r\u001b[K     |█████████████▏                  | 460kB 2.8MB/s eta 0:00:01\r\u001b[K     |█████████████▌                  | 471kB 2.8MB/s eta 0:00:01\r\u001b[K     |█████████████▊                  | 481kB 2.8MB/s eta 0:00:01\r\u001b[K     |██████████████                  | 491kB 2.8MB/s eta 0:00:01\r\u001b[K     |██████████████▍                 | 501kB 2.8MB/s eta 0:00:01\r\u001b[K     |██████████████▋                 | 512kB 2.8MB/s eta 0:00:01\r\u001b[K     |███████████████                 | 522kB 2.8MB/s eta 0:00:01\r\u001b[K     |███████████████▏                | 532kB 2.8MB/s eta 0:00:01\r\u001b[K     |███████████████▌                | 542kB 2.8MB/s eta 0:00:01\r\u001b[K     |███████████████▉                | 552kB 2.8MB/s eta 0:00:01\r\u001b[K     |████████████████                | 563kB 2.8MB/s eta 0:00:01\r\u001b[K     |████████████████▍               | 573kB 2.8MB/s eta 0:00:01\r\u001b[K     |████████████████▊               | 583kB 2.8MB/s eta 0:00:01\r\u001b[K     |█████████████████               | 593kB 2.8MB/s eta 0:00:01\r\u001b[K     |█████████████████▎              | 604kB 2.8MB/s eta 0:00:01\r\u001b[K     |█████████████████▋              | 614kB 2.8MB/s eta 0:00:01\r\u001b[K     |█████████████████▉              | 624kB 2.8MB/s eta 0:00:01\r\u001b[K     |██████████████████▏             | 634kB 2.8MB/s eta 0:00:01\r\u001b[K     |██████████████████▍             | 645kB 2.8MB/s eta 0:00:01\r\u001b[K     |██████████████████▊             | 655kB 2.8MB/s eta 0:00:01\r\u001b[K     |███████████████████             | 665kB 2.8MB/s eta 0:00:01\r\u001b[K     |███████████████████▎            | 675kB 2.8MB/s eta 0:00:01\r\u001b[K     |███████████████████▋            | 686kB 2.8MB/s eta 0:00:01\r\u001b[K     |████████████████████            | 696kB 2.8MB/s eta 0:00:01\r\u001b[K     |████████████████████▏           | 706kB 2.8MB/s eta 0:00:01\r\u001b[K     |████████████████████▌           | 716kB 2.8MB/s eta 0:00:01\r\u001b[K     |████████████████████▉           | 727kB 2.8MB/s eta 0:00:01\r\u001b[K     |█████████████████████           | 737kB 2.8MB/s eta 0:00:01\r\u001b[K     |█████████████████████▍          | 747kB 2.8MB/s eta 0:00:01\r\u001b[K     |█████████████████████▋          | 757kB 2.8MB/s eta 0:00:01\r\u001b[K     |██████████████████████          | 768kB 2.8MB/s eta 0:00:01\r\u001b[K     |██████████████████████▎         | 778kB 2.8MB/s eta 0:00:01\r\u001b[K     |██████████████████████▌         | 788kB 2.8MB/s eta 0:00:01\r\u001b[K     |██████████████████████▉         | 798kB 2.8MB/s eta 0:00:01\r\u001b[K     |███████████████████████▏        | 808kB 2.8MB/s eta 0:00:01\r\u001b[K     |███████████████████████▍        | 819kB 2.8MB/s eta 0:00:01\r\u001b[K     |███████████████████████▊        | 829kB 2.8MB/s eta 0:00:01\r\u001b[K     |████████████████████████        | 839kB 2.8MB/s eta 0:00:01\r\u001b[K     |████████████████████████▎       | 849kB 2.8MB/s eta 0:00:01\r\u001b[K     |████████████████████████▋       | 860kB 2.8MB/s eta 0:00:01\r\u001b[K     |████████████████████████▉       | 870kB 2.8MB/s eta 0:00:01\r\u001b[K     |█████████████████████████▏      | 880kB 2.8MB/s eta 0:00:01\r\u001b[K     |█████████████████████████▌      | 890kB 2.8MB/s eta 0:00:01\r\u001b[K     |█████████████████████████▊      | 901kB 2.8MB/s eta 0:00:01\r\u001b[K     |██████████████████████████      | 911kB 2.8MB/s eta 0:00:01\r\u001b[K     |██████████████████████████▍     | 921kB 2.8MB/s eta 0:00:01\r\u001b[K     |██████████████████████████▋     | 931kB 2.8MB/s eta 0:00:01\r\u001b[K     |███████████████████████████     | 942kB 2.8MB/s eta 0:00:01\r\u001b[K     |███████████████████████████▏    | 952kB 2.8MB/s eta 0:00:01\r\u001b[K     |███████████████████████████▌    | 962kB 2.8MB/s eta 0:00:01\r\u001b[K     |███████████████████████████▉    | 972kB 2.8MB/s eta 0:00:01\r\u001b[K     |████████████████████████████    | 983kB 2.8MB/s eta 0:00:01\r\u001b[K     |████████████████████████████▍   | 993kB 2.8MB/s eta 0:00:01\r\u001b[K     |████████████████████████████▊   | 1.0MB 2.8MB/s eta 0:00:01\r\u001b[K     |█████████████████████████████   | 1.0MB 2.8MB/s eta 0:00:01\r\u001b[K     |█████████████████████████████▎  | 1.0MB 2.8MB/s eta 0:00:01\r\u001b[K     |█████████████████████████████▋  | 1.0MB 2.8MB/s eta 0:00:01\r\u001b[K     |█████████████████████████████▉  | 1.0MB 2.8MB/s eta 0:00:01\r\u001b[K     |██████████████████████████████▏ | 1.1MB 2.8MB/s eta 0:00:01\r\u001b[K     |██████████████████████████████▍ | 1.1MB 2.8MB/s eta 0:00:01\r\u001b[K     |██████████████████████████████▊ | 1.1MB 2.8MB/s eta 0:00:01\r\u001b[K     |███████████████████████████████ | 1.1MB 2.8MB/s eta 0:00:01\r\u001b[K     |███████████████████████████████▎| 1.1MB 2.8MB/s eta 0:00:01\r\u001b[K     |███████████████████████████████▋| 1.1MB 2.8MB/s eta 0:00:01\r\u001b[K     |████████████████████████████████| 1.1MB 2.8MB/s eta 0:00:01\r\u001b[K     |████████████████████████████████| 1.1MB 2.8MB/s \n",
            "\u001b[?25hRequirement already satisfied: numpy>=1.9.1 in /usr/local/lib/python3.6/dist-packages (from pyEDFlib) (1.17.4)\n",
            "Building wheels for collected packages: pyEDFlib\n",
            "  Building wheel for pyEDFlib (setup.py) ... \u001b[?25l\u001b[?25hdone\n",
            "  Created wheel for pyEDFlib: filename=pyEDFlib-0.1.15-cp36-cp36m-linux_x86_64.whl size=920125 sha256=8f2d42951496342fde2e460cf50ba825928f225436f32c480bcff3ad8a5514fa\n",
            "  Stored in directory: /root/.cache/pip/wheels/57/e3/8e/ce6236e9ada08b8ff91ef922c7418dbd66f1182dfbb22f8579\n",
            "Successfully built pyEDFlib\n",
            "Installing collected packages: pyEDFlib\n",
            "Successfully installed pyEDFlib-0.1.15\n",
            "Requirement already satisfied: progressbar2 in /usr/local/lib/python3.6/dist-packages (3.38.0)\n",
            "Requirement already satisfied: python-utils>=2.3.0 in /usr/local/lib/python3.6/dist-packages (from progressbar2) (2.3.0)\n",
            "Requirement already satisfied: six in /usr/local/lib/python3.6/dist-packages (from progressbar2) (1.12.0)\n"
          ],
          "name": "stdout"
        }
      ]
    },
    {
      "cell_type": "markdown",
      "metadata": {
        "id": "-BNRjiy0hckX",
        "colab_type": "text"
      },
      "source": [
        "#Librerías"
      ]
    },
    {
      "cell_type": "code",
      "metadata": {
        "id": "dbliV9ktoI5F",
        "colab_type": "code",
        "colab": {}
      },
      "source": [
        "%tensorflow_version 1.x\n",
        "import tensorflow as tf\n",
        "import tensorflow.keras as keras\n",
        "\n",
        "from tensorflow.keras import Sequential\n",
        "from tensorflow.keras.layers import Dense\n",
        "from tensorflow.keras.layers import Dropout\n",
        "from tensorflow.keras.layers import Conv1D\n",
        "from tensorflow.keras.layers import MaxPooling1D\n",
        "from tensorflow.keras.layers import AveragePooling1D\n",
        "from tensorflow.keras.layers import GlobalAveragePooling1D\n",
        "from tensorflow.keras.layers import Flatten\n",
        "from tensorflow.keras import optimizers\n",
        "from tensorflow.keras.regularizers import l2\n",
        "from tensorflow.keras.wrappers.scikit_learn import KerasClassifier\n",
        "\n",
        "import pandas as pd\n",
        "import pyedflib as pyedf\n",
        "import numpy as np\n",
        "import matplotlib.pyplot as plt\n",
        "import os\n",
        "import time\n",
        "from tqdm import tqdm\n",
        "import progressbar\n",
        "\n",
        "from sklearn.model_selection import train_test_split\n",
        "from sklearn.model_selection import GridSearchCV\n",
        "from sklearn.metrics import confusion_matrix \n",
        "from sklearn.ensemble import AdaBoostClassifier\n",
        "import sklearn as sk\n",
        "import itertools"
      ],
      "execution_count": 0,
      "outputs": []
    },
    {
      "cell_type": "markdown",
      "metadata": {
        "id": "NG1AdmN0FjVA",
        "colab_type": "text"
      },
      "source": [
        "#Clases"
      ]
    },
    {
      "cell_type": "code",
      "metadata": {
        "id": "rT-Z0AiyFiq-",
        "colab_type": "code",
        "colab": {}
      },
      "source": [
        "#Esta no esta terminada.\n",
        "class Resultados:\n",
        "    def __init__(self, p_y_pred, p_y_true):#, p_labels):\n",
        "        self.y_pred = p_y_pred\n",
        "        self.y_true = p_y_true\n",
        "        #self.labels = p_labels\n",
        "\n",
        "    def darMatrizConfusion(self):\n",
        "      cm = confusion_matrix(self.y_pred, self.y_true)#, self.labels)\n",
        "      ax = plt.subplot()\n",
        "      sns.heatmap(cm, annot = True, ax = ax); #annot=True to annotate cells\n",
        "\n",
        "      "
      ],
      "execution_count": 0,
      "outputs": []
    },
    {
      "cell_type": "markdown",
      "metadata": {
        "id": "Aivhu85eoNx8",
        "colab_type": "text"
      },
      "source": [
        "#Lectura de los Datos"
      ]
    },
    {
      "cell_type": "code",
      "metadata": {
        "id": "Y9fVcGp6pV7W",
        "colab_type": "code",
        "colab": {}
      },
      "source": [
        "filenameDatos = \"drive/My Drive/sleep-cassette\"\n",
        "filenameDescripcion = \"drive/My Drive/SC-subjects.xls\"\n",
        "\n",
        "ArchivoLightsOff=pd.read_excel(filenameDescripcion, sheet_name='Blad1')\n",
        "\n",
        "TiempoLightsOff=ArchivoLightsOff[\"LightsOff\"].values\n",
        "TiempoLightsOffSegundos=TiempoLightsOff\n",
        "HorasSuenio=8\n",
        "\n",
        "for i in range (0, len(TiempoLightsOff)):\n",
        "  segundos=int(TiempoLightsOff[i].hour) * 3600 + int(TiempoLightsOff[i].minute) * 60\n",
        "  TiempoLightsOffSegundos[i]=segundos\n",
        "\n",
        "listaArchivos = os.listdir(filenameDatos)\n",
        "\n",
        "listaHypnograms = [i for i in listaArchivos if \"Hypnogram\" in i] \n",
        "listaPSGs = [i for i in listaArchivos if \"PSG\" in i]\n",
        "\n",
        "listaHypnograms.sort()\n",
        "listaPSGs.sort()\n",
        "\n",
        "print(\"Importando datos...\")\n",
        "\n",
        "start = time.time()\n",
        "\n",
        "Datos=np.zeros(3000)\n",
        "Etiquetas=[0]\n",
        "\n",
        "p = 0\n",
        "numArchivos = 10\n",
        "\n",
        "with progressbar.ProgressBar(max_value=numArchivos*960) as bar:\n",
        "  for i in range(0,numArchivos):#len(listaHypnograms)):\n",
        "\n",
        "    hyp = listaHypnograms[i]\n",
        "    psg = listaPSGs[i]\n",
        "\n",
        "    print(\"Hyp: {}, PSG: {}\".format(hyp,psg))\n",
        "\n",
        "    fileHyp = pyedf.EdfReader(filenameDatos + \"/\" + hyp)\n",
        "    filePSG = pyedf.EdfReader(filenameDatos + \"/\" + psg)\n",
        "\n",
        "    hypTime, hypDur, hypEtiqueta = fileHyp.readAnnotations()\n",
        "\n",
        "    tiempoComienzo = fileHyp.starttime_hour*3600+fileHyp.starttime_minute*60+fileHyp.starttime_second\n",
        "    offset=TiempoLightsOffSegundos[i]-tiempoComienzo\n",
        "    if offset<0:\n",
        "      offset+=24*3600\n",
        "    LimiteSuperior=offset+HorasSuenio*3600\n",
        "    ventana=30\n",
        "    tiempo=offset\n",
        "    j=0\n",
        "    referenciaSenial=0\n",
        "    FrecuenciaMuestreo = filePSG.getSampleFrequency(referenciaSenial)\n",
        "\n",
        "    while tiempo<LimiteSuperior:\n",
        "      if tiempo>hypTime[j]:\n",
        "        j+=1\n",
        "        \n",
        "      ventanaMuestra = np.round(FrecuenciaMuestreo * ventana)\n",
        "      muestraInicial = np.round(FrecuenciaMuestreo * tiempo)\n",
        "      senial=filePSG.readSignal(referenciaSenial)\n",
        "      senialActual=senial[muestraInicial:muestraInicial+ventanaMuestra]\n",
        "      etiquetaActual=hypEtiqueta[j]\n",
        "      Datos=np.vstack((Datos,senialActual))\n",
        "      #print((Datos).shape)\n",
        "      Etiquetas=np.vstack((Etiquetas,etiquetaActual))\n",
        "      tiempo+=ventana\n",
        "      p+=1\n",
        "      bar.update(p)\n",
        "\n",
        "    fileHyp._close() \n",
        "    filePSG._close()\n",
        "#print(listaHypnograms)\n",
        "#print(listaPSGs)\n",
        "\n",
        "print(\"Termino.\")\n",
        "print(\"Tiempo: {} segundos.\".format(time.time()-start))"
      ],
      "execution_count": 0,
      "outputs": []
    },
    {
      "cell_type": "code",
      "metadata": {
        "id": "zTq6m6HZqImV",
        "colab_type": "code",
        "colab": {}
      },
      "source": [
        "def appendDatos(pDatos1, pDatos2, pDatos3):\n",
        "  Datos_Generales=np.zeros((pDatos1.shape[0],3000,3))\n",
        "\n",
        "  for i in progressbar.progressbar(range(0,pDatos1.shape[0])):\n",
        "\n",
        "    Datos_Generales[i,:,0]=pDatos1[i]\n",
        "    Datos_Generales[i,:,1]=pDatos2[i]\n",
        "    Datos_Generales[i,:,2]=pDatos3[i]\n",
        "    \n",
        "  return Datos_Generales\n"
      ],
      "execution_count": 0,
      "outputs": []
    },
    {
      "cell_type": "code",
      "metadata": {
        "id": "oXKEo6bq2c_m",
        "colab_type": "code",
        "colab": {
          "base_uri": "https://localhost:8080/",
          "height": 35
        },
        "outputId": "6270fae6-0714-416e-ec3f-924b3bf2e4b7"
      },
      "source": [
        "test = appendDatos(Datos1, Datos2, Datos3)"
      ],
      "execution_count": 56,
      "outputs": [
        {
          "output_type": "execute_result",
          "data": {
            "text/plain": [
              "(3, 3000, 8864)"
            ]
          },
          "metadata": {
            "tags": []
          },
          "execution_count": 56
        }
      ]
    },
    {
      "cell_type": "code",
      "metadata": {
        "id": "xhi9yZL7jWbY",
        "colab_type": "code",
        "outputId": "e2d04f6c-e10f-4559-9144-74e60eeb1109",
        "colab": {
          "base_uri": "https://localhost:8080/",
          "height": 35
        }
      },
      "source": [
        "#filePSG = pyedf.EdfReader(filenameDatos + \"/\" + psg)\n",
        "#filePSG._close()\n",
        "filenameDatos + \"/\" + psg"
      ],
      "execution_count": 0,
      "outputs": [
        {
          "output_type": "execute_result",
          "data": {
            "text/plain": [
              "'drive/My Drive/sleep-cassette/SC4002E0-PSG.edf'"
            ]
          },
          "metadata": {
            "tags": []
          },
          "execution_count": 16
        }
      ]
    },
    {
      "cell_type": "code",
      "metadata": {
        "id": "kf3DBKIQpPy6",
        "colab_type": "code",
        "colab": {}
      },
      "source": [
        "#Esto solo se corre una vez.\n",
        "Etiquetas = Etiquetas[1:len(Etiquetas)]\n",
        "Datos = Datos[1:Datos.shape[0]]"
      ],
      "execution_count": 0,
      "outputs": []
    },
    {
      "cell_type": "code",
      "metadata": {
        "id": "vqNHjkpQM14h",
        "colab_type": "code",
        "colab": {}
      },
      "source": [
        "numArchivos = 10\n",
        "def eliminarClaseDesconocida(pDatos, pEtiquetas):\n",
        "  et = []\n",
        "  dat = np.zeros(3000)\n",
        "\n",
        "  with progressbar.ProgressBar(max_value=numArchivos*960) as bar:\n",
        "    for i in range(0, len(pEtiquetas)):\n",
        "      bar.update(i)\n",
        "      if pEtiquetas[i] != 'Sleep stage ?':\n",
        "        \n",
        "        if pEtiquetas[i]==\"Sleep stage W\":\n",
        "          et = np.append(et,0)\n",
        "          dat = np.vstack((dat, pDatos[i,:]))\n",
        "        elif pEtiquetas[i]==\"Sleep stage 1\":\n",
        "          et = np.append(et,1)\n",
        "          dat = np.vstack((dat, pDatos[i,:]))\n",
        "        elif pEtiquetas[i]==\"Sleep stage 2\":\n",
        "          et = np.append(et,2)\n",
        "          dat = np.vstack((dat, pDatos[i,:]))\n",
        "        elif pEtiquetas[i]==\"Sleep stage 3\":\n",
        "          et = np.append(et,3)\n",
        "          dat = np.vstack((dat, pDatos[i,:]))\n",
        "        elif pEtiquetas[i]==\"Sleep stage 4\":\n",
        "          et = np.append(et,4)\n",
        "          dat = np.vstack((dat, pDatos[i,:]))\n",
        "        elif pEtiquetas[i]==\"Sleep stage R\":\n",
        "          et = np.append(et,5)\n",
        "          dat = np.vstack((dat, pDatos[i,:]))\n",
        "        else:\n",
        "          pass\n",
        "          #print(\"Hay una clase distinta a las definidas.\")\n",
        "\n",
        "  dat = dat[1:dat.shape[0]]\n",
        "  return dat, et\n",
        "\n",
        "#Datos1, Etiquetas = eliminarClaseDesconocida(unosDatos, unosEtiquetas)\n",
        "#np.save(\"Datos\", unosDatos)\n",
        "#np.save(\"Etiquetas\", unosEtiquetas)\n",
        "\n",
        "#print(len(unosEtiquetas))\n",
        "#print(len(unosDatos))"
      ],
      "execution_count": 0,
      "outputs": []
    },
    {
      "cell_type": "markdown",
      "metadata": {
        "id": "hzhUvNhtoToM",
        "colab_type": "text"
      },
      "source": [
        "#Entrenamiento del Modelo"
      ]
    },
    {
      "cell_type": "code",
      "metadata": {
        "id": "EuS9aI-kWy-v",
        "colab_type": "code",
        "colab": {}
      },
      "source": [
        "#unosEtiquetas=np.load(\"drive/My Drive/Etiquetas.npy\")\n",
        "#unosDatos=np.load(\"drive/My Drive/Datos.npy\")\n",
        "#np.save(\"drive/My Drive/Datos1\", Datos1)\n",
        "#np.save(\"drive/My Drive/Etiquetas\", unosEtiquetas)\n",
        "#np.save(\"drive/My Drive/Etiquetas\", unosEtiquetas)\n",
        "#Datos1 = np.load(\"drive/My Drive/Datos1.npy\")\n",
        "#Datos2 = np.load(\"drive/My Drive/Datos2.npy\")\n",
        "#Datos3 = np.load(\"drive/My Drive/Datos3.npy\")\n",
        "#unosEtiquetas=np.load(\"drive/My Drive/Etiquetas.npy\")\n",
        "\n",
        "#Datos1, unosEtiquetas = eliminarClaseDesconocida(Datos1, unosEtiquetas)\n",
        "\n",
        "#unosDatos = appendDatos(Datos1, Datos2, Datos3)\n",
        "np.save(\"drive/My Drive/DatosCompletos.npy\", unosDatos)"
      ],
      "execution_count": 0,
      "outputs": []
    },
    {
      "cell_type": "code",
      "metadata": {
        "id": "Z1l-HpMoSXCv",
        "colab_type": "code",
        "outputId": "998be201-2262-4bf6-b988-aa45617f5397",
        "colab": {
          "base_uri": "https://localhost:8080/",
          "height": 35
        }
      },
      "source": [
        "unosEtiquetas.shape"
      ],
      "execution_count": 12,
      "outputs": [
        {
          "output_type": "execute_result",
          "data": {
            "text/plain": [
              "(8864,)"
            ]
          },
          "metadata": {
            "tags": []
          },
          "execution_count": 12
        }
      ]
    },
    {
      "cell_type": "code",
      "metadata": {
        "id": "q3whNaa5S7ka",
        "colab_type": "code",
        "outputId": "5bcf8c33-bbce-4bc2-d639-b881c31de43b",
        "colab": {
          "base_uri": "https://localhost:8080/",
          "height": 35
        }
      },
      "source": [
        "unosDatos.shape"
      ],
      "execution_count": 62,
      "outputs": [
        {
          "output_type": "execute_result",
          "data": {
            "text/plain": [
              "(8864, 3000, 3)"
            ]
          },
          "metadata": {
            "tags": []
          },
          "execution_count": 62
        }
      ]
    },
    {
      "cell_type": "code",
      "metadata": {
        "id": "0b1TTqXl1eEZ",
        "colab_type": "code",
        "colab": {
          "base_uri": "https://localhost:8080/",
          "height": 142
        },
        "outputId": "edfbdd90-22b2-426e-e7d4-f2a008c3fc88"
      },
      "source": [
        "unosDatos[1,:,:]"
      ],
      "execution_count": 63,
      "outputs": [
        {
          "output_type": "execute_result",
          "data": {
            "text/plain": [
              "array([[ -24.70915751,  -11.87252747, -130.34456654],\n",
              "       [ -23.67765568,   -7.64981685, -129.35897436],\n",
              "       [ -22.64615385,  -11.39267399, -126.89499389],\n",
              "       ...,\n",
              "       [   5.01684982,    2.23516484,   17.0014652 ],\n",
              "       [   5.67326007,   -3.61904762,    1.23199023],\n",
              "       [  16.73846154,  -16.57509158,   -2.21758242]])"
            ]
          },
          "metadata": {
            "tags": []
          },
          "execution_count": 63
        }
      ]
    },
    {
      "cell_type": "code",
      "metadata": {
        "id": "1SZKHJ8m1003",
        "colab_type": "code",
        "colab": {
          "base_uri": "https://localhost:8080/",
          "height": 53
        },
        "outputId": "9714609e-99e8-4b9a-a124-c384219d898a"
      },
      "source": [
        "Datos3[0,:]"
      ],
      "execution_count": 49,
      "outputs": [
        {
          "output_type": "execute_result",
          "data": {
            "text/plain": [
              "array([  45.09084249,   42.62686203,   58.88913309, ..., -171.24664225,\n",
              "       -128.37338217,  -89.93528694])"
            ]
          },
          "metadata": {
            "tags": []
          },
          "execution_count": 49
        }
      ]
    },
    {
      "cell_type": "code",
      "metadata": {
        "id": "7gpvaGVTVhg8",
        "colab_type": "code",
        "outputId": "0a789ec1-f7d9-4678-8c44-0e7002c2feb2",
        "colab": {
          "base_uri": "https://localhost:8080/",
          "height": 35
        }
      },
      "source": [
        "#x_train, x_test, y_train, y_test = train_test_split(np.transpose(unosDatos), unosEtiquetas , random_state = 0, test_size=0.10)\n",
        "#x_train = np.expand_dims(np.transpose(x_train), axis=3) # reshape (569, 30) to (569, 30, 1) \n",
        "\n",
        "print(x_train.shape)"
      ],
      "execution_count": 68,
      "outputs": [
        {
          "output_type": "stream",
          "text": [
            "(7977, 3000, 3)\n"
          ],
          "name": "stdout"
        }
      ]
    },
    {
      "cell_type": "markdown",
      "metadata": {
        "id": "ZNDN_jn4GUq2",
        "colab_type": "text"
      },
      "source": [
        "#Implementación en Keras"
      ]
    },
    {
      "cell_type": "markdown",
      "metadata": {
        "id": "Lr8mo_2xZolJ",
        "colab_type": "text"
      },
      "source": [
        "Se separan los datos de entrenamiento y validación"
      ]
    },
    {
      "cell_type": "code",
      "metadata": {
        "id": "hARh2hKqpioi",
        "colab_type": "code",
        "colab": {}
      },
      "source": [
        "x_train, x_test, y_train, y_test = train_test_split(unosDatos, unosEtiquetas , random_state = 0, test_size=0.10)\n",
        "#x_train = np.expand_dims(np.transpose(x_train), axis=3) # reshape (569, 30) to (569, 30, 1) \n",
        "#x_test = np.expand_dims(np.transpose(x_test), axis=3) # reshape (569, 30) to (569, 30, 1) "
      ],
      "execution_count": 0,
      "outputs": []
    },
    {
      "cell_type": "markdown",
      "metadata": {
        "id": "tp7kfuqjTA38",
        "colab_type": "text"
      },
      "source": [
        "Creación del modelo"
      ]
    },
    {
      "cell_type": "code",
      "metadata": {
        "id": "R54HzoQ0LDZ0",
        "colab_type": "code",
        "outputId": "7620b4a8-77d0-452c-c2b9-457ca2c419c3",
        "colab": {
          "base_uri": "https://localhost:8080/",
          "height": 446
        }
      },
      "source": [
        "def crearModelo(pTasa, pAlphas, pNumFiltros, pTamFiltros, pTamPooling, pNumNeuronas, pOptimizer):\n",
        "  #Numero de clases\n",
        "  numClases = 6\n",
        "\n",
        "  modelo = Sequential()\n",
        "\n",
        "  #Esto corresponderia a la parte convolucional.\n",
        "  #modelo.add(Conv1D(pNumFiltros[0], int(pTamFiltros[0]), activation = 'relu', input_shape = (3000,1)))\n",
        "  modelo.add(Conv1D(pNumFiltros[0], int(pTamFiltros[0]), activation = 'relu', input_shape = (3000,3)))\n",
        "  #modelo.add(MaxPooling1D(int(pTamPooling[0])))\n",
        "  modelo.add(Conv1D(pNumFiltros[1], int(pTamFiltros[1]), activation = 'relu'))\n",
        "  modelo.add(MaxPooling1D(int(pTamPooling[0])))\n",
        "  modelo.add(Conv1D(pNumFiltros[2], int(pTamFiltros[2]), activation = 'relu'))\n",
        "  modelo.add(Conv1D(pNumFiltros[2], int(pTamFiltros[2]), activation = 'relu'))\n",
        "  #modelo.add(AveragePooling1D(int(pTamPooling[1])))\n",
        "  #modelo.add(Conv1D(pNumFiltros[2], int(pTamFiltros[2]), activation = 'relu'))\n",
        "  modelo.add(GlobalAveragePooling1D())\n",
        "  #modelo.add(MaxPooling1D(int(pTamPooling[2])))\n",
        "  #modelo.add(Flatten())\n",
        "\n",
        "  #Esto corresponderia a la parte de red neuronal normalita. (Puse cualquier cosa por ahora)\n",
        "  modelo.add(Dropout(0.5))\n",
        "  #modelo.add(Dense(pNumNeuronas[0], activation = 'relu'))\n",
        "  #modelo.add(Dropout(0.5))\n",
        "  #modelo.add(Dense(pNumNeuronas[1], activation = 'relu'))#, activity_regularizer=l2(pAlpha)))\n",
        "  #modelo.add(Dense(pNumNeuronas[2], activation = 'relu'))#, activity_regularizer=l2(pAlpha)))\n",
        "  modelo.add(Dense(numClases, activation = 'softmax'))\n",
        "\n",
        "  sgd = optimizers.SGD(lr = pTasa, momentum=0.9)\n",
        "  adam = optimizers.Adam(learning_rate = pTasa)\n",
        "  if pOptimizer == \"adam\":\n",
        "    opt=adam\n",
        "  elif pOptimizer ==\"sgd\":\n",
        "    opt=sgd\n",
        "  elif pOptimizer ==\"rmsprop\":\n",
        "    opt = \"rmsprop\"\n",
        "  \n",
        "  modelo.compile(loss='sparse_categorical_crossentropy', optimizer = opt, metrics = ['sparse_categorical_accuracy'])\n",
        "  #modelo.summary()\n",
        "\n",
        "  return modelo\n",
        "\n",
        "modelo = crearModelo(tasa, alpha, numFiltros, tamFiltros, tamPooling ,numNeuronas, optimizer)\n",
        "modelo.summary()"
      ],
      "execution_count": 69,
      "outputs": [
        {
          "output_type": "stream",
          "text": [
            "Model: \"sequential_10\"\n",
            "_________________________________________________________________\n",
            "Layer (type)                 Output Shape              Param #   \n",
            "=================================================================\n",
            "conv1d_40 (Conv1D)           (None, 2991, 10)          310       \n",
            "_________________________________________________________________\n",
            "conv1d_41 (Conv1D)           (None, 2982, 10)          1010      \n",
            "_________________________________________________________________\n",
            "max_pooling1d_10 (MaxPooling (None, 994, 10)           0         \n",
            "_________________________________________________________________\n",
            "conv1d_42 (Conv1D)           (None, 985, 16)           1616      \n",
            "_________________________________________________________________\n",
            "conv1d_43 (Conv1D)           (None, 976, 16)           2576      \n",
            "_________________________________________________________________\n",
            "global_average_pooling1d_10  (None, 16)                0         \n",
            "_________________________________________________________________\n",
            "dropout_10 (Dropout)         (None, 16)                0         \n",
            "_________________________________________________________________\n",
            "dense_10 (Dense)             (None, 6)                 102       \n",
            "=================================================================\n",
            "Total params: 5,614\n",
            "Trainable params: 5,614\n",
            "Non-trainable params: 0\n",
            "_________________________________________________________________\n"
          ],
          "name": "stdout"
        }
      ]
    },
    {
      "cell_type": "code",
      "metadata": {
        "id": "M46eR6ELpaJ2",
        "colab_type": "code",
        "outputId": "9cc43017-abd4-47e0-b392-44d43f46b79c",
        "colab": {
          "base_uri": "https://localhost:8080/",
          "height": 499
        }
      },
      "source": [
        "numFiltros = np.array([100, 100, 160])\n",
        "tamFiltros = np.array([10, 10, 10])\n",
        "tamPooling = np.array([3, 6, 6])\n",
        "optimizer=\"adam\"\n",
        "numNeuronas = np.array([20, 10, 10])\n",
        "\n",
        "tasa = 0.001\n",
        "alpha = 0\n",
        "\n",
        "modelo = crearModelo(tasa, alpha, numFiltros, tamFiltros, tamPooling ,numNeuronas, optimizer)\n",
        "\n",
        "epocas = 50\n",
        "batchSize = 32\n",
        "hist = modelo.fit(x_train, y_train, verbose = 1, validation_data=(x_test, y_test), epochs = epocas, batch_size = batchSize)\n",
        "\n",
        "graficarHistoria(hist)"
      ],
      "execution_count": 0,
      "outputs": [
        {
          "output_type": "stream",
          "text": [
            "Train on 7977 samples, validate on 887 samples\n",
            "Epoch 1/50\n",
            "7977/7977 [==============================] - 26s 3ms/sample - loss: 1.5426 - sparse_categorical_accuracy: 0.4078 - val_loss: 1.4909 - val_sparse_categorical_accuracy: 0.3980\n",
            "Epoch 2/50\n",
            "7977/7977 [==============================] - 25s 3ms/sample - loss: 1.4256 - sparse_categorical_accuracy: 0.4355 - val_loss: 1.4668 - val_sparse_categorical_accuracy: 0.3698\n",
            "Epoch 3/50\n",
            "7977/7977 [==============================] - 25s 3ms/sample - loss: 1.3942 - sparse_categorical_accuracy: 0.4502 - val_loss: 1.4383 - val_sparse_categorical_accuracy: 0.4160\n",
            "Epoch 4/50\n",
            "7977/7977 [==============================] - 25s 3ms/sample - loss: 1.3776 - sparse_categorical_accuracy: 0.4499 - val_loss: 1.4123 - val_sparse_categorical_accuracy: 0.4160\n",
            "Epoch 5/50\n",
            "7977/7977 [==============================] - 25s 3ms/sample - loss: 1.3501 - sparse_categorical_accuracy: 0.4650 - val_loss: 1.4377 - val_sparse_categorical_accuracy: 0.4138\n",
            "Epoch 6/50\n",
            "7977/7977 [==============================] - 25s 3ms/sample - loss: 1.3338 - sparse_categorical_accuracy: 0.4661 - val_loss: 1.4245 - val_sparse_categorical_accuracy: 0.4284\n",
            "Epoch 7/50\n",
            "7977/7977 [==============================] - 25s 3ms/sample - loss: 1.3201 - sparse_categorical_accuracy: 0.4641 - val_loss: 1.3666 - val_sparse_categorical_accuracy: 0.4329\n",
            "Epoch 8/50\n",
            "7977/7977 [==============================] - 25s 3ms/sample - loss: 1.3055 - sparse_categorical_accuracy: 0.4746 - val_loss: 1.3644 - val_sparse_categorical_accuracy: 0.4284\n",
            "Epoch 9/50\n",
            "7977/7977 [==============================] - 25s 3ms/sample - loss: 1.2912 - sparse_categorical_accuracy: 0.4740 - val_loss: 1.3905 - val_sparse_categorical_accuracy: 0.4149\n",
            "Epoch 10/50\n",
            "7977/7977 [==============================] - 25s 3ms/sample - loss: 1.2867 - sparse_categorical_accuracy: 0.4788 - val_loss: 1.3604 - val_sparse_categorical_accuracy: 0.4295\n",
            "Epoch 11/50\n",
            "7977/7977 [==============================] - 25s 3ms/sample - loss: 1.2826 - sparse_categorical_accuracy: 0.4793 - val_loss: 1.3604 - val_sparse_categorical_accuracy: 0.4352\n",
            "Epoch 12/50\n",
            "7977/7977 [==============================] - 25s 3ms/sample - loss: 1.2722 - sparse_categorical_accuracy: 0.4754 - val_loss: 1.3181 - val_sparse_categorical_accuracy: 0.4555\n",
            "Epoch 13/50\n",
            "2080/7977 [======>.......................] - ETA: 18s - loss: 1.2773 - sparse_categorical_accuracy: 0.4817"
          ],
          "name": "stdout"
        }
      ]
    },
    {
      "cell_type": "code",
      "metadata": {
        "id": "Q8yCL4TiDkZA",
        "colab_type": "code",
        "colab": {}
      },
      "source": [
        "numFiltros = np.array([100, 50, 20])\n",
        "tamFiltros = np.array([6, 6, 6])\n",
        "tamPooling = np.array([6, 6, 6])\n",
        "optimizer=\"adam\"\n",
        "numNeuronas = np.array([10, 8, 6])\n",
        "\n",
        "parametros = dict(batch_size = [30],\n",
        "               epochs = [5],\n",
        "               pOptimizer = [\"adam\", \"sgd\"],#,\"rmsprop\"],\n",
        "               pTasa = [0.01],\n",
        "               pAlphas = [0.001],\n",
        "               pNumFiltros = [numFiltros],\n",
        "              pTamFiltros = [tamFiltros],\n",
        "              pTamPooling = [tamPooling],\n",
        "              pNumNeuronas = [numNeuronas]\n",
        "              )"
      ],
      "execution_count": 0,
      "outputs": []
    },
    {
      "cell_type": "code",
      "metadata": {
        "id": "BnjxayYrBy_9",
        "colab_type": "code",
        "colab": {}
      },
      "source": [
        "def GridSearch(pXtrain, pYtrain, pXtest, pYtest, pParameters):\n",
        "  i=0\n",
        "  parameters = []\n",
        "  bestScore = 0\n",
        "  bestModel=None\n",
        "  bestHist = None\n",
        "  contador=0\n",
        "  for k in parametros.keys():\n",
        "    parameters.append(pParameters.get(k))\n",
        "  with progressbar.ProgressBar(max_value=len(list(itertools.product(*parameters)))) as bar:\n",
        "    for p in itertools.product(*parameters):\n",
        "      contador=+1\n",
        "      bar.update(contador)\n",
        "      modelo=crearModelo(p[3],p[4],p[5],p[6],p[7],p[8], p[2])\n",
        "      hist = modelo.fit(pXtrain, pYtrain, verbose = 1, validation_data=(pXtest, pYtest), epochs = p[1], batch_size = p[0])\n",
        "      l, score =modelo.evaluate(pXtest,pYtest)\n",
        "      if score>bestScore:\n",
        "        bestScore = score\n",
        "        bestModel = modelo\n",
        "        bestHist = hist\n",
        "  return bestScore, bestModel, bestHist"
      ],
      "execution_count": 0,
      "outputs": []
    },
    {
      "cell_type": "code",
      "metadata": {
        "id": "SIxa-xRJ9U3s",
        "colab_type": "code",
        "outputId": "b4312a36-e3f4-4b34-a035-7a13c7a8b6ed",
        "colab": {
          "base_uri": "https://localhost:8080/",
          "height": 720
        }
      },
      "source": [
        "bestScore, bestModel, bestHist = GridSearch(x_train,y_train,x_test,y_test,parametros)\n",
        "graficarHistoria(bestHist)"
      ],
      "execution_count": 0,
      "outputs": [
        {
          "output_type": "stream",
          "text": [
            "\r                                                                               \r\rN/A% (0 of 2) |                          | Elapsed Time: 0:00:00 ETA:  --:--:--"
          ],
          "name": "stderr"
        },
        {
          "output_type": "stream",
          "text": [
            "Train on 7977 samples, validate on 887 samples\n",
            "Epoch 1/5\n",
            "7977/7977 [==============================] - 3s 361us/sample - loss: 1.6520 - sparse_categorical_accuracy: 0.3236 - val_loss: 1.6377 - val_sparse_categorical_accuracy: 0.2954\n",
            "Epoch 2/5\n",
            "7977/7977 [==============================] - 2s 302us/sample - loss: 1.6042 - sparse_categorical_accuracy: 0.3412 - val_loss: 1.6478 - val_sparse_categorical_accuracy: 0.2954\n",
            "Epoch 3/5\n",
            "7977/7977 [==============================] - 2s 304us/sample - loss: 1.6057 - sparse_categorical_accuracy: 0.3421 - val_loss: 1.6405 - val_sparse_categorical_accuracy: 0.2954\n",
            "Epoch 4/5\n",
            "7977/7977 [==============================] - 2s 305us/sample - loss: 1.6134 - sparse_categorical_accuracy: 0.3273 - val_loss: 1.6373 - val_sparse_categorical_accuracy: 0.2954\n",
            "Epoch 5/5\n",
            "7977/7977 [==============================] - 2s 307us/sample - loss: 1.6135 - sparse_categorical_accuracy: 0.3273 - val_loss: 1.6402 - val_sparse_categorical_accuracy: 0.2954\n",
            "887/887 [==============================] - 0s 143us/sample - loss: 1.6402 - sparse_categorical_accuracy: 0.2954\n"
          ],
          "name": "stdout"
        },
        {
          "output_type": "stream",
          "text": [
            "\r                                                                               \r\r 50% (1 of 2) |#############             | Elapsed Time: 0:00:13 ETA:   0:00:13"
          ],
          "name": "stderr"
        },
        {
          "output_type": "stream",
          "text": [
            "Train on 7977 samples, validate on 887 samples\n",
            "Epoch 1/5\n",
            "7977/7977 [==============================] - 3s 349us/sample - loss: 1.6346 - sparse_categorical_accuracy: 0.3383 - val_loss: 1.6308 - val_sparse_categorical_accuracy: 0.2965\n",
            "Epoch 2/5\n",
            "7977/7977 [==============================] - 2s 306us/sample - loss: 1.5496 - sparse_categorical_accuracy: 0.3894 - val_loss: 1.5556 - val_sparse_categorical_accuracy: 0.3901\n",
            "Epoch 3/5\n",
            "7977/7977 [==============================] - 2s 302us/sample - loss: 1.4849 - sparse_categorical_accuracy: 0.4159 - val_loss: 1.5129 - val_sparse_categorical_accuracy: 0.3890\n",
            "Epoch 4/5\n",
            "7977/7977 [==============================] - 2s 303us/sample - loss: 1.4540 - sparse_categorical_accuracy: 0.4355 - val_loss: 1.4913 - val_sparse_categorical_accuracy: 0.4002\n",
            "Epoch 5/5\n",
            "7977/7977 [==============================] - 2s 304us/sample - loss: 1.4258 - sparse_categorical_accuracy: 0.4369 - val_loss: 1.4619 - val_sparse_categorical_accuracy: 0.4036\n",
            "887/887 [==============================] - 0s 144us/sample - loss: 1.4619 - sparse_categorical_accuracy: 0.4036\n"
          ],
          "name": "stdout"
        },
        {
          "output_type": "stream",
          "text": [
            "\r                                                                               \r\r100% (2 of 2) |##########################| Elapsed Time: 0:00:27 Time:  0:00:27\n"
          ],
          "name": "stderr"
        },
        {
          "output_type": "display_data",
          "data": {
            "image/png": "[encoded data removed]",
            "text/plain": [
              "<Figure size 432x288 with 1 Axes>"
            ]
          },
          "metadata": {
            "tags": []
          }
        }
      ]
    },
    {
      "cell_type": "code",
      "metadata": {
        "id": "Jx-8FwHyPopv",
        "colab_type": "code",
        "outputId": "891b267d-8c9e-4026-9d8c-ff41ad1644ec",
        "colab": {
          "base_uri": "https://localhost:8080/",
          "height": 295
        }
      },
      "source": [
        ""
      ],
      "execution_count": 0,
      "outputs": [
        {
          "output_type": "display_data",
          "data": {
            "image/png": "[encoded data removed]",
            "text/plain": [
              "<Figure size 432x288 with 1 Axes>"
            ]
          },
          "metadata": {
            "tags": []
          }
        }
      ]
    },
    {
      "cell_type": "markdown",
      "metadata": {
        "id": "l8qUiO-OGaM1",
        "colab_type": "text"
      },
      "source": [
        "#Implementación en AdaBoost"
      ]
    },
    {
      "cell_type": "code",
      "metadata": {
        "id": "xu9oyoRKGf1e",
        "colab_type": "code",
        "outputId": "1b9b65f7-0331-485d-a3fd-8c58937320f5",
        "colab": {
          "base_uri": "https://localhost:8080/",
          "height": 935
        }
      },
      "source": [
        "epocas = 100\n",
        "batchSize = 32\n",
        "\n",
        "#Esto no se por que esta fallando.\n",
        "estimadorBase = KerasClassifier(build_fn = crearModelo(tasa, alpha, numFiltros, tamFiltros, tamPooling ,numNeuronas, optimizer), epochs = epocas, batch_size = batchSize, verbose = 0)\n",
        "\n",
        "print(\"Calculando...\")\n",
        "\n",
        "numEstimadores = 3\n",
        "adaBoost = AdaBoostClassifier(base_estimator = estimadorBase, n_estimators = numEstimadores) #Variar otros parametros como la tasa de aprendizaje\n",
        "adaBoost.fit(x_train, y_train)\n",
        "\n",
        "print(confusion_matrix(adaBoost.predict(x_train),y_train))\n",
        "print(confusion_matrix(adaBoost.predict(x_test),y_test))"
      ],
      "execution_count": 0,
      "outputs": [
        {
          "output_type": "stream",
          "text": [
            "Model: \"sequential_18\"\n",
            "_________________________________________________________________\n",
            "Layer (type)                 Output Shape              Param #   \n",
            "=================================================================\n",
            "conv1d_45 (Conv1D)           (None, 2995, 100)         700       \n",
            "_________________________________________________________________\n",
            "max_pooling1d_15 (MaxPooling (None, 499, 100)          0         \n",
            "_________________________________________________________________\n",
            "conv1d_46 (Conv1D)           (None, 490, 50)           50050     \n",
            "_________________________________________________________________\n",
            "average_pooling1d_15 (Averag (None, 49, 50)            0         \n",
            "_________________________________________________________________\n",
            "conv1d_47 (Conv1D)           (None, 35, 20)            15020     \n",
            "_________________________________________________________________\n",
            "global_average_pooling1d_15  (None, 20)                0         \n",
            "_________________________________________________________________\n",
            "flatten_15 (Flatten)         (None, 20)                0         \n",
            "_________________________________________________________________\n",
            "dropout_15 (Dropout)         (None, 20)                0         \n",
            "_________________________________________________________________\n",
            "dense_60 (Dense)             (None, 10)                210       \n",
            "_________________________________________________________________\n",
            "dense_61 (Dense)             (None, 8)                 88        \n",
            "_________________________________________________________________\n",
            "dense_62 (Dense)             (None, 6)                 54        \n",
            "_________________________________________________________________\n",
            "dense_63 (Dense)             (None, 6)                 42        \n",
            "=================================================================\n",
            "Total params: 66,164\n",
            "Trainable params: 66,164\n",
            "Non-trainable params: 0\n",
            "_________________________________________________________________\n",
            "Calculando...\n"
          ],
          "name": "stdout"
        },
        {
          "output_type": "error",
          "ename": "ValueError",
          "evalue": "ignored",
          "traceback": [
            "\u001b[0;31m---------------------------------------------------------------------------\u001b[0m",
            "\u001b[0;31mValueError\u001b[0m                                Traceback (most recent call last)",
            "\u001b[0;32m<ipython-input-51-73911fc45e5c>\u001b[0m in \u001b[0;36m<module>\u001b[0;34m()\u001b[0m\n\u001b[1;32m      9\u001b[0m \u001b[0mnumEstimadores\u001b[0m \u001b[0;34m=\u001b[0m \u001b[0;36m3\u001b[0m\u001b[0;34m\u001b[0m\u001b[0;34m\u001b[0m\u001b[0m\n\u001b[1;32m     10\u001b[0m \u001b[0madaBoost\u001b[0m \u001b[0;34m=\u001b[0m \u001b[0mAdaBoostClassifier\u001b[0m\u001b[0;34m(\u001b[0m\u001b[0mbase_estimator\u001b[0m \u001b[0;34m=\u001b[0m \u001b[0mestimadorBase\u001b[0m\u001b[0;34m,\u001b[0m \u001b[0mn_estimators\u001b[0m \u001b[0;34m=\u001b[0m \u001b[0mnumEstimadores\u001b[0m\u001b[0;34m)\u001b[0m \u001b[0;31m#Variar otros parametros como la tasa de aprendizaje\u001b[0m\u001b[0;34m\u001b[0m\u001b[0;34m\u001b[0m\u001b[0m\n\u001b[0;32m---> 11\u001b[0;31m \u001b[0madaBoost\u001b[0m\u001b[0;34m.\u001b[0m\u001b[0mfit\u001b[0m\u001b[0;34m(\u001b[0m\u001b[0mx_train\u001b[0m\u001b[0;34m,\u001b[0m \u001b[0my_train\u001b[0m\u001b[0;34m)\u001b[0m\u001b[0;34m\u001b[0m\u001b[0;34m\u001b[0m\u001b[0m\n\u001b[0m\u001b[1;32m     12\u001b[0m \u001b[0;34m\u001b[0m\u001b[0m\n\u001b[1;32m     13\u001b[0m \u001b[0mprint\u001b[0m\u001b[0;34m(\u001b[0m\u001b[0mconfusion_matrix\u001b[0m\u001b[0;34m(\u001b[0m\u001b[0madaBoost\u001b[0m\u001b[0;34m.\u001b[0m\u001b[0mpredict\u001b[0m\u001b[0;34m(\u001b[0m\u001b[0mx_train\u001b[0m\u001b[0;34m)\u001b[0m\u001b[0;34m,\u001b[0m\u001b[0my_train\u001b[0m\u001b[0;34m)\u001b[0m\u001b[0;34m)\u001b[0m\u001b[0;34m\u001b[0m\u001b[0;34m\u001b[0m\u001b[0m\n",
            "\u001b[0;32m/usr/local/lib/python3.6/dist-packages/sklearn/ensemble/weight_boosting.py\u001b[0m in \u001b[0;36mfit\u001b[0;34m(self, X, y, sample_weight)\u001b[0m\n\u001b[1;32m    425\u001b[0m \u001b[0;34m\u001b[0m\u001b[0m\n\u001b[1;32m    426\u001b[0m         \u001b[0;31m# Fit\u001b[0m\u001b[0;34m\u001b[0m\u001b[0;34m\u001b[0m\u001b[0;34m\u001b[0m\u001b[0m\n\u001b[0;32m--> 427\u001b[0;31m         \u001b[0;32mreturn\u001b[0m \u001b[0msuper\u001b[0m\u001b[0;34m(\u001b[0m\u001b[0;34m)\u001b[0m\u001b[0;34m.\u001b[0m\u001b[0mfit\u001b[0m\u001b[0;34m(\u001b[0m\u001b[0mX\u001b[0m\u001b[0;34m,\u001b[0m \u001b[0my\u001b[0m\u001b[0;34m,\u001b[0m \u001b[0msample_weight\u001b[0m\u001b[0;34m)\u001b[0m\u001b[0;34m\u001b[0m\u001b[0;34m\u001b[0m\u001b[0m\n\u001b[0m\u001b[1;32m    428\u001b[0m \u001b[0;34m\u001b[0m\u001b[0m\n\u001b[1;32m    429\u001b[0m     \u001b[0;32mdef\u001b[0m \u001b[0m_validate_estimator\u001b[0m\u001b[0;34m(\u001b[0m\u001b[0mself\u001b[0m\u001b[0;34m)\u001b[0m\u001b[0;34m:\u001b[0m\u001b[0;34m\u001b[0m\u001b[0;34m\u001b[0m\u001b[0m\n",
            "\u001b[0;32m/usr/local/lib/python3.6/dist-packages/sklearn/ensemble/weight_boosting.py\u001b[0m in \u001b[0;36mfit\u001b[0;34m(self, X, y, sample_weight)\u001b[0m\n\u001b[1;32m    133\u001b[0m \u001b[0;34m\u001b[0m\u001b[0m\n\u001b[1;32m    134\u001b[0m         \u001b[0;31m# Check parameters\u001b[0m\u001b[0;34m\u001b[0m\u001b[0;34m\u001b[0m\u001b[0;34m\u001b[0m\u001b[0m\n\u001b[0;32m--> 135\u001b[0;31m         \u001b[0mself\u001b[0m\u001b[0;34m.\u001b[0m\u001b[0m_validate_estimator\u001b[0m\u001b[0;34m(\u001b[0m\u001b[0;34m)\u001b[0m\u001b[0;34m\u001b[0m\u001b[0;34m\u001b[0m\u001b[0m\n\u001b[0m\u001b[1;32m    136\u001b[0m \u001b[0;34m\u001b[0m\u001b[0m\n\u001b[1;32m    137\u001b[0m         \u001b[0;31m# Clear any previous fit results\u001b[0m\u001b[0;34m\u001b[0m\u001b[0;34m\u001b[0m\u001b[0;34m\u001b[0m\u001b[0m\n",
            "\u001b[0;32m/usr/local/lib/python3.6/dist-packages/sklearn/ensemble/weight_boosting.py\u001b[0m in \u001b[0;36m_validate_estimator\u001b[0;34m(self)\u001b[0m\n\u001b[1;32m    443\u001b[0m         \u001b[0;32mif\u001b[0m \u001b[0;32mnot\u001b[0m \u001b[0mhas_fit_parameter\u001b[0m\u001b[0;34m(\u001b[0m\u001b[0mself\u001b[0m\u001b[0;34m.\u001b[0m\u001b[0mbase_estimator_\u001b[0m\u001b[0;34m,\u001b[0m \u001b[0;34m\"sample_weight\"\u001b[0m\u001b[0;34m)\u001b[0m\u001b[0;34m:\u001b[0m\u001b[0;34m\u001b[0m\u001b[0;34m\u001b[0m\u001b[0m\n\u001b[1;32m    444\u001b[0m             raise ValueError(\"%s doesn't support sample_weight.\"\n\u001b[0;32m--> 445\u001b[0;31m                              % self.base_estimator_.__class__.__name__)\n\u001b[0m\u001b[1;32m    446\u001b[0m \u001b[0;34m\u001b[0m\u001b[0m\n\u001b[1;32m    447\u001b[0m     \u001b[0;32mdef\u001b[0m \u001b[0m_boost\u001b[0m\u001b[0;34m(\u001b[0m\u001b[0mself\u001b[0m\u001b[0;34m,\u001b[0m \u001b[0miboost\u001b[0m\u001b[0;34m,\u001b[0m \u001b[0mX\u001b[0m\u001b[0;34m,\u001b[0m \u001b[0my\u001b[0m\u001b[0;34m,\u001b[0m \u001b[0msample_weight\u001b[0m\u001b[0;34m,\u001b[0m \u001b[0mrandom_state\u001b[0m\u001b[0;34m)\u001b[0m\u001b[0;34m:\u001b[0m\u001b[0;34m\u001b[0m\u001b[0;34m\u001b[0m\u001b[0m\n",
            "\u001b[0;31mValueError\u001b[0m: KerasClassifier doesn't support sample_weight."
          ]
        }
      ]
    },
    {
      "cell_type": "markdown",
      "metadata": {
        "id": "pN-cEkgDFy3U",
        "colab_type": "text"
      },
      "source": [
        "#Resultados"
      ]
    },
    {
      "cell_type": "code",
      "metadata": {
        "id": "LO5euyGuFxdI",
        "colab_type": "code",
        "colab": {}
      },
      "source": [
        "def graficarHistoria(pHist):\n",
        "  plt.plot(pHist.history['sparse_categorical_accuracy'], label = 'Accuracy Entrenamiento')\n",
        "  plt.plot(pHist.history['val_sparse_categorical_accuracy'], label = 'Accuracy Validacion')\n",
        "  plt.xlabel('Epoca')\n",
        "  plt.ylabel('Accuracy')\n",
        "  plt.title(\"Accuracy vs Epoca\")\n",
        "  plt.legend()\n",
        "  plt.show()"
      ],
      "execution_count": 0,
      "outputs": []
    },
    {
      "cell_type": "code",
      "metadata": {
        "id": "7Mt5I00ySoCj",
        "colab_type": "code",
        "outputId": "9871918f-265d-4167-d897-2fd53195562a",
        "colab": {
          "base_uri": "https://localhost:8080/",
          "height": 295
        }
      },
      "source": [
        "graficarHistoria(hist)"
      ],
      "execution_count": 0,
      "outputs": [
        {
          "output_type": "display_data",
          "data": {
            "image/png": "[encoded data removed]",
            "text/plain": [
              "<Figure size 432x288 with 1 Axes>"
            ]
          },
          "metadata": {
            "tags": []
          }
        }
      ]
    },
    {
      "cell_type": "code",
      "metadata": {
        "id": "6aQdP54tHKlv",
        "colab_type": "code",
        "colab": {}
      },
      "source": [
        ""
      ],
      "execution_count": 0,
      "outputs": []
    }
  ]
}