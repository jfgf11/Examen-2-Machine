{
  "nbformat": 4,
  "nbformat_minor": 0,
  "metadata": {
    "colab": {
      "name": "examen2.ipynb",
      "provenance": [],
      "collapsed_sections": [],
      "toc_visible": true,
      "machine_shape": "hm",
      "include_colab_link": true
    },
    "kernelspec": {
      "name": "python3",
      "display_name": "Python 3"
    },
    "accelerator": "GPU"
  },
  "cells": [
    {
      "cell_type": "markdown",
      "metadata": {
        "id": "view-in-github",
        "colab_type": "text"
      },
      "source": [
        "<a href=\"https://colab.research.google.com/github/jfgf11/Examen-2-Machine/blob/master/examen2.ipynb\" target=\"_parent\"><img src=\"https://colab.research.google.com/assets/colab-badge.svg\" alt=\"Open In Colab\"/></a>"
      ]
    },
    {
      "cell_type": "markdown",
      "metadata": {
        "id": "Geb2T0_TB3BM",
        "colab_type": "text"
      },
      "source": [
        "\n",
        "# Examen 2\n",
        "\n",
        "\n"
      ]
    },
    {
      "cell_type": "code",
      "metadata": {
        "id": "brhsDHYQokNd",
        "colab_type": "code",
        "outputId": "a9fad6f0-b339-4b44-80e2-d1974dd8d694",
        "colab": {
          "base_uri": "https://localhost:8080/",
          "height": 126
        }
      },
      "source": [
        "from google.colab import drive\n",
        "drive.mount('/content/drive')#, force_remount = True)"
      ],
      "execution_count": 3,
      "outputs": [
        {
          "output_type": "stream",
          "text": [
            "Go to this URL in a browser: https://accounts.google.com/o/oauth2/auth?client_id=947318989803-6bn6qk8qdgf4n4g3pfee6491hc0brc4i.apps.googleusercontent.com&redirect_uri=urn%3aietf%3awg%3aoauth%3a2.0%3aoob&response_type=code&scope=email%20https%3a%2f%2fwww.googleapis.com%2fauth%2fdocs.test%20https%3a%2f%2fwww.googleapis.com%2fauth%2fdrive%20https%3a%2f%2fwww.googleapis.com%2fauth%2fdrive.photos.readonly%20https%3a%2f%2fwww.googleapis.com%2fauth%2fpeopleapi.readonly\n",
            "\n",
            "Enter your authorization code:\n",
            "··········\n",
            "Mounted at /content/drive\n"
          ],
          "name": "stdout"
        }
      ]
    },
    {
      "cell_type": "markdown",
      "metadata": {
        "id": "nigPT0LkuBmI",
        "colab_type": "text"
      },
      "source": [
        "#Instalación"
      ]
    },
    {
      "cell_type": "code",
      "metadata": {
        "id": "UT9ry2xHBUyV",
        "colab_type": "code",
        "outputId": "175a11c3-3d9f-49a6-cfe5-36a79d734bf1",
        "colab": {
          "base_uri": "https://localhost:8080/",
          "height": 323
        }
      },
      "source": [
        "!pip install pyEDFlib\n",
        "!pip install progressbar2\n",
        "!pip install matplotlib --upgrade\n",
        "!pip install h5py"
      ],
      "execution_count": 1,
      "outputs": [
        {
          "output_type": "stream",
          "text": [
            "Requirement already satisfied: pyEDFlib in /usr/local/lib/python3.6/dist-packages (0.1.15)\n",
            "Requirement already satisfied: numpy>=1.9.1 in /usr/local/lib/python3.6/dist-packages (from pyEDFlib) (1.17.4)\n",
            "Requirement already satisfied: progressbar2 in /usr/local/lib/python3.6/dist-packages (3.38.0)\n",
            "Requirement already satisfied: python-utils>=2.3.0 in /usr/local/lib/python3.6/dist-packages (from progressbar2) (2.3.0)\n",
            "Requirement already satisfied: six in /usr/local/lib/python3.6/dist-packages (from progressbar2) (1.12.0)\n",
            "Requirement already up-to-date: matplotlib in /usr/local/lib/python3.6/dist-packages (3.1.2)\n",
            "Requirement already satisfied, skipping upgrade: python-dateutil>=2.1 in /usr/local/lib/python3.6/dist-packages (from matplotlib) (2.6.1)\n",
            "Requirement already satisfied, skipping upgrade: pyparsing!=2.0.4,!=2.1.2,!=2.1.6,>=2.0.1 in /usr/local/lib/python3.6/dist-packages (from matplotlib) (2.4.5)\n",
            "Requirement already satisfied, skipping upgrade: numpy>=1.11 in /usr/local/lib/python3.6/dist-packages (from matplotlib) (1.17.4)\n",
            "Requirement already satisfied, skipping upgrade: kiwisolver>=1.0.1 in /usr/local/lib/python3.6/dist-packages (from matplotlib) (1.1.0)\n",
            "Requirement already satisfied, skipping upgrade: cycler>=0.10 in /usr/local/lib/python3.6/dist-packages (from matplotlib) (0.10.0)\n",
            "Requirement already satisfied, skipping upgrade: six>=1.5 in /usr/local/lib/python3.6/dist-packages (from python-dateutil>=2.1->matplotlib) (1.12.0)\n",
            "Requirement already satisfied, skipping upgrade: setuptools in /usr/local/lib/python3.6/dist-packages (from kiwisolver>=1.0.1->matplotlib) (41.6.0)\n",
            "Requirement already satisfied: h5py in /usr/local/lib/python3.6/dist-packages (2.8.0)\n",
            "Requirement already satisfied: six in /usr/local/lib/python3.6/dist-packages (from h5py) (1.12.0)\n",
            "Requirement already satisfied: numpy>=1.7 in /usr/local/lib/python3.6/dist-packages (from h5py) (1.17.4)\n"
          ],
          "name": "stdout"
        }
      ]
    },
    {
      "cell_type": "markdown",
      "metadata": {
        "id": "-BNRjiy0hckX",
        "colab_type": "text"
      },
      "source": [
        "#Librerías"
      ]
    },
    {
      "cell_type": "code",
      "metadata": {
        "id": "dbliV9ktoI5F",
        "colab_type": "code",
        "colab": {}
      },
      "source": [
        "%tensorflow_version 1.x\n",
        "import tensorflow as tf\n",
        "import tensorflow.keras as keras\n",
        "\n",
        "from tensorflow.keras import Sequential\n",
        "from tensorflow.keras.layers import Dense\n",
        "from tensorflow.keras.layers import Dropout\n",
        "from tensorflow.keras.layers import Conv1D\n",
        "from tensorflow.keras.layers import MaxPooling1D\n",
        "from tensorflow.keras.layers import AveragePooling1D\n",
        "from tensorflow.keras.layers import GlobalAveragePooling1D\n",
        "from tensorflow.keras.layers import GlobalMaxPooling1D\n",
        "from tensorflow.keras.layers import Flatten\n",
        "from tensorflow.keras import optimizers\n",
        "from tensorflow.keras.regularizers import l2\n",
        "from tensorflow.keras.wrappers.scikit_learn import KerasClassifier\n",
        "from tensorflow.keras.models import model_from_json\n",
        "\n",
        "import pandas as pd\n",
        "import pyedflib as pyedf\n",
        "import h5py\n",
        "import numpy as np\n",
        "import matplotlib.pyplot as plt\n",
        "import os\n",
        "import time\n",
        "from tqdm import tqdm\n",
        "import seaborn as sns\n",
        "import progressbar\n",
        "import matplotlib.pyplot as plt\n",
        "%matplotlib inline\n",
        "\n",
        "from sklearn.model_selection import train_test_split\n",
        "from sklearn.model_selection import GridSearchCV\n",
        "from sklearn.metrics import confusion_matrix \n",
        "from sklearn.ensemble import AdaBoostClassifier\n",
        "import sklearn as sk\n",
        "import itertools"
      ],
      "execution_count": 0,
      "outputs": []
    },
    {
      "cell_type": "markdown",
      "metadata": {
        "id": "NG1AdmN0FjVA",
        "colab_type": "text"
      },
      "source": [
        "#Clases"
      ]
    },
    {
      "cell_type": "code",
      "metadata": {
        "id": "rT-Z0AiyFiq-",
        "colab_type": "code",
        "colab": {}
      },
      "source": [
        "#Esta no esta terminada.\n",
        "class Resultados:\n",
        "    def __init__(self, p_y_pred, p_y_true):\n",
        "        self.y_pred = p_y_pred\n",
        "        self.y_true = p_y_true\n",
        "\n",
        "    def convertirClases(self):\n",
        "      #Esto depronto no lo vamos a usar.\n",
        "      self.y_pred_convertidos = ((self.y_pred == 1) + (self.y_pred == 2)) + 2*((self.y_pred == 3) + (self.y_pred == 4)) + 3*(self.y_pred == 5)\n",
        "      self.y_true_convertidos = ((self.y_true == 1) + (self.y_true == 2)) + 2*((self.y_true == 3) + (self.y_true == 4)) + 3*(self.y_true == 5)\n",
        "\n",
        "    def darEtiqueta(self, pEstadoSueno):\n",
        "      et = 0\n",
        "\n",
        "      if(pEstadoSueno == \"Sleep stage 1\"):\n",
        "        et = 1\n",
        "      elif(pEstadoSueno == \"Sleep stage 2\"):\n",
        "        et = 2\n",
        "      elif(pEstadoSueno == \"Sleep stage 3\"):\n",
        "        et = 3\n",
        "      elif(pEstadoSueno == \"Sleep stage 4\"):\n",
        "        et = 4\n",
        "      elif(pEstadoSueno == \"Sleep stage R\"):\n",
        "        et = 5\n",
        "      else:\n",
        "        print(\"Primero eliminar la clase desconocida.\")\n",
        "      \n",
        "      return et\n",
        "      \n",
        "    def darEstadosSueno(self, pEtiquetas):\n",
        "      estados = pEtiquetas \n",
        "\n",
        "      estados[estados == 0] = \"Despierto\"\n",
        "      estados[estados == 1] = \"Sueño ligero\"\n",
        "      estados[estados == 2] = \"Sueño profundo\"\n",
        "      estados[estados == 3] = \"Sueño REM\"\n",
        "      \n",
        "      return estados\n",
        "\n",
        "    def graficarMatrizConfusion(self):\n",
        "      cm = confusion_matrix(self.y_true, self.y_pred)#, self.labels)\n",
        "      #print(cm)\n",
        "      #estados = self.darEstadosSueno(np.array([0, 1, 2, 3]))\n",
        "      \n",
        "      ax = sns.heatmap(cm, annot = True, cbar = False); #annot=True to annotate cells\n",
        "      \n",
        "      #plt.ylim()\n",
        "      #plt.ylim(bottom = 3.5, top = -0.5)\n",
        "      ax.xaxis.tick_top()\n",
        "      plt.xlabel(\"Clase Prediccion\")\n",
        "      plt.ylabel(\"Clase Verdadera\")\n",
        "      plt.title(\"Matriz de Confusion\")\n",
        "\n",
        "      plt.show()\n",
        "\n",
        "\n",
        "    def graficarNoches(self, pPred, pTrue):\n",
        "      tiempo = np.arange(0, len(pPred)*30, 30)\n",
        "      estados = darEstadosSueno(np.array([0, 1, 2, 3]))\n",
        "\n",
        "      plt.plot(tiempo, pPred, label = \"Predicciones Modelo\")\n",
        "      plt.plot(tiempo, pTrue, label = \"Etiquetas Experto\")\n",
        "      plt.set_yticklabels(estados)\n",
        "      plt.xlabel(\"Tiempo (s)\")\n",
        "      plt.ylabel(\"Estado de Sueño\")\n",
        "      plt.title(\"Estado del Sueño en una Noche\")\n",
        "\n",
        "      plt.show()\n",
        "\n",
        "    def calcularError(self):\n",
        "      error = np.sum(self.y_pred_convertidos != self.y_true_convertidos)\n",
        "      error = error/len(self.y_pred_convertidos)\n",
        "\n",
        "      return error"
      ],
      "execution_count": 0,
      "outputs": []
    },
    {
      "cell_type": "markdown",
      "metadata": {
        "id": "Aivhu85eoNx8",
        "colab_type": "text"
      },
      "source": [
        "#Lectura de los Datos"
      ]
    },
    {
      "cell_type": "code",
      "metadata": {
        "id": "-gpIuWCCQlwR",
        "colab_type": "code",
        "outputId": "843feca8-443d-4e8b-b58c-a16920846285",
        "colab": {
          "base_uri": "https://localhost:8080/",
          "height": 35
        }
      },
      "source": [
        "rutaDatos = \"drive/My Drive/DatosExamen2/processed\"\n",
        "\n",
        "def importarDatos():\n",
        "  datos = np.load(rutaDatos + \"/DatosCompletos_00_09.npy\")\n",
        "  etiquetas = np.load(rutaDatos + \"/Etiquetas_00_09.npy\")\n",
        "\n",
        "  for i in progressbar.progressbar(range(1,5)):\n",
        "    temp1 = np.load(rutaDatos + \"/DatosCompletos_\" + str(i) + \"0_\" + str(i) + \"9.npy\")\n",
        "    temp2 = np.load(rutaDatos + \"/Etiquetas_\" + str(i) + \"0_\" + str(i) + \"9.npy\")\n",
        "\n",
        "    datos = np.vstack((datos, temp1))\n",
        "    etiquetas = np.append(etiquetas, temp2)\n",
        "\n",
        "  return datos, etiquetas\n",
        "\n",
        "unosDatos, unosEtiquetas = importarDatos()"
      ],
      "execution_count": 4,
      "outputs": [
        {
          "output_type": "stream",
          "text": [
            "100% (4 of 4) |##########################| Elapsed Time: 0:01:12 Time:  0:01:12\n"
          ],
          "name": "stderr"
        }
      ]
    },
    {
      "cell_type": "code",
      "metadata": {
        "id": "KGWok7K1SBs9",
        "colab_type": "code",
        "colab": {}
      },
      "source": [
        "#Para cargar los datos totales\n",
        "unosDatos = np.load(\"drive/My Drive/DatosExamen2/processed/DatosTotales.npy\")\n",
        "unosEtiquetas = np.load(\"drive/My Drive/DatosExamen2/processed/EtiquetasTotales.npy\")"
      ],
      "execution_count": 0,
      "outputs": []
    },
    {
      "cell_type": "code",
      "metadata": {
        "id": "Y9fVcGp6pV7W",
        "colab_type": "code",
        "outputId": "ea9056e4-0b88-4dc3-e468-47d1ce030c9b",
        "colab": {
          "base_uri": "https://localhost:8080/",
          "height": 252
        }
      },
      "source": [
        "filenameDatos = \"drive/My Drive/sleep-cassette\"\n",
        "filenameDescripcion = \"drive/My Drive/SC-subjects.xls\"\n",
        "\n",
        "ArchivoLightsOff=pd.read_excel(filenameDescripcion, sheet_name='Blad1')\n",
        "\n",
        "TiempoLightsOff=ArchivoLightsOff[\"LightsOff\"].values\n",
        "TiempoLightsOffSegundos=TiempoLightsOff\n",
        "HorasSuenio=8\n",
        "\n",
        "for i in range (0, len(TiempoLightsOff)):\n",
        "  segundos=int(TiempoLightsOff[i].hour) * 3600 + int(TiempoLightsOff[i].minute) * 60\n",
        "  TiempoLightsOffSegundos[i]=segundos\n",
        "\n",
        "listaArchivos = os.listdir(filenameDatos)\n",
        "\n",
        "listaHypnograms = [i for i in listaArchivos if \"Hypnogram\" in i] \n",
        "listaPSGs = [i for i in listaArchivos if \"PSG\" in i]\n",
        "\n",
        "listaHypnograms.sort()\n",
        "listaPSGs.sort()\n",
        "\n",
        "print(\"Importando datos...\")\n",
        "\n",
        "start = time.time()\n",
        "\n",
        "Datos1=np.zeros(3000)\n",
        "Datos2=np.zeros(3000)\n",
        "Datos3=np.zeros(3000)\n",
        "\n",
        "Etiquetas=[0]\n",
        "\n",
        "p = 0\n",
        "inicioNumArchivos =10\n",
        "numArchivos = 10\n",
        "\n",
        "with progressbar.ProgressBar(max_value=numArchivos*960) as bar:\n",
        "  for i in range(inicioNumArchivos,inicioNumArchivos+numArchivos):#len(listaHypnograms)):\n",
        "\n",
        "    hyp = listaHypnograms[i]\n",
        "    psg = listaPSGs[i]\n",
        "\n",
        "    print(\"Hyp: {}, PSG: {}\".format(hyp,psg))\n",
        "\n",
        "    fileHyp = pyedf.EdfReader(filenameDatos + \"/\" + hyp)\n",
        "    filePSG = pyedf.EdfReader(filenameDatos + \"/\" + psg)\n",
        "\n",
        "    hypTime, hypDur, hypEtiqueta = fileHyp.readAnnotations()\n",
        "\n",
        "    tiempoComienzo = fileHyp.starttime_hour*3600+fileHyp.starttime_minute*60+fileHyp.starttime_second\n",
        "    offset=TiempoLightsOffSegundos[i]-tiempoComienzo\n",
        "    if offset<0:\n",
        "      offset+=24*3600\n",
        "    LimiteSuperior=offset+HorasSuenio*3600\n",
        "    ventana=30\n",
        "    tiempo=offset\n",
        "    j=0\n",
        "    referenciaSenial=0\n",
        "    FrecuenciaMuestreo = filePSG.getSampleFrequency(referenciaSenial)\n",
        "\n",
        "    while tiempo<LimiteSuperior:\n",
        "      if tiempo>hypTime[j]:\n",
        "        j+=1\n",
        "        \n",
        "      ventanaMuestra = np.round(FrecuenciaMuestreo * ventana)\n",
        "      muestraInicial = np.round(FrecuenciaMuestreo * tiempo)\n",
        "      senial1=filePSG.readSignal(0)\n",
        "      senial2=filePSG.readSignal(1)\n",
        "      senial3=filePSG.readSignal(2)\n",
        "      senialActual1=senial1[muestraInicial:muestraInicial+ventanaMuestra]\n",
        "      senialActual2=senial2[muestraInicial:muestraInicial+ventanaMuestra]\n",
        "      senialActual3=senial3[muestraInicial:muestraInicial+ventanaMuestra]\n",
        "      \n",
        "      etiquetaActual=hypEtiqueta[j]\n",
        "      \n",
        "      Datos1=np.vstack((Datos1,senialActual1))\n",
        "      Datos2=np.vstack((Datos2,senialActual2))\n",
        "      Datos3=np.vstack((Datos3,senialActual3))\n",
        "\n",
        "      Etiquetas=np.vstack((Etiquetas,etiquetaActual))\n",
        "      tiempo+=ventana\n",
        "      p+=1\n",
        "      bar.update(p)\n",
        "\n",
        "    fileHyp._close() \n",
        "    filePSG._close()\n",
        "#print(listaHypnograms)\n",
        "#print(listaPSGs)\n",
        "\n",
        "print(\"Termino.\")\n",
        "print(\"Tiempo: {} segundos.\".format(time.time()-start))"
      ],
      "execution_count": 0,
      "outputs": [
        {
          "output_type": "stream",
          "text": [
            "Importando datos...\n",
            "Hyp: SC4051EC-Hypnogram.edf, PSG: SC4051E0-PSG.edf\n"
          ],
          "name": "stdout"
        },
        {
          "output_type": "stream",
          "text": [
            " 10% (960 of 9600) |##                   | Elapsed Time: 0:21:33 ETA:   3:14:40"
          ],
          "name": "stderr"
        },
        {
          "output_type": "stream",
          "text": [
            "Hyp: SC4052EC-Hypnogram.edf, PSG: SC4052E0-PSG.edf\n"
          ],
          "name": "stdout"
        },
        {
          "output_type": "stream",
          "text": [
            " 20% (1920 of 9600) |####                | Elapsed Time: 0:44:00 ETA:   2:56:17"
          ],
          "name": "stderr"
        },
        {
          "output_type": "stream",
          "text": [
            "Hyp: SC4061EC-Hypnogram.edf, PSG: SC4061E0-PSG.edf\n"
          ],
          "name": "stdout"
        },
        {
          "output_type": "stream",
          "text": [
            " 30% (2880 of 9600) |######              | Elapsed Time: 1:06:09 ETA:   2:32:11"
          ],
          "name": "stderr"
        },
        {
          "output_type": "stream",
          "text": [
            "Hyp: SC4062EC-Hypnogram.edf, PSG: SC4062E0-PSG.edf\n"
          ],
          "name": "stdout"
        },
        {
          "output_type": "stream",
          "text": [
            " 40% (3840 of 9600) |########            | Elapsed Time: 1:28:43 ETA:   2:16:06"
          ],
          "name": "stderr"
        },
        {
          "output_type": "stream",
          "text": [
            "Hyp: SC4071EC-Hypnogram.edf, PSG: SC4071E0-PSG.edf\n"
          ],
          "name": "stdout"
        },
        {
          "output_type": "stream",
          "text": [
            " 50% (4800 of 9600) |##########          | Elapsed Time: 1:51:22 ETA:   1:52:49"
          ],
          "name": "stderr"
        },
        {
          "output_type": "stream",
          "text": [
            "Hyp: SC4072EH-Hypnogram.edf, PSG: SC4072E0-PSG.edf\n"
          ],
          "name": "stdout"
        },
        {
          "output_type": "stream",
          "text": [
            " 60% (5760 of 9600) |############        | Elapsed Time: 2:14:17 ETA:   1:31:07"
          ],
          "name": "stderr"
        },
        {
          "output_type": "stream",
          "text": [
            "Hyp: SC4081EC-Hypnogram.edf, PSG: SC4081E0-PSG.edf\n"
          ],
          "name": "stdout"
        },
        {
          "output_type": "stream",
          "text": [
            " 70% (6720 of 9600) |##############      | Elapsed Time: 2:37:42 ETA:   1:10:18"
          ],
          "name": "stderr"
        },
        {
          "output_type": "stream",
          "text": [
            "Hyp: SC4082EP-Hypnogram.edf, PSG: SC4082E0-PSG.edf\n"
          ],
          "name": "stdout"
        },
        {
          "output_type": "stream",
          "text": [
            " 80% (7680 of 9600) |################    | Elapsed Time: 2:59:58 ETA:   0:45:02"
          ],
          "name": "stderr"
        },
        {
          "output_type": "stream",
          "text": [
            "Hyp: SC4091EC-Hypnogram.edf, PSG: SC4091E0-PSG.edf\n"
          ],
          "name": "stdout"
        },
        {
          "output_type": "stream",
          "text": [
            " 90% (8640 of 9600) |##################  | Elapsed Time: 3:23:06 ETA:   0:23:05"
          ],
          "name": "stderr"
        },
        {
          "output_type": "stream",
          "text": [
            "Hyp: SC4092EC-Hypnogram.edf, PSG: SC4092E0-PSG.edf\n"
          ],
          "name": "stdout"
        },
        {
          "output_type": "stream",
          "text": [
            "100% (9600 of 9600) |####################| Elapsed Time: 3:47:30 Time:  3:47:30\n"
          ],
          "name": "stderr"
        },
        {
          "output_type": "stream",
          "text": [
            "Termino.\n",
            "Tiempo: 13654.461708545685 segundos.\n"
          ],
          "name": "stdout"
        }
      ]
    },
    {
      "cell_type": "code",
      "metadata": {
        "id": "zTq6m6HZqImV",
        "colab_type": "code",
        "colab": {}
      },
      "source": [
        "def appendDatos(pDatos1, pDatos2, pDatos3):\n",
        "  Datos_Generales=np.zeros((pDatos1.shape[0],3000,3))\n",
        "\n",
        "  for i in progressbar.progressbar(range(0,pDatos1.shape[0])):\n",
        "\n",
        "    Datos_Generales[i,:,0]=pDatos1[i]\n",
        "    Datos_Generales[i,:,1]=pDatos2[i]\n",
        "    Datos_Generales[i,:,2]=pDatos3[i]\n",
        "    \n",
        "  return Datos_Generales"
      ],
      "execution_count": 0,
      "outputs": []
    },
    {
      "cell_type": "code",
      "metadata": {
        "id": "kf3DBKIQpPy6",
        "colab_type": "code",
        "colab": {}
      },
      "source": [
        "#Esto solo se corre una vez.\n",
        "Etiquetas = Etiquetas[1:len(Etiquetas)]\n",
        "Datos1 = Datos1[1:Datos1.shape[0]]\n",
        "Datos2 = Datos2[1:Datos2.shape[0]]\n",
        "Datos3 = Datos3[1:Datos3.shape[0]]"
      ],
      "execution_count": 0,
      "outputs": []
    },
    {
      "cell_type": "code",
      "metadata": {
        "id": "vqNHjkpQM14h",
        "colab_type": "code",
        "colab": {}
      },
      "source": [
        "numArchivos = 10\n",
        "\n",
        "def darEtiqueta(pEtiqueta):\n",
        "  et = 0\n",
        "\n",
        "  if(pEtiqueta == \"Sleep stage 1\"):\n",
        "    et = 1\n",
        "  elif(pEtiqueta == \"Sleep stage 2\"):\n",
        "    et = 2\n",
        "  elif(pEtiqueta == \"Sleep stage 3\"):\n",
        "    et = 3\n",
        "  elif(pEtiqueta == \"Sleep stage 4\"):\n",
        "    et = 4\n",
        "  elif(pEtiqueta == \"Sleep stage R\"):\n",
        "    et = 5\n",
        "  else:\n",
        "    print(\"Primero eliminar la clase desconocida.\")\n",
        "  \n",
        "  return et\n",
        "  \n",
        "def darEstadoSueno(pEtiqueta):\n",
        "  estado = \"Despierto\"\n",
        "\n",
        "  if(pEtiqueta == 1):\n",
        "    estado = \"Sueño ligero\"\n",
        "  elif(pEtiqueta == 2):\n",
        "    estado = \"Sueño profundo\"\n",
        "  elif(pEtiqueta == 3):\n",
        "    estado = \"Sueño REM\"\n",
        "  else:\n",
        "    print(\"Primero eliminar la clase desconocida.\")\n",
        "  \n",
        "  return estado\n",
        "\n",
        "def eliminarClaseDesconocida(pDatos, pEtiquetas):\n",
        "  et = []\n",
        "  dat = np.zeros(3000)\n",
        "\n",
        "  with progressbar.ProgressBar(max_value=numArchivos*960) as bar:\n",
        "    for i in range(0, len(pEtiquetas)):\n",
        "      bar.update(i)\n",
        "      if pEtiquetas[i] != 'Sleep stage ?':\n",
        "        \n",
        "        if pEtiquetas[i]==\"Sleep stage W\":\n",
        "          et = np.append(et,0)\n",
        "          dat = np.vstack((dat, pDatos[i,:]))\n",
        "        elif pEtiquetas[i]==\"Sleep stage 1\":\n",
        "          et = np.append(et,1)\n",
        "          dat = np.vstack((dat, pDatos[i,:]))\n",
        "        elif pEtiquetas[i]==\"Sleep stage 2\":\n",
        "          et = np.append(et,2)\n",
        "          dat = np.vstack((dat, pDatos[i,:]))\n",
        "        elif pEtiquetas[i]==\"Sleep stage 3\":\n",
        "          et = np.append(et,3)\n",
        "          dat = np.vstack((dat, pDatos[i,:]))\n",
        "        elif pEtiquetas[i]==\"Sleep stage 4\":\n",
        "          et = np.append(et,4)\n",
        "          dat = np.vstack((dat, pDatos[i,:]))\n",
        "        elif pEtiquetas[i]==\"Sleep stage R\":\n",
        "          et = np.append(et,5)\n",
        "          dat = np.vstack((dat, pDatos[i,:]))\n",
        "        else:\n",
        "          pass\n",
        "          #print(\"Hay una clase distinta a las definidas.\")\n",
        "\n",
        "  dat = dat[1:dat.shape[0]]\n",
        "  return dat, et\n",
        "#print(Datos1.shape)\n",
        "#Datos1, Etiquetas1 = eliminarClaseDesconocida(Datos1, Etiquetas)\n",
        "#Datos2, Etiquetas2 = eliminarClaseDesconocida(Datos2, Etiquetas)\n",
        "#Datos3, Etiquetas3 = eliminarClaseDesconocida(Datos3, Etiquetas)\n",
        "#print(Datos1.shape)\n",
        "#np.save(\"Datos\", unosDatos)\n",
        "#np.save(\"Etiquetas\", unosEtiquetas)\n",
        "\n",
        "#print(len(unosEtiquetas))\n",
        "#print(len(unosDatos))"
      ],
      "execution_count": 0,
      "outputs": []
    },
    {
      "cell_type": "markdown",
      "metadata": {
        "id": "hzhUvNhtoToM",
        "colab_type": "text"
      },
      "source": [
        "#Entrenamiento del Modelo"
      ]
    },
    {
      "cell_type": "code",
      "metadata": {
        "id": "EuS9aI-kWy-v",
        "colab_type": "code",
        "colab": {}
      },
      "source": [
        "#unosEtiquetas=np.load(\"drive/My Drive/Etiquetas.npy\")\n",
        "#unosDatos=np.load(\"drive/My Drive/Datos.npy\")\n",
        "np.save(\"drive/My Drive/Datos_Generales_10_19\", Datos_Generales_10_19)\n",
        "#np.save(\"drive/My Drive/Etiquetas\", unosEtiquetas)\n",
        "#np.save(\"drive/My Drive/Etiquetas_10_19\", Etiquetas)\n",
        "Datos1_10_19=Datos1\n",
        "Datos2_10_19=Datos2\n",
        "Datos3_10_19=Datos3\n",
        "\n",
        "#np.save(\"drive/My Drive/Datos1_10_19.npy\",Datos1_10_19)\n",
        "#np.save(\"drive/My Drive/Datos2_10_19.npy\",Datos2_10_19)\n",
        "#np.save(\"drive/My Drive/Datos3_10_19.npy\",Datos3_10_19)\n",
        "\n",
        "#Datos1, unosEtiquetas = eliminarClaseDesconocida(Datos1, unosEtiquetas)\n",
        "\n",
        "#unosDatos = appendDatos(Datos1, Datos2, Datos3)\n",
        "#np.save(\"drive/My Drive/DatosCompletos.npy\", unosDatos)\n",
        "#unosDatos = np.load(\"drive/My Drive/DatosCompletos.npy\")\n",
        "#unosEtiquetas=np.load(\"drive/My Drive/Etiquetas.npy\")"
      ],
      "execution_count": 0,
      "outputs": []
    },
    {
      "cell_type": "markdown",
      "metadata": {
        "id": "ZNDN_jn4GUq2",
        "colab_type": "text"
      },
      "source": [
        "#Implementación en Keras"
      ]
    },
    {
      "cell_type": "markdown",
      "metadata": {
        "id": "Lr8mo_2xZolJ",
        "colab_type": "text"
      },
      "source": [
        "Se separan los datos de entrenamiento y validación"
      ]
    },
    {
      "cell_type": "code",
      "metadata": {
        "id": "hARh2hKqpioi",
        "colab_type": "code",
        "colab": {}
      },
      "source": [
        "x_train, x_test, y_train, y_test = train_test_split(unosDatos, unosEtiquetas , random_state = 0, test_size=0.10)\n",
        "#x_train = np.expand_dims(np.transpose(x_train), axis=3) # reshape (569, 30) to (569, 30, 1) \n",
        "#x_test = np.expand_dims(np.transpose(x_test), axis=3) # reshape (569, 30) to (569, 30, 1) "
      ],
      "execution_count": 0,
      "outputs": []
    },
    {
      "cell_type": "markdown",
      "metadata": {
        "id": "tp7kfuqjTA38",
        "colab_type": "text"
      },
      "source": [
        "Creación del modelo"
      ]
    },
    {
      "cell_type": "code",
      "metadata": {
        "id": "R54HzoQ0LDZ0",
        "colab_type": "code",
        "outputId": "c2f1cae6-4762-4181-c0dd-fee8d2b05fa1",
        "colab": {
          "base_uri": "https://localhost:8080/",
          "height": 446
        }
      },
      "source": [
        "def crearModelo(pTasa, pAlpha, pNumFiltros, pTamFiltros, pTamPooling, pNumNeuronas, pOptimizer):\n",
        "  #Numero de clases\n",
        "  numClases = 4\n",
        "\n",
        "  modelo = Sequential()\n",
        "\n",
        "  #Esto corresponderia a la parte convolucional.\n",
        "  #modelo.add(Conv1D(pNumFiltros[0], int(pTamFiltros[0]), activation = 'relu', input_shape = (3000,1)))\n",
        "  modelo.add(Conv1D(pNumFiltros[0], int(pTamFiltros[0]), activation = 'relu', input_shape = (3000,3)))\n",
        "  #modelo.add(MaxPooling1D(int(pTamPooling[0])))\n",
        "  modelo.add(Conv1D(pNumFiltros[1], int(pTamFiltros[1]), activation = 'relu'))\n",
        "  modelo.add(MaxPooling1D(int(pTamPooling[0])))\n",
        "  modelo.add(Conv1D(pNumFiltros[2], int(pTamFiltros[2]), activation = 'relu'))\n",
        "  modelo.add(Conv1D(pNumFiltros[3], int(pTamFiltros[3]), activation = 'relu'))\n",
        "  #modelo.add(AveragePooling1D(int(pTamPooling[1])))\n",
        "  #modelo.add(Conv1D(pNumFiltros[4], int(pTamFiltros[4]), activation = 'relu'))\n",
        "  #modelo.add(Conv1D(pNumFiltros[5], int(pTamFiltros[5]), activation = 'relu'))\n",
        "  modelo.add(GlobalAveragePooling1D())\n",
        "  #modelo.add(GlobalMaxPooling1D())\n",
        "  #modelo.add(MaxPooling1D(int(pTamPooling[2])))\n",
        "  #modelo.add(Flatten())\n",
        "\n",
        "  #Esto corresponderia a la parte de red neuronal normalita. (Puse cualquier cosa por ahora)\n",
        "  modelo.add(Dropout(0.5))\n",
        "  #modelo.add(Dense(pNumNeuronas[0], activation = 'relu'))\n",
        "  #modelo.add(Dropout(0.5))\n",
        "  #modelo.add(Dense(pNumNeuronas[1], activation = 'relu'))#, activity_regularizer=l2(pAlpha)))\n",
        "  #modelo.add(Dense(pNumNeuronas[2], activation = 'relu', activity_regularizer=l2(pAlpha)))\n",
        "  modelo.add(Dense(numClases, activation = 'softmax'))#, activity_regularizer = l2(pAlpha)))\n",
        "\n",
        "  sgd = optimizers.SGD(lr = pTasa, momentum=0.9)\n",
        "  adam = optimizers.Adam(learning_rate = pTasa)\n",
        "  if pOptimizer == \"adam\":\n",
        "    opt=adam\n",
        "  elif pOptimizer ==\"sgd\":\n",
        "    opt=sgd\n",
        "  elif pOptimizer ==\"rmsprop\":\n",
        "    opt = \"rmsprop\"\n",
        "  \n",
        "  modelo.compile(loss='sparse_categorical_crossentropy', optimizer = opt, metrics = ['sparse_categorical_accuracy'])\n",
        "  #modelo.summary()\n",
        "\n",
        "  return modelo\n",
        "\n",
        "modelo = crearModelo(tasa, alpha, numFiltros, tamFiltros, tamPooling ,numNeuronas, optimizer)\n",
        "modelo.summary()"
      ],
      "execution_count": 28,
      "outputs": [
        {
          "output_type": "stream",
          "text": [
            "Model: \"sequential_2\"\n",
            "_________________________________________________________________\n",
            "Layer (type)                 Output Shape              Param #   \n",
            "=================================================================\n",
            "conv1d_8 (Conv1D)            (None, 2991, 100)         3100      \n",
            "_________________________________________________________________\n",
            "conv1d_9 (Conv1D)            (None, 2982, 100)         100100    \n",
            "_________________________________________________________________\n",
            "max_pooling1d_2 (MaxPooling1 (None, 994, 100)          0         \n",
            "_________________________________________________________________\n",
            "conv1d_10 (Conv1D)           (None, 985, 160)          160160    \n",
            "_________________________________________________________________\n",
            "conv1d_11 (Conv1D)           (None, 976, 160)          256160    \n",
            "_________________________________________________________________\n",
            "global_average_pooling1d_2 ( (None, 160)               0         \n",
            "_________________________________________________________________\n",
            "dropout_2 (Dropout)          (None, 160)               0         \n",
            "_________________________________________________________________\n",
            "dense_2 (Dense)              (None, 4)                 644       \n",
            "=================================================================\n",
            "Total params: 520,164\n",
            "Trainable params: 520,164\n",
            "Non-trainable params: 0\n",
            "_________________________________________________________________\n"
          ],
          "name": "stdout"
        }
      ]
    },
    {
      "cell_type": "code",
      "metadata": {
        "id": "M46eR6ELpaJ2",
        "colab_type": "code",
        "outputId": "1f402562-5fb2-415e-a324-770eb35977b9",
        "colab": {
          "base_uri": "https://localhost:8080/",
          "height": 1000
        }
      },
      "source": [
        "numFiltros = np.array([100, 100, 160, 160, 16, 16])\n",
        "tamFiltros = np.array([10, 10, 10, 10, 10, 10])\n",
        "tamPooling = np.array([3, 3, 3])\n",
        "optimizer=\"adam\"\n",
        "numNeuronas = np.array([30, 20, 10])\n",
        "\n",
        "tasa = 0.001\n",
        "alpha = 0.01\n",
        "\n",
        "modelo = crearModelo(tasa, alpha, numFiltros, tamFiltros, tamPooling ,numNeuronas, optimizer)\n",
        "\n",
        "epocas = 50\n",
        "batchSize = 400\n",
        "hist = modelo.fit(x_train, y_train, verbose = 1, validation_data=(x_test, y_test), epochs = epocas, batch_size = batchSize)\n",
        "\n",
        "graficarHistoria(hist)\n",
        "\n",
        "resultadosEntrenamiento = Resultados(y_train, modelo.predict_classes(x_train))\n",
        "resultadosValidacion = Resultados(y_test, modelo.predict_classes(x_test))\n",
        "\n",
        "print(resultadosEntrenamiento.graficarMatrizConfusion())\n",
        "print(resultadosValidacion.graficarMatrizConfusion())"
      ],
      "execution_count": 29,
      "outputs": [
        {
          "output_type": "stream",
          "text": [
            "Train on 39424 samples, validate on 4381 samples\n",
            "Epoch 1/50\n",
            "39424/39424 [==============================] - 106s 3ms/sample - loss: 1.1786 - sparse_categorical_accuracy: 0.5552 - val_loss: 1.0210 - val_sparse_categorical_accuracy: 0.5960\n",
            "Epoch 2/50\n",
            "39424/39424 [==============================] - 105s 3ms/sample - loss: 1.0319 - sparse_categorical_accuracy: 0.5957 - val_loss: 1.0013 - val_sparse_categorical_accuracy: 0.6085\n",
            "Epoch 3/50\n",
            "39424/39424 [==============================] - 105s 3ms/sample - loss: 1.0077 - sparse_categorical_accuracy: 0.6032 - val_loss: 0.9921 - val_sparse_categorical_accuracy: 0.6113\n",
            "Epoch 4/50\n",
            "39424/39424 [==============================] - 105s 3ms/sample - loss: 0.9894 - sparse_categorical_accuracy: 0.6116 - val_loss: 0.9622 - val_sparse_categorical_accuracy: 0.6259\n",
            "Epoch 5/50\n",
            "39424/39424 [==============================] - 105s 3ms/sample - loss: 0.9697 - sparse_categorical_accuracy: 0.6183 - val_loss: 0.9418 - val_sparse_categorical_accuracy: 0.6263\n",
            "Epoch 6/50\n",
            "39424/39424 [==============================] - 105s 3ms/sample - loss: 0.9588 - sparse_categorical_accuracy: 0.6205 - val_loss: 0.9371 - val_sparse_categorical_accuracy: 0.6238\n",
            "Epoch 7/50\n",
            "39424/39424 [==============================] - 105s 3ms/sample - loss: 0.9506 - sparse_categorical_accuracy: 0.6236 - val_loss: 0.9367 - val_sparse_categorical_accuracy: 0.6266\n",
            "Epoch 8/50\n",
            "39424/39424 [==============================] - 105s 3ms/sample - loss: 0.9445 - sparse_categorical_accuracy: 0.6235 - val_loss: 0.9334 - val_sparse_categorical_accuracy: 0.6300\n",
            "Epoch 9/50\n",
            "39424/39424 [==============================] - 105s 3ms/sample - loss: 0.9424 - sparse_categorical_accuracy: 0.6241 - val_loss: 0.9589 - val_sparse_categorical_accuracy: 0.6211\n",
            "Epoch 10/50\n",
            "39424/39424 [==============================] - 105s 3ms/sample - loss: 0.9359 - sparse_categorical_accuracy: 0.6275 - val_loss: 0.9270 - val_sparse_categorical_accuracy: 0.6243\n",
            "Epoch 11/50\n",
            "39424/39424 [==============================] - 105s 3ms/sample - loss: 0.9289 - sparse_categorical_accuracy: 0.6301 - val_loss: 0.9548 - val_sparse_categorical_accuracy: 0.6179\n",
            "Epoch 12/50\n",
            "39424/39424 [==============================] - 105s 3ms/sample - loss: 0.9232 - sparse_categorical_accuracy: 0.6317 - val_loss: 0.9385 - val_sparse_categorical_accuracy: 0.6188\n",
            "Epoch 13/50\n",
            "39424/39424 [==============================] - 105s 3ms/sample - loss: 0.9228 - sparse_categorical_accuracy: 0.6331 - val_loss: 0.9390 - val_sparse_categorical_accuracy: 0.6206\n",
            "Epoch 14/50\n",
            "39424/39424 [==============================] - 105s 3ms/sample - loss: 0.9206 - sparse_categorical_accuracy: 0.6325 - val_loss: 0.9087 - val_sparse_categorical_accuracy: 0.6414\n",
            "Epoch 15/50\n",
            "39424/39424 [==============================] - 105s 3ms/sample - loss: 0.9128 - sparse_categorical_accuracy: 0.6341 - val_loss: 0.9153 - val_sparse_categorical_accuracy: 0.6364\n",
            "Epoch 16/50\n",
            "39424/39424 [==============================] - 105s 3ms/sample - loss: 0.9131 - sparse_categorical_accuracy: 0.6344 - val_loss: 0.8940 - val_sparse_categorical_accuracy: 0.6419\n",
            "Epoch 17/50\n",
            "39424/39424 [==============================] - 105s 3ms/sample - loss: 0.9051 - sparse_categorical_accuracy: 0.6347 - val_loss: 0.9108 - val_sparse_categorical_accuracy: 0.6380\n",
            "Epoch 18/50\n",
            "39424/39424 [==============================] - 105s 3ms/sample - loss: 0.9013 - sparse_categorical_accuracy: 0.6379 - val_loss: 0.8893 - val_sparse_categorical_accuracy: 0.6469\n",
            "Epoch 19/50\n",
            "39424/39424 [==============================] - 105s 3ms/sample - loss: 0.8966 - sparse_categorical_accuracy: 0.6392 - val_loss: 0.8962 - val_sparse_categorical_accuracy: 0.6375\n",
            "Epoch 20/50\n",
            "39424/39424 [==============================] - 105s 3ms/sample - loss: 0.9019 - sparse_categorical_accuracy: 0.6369 - val_loss: 0.8867 - val_sparse_categorical_accuracy: 0.6469\n",
            "Epoch 21/50\n",
            "39424/39424 [==============================] - 104s 3ms/sample - loss: 0.8923 - sparse_categorical_accuracy: 0.6419 - val_loss: 0.8768 - val_sparse_categorical_accuracy: 0.6535\n",
            "Epoch 22/50\n",
            "39424/39424 [==============================] - 105s 3ms/sample - loss: 0.8876 - sparse_categorical_accuracy: 0.6433 - val_loss: 0.8751 - val_sparse_categorical_accuracy: 0.6526\n",
            "Epoch 23/50\n",
            "39424/39424 [==============================] - 105s 3ms/sample - loss: 0.8880 - sparse_categorical_accuracy: 0.6432 - val_loss: 0.8994 - val_sparse_categorical_accuracy: 0.6451\n",
            "Epoch 24/50\n",
            "39424/39424 [==============================] - 105s 3ms/sample - loss: 0.8840 - sparse_categorical_accuracy: 0.6434 - val_loss: 0.8872 - val_sparse_categorical_accuracy: 0.6496\n",
            "Epoch 25/50\n",
            "39424/39424 [==============================] - 105s 3ms/sample - loss: 0.8821 - sparse_categorical_accuracy: 0.6447 - val_loss: 0.8843 - val_sparse_categorical_accuracy: 0.6508\n",
            "Epoch 26/50\n",
            "39424/39424 [==============================] - 105s 3ms/sample - loss: 0.8770 - sparse_categorical_accuracy: 0.6465 - val_loss: 0.8827 - val_sparse_categorical_accuracy: 0.6467\n",
            "Epoch 27/50\n",
            "39424/39424 [==============================] - 105s 3ms/sample - loss: 0.8715 - sparse_categorical_accuracy: 0.6488 - val_loss: 0.8748 - val_sparse_categorical_accuracy: 0.6588\n",
            "Epoch 28/50\n",
            "39424/39424 [==============================] - 105s 3ms/sample - loss: 0.8733 - sparse_categorical_accuracy: 0.6481 - val_loss: 0.8643 - val_sparse_categorical_accuracy: 0.6606\n",
            "Epoch 29/50\n",
            "39424/39424 [==============================] - 105s 3ms/sample - loss: 0.8731 - sparse_categorical_accuracy: 0.6474 - val_loss: 0.8737 - val_sparse_categorical_accuracy: 0.6576\n",
            "Epoch 30/50\n",
            "39424/39424 [==============================] - 105s 3ms/sample - loss: 0.8625 - sparse_categorical_accuracy: 0.6515 - val_loss: 0.8750 - val_sparse_categorical_accuracy: 0.6540\n",
            "Epoch 31/50\n",
            "39424/39424 [==============================] - 105s 3ms/sample - loss: 0.8621 - sparse_categorical_accuracy: 0.6512 - val_loss: 0.8607 - val_sparse_categorical_accuracy: 0.6617\n",
            "Epoch 32/50\n",
            "39424/39424 [==============================] - 105s 3ms/sample - loss: 0.8579 - sparse_categorical_accuracy: 0.6538 - val_loss: 0.8617 - val_sparse_categorical_accuracy: 0.6594\n",
            "Epoch 33/50\n",
            "39424/39424 [==============================] - 105s 3ms/sample - loss: 0.8545 - sparse_categorical_accuracy: 0.6539 - val_loss: 0.8680 - val_sparse_categorical_accuracy: 0.6551\n",
            "Epoch 34/50\n",
            "39424/39424 [==============================] - 105s 3ms/sample - loss: 0.8521 - sparse_categorical_accuracy: 0.6532 - val_loss: 0.8554 - val_sparse_categorical_accuracy: 0.6610\n",
            "Epoch 35/50\n",
            "39424/39424 [==============================] - 105s 3ms/sample - loss: 0.8438 - sparse_categorical_accuracy: 0.6566 - val_loss: 0.8654 - val_sparse_categorical_accuracy: 0.6615\n",
            "Epoch 36/50\n",
            "39424/39424 [==============================] - 105s 3ms/sample - loss: 0.8495 - sparse_categorical_accuracy: 0.6563 - val_loss: 0.8514 - val_sparse_categorical_accuracy: 0.6615\n",
            "Epoch 37/50\n",
            "39424/39424 [==============================] - 105s 3ms/sample - loss: 0.8423 - sparse_categorical_accuracy: 0.6584 - val_loss: 0.8582 - val_sparse_categorical_accuracy: 0.6613\n",
            "Epoch 38/50\n",
            "39424/39424 [==============================] - 105s 3ms/sample - loss: 0.8324 - sparse_categorical_accuracy: 0.6621 - val_loss: 0.8703 - val_sparse_categorical_accuracy: 0.6448\n",
            "Epoch 39/50\n",
            "39424/39424 [==============================] - 105s 3ms/sample - loss: 0.8360 - sparse_categorical_accuracy: 0.6606 - val_loss: 0.8528 - val_sparse_categorical_accuracy: 0.6540\n",
            "Epoch 40/50\n",
            "39424/39424 [==============================] - 105s 3ms/sample - loss: 0.8366 - sparse_categorical_accuracy: 0.6618 - val_loss: 0.8491 - val_sparse_categorical_accuracy: 0.6594\n",
            "Epoch 41/50\n",
            "39424/39424 [==============================] - 105s 3ms/sample - loss: 0.8259 - sparse_categorical_accuracy: 0.6640 - val_loss: 0.8474 - val_sparse_categorical_accuracy: 0.6592\n",
            "Epoch 42/50\n",
            "39424/39424 [==============================] - 105s 3ms/sample - loss: 0.8208 - sparse_categorical_accuracy: 0.6676 - val_loss: 0.8456 - val_sparse_categorical_accuracy: 0.6626\n",
            "Epoch 43/50\n",
            "39424/39424 [==============================] - 104s 3ms/sample - loss: 0.8158 - sparse_categorical_accuracy: 0.6671 - val_loss: 0.8443 - val_sparse_categorical_accuracy: 0.6622\n",
            "Epoch 44/50\n",
            "39424/39424 [==============================] - 105s 3ms/sample - loss: 0.8176 - sparse_categorical_accuracy: 0.6681 - val_loss: 0.8374 - val_sparse_categorical_accuracy: 0.6645\n",
            "Epoch 45/50\n",
            "39424/39424 [==============================] - 104s 3ms/sample - loss: 0.8118 - sparse_categorical_accuracy: 0.6702 - val_loss: 0.8345 - val_sparse_categorical_accuracy: 0.6679\n",
            "Epoch 46/50\n",
            "39424/39424 [==============================] - 105s 3ms/sample - loss: 0.8094 - sparse_categorical_accuracy: 0.6735 - val_loss: 0.8446 - val_sparse_categorical_accuracy: 0.6613\n",
            "Epoch 47/50\n",
            "39424/39424 [==============================] - 104s 3ms/sample - loss: 0.8101 - sparse_categorical_accuracy: 0.6701 - val_loss: 0.8400 - val_sparse_categorical_accuracy: 0.6606\n",
            "Epoch 48/50\n",
            "39424/39424 [==============================] - 105s 3ms/sample - loss: 0.7991 - sparse_categorical_accuracy: 0.6756 - val_loss: 0.8510 - val_sparse_categorical_accuracy: 0.6601\n",
            "Epoch 49/50\n",
            "39424/39424 [==============================] - 104s 3ms/sample - loss: 0.7967 - sparse_categorical_accuracy: 0.6750 - val_loss: 0.8543 - val_sparse_categorical_accuracy: 0.6617\n",
            "Epoch 50/50\n",
            "39424/39424 [==============================] - 105s 3ms/sample - loss: 0.7900 - sparse_categorical_accuracy: 0.6775 - val_loss: 0.8393 - val_sparse_categorical_accuracy: 0.6654\n"
          ],
          "name": "stdout"
        },
        {
          "output_type": "display_data",
          "data": {
            "image/png": "[encoded data removed]",
            "text/plain": [
              "<Figure size 432x288 with 1 Axes>"
            ]
          },
          "metadata": {
            "tags": []
          }
        },
        {
          "output_type": "stream",
          "text": [
            "[[ 1534   603   200   188]\n",
            " [ 3214 14619   840  1651]\n",
            " [ 1164  3153 10224   660]\n",
            " [   87   305    81   901]]\n",
            "None\n",
            "[[ 141   79   33   32]\n",
            " [ 390 1581  106  178]\n",
            " [ 149  352 1117   83]\n",
            " [  14   42    8   76]]\n",
            "None\n"
          ],
          "name": "stdout"
        }
      ]
    },
    {
      "cell_type": "code",
      "metadata": {
        "id": "TfazZkiWnfcb",
        "colab_type": "code",
        "colab": {}
      },
      "source": [
        "def guardarModelo(pModelo):\n",
        "  modelo_json = pModelo.to_json()\n",
        "\n",
        "  with open(\"drive/My Drive/ModelosExamen2/Modelo.json\", \"w\") as archivo_json:\n",
        "      archivo_json.write(modelo_json)\n",
        "\n",
        "  pModelo.save_weights(\"drive/My Drive/ModelosExamen2/PesosModelo.h5\")\n",
        "\n",
        "def cargarModelo(pRutaModelo, pRutaPesos):\n",
        "  archivo_json = open(pRutaModelo, 'r')\n",
        "  modelo_json = archivo_json.read()\n",
        "  archivo_json.close()\n",
        "  modelo = model_from_json(modelo_json)\n",
        "\n",
        "  modelo.load_weights(pRutaPesos)\n",
        "\n",
        "  return modelo"
      ],
      "execution_count": 0,
      "outputs": []
    },
    {
      "cell_type": "code",
      "metadata": {
        "id": "UCFUKRJooiAF",
        "colab_type": "code",
        "colab": {}
      },
      "source": [
        "rutaModelo = \"drive/My Drive/ModelosExamen2/Modelo.json\"\n",
        "rutaPesos = \"drive/My Drive/ModelosExamen2/PesosModelo.h5\""
      ],
      "execution_count": 0,
      "outputs": []
    },
    {
      "cell_type": "code",
      "metadata": {
        "id": "hgd1izCbpr2B",
        "colab_type": "code",
        "colab": {}
      },
      "source": [
        "guardarModelo(modelo)"
      ],
      "execution_count": 0,
      "outputs": []
    },
    {
      "cell_type": "code",
      "metadata": {
        "id": "uzDIpbwHo9uL",
        "colab_type": "code",
        "colab": {
          "base_uri": "https://localhost:8080/",
          "height": 198
        },
        "outputId": "ea633ade-ef4d-49a0-ca4c-9e73410177bd"
      },
      "source": [
        "modeloCargado = cargarModelo(rutaModelo, rutaPesos)"
      ],
      "execution_count": 7,
      "outputs": [
        {
          "output_type": "stream",
          "text": [
            "WARNING:tensorflow:From /usr/local/lib/python3.6/dist-packages/tensorflow_core/python/ops/init_ops.py:97: calling GlorotUniform.__init__ (from tensorflow.python.ops.init_ops) with dtype is deprecated and will be removed in a future version.\n",
            "Instructions for updating:\n",
            "Call initializer instance with the dtype argument instead of passing it to the constructor\n",
            "WARNING:tensorflow:From /usr/local/lib/python3.6/dist-packages/tensorflow_core/python/ops/init_ops.py:97: calling Zeros.__init__ (from tensorflow.python.ops.init_ops) with dtype is deprecated and will be removed in a future version.\n",
            "Instructions for updating:\n",
            "Call initializer instance with the dtype argument instead of passing it to the constructor\n",
            "WARNING:tensorflow:From /usr/local/lib/python3.6/dist-packages/tensorflow_core/python/ops/resource_variable_ops.py:1630: calling BaseResourceVariable.__init__ (from tensorflow.python.ops.resource_variable_ops) with constraint is deprecated and will be removed in a future version.\n",
            "Instructions for updating:\n",
            "If using Keras pass *_constraint arguments to layers.\n"
          ],
          "name": "stdout"
        }
      ]
    },
    {
      "cell_type": "code",
      "metadata": {
        "id": "Q8yCL4TiDkZA",
        "colab_type": "code",
        "colab": {}
      },
      "source": [
        "numFiltros = np.array([100, 50, 20])\n",
        "tamFiltros = np.array([6, 6, 6])\n",
        "tamPooling = np.array([6, 6, 6])\n",
        "optimizer=\"adam\"\n",
        "numNeuronas = np.array([10, 8, 6])\n",
        "\n",
        "parametros = dict(batch_size = [30],\n",
        "               epochs = [5],\n",
        "               pOptimizer = [\"adam\", \"sgd\"],#,\"rmsprop\"],\n",
        "               pTasa = [0.01],\n",
        "               pAlphas = [0.001],\n",
        "               pNumFiltros = [numFiltros],\n",
        "              pTamFiltros = [tamFiltros],\n",
        "              pTamPooling = [tamPooling],\n",
        "              pNumNeuronas = [numNeuronas]\n",
        "              )"
      ],
      "execution_count": 0,
      "outputs": []
    },
    {
      "cell_type": "code",
      "metadata": {
        "id": "BnjxayYrBy_9",
        "colab_type": "code",
        "colab": {}
      },
      "source": [
        "def GridSearch(pXtrain, pYtrain, pXtest, pYtest, pParameters):\n",
        "  i=0\n",
        "  parameters = []\n",
        "  bestScore = 0\n",
        "  bestModel=None\n",
        "  bestHist = None\n",
        "  contador=0\n",
        "  for k in parametros.keys():\n",
        "    parameters.append(pParameters.get(k))\n",
        "  with progressbar.ProgressBar(max_value=len(list(itertools.product(*parameters)))) as bar:\n",
        "    for p in itertools.product(*parameters):\n",
        "      contador=+1\n",
        "      bar.update(contador)\n",
        "      modelo=crearModelo(p[3],p[4],p[5],p[6],p[7],p[8], p[2])\n",
        "      hist = modelo.fit(pXtrain, pYtrain, verbose = 1, validation_data=(pXtest, pYtest), epochs = p[1], batch_size = p[0])\n",
        "      l, score =modelo.evaluate(pXtest,pYtest)\n",
        "      if score>bestScore:\n",
        "        bestScore = score\n",
        "        bestModel = modelo\n",
        "        bestHist = hist\n",
        "  return bestScore, bestModel, bestHist"
      ],
      "execution_count": 0,
      "outputs": []
    },
    {
      "cell_type": "code",
      "metadata": {
        "id": "SIxa-xRJ9U3s",
        "colab_type": "code",
        "outputId": "b4312a36-e3f4-4b34-a035-7a13c7a8b6ed",
        "colab": {
          "base_uri": "https://localhost:8080/",
          "height": 720
        }
      },
      "source": [
        "bestScore, bestModel, bestHist = GridSearch(x_train,y_train,x_test,y_test,parametros)\n",
        "graficarHistoria(bestHist)"
      ],
      "execution_count": 0,
      "outputs": [
        {
          "output_type": "stream",
          "text": [
            "\r                                                                               \r\rN/A% (0 of 2) |                          | Elapsed Time: 0:00:00 ETA:  --:--:--"
          ],
          "name": "stderr"
        },
        {
          "output_type": "stream",
          "text": [
            "Train on 7977 samples, validate on 887 samples\n",
            "Epoch 1/5\n",
            "7977/7977 [==============================] - 3s 361us/sample - loss: 1.6520 - sparse_categorical_accuracy: 0.3236 - val_loss: 1.6377 - val_sparse_categorical_accuracy: 0.2954\n",
            "Epoch 2/5\n",
            "7977/7977 [==============================] - 2s 302us/sample - loss: 1.6042 - sparse_categorical_accuracy: 0.3412 - val_loss: 1.6478 - val_sparse_categorical_accuracy: 0.2954\n",
            "Epoch 3/5\n",
            "7977/7977 [==============================] - 2s 304us/sample - loss: 1.6057 - sparse_categorical_accuracy: 0.3421 - val_loss: 1.6405 - val_sparse_categorical_accuracy: 0.2954\n",
            "Epoch 4/5\n",
            "7977/7977 [==============================] - 2s 305us/sample - loss: 1.6134 - sparse_categorical_accuracy: 0.3273 - val_loss: 1.6373 - val_sparse_categorical_accuracy: 0.2954\n",
            "Epoch 5/5\n",
            "7977/7977 [==============================] - 2s 307us/sample - loss: 1.6135 - sparse_categorical_accuracy: 0.3273 - val_loss: 1.6402 - val_sparse_categorical_accuracy: 0.2954\n",
            "887/887 [==============================] - 0s 143us/sample - loss: 1.6402 - sparse_categorical_accuracy: 0.2954\n"
          ],
          "name": "stdout"
        },
        {
          "output_type": "stream",
          "text": [
            "\r                                                                               \r\r 50% (1 of 2) |#############             | Elapsed Time: 0:00:13 ETA:   0:00:13"
          ],
          "name": "stderr"
        },
        {
          "output_type": "stream",
          "text": [
            "Train on 7977 samples, validate on 887 samples\n",
            "Epoch 1/5\n",
            "7977/7977 [==============================] - 3s 349us/sample - loss: 1.6346 - sparse_categorical_accuracy: 0.3383 - val_loss: 1.6308 - val_sparse_categorical_accuracy: 0.2965\n",
            "Epoch 2/5\n",
            "7977/7977 [==============================] - 2s 306us/sample - loss: 1.5496 - sparse_categorical_accuracy: 0.3894 - val_loss: 1.5556 - val_sparse_categorical_accuracy: 0.3901\n",
            "Epoch 3/5\n",
            "7977/7977 [==============================] - 2s 302us/sample - loss: 1.4849 - sparse_categorical_accuracy: 0.4159 - val_loss: 1.5129 - val_sparse_categorical_accuracy: 0.3890\n",
            "Epoch 4/5\n",
            "7977/7977 [==============================] - 2s 303us/sample - loss: 1.4540 - sparse_categorical_accuracy: 0.4355 - val_loss: 1.4913 - val_sparse_categorical_accuracy: 0.4002\n",
            "Epoch 5/5\n",
            "7977/7977 [==============================] - 2s 304us/sample - loss: 1.4258 - sparse_categorical_accuracy: 0.4369 - val_loss: 1.4619 - val_sparse_categorical_accuracy: 0.4036\n",
            "887/887 [==============================] - 0s 144us/sample - loss: 1.4619 - sparse_categorical_accuracy: 0.4036\n"
          ],
          "name": "stdout"
        },
        {
          "output_type": "stream",
          "text": [
            "\r                                                                               \r\r100% (2 of 2) |##########################| Elapsed Time: 0:00:27 Time:  0:00:27\n"
          ],
          "name": "stderr"
        },
        {
          "output_type": "display_data",
          "data": {
            "image/png": "[encoded data removed]",
            "text/plain": [
              "<Figure size 432x288 with 1 Axes>"
            ]
          },
          "metadata": {
            "tags": []
          }
        }
      ]
    },
    {
      "cell_type": "code",
      "metadata": {
        "id": "Jx-8FwHyPopv",
        "colab_type": "code",
        "colab": {}
      },
      "source": [
        "backUpEtiquetas = unosEtiquetas\n",
        "def convertirClases(pY):\n",
        "      y = ((pY == 1) + (pY == 2)) + 2*((pY == 3) + (pY == 4)) + 3*(pY == 5)\n",
        "\n",
        "      return y\n",
        "\n",
        "unosEtiquetas = convertirClases(unosEtiquetas)"
      ],
      "execution_count": 0,
      "outputs": []
    },
    {
      "cell_type": "code",
      "metadata": {
        "id": "ckh_fHHNHhJZ",
        "colab_type": "code",
        "outputId": "d219b9dd-cfbe-4c5b-d2b8-3c3b46f6c1f1",
        "colab": {
          "base_uri": "https://localhost:8080/",
          "height": 88
        }
      },
      "source": [
        "print(backUpEtiquetas[10:50].astype(int))\n",
        "print(unosEtiquetas[10:50])"
      ],
      "execution_count": 0,
      "outputs": [
        {
          "output_type": "stream",
          "text": [
            "[1 1 2 2 2 2 3 3 3 3 3 3 3 3 3 3 3 3 3 2 3 4 4 4 4 4 3 4 4 3 3 4 3 3 3 3 4\n",
            " 0 0 0]\n",
            "[1 1 1 1 1 1 2 2 2 2 2 2 2 2 2 2 2 2 2 1 2 2 2 2 2 2 2 2 2 2 2 2 2 2 2 2 2\n",
            " 0 0 0]\n"
          ],
          "name": "stdout"
        }
      ]
    },
    {
      "cell_type": "markdown",
      "metadata": {
        "id": "pN-cEkgDFy3U",
        "colab_type": "text"
      },
      "source": [
        "#Resultados"
      ]
    },
    {
      "cell_type": "code",
      "metadata": {
        "id": "LO5euyGuFxdI",
        "colab_type": "code",
        "colab": {}
      },
      "source": [
        "def graficarHistoria(pHist):\n",
        "  plt.plot(pHist.history['sparse_categorical_accuracy'], label = 'Accuracy Entrenamiento')\n",
        "  plt.plot(pHist.history['val_sparse_categorical_accuracy'], label = 'Accuracy Validacion')\n",
        "  plt.xlabel('Epoca')\n",
        "  plt.ylabel('Accuracy')\n",
        "  plt.title(\"Accuracy vs Epoca\")\n",
        "  plt.legend()\n",
        "  plt.show()"
      ],
      "execution_count": 0,
      "outputs": []
    },
    {
      "cell_type": "code",
      "metadata": {
        "id": "YFH8al18tm-Z",
        "colab_type": "code",
        "colab": {}
      },
      "source": [
        "y_pred_train = modeloCargado.predict_classes(x_train)\n",
        "y_pred_test = modeloCargado.predict_classes(x_test)"
      ],
      "execution_count": 0,
      "outputs": []
    },
    {
      "cell_type": "code",
      "metadata": {
        "id": "7Mt5I00ySoCj",
        "colab_type": "code",
        "colab": {}
      },
      "source": [
        "resultadosEntrenamiento = Resultados(y_train, y_pred_train)\n",
        "resultadosValidacion = Resultados(y_test, y_pred_test)"
      ],
      "execution_count": 0,
      "outputs": []
    },
    {
      "cell_type": "code",
      "metadata": {
        "id": "6aQdP54tHKlv",
        "colab_type": "code",
        "outputId": "e6c52f77-0f73-464a-f803-f5708753dfef",
        "colab": {
          "base_uri": "https://localhost:8080/",
          "height": 295
        }
      },
      "source": [
        "#resultadosEntrenamiento.graficarMatrizConfusion()\n",
        "resultadosValidacion.graficarMatrizConfusion()"
      ],
      "execution_count": 26,
      "outputs": [
        {
          "output_type": "display_data",
          "data": {
            "image/png": "[encoded data removed]",
            "text/plain": [
              "<Figure size 432x288 with 1 Axes>"
            ]
          },
          "metadata": {
            "tags": []
          }
        }
      ]
    },
    {
      "cell_type": "code",
      "metadata": {
        "id": "LZZ3IrzruoyW",
        "colab_type": "code",
        "colab": {}
      },
      "source": [
        ""
      ],
      "execution_count": 0,
      "outputs": []
    }
  ]
}