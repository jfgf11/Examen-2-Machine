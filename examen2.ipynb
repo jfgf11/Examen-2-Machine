{
  "nbformat": 4,
  "nbformat_minor": 0,
  "metadata": {
    "colab": {
      "name": "examen2.ipynb",
      "provenance": [],
      "collapsed_sections": [],
      "toc_visible": true,
      "machine_shape": "hm",
      "include_colab_link": true
    },
    "kernelspec": {
      "name": "python3",
      "display_name": "Python 3"
    },
    "accelerator": "GPU"
  },
  "cells": [
    {
      "cell_type": "markdown",
      "metadata": {
        "id": "view-in-github",
        "colab_type": "text"
      },
      "source": [
        "<a href=\"https://colab.research.google.com/github/jfgf11/Examen-2-Machine/blob/master/examen2.ipynb\" target=\"_parent\"><img src=\"https://colab.research.google.com/assets/colab-badge.svg\" alt=\"Open In Colab\"/></a>"
      ]
    },
    {
      "cell_type": "markdown",
      "metadata": {
        "id": "Geb2T0_TB3BM",
        "colab_type": "text"
      },
      "source": [
        "\n",
        "# Examen 2\n",
        "\n",
        "\n"
      ]
    },
    {
      "cell_type": "markdown",
      "metadata": {
        "id": "NJE5RSTJAVae",
        "colab_type": "text"
      },
      "source": [
        "En este informe se presenta la solucion al Examen Parcial 2 de Machine Learning.\n",
        "En este se debía atacar el problema de clasificación de estados de sueño y entrenar un modelo capaz de predecir si una persona se encuentra Despierta (0), en Sueño Ligero (1), en Sueño Profundo (2) o en Sueño REM (3). Para esto, se utilizó la base de datos de Sleep Cassette Study and Data. Dicha base de datos contaba con 6 señales para diferentes sujetos durante 2 días. Además, esta contaba con una valoración realizada por expertos del estado de sueño en el que cada sujeto se encontraba en ventanas de 30 segundos. Así, el problema se resume en obtener estas señales junto con las etiquetas correctas y construir un clasificador que, a partir de una toma de 30 segundos de las señales de una persona, sea capaz de predecir el estado de sueño en el que se encuentra."
      ]
    },
    {
      "cell_type": "code",
      "metadata": {
        "id": "brhsDHYQokNd",
        "colab_type": "code",
        "outputId": "319466c8-587b-4bd6-bb5d-d023e46205bd",
        "colab": {
          "base_uri": "https://localhost:8080/",
          "height": 132
        }
      },
      "source": [
        "#Se monta el Drive para importar y guardar los datos y modelos.\n",
        "from google.colab import drive\n",
        "drive.mount('/content/drive')#,force_remount = True)"
      ],
      "execution_count": 1,
      "outputs": [
        {
          "output_type": "stream",
          "text": [
            "Go to this URL in a browser: https://accounts.google.com/o/oauth2/auth?client_id=947318989803-6bn6qk8qdgf4n4g3pfee6491hc0brc4i.apps.googleusercontent.com&redirect_uri=urn%3aietf%3awg%3aoauth%3a2.0%3aoob&response_type=code&scope=email%20https%3a%2f%2fwww.googleapis.com%2fauth%2fdocs.test%20https%3a%2f%2fwww.googleapis.com%2fauth%2fdrive%20https%3a%2f%2fwww.googleapis.com%2fauth%2fdrive.photos.readonly%20https%3a%2f%2fwww.googleapis.com%2fauth%2fpeopleapi.readonly\n",
            "\n",
            "Enter your authorization code:\n",
            "··········\n",
            "Mounted at /content/drive\n"
          ],
          "name": "stdout"
        }
      ]
    },
    {
      "cell_type": "markdown",
      "metadata": {
        "id": "nigPT0LkuBmI",
        "colab_type": "text"
      },
      "source": [
        "#Instalación"
      ]
    },
    {
      "cell_type": "code",
      "metadata": {
        "id": "UT9ry2xHBUyV",
        "colab_type": "code",
        "outputId": "1fca10cb-8c2c-4abe-9a53-00d5fe7db085",
        "colab": {
          "base_uri": "https://localhost:8080/",
          "height": 736
        }
      },
      "source": [
        "#Se instalan las librerías que se necesitan.\n",
        "!pip install pyEDFlib\n",
        "!pip install progressbar2\n",
        "!pip install matplotlib --upgrade\n",
        "!pip install h5py"
      ],
      "execution_count": 2,
      "outputs": [
        {
          "output_type": "stream",
          "text": [
            "Collecting pyEDFlib\n",
            "\u001b[?25l  Downloading https://files.pythonhosted.org/packages/bc/8b/47ce5a889e1f6917390ba2328b494424d018cf9c263ab59e14ac851e194f/pyEDFlib-0.1.15.tar.gz (1.1MB)\n",
            "\u001b[K     |████████████████████████████████| 1.1MB 2.8MB/s \n",
            "\u001b[?25hRequirement already satisfied: numpy>=1.9.1 in /usr/local/lib/python3.6/dist-packages (from pyEDFlib) (1.17.4)\n",
            "Building wheels for collected packages: pyEDFlib\n",
            "  Building wheel for pyEDFlib (setup.py) ... \u001b[?25l\u001b[?25hdone\n",
            "  Created wheel for pyEDFlib: filename=pyEDFlib-0.1.15-cp36-cp36m-linux_x86_64.whl size=920126 sha256=5482792f9dfdc0241d40be8082b0499ba433d9e341fc377c13bdf339732408d8\n",
            "  Stored in directory: /root/.cache/pip/wheels/57/e3/8e/ce6236e9ada08b8ff91ef922c7418dbd66f1182dfbb22f8579\n",
            "Successfully built pyEDFlib\n",
            "Installing collected packages: pyEDFlib\n",
            "Successfully installed pyEDFlib-0.1.15\n",
            "Requirement already satisfied: progressbar2 in /usr/local/lib/python3.6/dist-packages (3.38.0)\n",
            "Requirement already satisfied: python-utils>=2.3.0 in /usr/local/lib/python3.6/dist-packages (from progressbar2) (2.3.0)\n",
            "Requirement already satisfied: six in /usr/local/lib/python3.6/dist-packages (from progressbar2) (1.12.0)\n",
            "Collecting matplotlib\n",
            "\u001b[?25l  Downloading https://files.pythonhosted.org/packages/4e/11/06958a2b895a3853206dea1fb2a5b11bf044f626f90745987612af9c8f2c/matplotlib-3.1.2-cp36-cp36m-manylinux1_x86_64.whl (13.1MB)\n",
            "\u001b[K     |████████████████████████████████| 13.1MB 2.9MB/s \n",
            "\u001b[?25hRequirement already satisfied, skipping upgrade: python-dateutil>=2.1 in /usr/local/lib/python3.6/dist-packages (from matplotlib) (2.6.1)\n",
            "Requirement already satisfied, skipping upgrade: cycler>=0.10 in /usr/local/lib/python3.6/dist-packages (from matplotlib) (0.10.0)\n",
            "Requirement already satisfied, skipping upgrade: numpy>=1.11 in /usr/local/lib/python3.6/dist-packages (from matplotlib) (1.17.4)\n",
            "Requirement already satisfied, skipping upgrade: pyparsing!=2.0.4,!=2.1.2,!=2.1.6,>=2.0.1 in /usr/local/lib/python3.6/dist-packages (from matplotlib) (2.4.5)\n",
            "Requirement already satisfied, skipping upgrade: kiwisolver>=1.0.1 in /usr/local/lib/python3.6/dist-packages (from matplotlib) (1.1.0)\n",
            "Requirement already satisfied, skipping upgrade: six>=1.5 in /usr/local/lib/python3.6/dist-packages (from python-dateutil>=2.1->matplotlib) (1.12.0)\n",
            "Requirement already satisfied, skipping upgrade: setuptools in /usr/local/lib/python3.6/dist-packages (from kiwisolver>=1.0.1->matplotlib) (41.6.0)\n",
            "\u001b[31mERROR: albumentations 0.1.12 has requirement imgaug<0.2.7,>=0.2.5, but you'll have imgaug 0.2.9 which is incompatible.\u001b[0m\n",
            "Installing collected packages: matplotlib\n",
            "  Found existing installation: matplotlib 3.1.1\n",
            "    Uninstalling matplotlib-3.1.1:\n",
            "      Successfully uninstalled matplotlib-3.1.1\n",
            "Successfully installed matplotlib-3.1.2\n"
          ],
          "name": "stdout"
        },
        {
          "output_type": "display_data",
          "data": {
            "application/vnd.colab-display-data+json": {
              "pip_warning": {
                "packages": [
                  "matplotlib",
                  "mpl_toolkits"
                ]
              }
            }
          },
          "metadata": {
            "tags": []
          }
        },
        {
          "output_type": "stream",
          "text": [
            "Requirement already satisfied: h5py in /usr/local/lib/python3.6/dist-packages (2.8.0)\n",
            "Requirement already satisfied: numpy>=1.7 in /usr/local/lib/python3.6/dist-packages (from h5py) (1.17.4)\n",
            "Requirement already satisfied: six in /usr/local/lib/python3.6/dist-packages (from h5py) (1.12.0)\n"
          ],
          "name": "stdout"
        }
      ]
    },
    {
      "cell_type": "markdown",
      "metadata": {
        "id": "-BNRjiy0hckX",
        "colab_type": "text"
      },
      "source": [
        "#Librerías"
      ]
    },
    {
      "cell_type": "code",
      "metadata": {
        "id": "dbliV9ktoI5F",
        "colab_type": "code",
        "outputId": "b54ecff1-3a6c-49ce-d981-977c72e255fa",
        "colab": {
          "base_uri": "https://localhost:8080/",
          "height": 75
        }
      },
      "source": [
        "#Se importan las librerías requeridas.\n",
        "#Se deben primero instalar las librerías que hacen falta con la celda en la\n",
        "#sección de Instalación.\n",
        "%tensorflow_version 1.x\n",
        "import tensorflow as tf\n",
        "import tensorflow.keras as keras\n",
        "\n",
        "from tensorflow.keras import Sequential\n",
        "from tensorflow.keras.layers import Dense\n",
        "from tensorflow.keras.layers import Dropout\n",
        "from tensorflow.keras.layers import Conv1D\n",
        "from tensorflow.keras.layers import MaxPooling1D\n",
        "from tensorflow.keras.layers import AveragePooling1D\n",
        "from tensorflow.keras.layers import GlobalAveragePooling1D\n",
        "from tensorflow.keras.layers import GlobalMaxPooling1D\n",
        "from tensorflow.keras.layers import Flatten\n",
        "from tensorflow.keras.layers import concatenate\n",
        "from tensorflow.keras.layers import Input\n",
        "from tensorflow.keras.layers import LSTM\n",
        "from tensorflow.keras.layers import Reshape\n",
        "from tensorflow.keras.layers import BatchNormalization\n",
        "from tensorflow.keras.layers import Activation\n",
        "from tensorflow.keras import optimizers\n",
        "from tensorflow.keras.regularizers import l2\n",
        "from tensorflow.keras.wrappers.scikit_learn import KerasClassifier\n",
        "from tensorflow.keras.models import model_from_json\n",
        "from tensorflow.keras.models import Model\n",
        "from tensorflow.keras.utils import model_to_dot\n",
        "from tensorflow.keras.utils import plot_model\n",
        "from IPython.display import SVG\n",
        "\n",
        "import pandas as pd\n",
        "import pyedflib as pyedf\n",
        "import h5py\n",
        "import numpy as np\n",
        "import matplotlib.pyplot as plt\n",
        "import os\n",
        "import time\n",
        "from tqdm import tqdm\n",
        "import seaborn as sns\n",
        "import progressbar\n",
        "\n",
        "#Se recomienda utilizar la version 3.1.2 de matplotlib.\n",
        "#Si no se esta usando esta version, se debe reiniciar el runtime y volver a importar\n",
        "#las librerías.\n",
        "import matplotlib.pyplot as plt\n",
        "%matplotlib inline\n",
        "\n",
        "import sklearn as sk\n",
        "from sklearn.model_selection import train_test_split\n",
        "from sklearn.model_selection import GridSearchCV\n",
        "from sklearn.metrics import confusion_matrix \n",
        "from sklearn.metrics import f1_score\n",
        "from sklearn.metrics import precision_score\n",
        "from sklearn.metrics import recall_score\n",
        "from sklearn.metrics import classification_report\n",
        "from sklearn.utils.class_weight import compute_class_weight\n",
        "\n",
        "from imblearn.over_sampling import SMOTE\n",
        "from imblearn.combine import SMOTETomek\n",
        "from imblearn.over_sampling import RandomOverSampler\n",
        "\n",
        "import itertools"
      ],
      "execution_count": 1,
      "outputs": [
        {
          "output_type": "stream",
          "text": [
            "/usr/local/lib/python3.6/dist-packages/sklearn/externals/six.py:31: DeprecationWarning: The module is deprecated in version 0.21 and will be removed in version 0.23 since we've dropped support for Python 2.7. Please rely on the official version of six (https://pypi.org/project/six/).\n",
            "  \"(https://pypi.org/project/six/).\", DeprecationWarning)\n"
          ],
          "name": "stderr"
        }
      ]
    },
    {
      "cell_type": "markdown",
      "metadata": {
        "id": "NG1AdmN0FjVA",
        "colab_type": "text"
      },
      "source": [
        "#Clases"
      ]
    },
    {
      "cell_type": "code",
      "metadata": {
        "id": "rT-Z0AiyFiq-",
        "colab_type": "code",
        "colab": {}
      },
      "source": [
        "#Clase utilizada para presentar los resultados de los modelos.\n",
        "#En esta se incluye: una grafica de la historia de entrenamiento y validación,\n",
        "#calculo de las metricas de accuracy, precision, recall y f1 con promedio macro,\n",
        "#construccion de reporte de las metricas, grafica de la matriz de confusion,\n",
        "#y un grafica en el tiempo de los estados de sueño.\n",
        "class Resultados:\n",
        "    def __init__(self, p_y_pred, p_y_true, pHist, pModelo, pId):\n",
        "        self.y_pred = p_y_pred\n",
        "        self.y_true = p_y_true\n",
        "        self.hist = pHist\n",
        "        self.modelo = pModelo\n",
        "        self.iden = pId\n",
        "\n",
        "    def graficarMatrizConfusion(self):\n",
        "      cm = confusion_matrix(self.y_true, self.y_pred)\n",
        "      \n",
        "      plt.figure(figsize=(8,8))\n",
        "\n",
        "      ax = sns.heatmap(cm, annot = True, cbar = False);\n",
        "      \n",
        "      ax.xaxis.tick_top()\n",
        "      ax.xaxis.set_label_position('top')\n",
        "      \n",
        "      plt.xlabel(\"Clase Prediccion\")\n",
        "      plt.ylabel(\"Clase Verdadera\")\n",
        "      plt.title(\"Matriz de Confusion\")\n",
        "\n",
        "      plt.show()\n",
        "      plt.savefig(\"drive/My Drive/DatosExamen2/results/MatrizConfusion_\" + self.iden + \".png\")\n",
        "\n",
        "    def graficarHistoria(self):\n",
        "      plt.plot(self.hist.history['sparse_categorical_accuracy'], label = 'Accuracy Entrenamiento')\n",
        "      plt.plot(self.hist.history['val_sparse_categorical_accuracy'], label = 'Accuracy Validacion')\n",
        "      plt.xlabel('Epoca')\n",
        "      plt.ylabel('Accuracy')\n",
        "      plt.title(\"Accuracy vs Epoca\")\n",
        "      plt.legend()\n",
        "      plt.show()\n",
        "\n",
        "    def calcularError(self):\n",
        "      error = np.sum(self.y_pred != self.y_true)\n",
        "      error = error/len(self.y_pred)\n",
        "\n",
        "      return error\n",
        "\n",
        "    def calcularF1(self):\n",
        "      f1 = f1_score(self.y_true, self.y_pred, average = 'micro')\n",
        "      return f1\n",
        "\n",
        "    def calcularPrecision(self):\n",
        "      precision = precision_score(self.y_true, self.y_pred, average = 'micro')\n",
        "      return precision\n",
        "\n",
        "    def calcularRecall(self):\n",
        "      recall = recall_score(self.y_true, self.y_pred, average = 'micro')\n",
        "      return recall\n",
        "\n",
        "    def darReporte(self):\n",
        "      print(classification_report(self.y_true, self.y_pred, labels = np.arange(0, max(self.y_true)+1)))\n",
        "\n",
        "    def graficarPrediccionNoche(self, pX, p_y_true):\n",
        "      x1 = pX[0]\n",
        "      x2 = pX[1]\n",
        "      \n",
        "      x1 = x1[np.array([p_y_true != \"Sleep stage ?\"])[0,:,0], :, :]\n",
        "      x2 = x2[np.array([p_y_true != \"Sleep stage ?\"])[0,:,0], :, :]\n",
        "\n",
        "      y_true = p_y_true[p_y_true != \"Sleep stage ?\"]\n",
        "      y_true = ((y_true == \"Sleep stage 1\") + (y_true == \"Sleep stage 2\")) + 2*((y_true == \"Sleep stage 3\") + (y_true == \"Sleep stage 4\")) + 3*(y_true == \"Sleep stage R\")\n",
        "\n",
        "      y_prob = modelo.predict([x1, x2])\n",
        "      y_pred = y_prob.argmax(axis = -1)\n",
        "      y_pred = ((y_pred == 1) + (y_pred == 2)) + 2*((y_pred == 3) + (y_pred == 4)) + 3*(y_pred == 5)\n",
        "\n",
        "      t = np.arange(0, len(y_true))*30\n",
        "      \n",
        "      plt.figure(figsize=(25,10))\n",
        "      plt.plot(t, y_true, label = \"Verdadero\")\n",
        "      plt.plot(t, y_pred, label = \"Prediccion\")\n",
        "\n",
        "      plt.title(\"Grafica de Predicciones y Verdaderas\")\n",
        "      plt.xlabel(\"Tiempo (Segundos)\")\n",
        "      plt.ylabel(\"Estado de Sueño\")\n",
        "      plt.legend()\n",
        "\n",
        "      plt.show()\n",
        "      plt.savefig('drive/My Drive/DatosExamen2/results/GraficaNoche_' + self.iden + '.png', bbox_inches='tight')"
      ],
      "execution_count": 0,
      "outputs": []
    },
    {
      "cell_type": "markdown",
      "metadata": {
        "id": "Aivhu85eoNx8",
        "colab_type": "text"
      },
      "source": [
        "#Lectura de los Datos"
      ]
    },
    {
      "cell_type": "markdown",
      "metadata": {
        "id": "yUIdSU94Cjur",
        "colab_type": "text"
      },
      "source": [
        "El primer paso era aquel de obtener las 6 señales correspondientes a cada paciente en ventanas de 30 segundos y almacenarlos junto con su correspondiente etiqueta. Cada una de estas señales fue muestreada a una frecuencia específica, motivo por el cual se tenían más datos de aquellas muestreadas a frecuencias más altas. Más adelante se explicará que el tipo de arquitectura de la red neuronal escogida permite utilizar datos con diferentes frecuencias de muestreo. No obstante, era importante conocer la frecuencia de muestreo de cada señal para lograr construir la ventana de 30 segundos correctamente. Estas 6 señales se indican a continuación junto con la frecuencia de muestreo.\n",
        "1. EEG Fpz-Cz (100Hz)\n",
        "2. EEG Pz-Oz (100Hz)\n",
        "3. EOG horizontal (100Hz)\n",
        "4. Respiración Oral-nasal (1Hz)\n",
        "5. Temperatura Rectal (1Hz)\n",
        "6. EMG submental (1Hz)\n",
        "\n",
        "Así, en esta sección se realizó el proceso de leer cada una de las 6 señales para los 153 archivos y almacenarla en una matriz de NumPy. Dicha matriz de NumPy también se guardó por facilidad."
      ]
    },
    {
      "cell_type": "code",
      "metadata": {
        "id": "-gpIuWCCQlwR",
        "colab_type": "code",
        "colab": {}
      },
      "source": [
        "#Esta celda permite importar las matrices de NumPy almacenadas en la ruta indicada por la variable rutaDatos.\n",
        "rutaDatos = \"drive/My Drive/DatosExamen2/processed\"\n",
        "\n",
        "#Se recomienda correr la siguiente celda y no esta para obtener los datos agrupados.\n",
        "\n",
        "#Esta funcion junta cada uno de los 15 archivos .npy de DatosCompletos en una sola matriz de NumPy\n",
        "#para su posterior preparacion.\n",
        "def importarDatos():\n",
        "  datos = np.zeros((1,3000))\n",
        "  datos2 = np.zeros((1,30, 3))\n",
        "  etiquetas = np.zeros(1)\n",
        "\n",
        "  p = 0\n",
        "\n",
        "  with progressbar.ProgressBar(max_value = 15) as bar:\n",
        "    for i in range(0,2):\n",
        "        for j in range(0,10):\n",
        "          if i == 1 and j == 5:\n",
        "            datos = datos[1:len(datos)]\n",
        "            datos2 = datos2[1:len(datos2)]\n",
        "            etiquetas = etiquetas[1:len(etiquetas)]\n",
        "            return datos, datos2, etiquetas\n",
        "\n",
        "          numInferior = str(i) + str(j) + \"0\"\n",
        "          numSuperior = str(i) + str(j) + \"9\"\n",
        "\n",
        "          temp1 = np.load(rutaDatos + \"/DatosCompletos_\" + numInferior  + \"_\" + numSuperior + \".npy\")\n",
        "          temp2 = np.load(rutaDatos + \"/DatosCompletos2_\" + numInferior  + \"_\" + numSuperior + \".npy\")\n",
        "          temp3 = np.load(rutaDatos + \"/Etiquetas_\" + numInferior  + \"_\" + numSuperior + \".npy\")\n",
        "\n",
        "          datos = np.vstack((datos, temp1))\n",
        "          datos2 = np.vstack((datos2, temp2))\n",
        "          etiquetas = np.append(etiquetas, temp3)\n",
        "          \n",
        "          p+=1\n",
        "          bar.update(p)\n",
        "        \n",
        "  datos = datos[1:len(datos)]\n",
        "  datos2 = datos2[1:len(datos2)]\n",
        "  etiquetas = etiquetas[1:len(etiquetas)]\n",
        "  \n",
        "  return datos, etiquetas #datos2, etiquetas\n",
        "\n",
        "unosDatos, unosDatos2, unosEtiquetas = importarDatos()"
      ],
      "execution_count": 0,
      "outputs": []
    },
    {
      "cell_type": "code",
      "metadata": {
        "id": "KGWok7K1SBs9",
        "colab_type": "code",
        "outputId": "4bf63fc2-0782-4270-cd08-8e90ed3e7836",
        "colab": {
          "base_uri": "https://localhost:8080/",
          "height": 55
        }
      },
      "source": [
        "#En esta celda se cargan los datos totales correspondientes a 130 archivos de informacion.\n",
        "#Se recomienda correr esta celda y no la anterior para obtener los datos agrupados.\n",
        "start = time.time()\n",
        "\n",
        "#En esta variable se almacenan los datos correspondientes a las primeras 3 señales muestreadas a una frecuencia de 100Hz.\n",
        "unosDatos = np.load(\"drive/My Drive/DatosExamen2/processed/DatosTotalesCorregidos_020_149.npy\")\n",
        "\n",
        "#En esta variable se almacenan los datos correspondientes a las segundas 3 señales muestreadas a una frecuencia de 1Hz.\n",
        "unosDatos2 = np.load(\"drive/My Drive/DatosExamen2/processed/DatosTotalesCorregidos2_020_149.npy\")\n",
        "\n",
        "#En esta variable se almacenan las etiquetas asociadas a cada ventana de 30 segundos.\n",
        "unosEtiquetas = np.load(\"drive/My Drive/DatosExamen2/processed/EtiquetasTotalesCorregidas_020_149.npy\")\n",
        "\n",
        "print(\"Tiempo: {} segundos\".format(time.time() - start))"
      ],
      "execution_count": 3,
      "outputs": [
        {
          "output_type": "stream",
          "text": [
            "Tiempo: 255.85004329681396 segundos\n",
            "(124643, 30, 3)\n"
          ],
          "name": "stdout"
        }
      ]
    },
    {
      "cell_type": "code",
      "metadata": {
        "id": "Y9fVcGp6pV7W",
        "colab_type": "code",
        "outputId": "06c1d5e0-b83c-4bf0-a25f-773f23a668d0",
        "colab": {
          "base_uri": "https://localhost:8080/",
          "height": 93
        }
      },
      "source": [
        "#Esta celda permite leer los archivos de la base de datos.\n",
        "#Para esto, se indica en la variable inicioNumArchivos con cual archivo comenzar y\n",
        "#en numArchivos cuantos archivos leer.\n",
        "\n",
        "filenameDatos = \"drive/My Drive/sleep-cassette\"\n",
        "filenameDescripcion = \"drive/My Drive/SC-subjects.xls\"\n",
        "\n",
        "ArchivoLightsOff=pd.read_excel(filenameDescripcion, sheet_name='Blad1')\n",
        "\n",
        "TiempoLightsOff=ArchivoLightsOff[\"LightsOff\"].values\n",
        "TiempoLightsOffSegundos=TiempoLightsOff\n",
        "HorasSuenio=8\n",
        "\n",
        "for i in range (0, len(TiempoLightsOff)):\n",
        "  segundos=int(TiempoLightsOff[i].hour) * 3600 + int(TiempoLightsOff[i].minute) * 60\n",
        "  TiempoLightsOffSegundos[i]=segundos\n",
        "\n",
        "listaArchivos = os.listdir(filenameDatos)\n",
        "\n",
        "listaHypnograms = [i for i in listaArchivos if \"Hypnogram\" in i] \n",
        "listaPSGs = [i for i in listaArchivos if \"PSG\" in i]\n",
        "\n",
        "listaHypnograms.sort()\n",
        "listaPSGs.sort()\n",
        "\n",
        "start = time.time()\n",
        "\n",
        "Datos1=np.zeros(3000)\n",
        "Datos2=np.zeros(3000)\n",
        "Datos3=np.zeros(3000)\n",
        "\n",
        "Etiquetas=[0]\n",
        "\n",
        "p = 0\n",
        "inicioNumArchivos = 20\n",
        "numArchivos = 130\n",
        "\n",
        "with progressbar.ProgressBar(max_value=numArchivos*960) as bar:\n",
        "  for i in range(inicioNumArchivos,inicioNumArchivos+numArchivos):#len(listaHypnograms)):\n",
        "\n",
        "    hyp = listaHypnograms[i]\n",
        "    psg = listaPSGs[i]\n",
        "\n",
        "    fileHyp = pyedf.EdfReader(filenameDatos + \"/\" + hyp)\n",
        "    filePSG = pyedf.EdfReader(filenameDatos + \"/\" + psg)\n",
        "\n",
        "    hypTime, hypDur, hypEtiqueta = fileHyp.readAnnotations()\n",
        "\n",
        "    tiempoComienzo = fileHyp.starttime_hour*3600+fileHyp.starttime_minute*60+fileHyp.starttime_second\n",
        "    offset=TiempoLightsOffSegundos[i]-tiempoComienzo\n",
        "    if offset<0:\n",
        "      offset+=24*3600\n",
        "    LimiteSuperior=offset+HorasSuenio*3600\n",
        "    ventana=30\n",
        "    tiempo=offset\n",
        "    j=0\n",
        "    referenciaSenial=0\n",
        "    FrecuenciaMuestreo = filePSG.getSampleFrequency(referenciaSenial)\n",
        "\n",
        "    while tiempo<LimiteSuperior:\n",
        "      if tiempo>=hypTime[j+1]:\n",
        "        j+=1\n",
        "        \n",
        "      # ventanaMuestra = np.round(FrecuenciaMuestreo * ventana)\n",
        "      # muestraInicial = np.round(FrecuenciaMuestreo * tiempo)\n",
        "      # senial1=filePSG.readSignal(0)\n",
        "      # senial2=filePSG.readSignal(1)\n",
        "      # senial3=filePSG.readSignal(2)\n",
        "      # senialActual1=senial1[muestraInicial:muestraInicial+ventanaMuestra]\n",
        "      # senialActual2=senial2[muestraInicial:muestraInicial+ventanaMuestra]\n",
        "      # senialActual3=senial3[muestraInicial:muestraInicial+ventanaMuestra]\n",
        "      \n",
        "      etiquetaActual=hypEtiqueta[j]\n",
        "      \n",
        "      # Datos1=np.vstack((Datos1,senialActual1))\n",
        "      # Datos2=np.vstack((Datos2,senialActual2))\n",
        "      # Datos3=np.vstack((Datos3,senialActual3))\n",
        "\n",
        "      Etiquetas=np.vstack((Etiquetas,etiquetaActual))\n",
        "      tiempo+=ventana\n",
        "      p+=1\n",
        "      bar.update(p)\n",
        "\n",
        "    fileHyp._close() \n",
        "    filePSG._close()\n",
        "#print(listaHypnograms)\n",
        "#print(listaPSGs)\n",
        "\n",
        "Etiquetas = Etiquetas[1:len(Etiquetas)]"
      ],
      "execution_count": 0,
      "outputs": [
        {
          "output_type": "stream",
          "text": [
            "\r                                                                               \r\rN/A% (0 of 124800) |                     | Elapsed Time: 0:00:00 ETA:  --:--:--"
          ],
          "name": "stderr"
        },
        {
          "output_type": "stream",
          "text": [
            "Importando datos...\n"
          ],
          "name": "stdout"
        },
        {
          "output_type": "stream",
          "text": [
            "100% (124800 of 124800) |################| Elapsed Time: 0:05:08 Time:  0:05:08\n"
          ],
          "name": "stderr"
        },
        {
          "output_type": "stream",
          "text": [
            "Termino.\n",
            "Tiempo: 309.40125346183777 segundos.\n"
          ],
          "name": "stdout"
        }
      ]
    },
    {
      "cell_type": "code",
      "metadata": {
        "id": "zTq6m6HZqImV",
        "colab_type": "code",
        "outputId": "7edbe63c-361a-48bc-b49a-b8e1faebfaba",
        "colab": {
          "base_uri": "https://localhost:8080/",
          "height": 55
        }
      },
      "source": [
        "def appendDatos(pDatos1, pDatos2, pDatos3):\n",
        "  Datos_Generales=np.zeros((pDatos1.shape[0],3000,3))\n",
        "\n",
        "  for i in progressbar.progressbar(range(0,pDatos1.shape[0])):\n",
        "    \n",
        "    Datos_Generales[i,:,0]=pDatos1[i]\n",
        "    Datos_Generales[i,:,1]=pDatos2[i]\n",
        "    Datos_Generales[i,:,2]=pDatos3[i]\n",
        "    \n",
        "  return Datos_Generales\n",
        "\n",
        "Datos1=np.zeros(3000)\n",
        "Datos2=np.zeros(3000)\n",
        "Datos3=np.zeros(3000)\n",
        "\n",
        "for i in range(0, 2):\n",
        "  for j in range(0, 10):\n",
        "    if i == 0 and j > 1 or i == 1 and j < 5:\n",
        "      intervalo = str(i) + str(j) + \"0_\" + str(i) + str(j) + \"9\"\n",
        "\n",
        "      temp1 = np.load(\"drive/My Drive/DatosExamen2/raw/Datos1_\" + intervalo + \"_raw.npy\")\n",
        "      temp2 = np.load(\"drive/My Drive/DatosExamen2/raw/Datos2_\" + intervalo + \"_raw.npy\")\n",
        "      temp3 = np.load(\"drive/My Drive/DatosExamen2/raw/Datos3_\" + intervalo + \"_raw.npy\")\n",
        "\n",
        "      Datos1 = np.vstack((Datos1,temp1))\n",
        "      Datos2 = np.vstack((Datos2,temp2))\n",
        "      Datos3 = np.vstack((Datos3,temp3))\n",
        "\n",
        "Datos1 = Datos1[1:len(Datos1)]\n",
        "Datos2 = Datos2[1:len(Datos2)]\n",
        "Datos3 = Datos3[1:len(Datos3)]\n",
        "\n",
        "DatosCompletosRaw = appendDatos(Datos1, Datos2, Datos3)\n",
        "\n",
        "print(DatosCompletosRaw.shape)"
      ],
      "execution_count": 0,
      "outputs": [
        {
          "output_type": "stream",
          "text": [
            "100% (124800 of 124800) |################| Elapsed Time: 0:00:02 Time:  0:00:02\n"
          ],
          "name": "stderr"
        },
        {
          "output_type": "stream",
          "text": [
            "(124800, 3000, 3)\n"
          ],
          "name": "stdout"
        }
      ]
    },
    {
      "cell_type": "code",
      "metadata": {
        "id": "CNspWeclOM_Z",
        "colab_type": "code",
        "colab": {}
      },
      "source": [
        "np.save(\"drive/My Drive/DatosExamen2/raw/DatosCompletos_020_149_raw\", DatosCompletosRaw)\n",
        "np.save(\"drive/My Drive/DatosExamen2/raw/EtiquetasCompletas_020_149_raw\", Etiquetas)"
      ],
      "execution_count": 0,
      "outputs": []
    },
    {
      "cell_type": "code",
      "metadata": {
        "id": "BLMrNyBNQGsd",
        "colab_type": "code",
        "colab": {}
      },
      "source": [
        "# np.save(\"drive/My Drive/DatosExamen2/processed/DatosTotalesCorregidos_020_149\", unosDatos)\n",
        "np.save(\"drive/My Drive/DatosExamen2/processed/EtiquetasTotalesCorregidas_020_149\", unosEtiquetas)"
      ],
      "execution_count": 0,
      "outputs": []
    },
    {
      "cell_type": "code",
      "metadata": {
        "id": "vqNHjkpQM14h",
        "colab_type": "code",
        "colab": {}
      },
      "source": [
        "#Reemplazar este por la nueva manera de hacerlo.\n",
        "def eliminarClaseDesconocida(pDatos, pEtiquetas):\n",
        "  et = []\n",
        "  dat = np.zeros((3000,3))\n",
        "\n",
        "  with progressbar.ProgressBar(max_value=numArchivos*960) as bar:\n",
        "    for i in range(0, len(pEtiquetas)):\n",
        "      bar.update(i)\n",
        "      if pEtiquetas[i] != 'Sleep stage ?':\n",
        "        \n",
        "        if pEtiquetas[i]==\"Sleep stage W\":\n",
        "          et = np.append(et,0)\n",
        "          dat = np.vstack((dat, pDatos[i,:,:]))\n",
        "        elif pEtiquetas[i]==\"Sleep stage 1\":\n",
        "          et = np.append(et,1)\n",
        "          dat = np.vstack((dat, pDatos[i,:,:]))\n",
        "        elif pEtiquetas[i]==\"Sleep stage 2\":\n",
        "          et = np.append(et,2)\n",
        "          dat = np.vstack((dat, pDatos[i,:,:]))\n",
        "        elif pEtiquetas[i]==\"Sleep stage 3\":\n",
        "          et = np.append(et,3)\n",
        "          dat = np.vstack((dat, pDatos[i,:,:]))\n",
        "        elif pEtiquetas[i]==\"Sleep stage 4\":\n",
        "          et = np.append(et,4)\n",
        "          dat = np.vstack((dat, pDatos[i,:,:]))\n",
        "        elif pEtiquetas[i]==\"Sleep stage R\":\n",
        "          et = np.append(et,5)\n",
        "          dat = np.vstack((dat, pDatos[i,:,:]))\n",
        "        else:\n",
        "          pass\n",
        "          #print(\"Hay una clase distinta a las definidas.\")\n",
        "\n",
        "  dat = dat[1:dat.shape[0]]\n",
        "  return dat, et\n",
        "\n",
        "Datos, Etiquetas = eliminarClaseDesconocida(DatosCompletosRaw, Etiquetas)\n",
        "print(Datos.shape)\n",
        "np.save(\"content/drive/My Drive/DatosExamen2/processed/DatosTotalesCorregidos_020_149\", Datos)\n",
        "np.save(\"content/drive/My Drive/DatosExamen2/processed/EtiquetasTotalesCorregidas_020_149\", Etiquetas)"
      ],
      "execution_count": 0,
      "outputs": []
    },
    {
      "cell_type": "markdown",
      "metadata": {
        "id": "YZvoS1t1pKc-",
        "colab_type": "text"
      },
      "source": [
        "#Preparación de Datos"
      ]
    },
    {
      "cell_type": "markdown",
      "metadata": {
        "id": "Z2jA95FxGOoB",
        "colab_type": "text"
      },
      "source": [
        "El siguiente paso es preparar los datos extraídos para el entrenamiento del modelo. La arquitectura de red neuronal escogida (una red convolucional de una dimensión) se encarga de realizar el preprocesamiento de los datos, motivo por el cual se escogió no utilizar ningún tipo de preprocesamiento como Normalización, Blanqueamiento o Análisis de Componentes Principales. Sin embargo, al verificar el número de muestras de cada clase se puede ver que el problema no es balanceado. Si este desbalance no se corrige, puede que el modelo no aprenda correctamente a clasificar algunas clases y no funcione de manera adecuada. Por lo tanto, se definieron tres estrategias generales para corregir el efecto del desbalance de las clases.\n",
        "\n",
        "1. Asignación de pesos a cada clase\n",
        "\n",
        "En esta se asignó un peso a cada clase, a partir de la proporción de datos de cada clase con respecto al total. Así, a aquellas clases con menor cantidad de datos se les especifica un peso más alto que las demás clases con mayores cantidades de datos. \n",
        "\n",
        "2. Realizar un Submuestreo de las clases mayoritarias\n",
        "\n",
        "\n",
        "3. Realizar un Sobremuestreo de las clases minoritarias\n",
        "\n",
        "Esta estrategia consistió en aumentar la cantidad de datos de las clases minoritarias siguiendo algún procedimiento de Sobremuestreo. Se definieron dos procedimientos: muestrar aleatoriamente con reemplazo y utilizar SMOTE. Este segundo presentó tiempos muy largos de procesamiento para grandes cantidades de datos, motivo por el cual únicamente se utilizó el método de muestreo con reemplazo.\n",
        "\n"
      ]
    },
    {
      "cell_type": "code",
      "metadata": {
        "id": "-Shz6TlvpNrC",
        "colab_type": "code",
        "colab": {}
      },
      "source": [
        "#En esta celda se inicializan los objetos que van a permitir realizar oversampling y undersampling en el caso de SMOTETomek\n",
        "#sobre los datos.\n",
        "\n",
        "smote = SMOTE(ratio = 'not majority', k_neighbors = 3)\n",
        "smotetomek = SMOTETomek(ratio = 'not majority')\n",
        "randomOverSampler = RandomOverSampler(sampling_strategy = 'not majority', random_state = 0)"
      ],
      "execution_count": 0,
      "outputs": []
    },
    {
      "cell_type": "code",
      "metadata": {
        "id": "hARh2hKqpioi",
        "colab_type": "code",
        "colab": {}
      },
      "source": [
        "#Esta funcion convierte las etiquetas a las 4 clases indicadas en el enunciado.\n",
        "def convertirClases(pY):\n",
        "      y = ((pY == 1) + (pY == 2)) + 2*((pY == 3) + (pY == 4)) + 3*(pY == 5)\n",
        "      return y"
      ],
      "execution_count": 0,
      "outputs": []
    },
    {
      "cell_type": "code",
      "metadata": {
        "id": "6ET6r1jQtijD",
        "colab_type": "code",
        "colab": {}
      },
      "source": [
        "unosEtiquetas = convertirClases(unosEtiquetas)"
      ],
      "execution_count": 0,
      "outputs": []
    },
    {
      "cell_type": "code",
      "metadata": {
        "id": "SAz3soFAU1uh",
        "colab_type": "code",
        "outputId": "01c53e0a-2265-4ab1-de20-3a5521013a3d",
        "colab": {
          "base_uri": "https://localhost:8080/",
          "height": 55
        }
      },
      "source": [
        "#Esta celda separa aleatoriamente los datos en aquellos de entrenamiento y de validacion.\n",
        "print(\"Separando datos en entrenamiento y validacion...\")\n",
        "\n",
        "x_train1, x_test1, y_train, y_test = train_test_split(unosDatos, unosEtiquetas , random_state = 0, test_size=0.20)\n",
        "x_train2, x_test2 = train_test_split(unosDatos2, unosEtiquetas , random_state = 0, test_size=0.20)[0:2]\n",
        "\n",
        "print(\"Termino.\")\n",
        "\n",
        "#Aqui se eliminan las variables de los datos sin separar para liberar memoria.\n",
        "unosDatos = None\n",
        "unosDatos2 = None\n",
        "unosEtiquetas = None"
      ],
      "execution_count": 5,
      "outputs": [
        {
          "output_type": "stream",
          "text": [
            "Separando datos en entrenamiento y validacion...\n",
            "Termino.\n"
          ],
          "name": "stdout"
        }
      ]
    },
    {
      "cell_type": "code",
      "metadata": {
        "colab_type": "code",
        "id": "OFzdlIEq61qW",
        "outputId": "f7b53891-08f2-45bf-d98d-ce963fdadb30",
        "colab": {
          "base_uri": "https://localhost:8080/",
          "height": 93
        }
      },
      "source": [
        "#En esta celda se realiza el proceso de Oversampling mediante un muestreo con reemplazo de todas las clases excepto la mayoritaria.\n",
        "#Este procedimiento unicamente se realiza para los datos de entrenamiento.\n",
        "\n",
        "x_train1 = np.reshape(x_train1, (-1, 9000),'F')\n",
        "x_train2 = np.reshape(x_train2, (-1, 90), 'F')\n",
        "\n",
        "print(\"Oversampling...\")\n",
        "\n",
        "x_train2 = randomOverSampler.fit_resample(x_train2, y_train)[0]\n",
        "x_train1, y_train = randomOverSampler.fit_resample(x_train1, y_train)\n",
        "\n",
        "print(\"Reshaping...\")\n",
        "\n",
        "x_train1 = np.reshape(x_train1, (-1, 3000, 3), 'F')\n",
        "x_train2 = np.reshape(x_train2, (-1, 30, 3), 'F')"
      ],
      "execution_count": 6,
      "outputs": [
        {
          "output_type": "stream",
          "text": [
            "Oversampling...\n",
            "Reshaping...\n",
            "(262434, 3000, 3)\n",
            "(262434, 30, 3)\n"
          ],
          "name": "stdout"
        }
      ]
    },
    {
      "cell_type": "code",
      "metadata": {
        "id": "H2x9BxUw3mTz",
        "colab_type": "code",
        "colab": {}
      },
      "source": [
        "#En esta celda se calculan los pesos de cada clase, a partir de la cantidad de cada una en los datos de entrenamiento.\n",
        "pesosClases = compute_class_weight(class_weight = 'balanced', classes = np.array([0, 1, 2, 3, 4, 5]), y = y_train)\n",
        "\n",
        "pesosClases = {0: pesosClases[0],\n",
        "               1: pesosClases[1],\n",
        "               2: pesosClases[2],\n",
        "               3: pesosClases[3],\n",
        "               4: pesosClases[4],\n",
        "               5: pesosClases[5]}"
      ],
      "execution_count": 0,
      "outputs": []
    },
    {
      "cell_type": "code",
      "metadata": {
        "id": "IkPiWYxAobAI",
        "colab_type": "code",
        "outputId": "e8d563ae-a71e-4c6c-c05b-7e9262ba4b28",
        "colab": {
          "base_uri": "https://localhost:8080/",
          "height": 131
        }
      },
      "source": [
        "#Esta es una funcion que se utiliza para verificar la cantidad de cada clase en las etiquetas entregadas por parametro.\n",
        "#En el caso de los datos de entrenamiento con oversampling, la cantidad deberia ser la misma para cada una.\n",
        "#En el caso de los datos de validacion, la cantidad de cada una va a diferir.\n",
        "def encontrarCantidadClase(pEtiquetas, pClase):\n",
        "  return np.sum(pEtiquetas == pClase)\n",
        "\n",
        "#Las siguientes lineas son un recorrido simple que \n",
        "for i in range(0,6):  \n",
        "  print(\"Cantidad de datos de clase {}: {}\".format(i,encontrarCantidadClase(y_train, i)))"
      ],
      "execution_count": 4,
      "outputs": [
        {
          "output_type": "stream",
          "text": [
            "43739\n",
            "43739\n",
            "43739\n",
            "43739\n",
            "43739\n",
            "43739\n"
          ],
          "name": "stdout"
        }
      ]
    },
    {
      "cell_type": "code",
      "metadata": {
        "id": "b0b50Qyy2Dlc",
        "colab_type": "code",
        "colab": {}
      },
      "source": [
        "#Esta celda carga los datos con oversampling de un archivo .npz. \n",
        "#En este archivo se guarda cada matriz correspondiente a los datos de entrenamiento y de validacion.\n",
        "datosOversampled = np.load(\"drive/My Drive/DatosExamen2/processed/DatosOversampledConvertidos.npz\")\n",
        "\n",
        "x_train1 = datosOversampled['x_train1']\n",
        "x_train2 = datosOversampled['x_train2']\n",
        "\n",
        "x_test1 = datosOversampled['x_test1']\n",
        "x_test2 = datosOversampled['x_test2']\n",
        "\n",
        "y_train = datosOversampled['y_train']\n",
        "y_test = datosOversampled['y_test']\n",
        "\n",
        "datosOversampled = None\n",
        "del datosOversampled"
      ],
      "execution_count": 0,
      "outputs": []
    },
    {
      "cell_type": "code",
      "metadata": {
        "id": "Jjh2mv0WuHPU",
        "colab_type": "code",
        "colab": {}
      },
      "source": [
        "#Esta linea almacena los datos con oversampling en un archivo .npz llamado DatosOversampled.\n",
        "#Al utilizar el codigo de la celda anterior se pueden cargar los datos de este archivo.\n",
        "np.savez_compressed(\"drive/My Drive/DatosExamen2/processed/DatosOversampled\", x_train1 = x_train1, x_test1 = x_test1, x_train2 = x_train2, x_test2 = x_test2, y_train = y_train, y_test = y_test)"
      ],
      "execution_count": 0,
      "outputs": []
    },
    {
      "cell_type": "markdown",
      "metadata": {
        "id": "hzhUvNhtoToM",
        "colab_type": "text"
      },
      "source": [
        "#Entrenamiento del Modelo"
      ]
    },
    {
      "cell_type": "markdown",
      "metadata": {
        "id": "SCRQcbwaKRKg",
        "colab_type": "text"
      },
      "source": [
        "Como modelo se escogió utilizar una Red Convolucional de una dimensión. Esta red consiste de dos partes: una en donde se aprenden descriptores de los datos y una segunda en donde se predice la clase, a partir de los descriptores entregados por la primera. \n",
        "\n",
        "1. Primera Sección\n",
        "\n",
        "Como se mencionó anteriormente, esta va a ser la sección encargada de aprender descriptores de los datos. Este proceso se realiza mediante un proceso repetitivo de convolución seguida por una capa de Pooling. Así, en la parte de convolución se definen unos fitros que recorren los datos y retornan una representación mejor de los datos. Esta es reducida con un proceso de Pooling y nuevamente entregado a otra capa de convolución. Este procedimiento se repite varias veces. El número de veces que se repite el procedimiento se consideró como un parámetro más del modelo, así como realizar algunas variaciones sobre este procedimiento como incluir 2 capas de convolución seguidas de una de Pooling.\n",
        "\n",
        "2. Segunda Sección\n",
        "\n",
        "En esta se toman los descriptores entregados por la primera sección y se realiza la predicción de la clase. Esta red corresponde a una arquitectura más convencional. "
      ]
    },
    {
      "cell_type": "markdown",
      "metadata": {
        "id": "ZNDN_jn4GUq2",
        "colab_type": "text"
      },
      "source": [
        "#Implementación en Keras"
      ]
    },
    {
      "cell_type": "markdown",
      "metadata": {
        "id": "tp7kfuqjTA38",
        "colab_type": "text"
      },
      "source": [
        "Creación del modelo"
      ]
    },
    {
      "cell_type": "code",
      "metadata": {
        "id": "TfazZkiWnfcb",
        "colab_type": "code",
        "colab": {}
      },
      "source": [
        "#Estas funciones permiten guardar y cargar un modelo, a partir de las rutas indicadas por parametro.\n",
        "def guardarModelo(pModelo, pRutaModelo, pRutaPesos, pRutaDiagrama):\n",
        "  modelo_json = pModelo.to_json()\n",
        "\n",
        "  with open(pRutaModelo, \"w\") as archivo_json:\n",
        "      archivo_json.write(modelo_json)\n",
        "\n",
        "  pModelo.save_weights(pRutaPesos)\n",
        "\n",
        "  plot_model(pModelo, to_file = pRutaDiagrama, show_shapes = True)\n",
        "\n",
        "def cargarModelo(pRutaModelo, pRutaPesos):\n",
        "  archivo_json = open(pRutaModelo, 'r')\n",
        "  modelo_json = archivo_json.read()\n",
        "  archivo_json.close()\n",
        "  modelo = model_from_json(modelo_json)\n",
        "\n",
        "  modelo.load_weights(pRutaPesos)\n",
        "\n",
        "  return modelo"
      ],
      "execution_count": 0,
      "outputs": []
    },
    {
      "cell_type": "code",
      "metadata": {
        "id": "R54HzoQ0LDZ0",
        "colab_type": "code",
        "colab": {}
      },
      "source": [
        "#Es el numero de clase.\n",
        "#Si se convierten las clases que se leen de los archivos se tienen 4, de lo \n",
        "#contrario se tienen 6. Esto es importante, ya que la capa de salida de todos los\n",
        "#modelos utilizados requiere tener el mismo numero de clases que neuronas.\n",
        "numClases = 4\n",
        "\n",
        "#A continuacion se presentan 4 diferente funciones que construyen diferentes tipos de arquitecturas\n",
        "#para las redes neuronales empleadas para solucionar el problema de clasificacion.\n",
        "#Los diagramas que muestran cada arquitectura se pueden ver en los archivos de soporte al informe.\n",
        "\n",
        "def crearModelo(pTasa, pAlpha, pNumFiltros, pTamFiltros, pTamPooling, pNumNeuronas, pOptimizer):\n",
        "  modelo = Sequential()\n",
        "\n",
        "  #Esto corresponderia a la parte convolucional.\n",
        "  modelo.add(Conv1D(pNumFiltros[0], int(pTamFiltros[0]), activation = 'relu', input_shape = (3000,3)))\n",
        "  # modelo.add(BatchNormalization())\n",
        "  # modelo.add(Activation('relu'))\n",
        "  modelo.add(MaxPooling1D(int(pTamPooling[0])))\n",
        "\n",
        "  modelo.add(Conv1D(pNumFiltros[1], int(pTamFiltros[1]), activation = 'relu'))\n",
        "  # modelo.add(BatchNormalization())\n",
        "  # modelo.add(Activation('relu'))\n",
        "  modelo.add(MaxPooling1D(int(pTamPooling[1])))\n",
        "  \n",
        "  modelo.add(Conv1D(pNumFiltros[2], int(pTamFiltros[2]), activation = 'relu'))\n",
        "  # modelo.add(BatchNormalization())\n",
        "  # modelo.add(Activation('relu'))\n",
        "  modelo.add(MaxPooling1D(int(pTamPooling[2])))\n",
        "\n",
        "  modelo.add(Conv1D(pNumFiltros[3], int(pTamFiltros[3]), activation = 'relu'))\n",
        "  # modelo.add(BatchNormalization())\n",
        "  # modelo.add(Activation('relu'))\n",
        "\n",
        "  #modelo.add(AveragePooling1D(int(pTamPooling[1])))\n",
        "\n",
        "  # modelo.add(GlobalAveragePooling1D())\n",
        "  #modelo.add(MaxPooling1D(int(pTamPooling[2])))\n",
        "  modelo.add(Flatten())\n",
        "\n",
        "  #Esto corresponderia a la parte de red neuronal normalita. (Puse cualquier cosa por ahora)\n",
        "  #modelo.add(Dropout(0.5))\n",
        "  #modelo.add(Dense(pNumNeuronas[0], activation = 'relu'))\n",
        " \n",
        "  \n",
        "  # modelo.add(Dense(pNumNeuronas[1], activation = 'relu'))#, activity_regularizer=l2(pAlpha)))\n",
        "  # modelo.add(Dense(pNumNeuronas[2], activation = 'relu', activity_regularizer=l2(pAlpha)))\n",
        "  #modelo.add(Dense(pNumNeuronas[3], activation = 'relu', activity_regularizer=l2(pAlpha)))\n",
        "\n",
        "  modelo.add(Dense(numClases, activation = 'softmax'))#, activity_regularizer = l2(pAlpha)))\n",
        "  \n",
        "  #modelo.add(Dense(numClases, activation = 'softmax'))\n",
        "\n",
        "  sgd = optimizers.SGD(lr = pTasa, momentum=0.9)\n",
        "  adam = optimizers.Adam(learning_rate = pTasa)\n",
        "  if pOptimizer == \"adam\":\n",
        "    opt=adam\n",
        "  elif pOptimizer ==\"sgd\":\n",
        "    opt=sgd\n",
        "  elif pOptimizer ==\"rmsprop\":\n",
        "    opt = \"rmsprop\"\n",
        "  \n",
        "  modelo.compile(loss='sparse_categorical_crossentropy', optimizer = opt, metrics = ['sparse_categorical_accuracy'])\n",
        "  modelo.summary()\n",
        "\n",
        "  return modelo\n",
        "\n",
        "def crearModelo2(pTasa, pAlpha, pNumFiltros, pTamFiltros, pTamPooling, pNumNeuronas, pOptimizer):\n",
        "\n",
        "  capaEntrada = Input(shape = (3000,3))\n",
        "  # pooling0 = MaxPooling1D(int(pTamPooling[0]), padding='same')(capaEntrada)\n",
        "  # pooling0 = Reshape((-1, int(pNumFiltros[0])))(pooling0)\n",
        "  \n",
        "  capa1 = Conv1D(pNumFiltros[0], int(pTamFiltros[0]), padding='same', activation = 'relu')(capaEntrada)\n",
        "  pooling1 = MaxPooling1D(int(pTamPooling[1]), padding='same')(capa1)\n",
        "\n",
        "  capa2 = Conv1D(pNumFiltros[1], int(pTamFiltros[1]), padding='same', activation = 'relu')(capa1)\n",
        "  pooling2 = MaxPooling1D(int(pTamPooling[2]), padding='same')(capa2)\n",
        "\n",
        "  capa3 = Conv1D(pNumFiltros[2], int(pTamFiltros[2]), padding='same', activation = 'relu')(capa2)\n",
        "  pooling3 = MaxPooling1D(int(pTamPooling[3]), padding='same')(capa3)\n",
        "\n",
        "  capas = concatenate([pooling1, pooling2, pooling3], axis=1)\n",
        "  # capas = Flatten()(capas)\n",
        "  #capas = GlobalMaxPooling1D()(capas)\n",
        "  capas = GlobalAveragePooling1D()(capas)\n",
        "  # capas = Dropout(0.5)(capas)\n",
        "\n",
        "  # capa4 = LSTM(pNumNeuronas[0])(capas)\n",
        "  \n",
        "  #capa4 = Dense(pNumNeuronas[0], activation='relu')(capas)\n",
        "  #capaSalida = Dense(numClases, activation='softmax')(capaSalida)\n",
        "  capaSalida = Dense(numClases, activation='softmax')(capas)\n",
        "\n",
        "  modelo = Sequential()\n",
        "  modelo.add(Model(capaEntrada, capaSalida))\n",
        "\n",
        "  sgd = optimizers.SGD(lr = pTasa)#, momentum=0.9)\n",
        "  adam = optimizers.Adam(learning_rate = pTasa)\n",
        "  if pOptimizer == \"adam\":\n",
        "    opt=adam\n",
        "  elif pOptimizer ==\"sgd\":\n",
        "    opt=sgd\n",
        "  elif pOptimizer ==\"rmsprop\":\n",
        "    opt = \"rmsprop\"\n",
        "  \n",
        "  modelo.compile(loss='sparse_categorical_crossentropy', optimizer = opt, metrics = ['sparse_categorical_accuracy'])\n",
        "  modelo.layers[0].summary()\n",
        "  \n",
        "  return modelo\n",
        "\n",
        "def crearModelo3(pTasa, pAlpha, pNumFiltros, pTamFiltros, pTamPooling, pNumNeuronas, pOptimizer):\n",
        "  capaEntrada1 = Input(shape = (3000,3), name = 'entrada1')\n",
        "  capaEntrada2 = Input(shape = (30, 3), name = 'entrada2')\n",
        "\n",
        "  capa1_1 = Conv1D(pNumFiltros[0], int(pTamFiltros[0]), activation = 'relu', padding='same')(capaEntrada1)\n",
        "\n",
        "  pooling1_1 = MaxPooling1D(int(pTamPooling[0]), padding='same')(capa1_1)\n",
        "\n",
        "  capa2_1 = Conv1D(pNumFiltros[1], int(pTamFiltros[1]), activation = 'relu', padding='same')(pooling1_1)\n",
        "\n",
        "  pooling2_1 = MaxPooling1D(int(pTamPooling[1]), padding='same')(capa2_1)\n",
        "\n",
        "  capa3_1 = Conv1D(pNumFiltros[2], int(pTamFiltros[2]), activation = 'relu', padding='same')(pooling2_1)\n",
        "\n",
        "  pooling3_1 = MaxPooling1D(int(pTamPooling[2]), padding='same')(capa3_1)\n",
        "\n",
        "  capa1_2 = Conv1D(pNumFiltros[5], int(pTamFiltros[5]), activation = 'relu', padding='same')(capaEntrada2)\n",
        "  pooling1_2 = MaxPooling1D(int(pTamPooling[5]), padding='same')(capa1_2)\n",
        "  \n",
        "  capas1 = concatenate([pooling1_1, pooling2_1, pooling3_1])\n",
        "\n",
        "  capas1 = GlobalAveragePooling1D()(capas1)\n",
        "\n",
        "  capas = concatenate([capas1, pooling1_2])\n",
        "\n",
        "  # capas = MaxPooling1D(int(pTamPooling[3]))(capas)\n",
        "  # capas = Dropout(0.5)(capas)\n",
        "  # capas = Dense(pNumNeuronas[0], activation = 'softmax')(capas)\n",
        "  capaSalida = Dense(numClases, activation = 'softmax')(capas)\n",
        "\n",
        "  #modelo = Sequential()\n",
        "  modelo = Model(inputs = [capaEntrada1, capaEntrada2], outputs = capaSalida)\n",
        "\n",
        "  sgd = optimizers.SGD(lr = pTasa)#, momentum=0.9)\n",
        "  adam = optimizers.Adam(learning_rate = pTasa)\n",
        "  if pOptimizer == \"adam\":\n",
        "    opt=adam\n",
        "  elif pOptimizer ==\"sgd\":\n",
        "    opt=sgd\n",
        "  elif pOptimizer ==\"rmsprop\":\n",
        "    opt = \"rmsprop\"\n",
        "  \n",
        "  modelo.compile(loss='sparse_categorical_crossentropy', optimizer = opt, metrics = ['sparse_categorical_accuracy'])\n",
        "  modelo.summary()\n",
        "\n",
        "  return modelo\n",
        "\n",
        "def crearModelo4(pTasa, pAlpha, pNumFiltros, pTamFiltros, pTamPooling, pNumNeuronas, pOptimizer):\n",
        "  capaEntrada1 = Input(shape = (3000,3), name = 'entrada1')\n",
        "  capaEntrada2 = Input(shape = (30, 3), name = 'entrada2')\n",
        "\n",
        "  capa1_1 = Conv1D(pNumFiltros[0], int(pTamFiltros[0]), activation = 'relu', padding='same')(capaEntrada1)\n",
        "\n",
        "  pooling1_1 = MaxPooling1D(int(pTamPooling[0]), padding='same')(capa1_1)\n",
        "\n",
        "  capa2_1 = Conv1D(pNumFiltros[1], int(pTamFiltros[1]), activation = 'relu', padding='same')(capa1_1)\n",
        "\n",
        "  pooling2_1 = MaxPooling1D(int(pTamPooling[1]), padding='same')(capa2_1)\n",
        "\n",
        "  capa3_1 = Conv1D(pNumFiltros[2], int(pTamFiltros[2]), activation = 'relu', padding='same')(capa2_1)\n",
        "\n",
        "  pooling3_1 = MaxPooling1D(int(pTamPooling[2]), padding='same')(capa3_1)\n",
        "\n",
        "  capa1_2 = Conv1D(pNumFiltros[5], int(pTamFiltros[5]), activation = 'relu', padding='same')(capaEntrada2)\n",
        "  pooling1_2 = MaxPooling1D(int(pTamPooling[5]), padding='same')(capa1_2)\n",
        "  flatten2 = Flatten()(pooling1_2)\n",
        "\n",
        "  capas1 = concatenate([pooling1_1, pooling2_1, pooling3_1])\n",
        "\n",
        "  capas1 = GlobalAveragePooling1D()(capas1)\n",
        "\n",
        "  capas = concatenate([capas1, flatten2])\n",
        "\n",
        "  # capas = Dense(pNumNeuronas[0], activation = 'relu')(capas)\n",
        "  capaSalida = Dense(numClases, activation = 'softmax')(capas)\n",
        "\n",
        "  #modelo = Sequential()\n",
        "  modelo = Model(inputs = [capaEntrada1, capaEntrada2], outputs = capaSalida)\n",
        "\n",
        "  sgd = optimizers.SGD(lr = pTasa)#, momentum=0.9)\n",
        "  adam = optimizers.Adam(learning_rate = pTasa)\n",
        "  if pOptimizer == \"adam\":\n",
        "    opt=adam\n",
        "  elif pOptimizer ==\"sgd\":\n",
        "    opt=sgd\n",
        "  elif pOptimizer ==\"rmsprop\":\n",
        "    opt = \"rmsprop\"\n",
        "  \n",
        "  modelo.compile(loss='sparse_categorical_crossentropy', optimizer = opt, metrics = ['sparse_categorical_accuracy'])\n",
        "  modelo.summary()\n",
        "\n",
        "  return modelo\n"
      ],
      "execution_count": 0,
      "outputs": []
    },
    {
      "cell_type": "code",
      "metadata": {
        "id": "8uQr-vM_x5xK",
        "colab_type": "code",
        "outputId": "3bf31b87-ffca-4dfd-e958-b2105b17c12f",
        "colab": {
          "base_uri": "https://localhost:8080/",
          "height": 1000
        }
      },
      "source": [
        "#Esta celda construye los modelos, a partir de los parametros especificados por cada una de las siguientes variables.\n",
        "\n",
        "#Es el numero de filtros que cada capa convolucional utiliza.\n",
        "numFiltros = np.array([100, 100, 100, 100, 100, 10])\n",
        "\n",
        "#Es el tamaño de los filtros utilizados en cada capa convolucional.\n",
        "tamFiltros = np.array([3, 5, 10, 8, 8, 5])\n",
        "\n",
        "#Es el tamaño de cada capa de Pooling.\n",
        "tamPooling = np.array([3, 3, 3, 3, 3, 3])\n",
        "\n",
        "#Es el numero de neuronas en cada capa de la red neuronal que sigue despues de la parte convolucional.\n",
        "numNeuronas = np.array([10, 20, 10])\n",
        "\n",
        "#Es el tipo de optimizador a utilizar.\n",
        "#Se pueden especificar: \"sgd\", \"adam\" o \"rmsprop\"\n",
        "optimizer=\"adam\"\n",
        "\n",
        "#Es la tasa de aprendizaje del optimizador.\n",
        "tasa = 0.001\n",
        "\n",
        "#Es el parametro de regularizacion a utilizar.\n",
        "alpha = 0.01\n",
        "\n",
        "#En esta linea se crea el modelo con los parametros indicados.\n",
        "#Al ejecutar esta linea tambien se muestra un resumen de la red, indicando el numero\n",
        "#total de parametros y las capas incluidas.\n",
        "modelo = crearModelo4(tasa, alpha, numFiltros, tamFiltros, tamPooling, numNeuronas, optimizer)\n",
        "\n",
        "#Esta linea muestra un diagrama de la red neuronal.\n",
        "SVG(model_to_dot(modelo, show_shapes = True, expand_nested = True, dpi = 60).create(prog='dot', format='svg'))"
      ],
      "execution_count": 15,
      "outputs": [
        {
          "output_type": "stream",
          "text": [
            "Model: \"model_1\"\n",
            "__________________________________________________________________________________________________\n",
            "Layer (type)                    Output Shape         Param #     Connected to                     \n",
            "==================================================================================================\n",
            "entrada1 (InputLayer)           [(None, 3000, 3)]    0                                            \n",
            "__________________________________________________________________________________________________\n",
            "conv1d_4 (Conv1D)               (None, 3000, 100)    1000        entrada1[0][0]                   \n",
            "__________________________________________________________________________________________________\n",
            "conv1d_5 (Conv1D)               (None, 3000, 100)    50100       conv1d_4[0][0]                   \n",
            "__________________________________________________________________________________________________\n",
            "conv1d_6 (Conv1D)               (None, 3000, 100)    100100      conv1d_5[0][0]                   \n",
            "__________________________________________________________________________________________________\n",
            "entrada2 (InputLayer)           [(None, 30, 3)]      0                                            \n",
            "__________________________________________________________________________________________________\n",
            "max_pooling1d_4 (MaxPooling1D)  (None, 1000, 100)    0           conv1d_4[0][0]                   \n",
            "__________________________________________________________________________________________________\n",
            "max_pooling1d_5 (MaxPooling1D)  (None, 1000, 100)    0           conv1d_5[0][0]                   \n",
            "__________________________________________________________________________________________________\n",
            "max_pooling1d_6 (MaxPooling1D)  (None, 1000, 100)    0           conv1d_6[0][0]                   \n",
            "__________________________________________________________________________________________________\n",
            "conv1d_7 (Conv1D)               (None, 30, 10)       160         entrada2[0][0]                   \n",
            "__________________________________________________________________________________________________\n",
            "concatenate_2 (Concatenate)     (None, 1000, 300)    0           max_pooling1d_4[0][0]            \n",
            "                                                                 max_pooling1d_5[0][0]            \n",
            "                                                                 max_pooling1d_6[0][0]            \n",
            "__________________________________________________________________________________________________\n",
            "max_pooling1d_7 (MaxPooling1D)  (None, 10, 10)       0           conv1d_7[0][0]                   \n",
            "__________________________________________________________________________________________________\n",
            "global_average_pooling1d_1 (Glo (None, 300)          0           concatenate_2[0][0]              \n",
            "__________________________________________________________________________________________________\n",
            "flatten_1 (Flatten)             (None, 100)          0           max_pooling1d_7[0][0]            \n",
            "__________________________________________________________________________________________________\n",
            "concatenate_3 (Concatenate)     (None, 400)          0           global_average_pooling1d_1[0][0] \n",
            "                                                                 flatten_1[0][0]                  \n",
            "__________________________________________________________________________________________________\n",
            "dense_1 (Dense)                 (None, 4)            1604        concatenate_3[0][0]              \n",
            "==================================================================================================\n",
            "Total params: 152,964\n",
            "Trainable params: 152,964\n",
            "Non-trainable params: 0\n",
            "__________________________________________________________________________________________________\n"
          ],
          "name": "stdout"
        },
        {
          "output_type": "execute_result",
          "data": {
            "text/plain": [
              "<IPython.core.display.SVG object>"
            ],
            "image/svg+xml": "<svg height=\"599pt\" viewBox=\"0.00 0.00 1228.00 719.00\" width=\"1023pt\" xmlns=\"http://www.w3.org/2000/svg\" xmlns:xlink=\"http://www.w3.org/1999/xlink\">\n<g class=\"graph\" id=\"graph0\" transform=\"scale(.8333 .8333) rotate(0) translate(4 715)\">\n<title>G</title>\n<polygon fill=\"#ffffff\" points=\"-4,4 -4,-715 1224,-715 1224,4 -4,4\" stroke=\"transparent\"/>\n<!-- 139866459485408 -->\n<g class=\"node\" id=\"node1\">\n<title>139866459485408</title>\n<polygon fill=\"none\" points=\"482,-664.5 482,-710.5 770,-710.5 770,-664.5 482,-664.5\" stroke=\"#000000\"/>\n<text fill=\"#000000\" font-family=\"Times,serif\" font-size=\"14.00\" text-anchor=\"middle\" x=\"550.5\" y=\"-683.8\">entrada1: InputLayer</text>\n<polyline fill=\"none\" points=\"619,-664.5 619,-710.5 \" stroke=\"#000000\"/>\n<text fill=\"#000000\" font-family=\"Times,serif\" font-size=\"14.00\" text-anchor=\"middle\" x=\"648\" y=\"-695.3\">input:</text>\n<polyline fill=\"none\" points=\"619,-687.5 677,-687.5 \" stroke=\"#000000\"/>\n<text fill=\"#000000\" font-family=\"Times,serif\" font-size=\"14.00\" text-anchor=\"middle\" x=\"648\" y=\"-672.3\">output:</text>\n<polyline fill=\"none\" points=\"677,-664.5 677,-710.5 \" stroke=\"#000000\"/>\n<text fill=\"#000000\" font-family=\"Times,serif\" font-size=\"14.00\" text-anchor=\"middle\" x=\"723.5\" y=\"-695.3\">[(?, 3000, 3)]</text>\n<polyline fill=\"none\" points=\"677,-687.5 770,-687.5 \" stroke=\"#000000\"/>\n<text fill=\"#000000\" font-family=\"Times,serif\" font-size=\"14.00\" text-anchor=\"middle\" x=\"723.5\" y=\"-672.3\">[(?, 3000, 3)]</text>\n</g>\n<!-- 139866459246376 -->\n<g class=\"node\" id=\"node2\">\n<title>139866459246376</title>\n<polygon fill=\"none\" points=\"481,-581.5 481,-627.5 771,-627.5 771,-581.5 481,-581.5\" stroke=\"#000000\"/>\n<text fill=\"#000000\" font-family=\"Times,serif\" font-size=\"14.00\" text-anchor=\"middle\" x=\"547.5\" y=\"-600.8\">conv1d_4: Conv1D</text>\n<polyline fill=\"none\" points=\"614,-581.5 614,-627.5 \" stroke=\"#000000\"/>\n<text fill=\"#000000\" font-family=\"Times,serif\" font-size=\"14.00\" text-anchor=\"middle\" x=\"643\" y=\"-612.3\">input:</text>\n<polyline fill=\"none\" points=\"614,-604.5 672,-604.5 \" stroke=\"#000000\"/>\n<text fill=\"#000000\" font-family=\"Times,serif\" font-size=\"14.00\" text-anchor=\"middle\" x=\"643\" y=\"-589.3\">output:</text>\n<polyline fill=\"none\" points=\"672,-581.5 672,-627.5 \" stroke=\"#000000\"/>\n<text fill=\"#000000\" font-family=\"Times,serif\" font-size=\"14.00\" text-anchor=\"middle\" x=\"721.5\" y=\"-612.3\">(?, 3000, 3)</text>\n<polyline fill=\"none\" points=\"672,-604.5 771,-604.5 \" stroke=\"#000000\"/>\n<text fill=\"#000000\" font-family=\"Times,serif\" font-size=\"14.00\" text-anchor=\"middle\" x=\"721.5\" y=\"-589.3\">(?, 3000, 100)</text>\n</g>\n<!-- 139866459485408&#45;&gt;139866459246376 -->\n<g class=\"edge\" id=\"edge1\">\n<title>139866459485408-&gt;139866459246376</title>\n<path d=\"M626,-664.3799C626,-656.1745 626,-646.7679 626,-637.8786\" fill=\"none\" stroke=\"#000000\"/>\n<polygon fill=\"#000000\" points=\"629.5001,-637.784 626,-627.784 622.5001,-637.784 629.5001,-637.784\" stroke=\"#000000\"/>\n</g>\n<!-- 139866458090296 -->\n<g class=\"node\" id=\"node3\">\n<title>139866458090296</title>\n<polygon fill=\"none\" points=\"305,-498.5 305,-544.5 595,-544.5 595,-498.5 305,-498.5\" stroke=\"#000000\"/>\n<text fill=\"#000000\" font-family=\"Times,serif\" font-size=\"14.00\" text-anchor=\"middle\" x=\"371.5\" y=\"-517.8\">conv1d_5: Conv1D</text>\n<polyline fill=\"none\" points=\"438,-498.5 438,-544.5 \" stroke=\"#000000\"/>\n<text fill=\"#000000\" font-family=\"Times,serif\" font-size=\"14.00\" text-anchor=\"middle\" x=\"467\" y=\"-529.3\">input:</text>\n<polyline fill=\"none\" points=\"438,-521.5 496,-521.5 \" stroke=\"#000000\"/>\n<text fill=\"#000000\" font-family=\"Times,serif\" font-size=\"14.00\" text-anchor=\"middle\" x=\"467\" y=\"-506.3\">output:</text>\n<polyline fill=\"none\" points=\"496,-498.5 496,-544.5 \" stroke=\"#000000\"/>\n<text fill=\"#000000\" font-family=\"Times,serif\" font-size=\"14.00\" text-anchor=\"middle\" x=\"545.5\" y=\"-529.3\">(?, 3000, 100)</text>\n<polyline fill=\"none\" points=\"496,-521.5 595,-521.5 \" stroke=\"#000000\"/>\n<text fill=\"#000000\" font-family=\"Times,serif\" font-size=\"14.00\" text-anchor=\"middle\" x=\"545.5\" y=\"-506.3\">(?, 3000, 100)</text>\n</g>\n<!-- 139866459246376&#45;&gt;139866458090296 -->\n<g class=\"edge\" id=\"edge2\">\n<title>139866459246376-&gt;139866458090296</title>\n<path d=\"M576.9742,-581.3799C555.7035,-571.3488 530.6257,-559.5224 508.3994,-549.0406\" fill=\"none\" stroke=\"#000000\"/>\n<polygon fill=\"#000000\" points=\"509.6054,-545.7398 499.0678,-544.6399 506.6196,-552.071 509.6054,-545.7398\" stroke=\"#000000\"/>\n</g>\n<!-- 139866458090408 -->\n<g class=\"node\" id=\"node6\">\n<title>139866458090408</title>\n<polygon fill=\"none\" points=\"613,-498.5 613,-544.5 991,-544.5 991,-498.5 613,-498.5\" stroke=\"#000000\"/>\n<text fill=\"#000000\" font-family=\"Times,serif\" font-size=\"14.00\" text-anchor=\"middle\" x=\"723.5\" y=\"-517.8\">max_pooling1d_4: MaxPooling1D</text>\n<polyline fill=\"none\" points=\"834,-498.5 834,-544.5 \" stroke=\"#000000\"/>\n<text fill=\"#000000\" font-family=\"Times,serif\" font-size=\"14.00\" text-anchor=\"middle\" x=\"863\" y=\"-529.3\">input:</text>\n<polyline fill=\"none\" points=\"834,-521.5 892,-521.5 \" stroke=\"#000000\"/>\n<text fill=\"#000000\" font-family=\"Times,serif\" font-size=\"14.00\" text-anchor=\"middle\" x=\"863\" y=\"-506.3\">output:</text>\n<polyline fill=\"none\" points=\"892,-498.5 892,-544.5 \" stroke=\"#000000\"/>\n<text fill=\"#000000\" font-family=\"Times,serif\" font-size=\"14.00\" text-anchor=\"middle\" x=\"941.5\" y=\"-529.3\">(?, 3000, 100)</text>\n<polyline fill=\"none\" points=\"892,-521.5 991,-521.5 \" stroke=\"#000000\"/>\n<text fill=\"#000000\" font-family=\"Times,serif\" font-size=\"14.00\" text-anchor=\"middle\" x=\"941.5\" y=\"-506.3\">(?, 1000, 100)</text>\n</g>\n<!-- 139866459246376&#45;&gt;139866458090408 -->\n<g class=\"edge\" id=\"edge4\">\n<title>139866459246376-&gt;139866458090408</title>\n<path d=\"M675.0258,-581.3799C696.2965,-571.3488 721.3743,-559.5224 743.6006,-549.0406\" fill=\"none\" stroke=\"#000000\"/>\n<polygon fill=\"#000000\" points=\"745.3804,-552.071 752.9322,-544.6399 742.3946,-545.7398 745.3804,-552.071\" stroke=\"#000000\"/>\n</g>\n<!-- 139866385719480 -->\n<g class=\"node\" id=\"node4\">\n<title>139866385719480</title>\n<polygon fill=\"none\" points=\"122,-415.5 122,-461.5 412,-461.5 412,-415.5 122,-415.5\" stroke=\"#000000\"/>\n<text fill=\"#000000\" font-family=\"Times,serif\" font-size=\"14.00\" text-anchor=\"middle\" x=\"188.5\" y=\"-434.8\">conv1d_6: Conv1D</text>\n<polyline fill=\"none\" points=\"255,-415.5 255,-461.5 \" stroke=\"#000000\"/>\n<text fill=\"#000000\" font-family=\"Times,serif\" font-size=\"14.00\" text-anchor=\"middle\" x=\"284\" y=\"-446.3\">input:</text>\n<polyline fill=\"none\" points=\"255,-438.5 313,-438.5 \" stroke=\"#000000\"/>\n<text fill=\"#000000\" font-family=\"Times,serif\" font-size=\"14.00\" text-anchor=\"middle\" x=\"284\" y=\"-423.3\">output:</text>\n<polyline fill=\"none\" points=\"313,-415.5 313,-461.5 \" stroke=\"#000000\"/>\n<text fill=\"#000000\" font-family=\"Times,serif\" font-size=\"14.00\" text-anchor=\"middle\" x=\"362.5\" y=\"-446.3\">(?, 3000, 100)</text>\n<polyline fill=\"none\" points=\"313,-438.5 412,-438.5 \" stroke=\"#000000\"/>\n<text fill=\"#000000\" font-family=\"Times,serif\" font-size=\"14.00\" text-anchor=\"middle\" x=\"362.5\" y=\"-423.3\">(?, 3000, 100)</text>\n</g>\n<!-- 139866458090296&#45;&gt;139866385719480 -->\n<g class=\"edge\" id=\"edge3\">\n<title>139866458090296-&gt;139866385719480</title>\n<path d=\"M399.0243,-498.3799C376.8089,-488.304 350.5995,-476.4167 327.4128,-465.9003\" fill=\"none\" stroke=\"#000000\"/>\n<polygon fill=\"#000000\" points=\"328.5722,-462.5831 318.0194,-461.6399 325.6808,-468.958 328.5722,-462.5831\" stroke=\"#000000\"/>\n</g>\n<!-- 139866385719424 -->\n<g class=\"node\" id=\"node7\">\n<title>139866385719424</title>\n<polygon fill=\"none\" points=\"396,-332.5 396,-378.5 774,-378.5 774,-332.5 396,-332.5\" stroke=\"#000000\"/>\n<text fill=\"#000000\" font-family=\"Times,serif\" font-size=\"14.00\" text-anchor=\"middle\" x=\"506.5\" y=\"-351.8\">max_pooling1d_5: MaxPooling1D</text>\n<polyline fill=\"none\" points=\"617,-332.5 617,-378.5 \" stroke=\"#000000\"/>\n<text fill=\"#000000\" font-family=\"Times,serif\" font-size=\"14.00\" text-anchor=\"middle\" x=\"646\" y=\"-363.3\">input:</text>\n<polyline fill=\"none\" points=\"617,-355.5 675,-355.5 \" stroke=\"#000000\"/>\n<text fill=\"#000000\" font-family=\"Times,serif\" font-size=\"14.00\" text-anchor=\"middle\" x=\"646\" y=\"-340.3\">output:</text>\n<polyline fill=\"none\" points=\"675,-332.5 675,-378.5 \" stroke=\"#000000\"/>\n<text fill=\"#000000\" font-family=\"Times,serif\" font-size=\"14.00\" text-anchor=\"middle\" x=\"724.5\" y=\"-363.3\">(?, 3000, 100)</text>\n<polyline fill=\"none\" points=\"675,-355.5 774,-355.5 \" stroke=\"#000000\"/>\n<text fill=\"#000000\" font-family=\"Times,serif\" font-size=\"14.00\" text-anchor=\"middle\" x=\"724.5\" y=\"-340.3\">(?, 1000, 100)</text>\n</g>\n<!-- 139866458090296&#45;&gt;139866385719424 -->\n<g class=\"edge\" id=\"edge5\">\n<title>139866458090296-&gt;139866385719424</title>\n<path d=\"M468.7712,-498.4184C492.4815,-469.2635 533.368,-418.9882 559.7857,-386.5042\" fill=\"none\" stroke=\"#000000\"/>\n<polygon fill=\"#000000\" points=\"562.5771,-388.6192 566.1711,-378.6525 557.1462,-384.2025 562.5771,-388.6192\" stroke=\"#000000\"/>\n</g>\n<!-- 139866384761856 -->\n<g class=\"node\" id=\"node8\">\n<title>139866384761856</title>\n<polygon fill=\"none\" points=\"0,-332.5 0,-378.5 378,-378.5 378,-332.5 0,-332.5\" stroke=\"#000000\"/>\n<text fill=\"#000000\" font-family=\"Times,serif\" font-size=\"14.00\" text-anchor=\"middle\" x=\"110.5\" y=\"-351.8\">max_pooling1d_6: MaxPooling1D</text>\n<polyline fill=\"none\" points=\"221,-332.5 221,-378.5 \" stroke=\"#000000\"/>\n<text fill=\"#000000\" font-family=\"Times,serif\" font-size=\"14.00\" text-anchor=\"middle\" x=\"250\" y=\"-363.3\">input:</text>\n<polyline fill=\"none\" points=\"221,-355.5 279,-355.5 \" stroke=\"#000000\"/>\n<text fill=\"#000000\" font-family=\"Times,serif\" font-size=\"14.00\" text-anchor=\"middle\" x=\"250\" y=\"-340.3\">output:</text>\n<polyline fill=\"none\" points=\"279,-332.5 279,-378.5 \" stroke=\"#000000\"/>\n<text fill=\"#000000\" font-family=\"Times,serif\" font-size=\"14.00\" text-anchor=\"middle\" x=\"328.5\" y=\"-363.3\">(?, 3000, 100)</text>\n<polyline fill=\"none\" points=\"279,-355.5 378,-355.5 \" stroke=\"#000000\"/>\n<text fill=\"#000000\" font-family=\"Times,serif\" font-size=\"14.00\" text-anchor=\"middle\" x=\"328.5\" y=\"-340.3\">(?, 1000, 100)</text>\n</g>\n<!-- 139866385719480&#45;&gt;139866384761856 -->\n<g class=\"edge\" id=\"edge6\">\n<title>139866385719480-&gt;139866384761856</title>\n<path d=\"M245.2727,-415.3799C236.8073,-406.3718 226.9813,-395.916 217.9317,-386.2863\" fill=\"none\" stroke=\"#000000\"/>\n<polygon fill=\"#000000\" points=\"220.2801,-383.6743 210.8814,-378.784 215.179,-388.4681 220.2801,-383.6743\" stroke=\"#000000\"/>\n</g>\n<!-- 139866459485016 -->\n<g class=\"node\" id=\"node5\">\n<title>139866459485016</title>\n<polygon fill=\"none\" points=\"905.5,-415.5 905.5,-461.5 1178.5,-461.5 1178.5,-415.5 905.5,-415.5\" stroke=\"#000000\"/>\n<text fill=\"#000000\" font-family=\"Times,serif\" font-size=\"14.00\" text-anchor=\"middle\" x=\"974\" y=\"-434.8\">entrada2: InputLayer</text>\n<polyline fill=\"none\" points=\"1042.5,-415.5 1042.5,-461.5 \" stroke=\"#000000\"/>\n<text fill=\"#000000\" font-family=\"Times,serif\" font-size=\"14.00\" text-anchor=\"middle\" x=\"1071.5\" y=\"-446.3\">input:</text>\n<polyline fill=\"none\" points=\"1042.5,-438.5 1100.5,-438.5 \" stroke=\"#000000\"/>\n<text fill=\"#000000\" font-family=\"Times,serif\" font-size=\"14.00\" text-anchor=\"middle\" x=\"1071.5\" y=\"-423.3\">output:</text>\n<polyline fill=\"none\" points=\"1100.5,-415.5 1100.5,-461.5 \" stroke=\"#000000\"/>\n<text fill=\"#000000\" font-family=\"Times,serif\" font-size=\"14.00\" text-anchor=\"middle\" x=\"1139.5\" y=\"-446.3\">[(?, 30, 3)]</text>\n<polyline fill=\"none\" points=\"1100.5,-438.5 1178.5,-438.5 \" stroke=\"#000000\"/>\n<text fill=\"#000000\" font-family=\"Times,serif\" font-size=\"14.00\" text-anchor=\"middle\" x=\"1139.5\" y=\"-423.3\">[(?, 30, 3)]</text>\n</g>\n<!-- 139866384761912 -->\n<g class=\"node\" id=\"node9\">\n<title>139866384761912</title>\n<polygon fill=\"none\" points=\"908,-332.5 908,-378.5 1176,-378.5 1176,-332.5 908,-332.5\" stroke=\"#000000\"/>\n<text fill=\"#000000\" font-family=\"Times,serif\" font-size=\"14.00\" text-anchor=\"middle\" x=\"974.5\" y=\"-351.8\">conv1d_7: Conv1D</text>\n<polyline fill=\"none\" points=\"1041,-332.5 1041,-378.5 \" stroke=\"#000000\"/>\n<text fill=\"#000000\" font-family=\"Times,serif\" font-size=\"14.00\" text-anchor=\"middle\" x=\"1070\" y=\"-363.3\">input:</text>\n<polyline fill=\"none\" points=\"1041,-355.5 1099,-355.5 \" stroke=\"#000000\"/>\n<text fill=\"#000000\" font-family=\"Times,serif\" font-size=\"14.00\" text-anchor=\"middle\" x=\"1070\" y=\"-340.3\">output:</text>\n<polyline fill=\"none\" points=\"1099,-332.5 1099,-378.5 \" stroke=\"#000000\"/>\n<text fill=\"#000000\" font-family=\"Times,serif\" font-size=\"14.00\" text-anchor=\"middle\" x=\"1137.5\" y=\"-363.3\">(?, 30, 3)</text>\n<polyline fill=\"none\" points=\"1099,-355.5 1176,-355.5 \" stroke=\"#000000\"/>\n<text fill=\"#000000\" font-family=\"Times,serif\" font-size=\"14.00\" text-anchor=\"middle\" x=\"1137.5\" y=\"-340.3\">(?, 30, 10)</text>\n</g>\n<!-- 139866459485016&#45;&gt;139866384761912 -->\n<g class=\"edge\" id=\"edge7\">\n<title>139866459485016-&gt;139866384761912</title>\n<path d=\"M1042,-415.3799C1042,-407.1745 1042,-397.7679 1042,-388.8786\" fill=\"none\" stroke=\"#000000\"/>\n<polygon fill=\"#000000\" points=\"1045.5001,-388.784 1042,-378.784 1038.5001,-388.784 1045.5001,-388.784\" stroke=\"#000000\"/>\n</g>\n<!-- 139866384933328 -->\n<g class=\"node\" id=\"node10\">\n<title>139866384933328</title>\n<polygon fill=\"none\" points=\"324.5,-249.5 324.5,-295.5 845.5,-295.5 845.5,-249.5 324.5,-249.5\" stroke=\"#000000\"/>\n<text fill=\"#000000\" font-family=\"Times,serif\" font-size=\"14.00\" text-anchor=\"middle\" x=\"412\" y=\"-268.8\">concatenate_2: Concatenate</text>\n<polyline fill=\"none\" points=\"499.5,-249.5 499.5,-295.5 \" stroke=\"#000000\"/>\n<text fill=\"#000000\" font-family=\"Times,serif\" font-size=\"14.00\" text-anchor=\"middle\" x=\"528.5\" y=\"-280.3\">input:</text>\n<polyline fill=\"none\" points=\"499.5,-272.5 557.5,-272.5 \" stroke=\"#000000\"/>\n<text fill=\"#000000\" font-family=\"Times,serif\" font-size=\"14.00\" text-anchor=\"middle\" x=\"528.5\" y=\"-257.3\">output:</text>\n<polyline fill=\"none\" points=\"557.5,-249.5 557.5,-295.5 \" stroke=\"#000000\"/>\n<text fill=\"#000000\" font-family=\"Times,serif\" font-size=\"14.00\" text-anchor=\"middle\" x=\"701.5\" y=\"-280.3\">[(?, 1000, 100), (?, 1000, 100), (?, 1000, 100)]</text>\n<polyline fill=\"none\" points=\"557.5,-272.5 845.5,-272.5 \" stroke=\"#000000\"/>\n<text fill=\"#000000\" font-family=\"Times,serif\" font-size=\"14.00\" text-anchor=\"middle\" x=\"701.5\" y=\"-257.3\">(?, 1000, 300)</text>\n</g>\n<!-- 139866458090408&#45;&gt;139866384933328 -->\n<g class=\"edge\" id=\"edge8\">\n<title>139866458090408-&gt;139866384933328</title>\n<path d=\"M807.1171,-498.3326C814.2957,-459.2562 822.4339,-379.8373 783,-332 772.2984,-319.0179 742.8829,-307.5648 709.8945,-298.2619\" fill=\"none\" stroke=\"#000000\"/>\n<polygon fill=\"#000000\" points=\"710.6043,-294.8276 700.0355,-295.5704 708.7607,-301.5805 710.6043,-294.8276\" stroke=\"#000000\"/>\n</g>\n<!-- 139866385719424&#45;&gt;139866384933328 -->\n<g class=\"edge\" id=\"edge9\">\n<title>139866385719424-&gt;139866384933328</title>\n<path d=\"M585,-332.3799C585,-324.1745 585,-314.7679 585,-305.8786\" fill=\"none\" stroke=\"#000000\"/>\n<polygon fill=\"#000000\" points=\"588.5001,-305.784 585,-295.784 581.5001,-305.784 588.5001,-305.784\" stroke=\"#000000\"/>\n</g>\n<!-- 139866384761856&#45;&gt;139866384933328 -->\n<g class=\"edge\" id=\"edge10\">\n<title>139866384761856-&gt;139866384933328</title>\n<path d=\"M298.7822,-332.4901C350.3908,-321.6731 412.0505,-308.7495 464.9006,-297.6723\" fill=\"none\" stroke=\"#000000\"/>\n<polygon fill=\"#000000\" points=\"465.9349,-301.0317 475.0042,-295.5547 464.4989,-294.1806 465.9349,-301.0317\" stroke=\"#000000\"/>\n</g>\n<!-- 139866384711128 -->\n<g class=\"node\" id=\"node11\">\n<title>139866384711128</title>\n<polygon fill=\"none\" points=\"864,-249.5 864,-295.5 1220,-295.5 1220,-249.5 864,-249.5\" stroke=\"#000000\"/>\n<text fill=\"#000000\" font-family=\"Times,serif\" font-size=\"14.00\" text-anchor=\"middle\" x=\"974.5\" y=\"-268.8\">max_pooling1d_7: MaxPooling1D</text>\n<polyline fill=\"none\" points=\"1085,-249.5 1085,-295.5 \" stroke=\"#000000\"/>\n<text fill=\"#000000\" font-family=\"Times,serif\" font-size=\"14.00\" text-anchor=\"middle\" x=\"1114\" y=\"-280.3\">input:</text>\n<polyline fill=\"none\" points=\"1085,-272.5 1143,-272.5 \" stroke=\"#000000\"/>\n<text fill=\"#000000\" font-family=\"Times,serif\" font-size=\"14.00\" text-anchor=\"middle\" x=\"1114\" y=\"-257.3\">output:</text>\n<polyline fill=\"none\" points=\"1143,-249.5 1143,-295.5 \" stroke=\"#000000\"/>\n<text fill=\"#000000\" font-family=\"Times,serif\" font-size=\"14.00\" text-anchor=\"middle\" x=\"1181.5\" y=\"-280.3\">(?, 30, 10)</text>\n<polyline fill=\"none\" points=\"1143,-272.5 1220,-272.5 \" stroke=\"#000000\"/>\n<text fill=\"#000000\" font-family=\"Times,serif\" font-size=\"14.00\" text-anchor=\"middle\" x=\"1181.5\" y=\"-257.3\">(?, 10, 10)</text>\n</g>\n<!-- 139866384761912&#45;&gt;139866384711128 -->\n<g class=\"edge\" id=\"edge11\">\n<title>139866384761912-&gt;139866384711128</title>\n<path d=\"M1042,-332.3799C1042,-324.1745 1042,-314.7679 1042,-305.8786\" fill=\"none\" stroke=\"#000000\"/>\n<polygon fill=\"#000000\" points=\"1045.5001,-305.784 1042,-295.784 1038.5001,-305.784 1045.5001,-305.784\" stroke=\"#000000\"/>\n</g>\n<!-- 139866384933104 -->\n<g class=\"node\" id=\"node12\">\n<title>139866384933104</title>\n<polygon fill=\"none\" points=\"366.5,-166.5 366.5,-212.5 867.5,-212.5 867.5,-166.5 366.5,-166.5\" stroke=\"#000000\"/>\n<text fill=\"#000000\" font-family=\"Times,serif\" font-size=\"14.00\" text-anchor=\"middle\" x=\"538.5\" y=\"-185.8\">global_average_pooling1d_1: GlobalAveragePooling1D</text>\n<polyline fill=\"none\" points=\"710.5,-166.5 710.5,-212.5 \" stroke=\"#000000\"/>\n<text fill=\"#000000\" font-family=\"Times,serif\" font-size=\"14.00\" text-anchor=\"middle\" x=\"739.5\" y=\"-197.3\">input:</text>\n<polyline fill=\"none\" points=\"710.5,-189.5 768.5,-189.5 \" stroke=\"#000000\"/>\n<text fill=\"#000000\" font-family=\"Times,serif\" font-size=\"14.00\" text-anchor=\"middle\" x=\"739.5\" y=\"-174.3\">output:</text>\n<polyline fill=\"none\" points=\"768.5,-166.5 768.5,-212.5 \" stroke=\"#000000\"/>\n<text fill=\"#000000\" font-family=\"Times,serif\" font-size=\"14.00\" text-anchor=\"middle\" x=\"818\" y=\"-197.3\">(?, 1000, 300)</text>\n<polyline fill=\"none\" points=\"768.5,-189.5 867.5,-189.5 \" stroke=\"#000000\"/>\n<text fill=\"#000000\" font-family=\"Times,serif\" font-size=\"14.00\" text-anchor=\"middle\" x=\"818\" y=\"-174.3\">(?, 300)</text>\n</g>\n<!-- 139866384933328&#45;&gt;139866384933104 -->\n<g class=\"edge\" id=\"edge12\">\n<title>139866384933328-&gt;139866384933104</title>\n<path d=\"M593.9138,-249.3799C597.1461,-240.9962 600.8618,-231.3584 604.3544,-222.2996\" fill=\"none\" stroke=\"#000000\"/>\n<polygon fill=\"#000000\" points=\"607.6913,-223.3737 608.023,-212.784 601.16,-220.8555 607.6913,-223.3737\" stroke=\"#000000\"/>\n</g>\n<!-- 139866384715728 -->\n<g class=\"node\" id=\"node13\">\n<title>139866384715728</title>\n<polygon fill=\"none\" points=\"902,-166.5 902,-212.5 1150,-212.5 1150,-166.5 902,-166.5\" stroke=\"#000000\"/>\n<text fill=\"#000000\" font-family=\"Times,serif\" font-size=\"14.00\" text-anchor=\"middle\" x=\"958.5\" y=\"-185.8\">flatten_1: Flatten</text>\n<polyline fill=\"none\" points=\"1015,-166.5 1015,-212.5 \" stroke=\"#000000\"/>\n<text fill=\"#000000\" font-family=\"Times,serif\" font-size=\"14.00\" text-anchor=\"middle\" x=\"1044\" y=\"-197.3\">input:</text>\n<polyline fill=\"none\" points=\"1015,-189.5 1073,-189.5 \" stroke=\"#000000\"/>\n<text fill=\"#000000\" font-family=\"Times,serif\" font-size=\"14.00\" text-anchor=\"middle\" x=\"1044\" y=\"-174.3\">output:</text>\n<polyline fill=\"none\" points=\"1073,-166.5 1073,-212.5 \" stroke=\"#000000\"/>\n<text fill=\"#000000\" font-family=\"Times,serif\" font-size=\"14.00\" text-anchor=\"middle\" x=\"1111.5\" y=\"-197.3\">(?, 10, 10)</text>\n<polyline fill=\"none\" points=\"1073,-189.5 1150,-189.5 \" stroke=\"#000000\"/>\n<text fill=\"#000000\" font-family=\"Times,serif\" font-size=\"14.00\" text-anchor=\"middle\" x=\"1111.5\" y=\"-174.3\">(?, 100)</text>\n</g>\n<!-- 139866384711128&#45;&gt;139866384715728 -->\n<g class=\"edge\" id=\"edge13\">\n<title>139866384711128-&gt;139866384715728</title>\n<path d=\"M1037.5431,-249.3799C1035.9614,-241.1745 1034.148,-231.7679 1032.4344,-222.8786\" fill=\"none\" stroke=\"#000000\"/>\n<polygon fill=\"#000000\" points=\"1035.8182,-221.9407 1030.4885,-212.784 1028.9447,-223.2658 1035.8182,-221.9407\" stroke=\"#000000\"/>\n</g>\n<!-- 139866384935848 -->\n<g class=\"node\" id=\"node14\">\n<title>139866384935848</title>\n<polygon fill=\"none\" points=\"635,-83.5 635,-129.5 991,-129.5 991,-83.5 635,-83.5\" stroke=\"#000000\"/>\n<text fill=\"#000000\" font-family=\"Times,serif\" font-size=\"14.00\" text-anchor=\"middle\" x=\"722.5\" y=\"-102.8\">concatenate_3: Concatenate</text>\n<polyline fill=\"none\" points=\"810,-83.5 810,-129.5 \" stroke=\"#000000\"/>\n<text fill=\"#000000\" font-family=\"Times,serif\" font-size=\"14.00\" text-anchor=\"middle\" x=\"839\" y=\"-114.3\">input:</text>\n<polyline fill=\"none\" points=\"810,-106.5 868,-106.5 \" stroke=\"#000000\"/>\n<text fill=\"#000000\" font-family=\"Times,serif\" font-size=\"14.00\" text-anchor=\"middle\" x=\"839\" y=\"-91.3\">output:</text>\n<polyline fill=\"none\" points=\"868,-83.5 868,-129.5 \" stroke=\"#000000\"/>\n<text fill=\"#000000\" font-family=\"Times,serif\" font-size=\"14.00\" text-anchor=\"middle\" x=\"929.5\" y=\"-114.3\">[(?, 300), (?, 100)]</text>\n<polyline fill=\"none\" points=\"868,-106.5 991,-106.5 \" stroke=\"#000000\"/>\n<text fill=\"#000000\" font-family=\"Times,serif\" font-size=\"14.00\" text-anchor=\"middle\" x=\"929.5\" y=\"-91.3\">(?, 400)</text>\n</g>\n<!-- 139866384933104&#45;&gt;139866384935848 -->\n<g class=\"edge\" id=\"edge14\">\n<title>139866384933104-&gt;139866384935848</title>\n<path d=\"M671.3366,-166.4901C695.4465,-156.2803 723.9882,-144.1938 749.1123,-133.5545\" fill=\"none\" stroke=\"#000000\"/>\n<polygon fill=\"#000000\" points=\"750.7141,-136.6771 758.5577,-129.5547 747.9844,-130.2313 750.7141,-136.6771\" stroke=\"#000000\"/>\n</g>\n<!-- 139866384715728&#45;&gt;139866384935848 -->\n<g class=\"edge\" id=\"edge15\">\n<title>139866384715728-&gt;139866384935848</title>\n<path d=\"M966.9505,-166.4901C940.5187,-156.1904 909.1853,-143.9806 881.7082,-133.2736\" fill=\"none\" stroke=\"#000000\"/>\n<polygon fill=\"#000000\" points=\"882.7528,-129.9244 872.1644,-129.5547 880.2112,-136.4467 882.7528,-129.9244\" stroke=\"#000000\"/>\n</g>\n<!-- 139866384933384 -->\n<g class=\"node\" id=\"node15\">\n<title>139866384933384</title>\n<polygon fill=\"none\" points=\"699.5,-.5 699.5,-46.5 926.5,-46.5 926.5,-.5 699.5,-.5\" stroke=\"#000000\"/>\n<text fill=\"#000000\" font-family=\"Times,serif\" font-size=\"14.00\" text-anchor=\"middle\" x=\"753\" y=\"-19.8\">dense_1: Dense</text>\n<polyline fill=\"none\" points=\"806.5,-.5 806.5,-46.5 \" stroke=\"#000000\"/>\n<text fill=\"#000000\" font-family=\"Times,serif\" font-size=\"14.00\" text-anchor=\"middle\" x=\"835.5\" y=\"-31.3\">input:</text>\n<polyline fill=\"none\" points=\"806.5,-23.5 864.5,-23.5 \" stroke=\"#000000\"/>\n<text fill=\"#000000\" font-family=\"Times,serif\" font-size=\"14.00\" text-anchor=\"middle\" x=\"835.5\" y=\"-8.3\">output:</text>\n<polyline fill=\"none\" points=\"864.5,-.5 864.5,-46.5 \" stroke=\"#000000\"/>\n<text fill=\"#000000\" font-family=\"Times,serif\" font-size=\"14.00\" text-anchor=\"middle\" x=\"895.5\" y=\"-31.3\">(?, 400)</text>\n<polyline fill=\"none\" points=\"864.5,-23.5 926.5,-23.5 \" stroke=\"#000000\"/>\n<text fill=\"#000000\" font-family=\"Times,serif\" font-size=\"14.00\" text-anchor=\"middle\" x=\"895.5\" y=\"-8.3\">(?, 4)</text>\n</g>\n<!-- 139866384935848&#45;&gt;139866384933384 -->\n<g class=\"edge\" id=\"edge16\">\n<title>139866384935848-&gt;139866384933384</title>\n<path d=\"M813,-83.3799C813,-75.1745 813,-65.7679 813,-56.8786\" fill=\"none\" stroke=\"#000000\"/>\n<polygon fill=\"#000000\" points=\"816.5001,-56.784 813,-46.784 809.5001,-56.784 816.5001,-56.784\" stroke=\"#000000\"/>\n</g>\n</g>\n</svg>"
          },
          "metadata": {
            "tags": []
          },
          "execution_count": 15
        }
      ]
    },
    {
      "cell_type": "code",
      "metadata": {
        "id": "M46eR6ELpaJ2",
        "colab_type": "code",
        "outputId": "508bebcf-f1ee-4c99-d94c-d16e6d091cdd",
        "colab": {
          "base_uri": "https://localhost:8080/",
          "height": 74
        }
      },
      "source": [
        "epocas = 4\n",
        "batchSize = 512\n",
        "# hist = modelo.fit(x_train, y_train, verbose = 1, validation_data=(x_test, y_test), epochs = epocas, batch_size = batchSize)\n",
        "# hist = modelo.fit(x_train, y_train, verbose = 1, validation_data=(x_test, y_test), epochs = epocas, batch_size = batchSize, class_weight = pesosClases)\n",
        "\n",
        "#Esta es para crearModelo3.\n",
        "\n",
        "# hists = []\n",
        "# hist = None\n",
        "\n",
        "rutaModelo = \"drive/My Drive/ModelosExamen2/Modelo4_3.json\"\n",
        "rutaPesos = \"drive/My Drive/ModelosExamen2/PesosModelo4_3.h5\"\n",
        "rutaDiagrama = \"drive/My Drive/ModelosExamen2/DiagramaModelo4_3.png\"\n",
        "\n",
        "for i in range(0,5):\n",
        "  # hist = modelo.fit(x_train, y_train, verbose = 1, validation_data=(x_test, y_test), epochs = epocas, batch_size = batchSize)#, class_weight = pesosClases)\n",
        "# # hist = modelo.fit([x_train1, x_train2], y_train, validation_data=([x_test1, x_test2], y_test), epochs = epocas, batch_size = batchSize)#, class_weight = pesosClases)\n",
        "  hist = modelo.fit([x_train1, x_train2], y_train, verbose = 1, validation_data=([x_test1, x_test2], y_test), epochs = epocas, batch_size = batchSize)\n",
        "  \n",
        "  hists.append(hist)\n",
        "  \n",
        "  guardarModelo(modelo, rutaModelo, rutaPesos, rutaDiagrama)\n",
        "\n",
        "  y_prob = modelo.predict([x_train1, x_train2])\n",
        "  y_pred = y_prob.argmax(axis=-1)\n",
        "                        \n",
        "  resultadosEntrenamiento = Resultados(y_train, y_pred, hist)\n",
        "  resultadosEntrenamiento.graficarHistoria()\n",
        "\n",
        "  y_prob = modelo.predict([x_test1, x_test2])\n",
        "  y_pred = y_prob.argmax(axis=-1)\n",
        "                        \n",
        "  resultadosValidacion = Resultados(y_test, y_pred, hist)\n",
        "\n",
        "  resultadosEntrenamiento.darReporte()\n",
        "  resultadosValidacion.darReporte()\n",
        "  \n",
        "  resultadosEntrenamiento.graficarMatrizConfusion()\n",
        "  resultadosValidacion.graficarMatrizConfusion()"
      ],
      "execution_count": 0,
      "outputs": [
        {
          "output_type": "stream",
          "text": [
            "Train on 227240 samples, validate on 24929 samples\n",
            "Epoch 1/4\n",
            " 44544/227240 [====>.........................] - ETA: 2:12 - loss: 0.1751 - sparse_categorical_accuracy: 0.9388"
          ],
          "name": "stdout"
        }
      ]
    },
    {
      "cell_type": "code",
      "metadata": {
        "id": "Q8yCL4TiDkZA",
        "colab_type": "code",
        "colab": {}
      },
      "source": [
        "numFiltros = np.array([100, 50, 20])\n",
        "tamFiltros = np.array([6, 6, 6])\n",
        "tamPooling = np.array([6, 6, 6])\n",
        "optimizer=\"adam\"\n",
        "numNeuronas = np.array([10, 8, 6])\n",
        "\n",
        "parametros = dict(batch_size = [30],\n",
        "               epochs = [5],\n",
        "               pOptimizer = [\"adam\", \"sgd\"],#,\"rmsprop\"],\n",
        "               pTasa = [0.01],\n",
        "               pAlphas = [0.001],\n",
        "               pNumFiltros = [numFiltros],\n",
        "              pTamFiltros = [tamFiltros],\n",
        "              pTamPooling = [tamPooling],\n",
        "              pNumNeuronas = [numNeuronas]\n",
        "              )"
      ],
      "execution_count": 0,
      "outputs": []
    },
    {
      "cell_type": "code",
      "metadata": {
        "id": "BnjxayYrBy_9",
        "colab_type": "code",
        "colab": {}
      },
      "source": [
        "def GridSearch(pXtrain, pYtrain, pXtest, pYtest, pParameters):\n",
        "  i=0\n",
        "  parameters = []\n",
        "  bestScore = 0\n",
        "  bestModel=None\n",
        "  bestHist = None\n",
        "  contador=0\n",
        "  for k in parametros.keys():\n",
        "    parameters.append(pParameters.get(k))\n",
        "  with progressbar.ProgressBar(max_value=len(list(itertools.product(*parameters)))) as bar:\n",
        "    for p in itertools.product(*parameters):\n",
        "      contador=+1\n",
        "      bar.update(contador)\n",
        "      modelo=crearModelo(p[3],p[4],p[5],p[6],p[7],p[8], p[2])\n",
        "      hist = modelo.fit(pXtrain, pYtrain, verbose = 1, validation_data=(pXtest, pYtest), epochs = p[1], batch_size = p[0])\n",
        "      l, score =modelo.evaluate(pXtest,pYtest)\n",
        "      if score>bestScore:\n",
        "        bestScore = score\n",
        "        bestModel = modelo\n",
        "        bestHist = hist\n",
        "  return bestScore, bestModel, bestHist"
      ],
      "execution_count": 0,
      "outputs": []
    },
    {
      "cell_type": "code",
      "metadata": {
        "id": "SIxa-xRJ9U3s",
        "colab_type": "code",
        "outputId": "b4312a36-e3f4-4b34-a035-7a13c7a8b6ed",
        "colab": {
          "base_uri": "https://localhost:8080/",
          "height": 720
        }
      },
      "source": [
        "bestScore, bestModel, bestHist = GridSearch(x_train,y_train,x_test,y_test,parametros)\n",
        "graficarHistoria(bestHist)"
      ],
      "execution_count": 0,
      "outputs": [
        {
          "output_type": "stream",
          "text": [
            "\r                                                                               \r\rN/A% (0 of 2) |                          | Elapsed Time: 0:00:00 ETA:  --:--:--"
          ],
          "name": "stderr"
        },
        {
          "output_type": "stream",
          "text": [
            "Train on 7977 samples, validate on 887 samples\n",
            "Epoch 1/5\n",
            "7977/7977 [==============================] - 3s 361us/sample - loss: 1.6520 - sparse_categorical_accuracy: 0.3236 - val_loss: 1.6377 - val_sparse_categorical_accuracy: 0.2954\n",
            "Epoch 2/5\n",
            "7977/7977 [==============================] - 2s 302us/sample - loss: 1.6042 - sparse_categorical_accuracy: 0.3412 - val_loss: 1.6478 - val_sparse_categorical_accuracy: 0.2954\n",
            "Epoch 3/5\n",
            "7977/7977 [==============================] - 2s 304us/sample - loss: 1.6057 - sparse_categorical_accuracy: 0.3421 - val_loss: 1.6405 - val_sparse_categorical_accuracy: 0.2954\n",
            "Epoch 4/5\n",
            "7977/7977 [==============================] - 2s 305us/sample - loss: 1.6134 - sparse_categorical_accuracy: 0.3273 - val_loss: 1.6373 - val_sparse_categorical_accuracy: 0.2954\n",
            "Epoch 5/5\n",
            "7977/7977 [==============================] - 2s 307us/sample - loss: 1.6135 - sparse_categorical_accuracy: 0.3273 - val_loss: 1.6402 - val_sparse_categorical_accuracy: 0.2954\n",
            "887/887 [==============================] - 0s 143us/sample - loss: 1.6402 - sparse_categorical_accuracy: 0.2954\n"
          ],
          "name": "stdout"
        },
        {
          "output_type": "stream",
          "text": [
            "\r                                                                               \r\r 50% (1 of 2) |#############             | Elapsed Time: 0:00:13 ETA:   0:00:13"
          ],
          "name": "stderr"
        },
        {
          "output_type": "stream",
          "text": [
            "Train on 7977 samples, validate on 887 samples\n",
            "Epoch 1/5\n",
            "7977/7977 [==============================] - 3s 349us/sample - loss: 1.6346 - sparse_categorical_accuracy: 0.3383 - val_loss: 1.6308 - val_sparse_categorical_accuracy: 0.2965\n",
            "Epoch 2/5\n",
            "7977/7977 [==============================] - 2s 306us/sample - loss: 1.5496 - sparse_categorical_accuracy: 0.3894 - val_loss: 1.5556 - val_sparse_categorical_accuracy: 0.3901\n",
            "Epoch 3/5\n",
            "7977/7977 [==============================] - 2s 302us/sample - loss: 1.4849 - sparse_categorical_accuracy: 0.4159 - val_loss: 1.5129 - val_sparse_categorical_accuracy: 0.3890\n",
            "Epoch 4/5\n",
            "7977/7977 [==============================] - 2s 303us/sample - loss: 1.4540 - sparse_categorical_accuracy: 0.4355 - val_loss: 1.4913 - val_sparse_categorical_accuracy: 0.4002\n",
            "Epoch 5/5\n",
            "7977/7977 [==============================] - 2s 304us/sample - loss: 1.4258 - sparse_categorical_accuracy: 0.4369 - val_loss: 1.4619 - val_sparse_categorical_accuracy: 0.4036\n",
            "887/887 [==============================] - 0s 144us/sample - loss: 1.4619 - sparse_categorical_accuracy: 0.4036\n"
          ],
          "name": "stdout"
        },
        {
          "output_type": "stream",
          "text": [
            "\r                                                                               \r\r100% (2 of 2) |##########################| Elapsed Time: 0:00:27 Time:  0:00:27\n"
          ],
          "name": "stderr"
        },
        {
          "output_type": "display_data",
          "data": {
            "image/png": "[encoded data removed]",
            "text/plain": [
              "<Figure size 432x288 with 1 Axes>"
            ]
          },
          "metadata": {
            "tags": []
          }
        }
      ]
    },
    {
      "cell_type": "markdown",
      "metadata": {
        "id": "pN-cEkgDFy3U",
        "colab_type": "text"
      },
      "source": [
        "#Resultados"
      ]
    },
    {
      "cell_type": "code",
      "metadata": {
        "id": "Wb0DwiVJATue",
        "colab_type": "code",
        "colab": {}
      },
      "source": [
        ""
      ],
      "execution_count": 0,
      "outputs": []
    }
  ]
}