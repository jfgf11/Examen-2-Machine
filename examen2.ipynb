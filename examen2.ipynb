{
  "nbformat": 4,
  "nbformat_minor": 0,
  "metadata": {
    "colab": {
      "name": "examen2.ipynb",
      "provenance": [],
      "collapsed_sections": [],
      "toc_visible": true,
      "include_colab_link": true
    },
    "kernelspec": {
      "name": "python3",
      "display_name": "Python 3"
    },
    "accelerator": "GPU"
  },
  "cells": [
    {
      "cell_type": "markdown",
      "metadata": {
        "id": "view-in-github",
        "colab_type": "text"
      },
      "source": [
        "<a href=\"https://colab.research.google.com/github/jfgf11/Examen-2-Machine/blob/master/examen2.ipynb\" target=\"_parent\"><img src=\"https://colab.research.google.com/assets/colab-badge.svg\" alt=\"Open In Colab\"/></a>"
      ]
    },
    {
      "cell_type": "markdown",
      "metadata": {
        "id": "Geb2T0_TB3BM",
        "colab_type": "text"
      },
      "source": [
        "\n",
        "# Examen 2\n",
        "\n",
        "\n"
      ]
    },
    {
      "cell_type": "code",
      "metadata": {
        "id": "brhsDHYQokNd",
        "colab_type": "code",
        "outputId": "1dbb23e5-fe6f-4c15-ceab-c140b81ecb2b",
        "colab": {
          "base_uri": "https://localhost:8080/",
          "height": 126
        }
      },
      "source": [
        "from google.colab import drive\n",
        "drive.mount('/content/drive')#, force_remount = True)"
      ],
      "execution_count": 1,
      "outputs": [
        {
          "output_type": "stream",
          "text": [
            "Go to this URL in a browser: https://accounts.google.com/o/oauth2/auth?client_id=947318989803-6bn6qk8qdgf4n4g3pfee6491hc0brc4i.apps.googleusercontent.com&redirect_uri=urn%3aietf%3awg%3aoauth%3a2.0%3aoob&response_type=code&scope=email%20https%3a%2f%2fwww.googleapis.com%2fauth%2fdocs.test%20https%3a%2f%2fwww.googleapis.com%2fauth%2fdrive%20https%3a%2f%2fwww.googleapis.com%2fauth%2fdrive.photos.readonly%20https%3a%2f%2fwww.googleapis.com%2fauth%2fpeopleapi.readonly\n",
            "\n",
            "Enter your authorization code:\n",
            "··········\n",
            "Mounted at /content/drive\n"
          ],
          "name": "stdout"
        }
      ]
    },
    {
      "cell_type": "markdown",
      "metadata": {
        "id": "nigPT0LkuBmI",
        "colab_type": "text"
      },
      "source": [
        "#Instalación"
      ]
    },
    {
      "cell_type": "code",
      "metadata": {
        "id": "UT9ry2xHBUyV",
        "colab_type": "code",
        "outputId": "2e74d508-1bbf-4db9-cda2-244bf3596178",
        "colab": {
          "base_uri": "https://localhost:8080/",
          "height": 287
        }
      },
      "source": [
        "!pip install pyEDFlib\n",
        "!pip install progressbar2"
      ],
      "execution_count": 2,
      "outputs": [
        {
          "output_type": "stream",
          "text": [
            "Collecting pyEDFlib\n",
            "\u001b[?25l  Downloading https://files.pythonhosted.org/packages/bc/8b/47ce5a889e1f6917390ba2328b494424d018cf9c263ab59e14ac851e194f/pyEDFlib-0.1.15.tar.gz (1.1MB)\n",
            "\r\u001b[K     |▎                               | 10kB 28.9MB/s eta 0:00:01\r\u001b[K     |▋                               | 20kB 3.1MB/s eta 0:00:01\r\u001b[K     |▉                               | 30kB 4.5MB/s eta 0:00:01\r\u001b[K     |█▏                              | 40kB 3.0MB/s eta 0:00:01\r\u001b[K     |█▌                              | 51kB 3.6MB/s eta 0:00:01\r\u001b[K     |█▊                              | 61kB 4.3MB/s eta 0:00:01\r\u001b[K     |██                              | 71kB 5.0MB/s eta 0:00:01\r\u001b[K     |██▍                             | 81kB 5.6MB/s eta 0:00:01\r\u001b[K     |██▋                             | 92kB 6.3MB/s eta 0:00:01\r\u001b[K     |███                             | 102kB 4.8MB/s eta 0:00:01\r\u001b[K     |███▏                            | 112kB 4.8MB/s eta 0:00:01\r\u001b[K     |███▌                            | 122kB 4.8MB/s eta 0:00:01\r\u001b[K     |███▉                            | 133kB 4.8MB/s eta 0:00:01\r\u001b[K     |████                            | 143kB 4.8MB/s eta 0:00:01\r\u001b[K     |████▍                           | 153kB 4.8MB/s eta 0:00:01\r\u001b[K     |████▊                           | 163kB 4.8MB/s eta 0:00:01\r\u001b[K     |█████                           | 174kB 4.8MB/s eta 0:00:01\r\u001b[K     |█████▎                          | 184kB 4.8MB/s eta 0:00:01\r\u001b[K     |█████▋                          | 194kB 4.8MB/s eta 0:00:01\r\u001b[K     |█████▉                          | 204kB 4.8MB/s eta 0:00:01\r\u001b[K     |██████▏                         | 215kB 4.8MB/s eta 0:00:01\r\u001b[K     |██████▍                         | 225kB 4.8MB/s eta 0:00:01\r\u001b[K     |██████▊                         | 235kB 4.8MB/s eta 0:00:01\r\u001b[K     |███████                         | 245kB 4.8MB/s eta 0:00:01\r\u001b[K     |███████▎                        | 256kB 4.8MB/s eta 0:00:01\r\u001b[K     |███████▋                        | 266kB 4.8MB/s eta 0:00:01\r\u001b[K     |████████                        | 276kB 4.8MB/s eta 0:00:01\r\u001b[K     |████████▏                       | 286kB 4.8MB/s eta 0:00:01\r\u001b[K     |████████▌                       | 296kB 4.8MB/s eta 0:00:01\r\u001b[K     |████████▉                       | 307kB 4.8MB/s eta 0:00:01\r\u001b[K     |█████████                       | 317kB 4.8MB/s eta 0:00:01\r\u001b[K     |█████████▍                      | 327kB 4.8MB/s eta 0:00:01\r\u001b[K     |█████████▋                      | 337kB 4.8MB/s eta 0:00:01\r\u001b[K     |██████████                      | 348kB 4.8MB/s eta 0:00:01\r\u001b[K     |██████████▎                     | 358kB 4.8MB/s eta 0:00:01\r\u001b[K     |██████████▌                     | 368kB 4.8MB/s eta 0:00:01\r\u001b[K     |██████████▉                     | 378kB 4.8MB/s eta 0:00:01\r\u001b[K     |███████████▏                    | 389kB 4.8MB/s eta 0:00:01\r\u001b[K     |███████████▍                    | 399kB 4.8MB/s eta 0:00:01\r\u001b[K     |███████████▊                    | 409kB 4.8MB/s eta 0:00:01\r\u001b[K     |████████████                    | 419kB 4.8MB/s eta 0:00:01\r\u001b[K     |████████████▎                   | 430kB 4.8MB/s eta 0:00:01\r\u001b[K     |████████████▋                   | 440kB 4.8MB/s eta 0:00:01\r\u001b[K     |████████████▉                   | 450kB 4.8MB/s eta 0:00:01\r\u001b[K     |█████████████▏                  | 460kB 4.8MB/s eta 0:00:01\r\u001b[K     |█████████████▌                  | 471kB 4.8MB/s eta 0:00:01\r\u001b[K     |█████████████▊                  | 481kB 4.8MB/s eta 0:00:01\r\u001b[K     |██████████████                  | 491kB 4.8MB/s eta 0:00:01\r\u001b[K     |██████████████▍                 | 501kB 4.8MB/s eta 0:00:01\r\u001b[K     |██████████████▋                 | 512kB 4.8MB/s eta 0:00:01\r\u001b[K     |███████████████                 | 522kB 4.8MB/s eta 0:00:01\r\u001b[K     |███████████████▏                | 532kB 4.8MB/s eta 0:00:01\r\u001b[K     |███████████████▌                | 542kB 4.8MB/s eta 0:00:01\r\u001b[K     |███████████████▉                | 552kB 4.8MB/s eta 0:00:01\r\u001b[K     |████████████████                | 563kB 4.8MB/s eta 0:00:01\r\u001b[K     |████████████████▍               | 573kB 4.8MB/s eta 0:00:01\r\u001b[K     |████████████████▊               | 583kB 4.8MB/s eta 0:00:01\r\u001b[K     |█████████████████               | 593kB 4.8MB/s eta 0:00:01\r\u001b[K     |█████████████████▎              | 604kB 4.8MB/s eta 0:00:01\r\u001b[K     |█████████████████▋              | 614kB 4.8MB/s eta 0:00:01\r\u001b[K     |█████████████████▉              | 624kB 4.8MB/s eta 0:00:01\r\u001b[K     |██████████████████▏             | 634kB 4.8MB/s eta 0:00:01\r\u001b[K     |██████████████████▍             | 645kB 4.8MB/s eta 0:00:01\r\u001b[K     |██████████████████▊             | 655kB 4.8MB/s eta 0:00:01\r\u001b[K     |███████████████████             | 665kB 4.8MB/s eta 0:00:01\r\u001b[K     |███████████████████▎            | 675kB 4.8MB/s eta 0:00:01\r\u001b[K     |███████████████████▋            | 686kB 4.8MB/s eta 0:00:01\r\u001b[K     |████████████████████            | 696kB 4.8MB/s eta 0:00:01\r\u001b[K     |████████████████████▏           | 706kB 4.8MB/s eta 0:00:01\r\u001b[K     |████████████████████▌           | 716kB 4.8MB/s eta 0:00:01\r\u001b[K     |████████████████████▉           | 727kB 4.8MB/s eta 0:00:01\r\u001b[K     |█████████████████████           | 737kB 4.8MB/s eta 0:00:01\r\u001b[K     |█████████████████████▍          | 747kB 4.8MB/s eta 0:00:01\r\u001b[K     |█████████████████████▋          | 757kB 4.8MB/s eta 0:00:01\r\u001b[K     |██████████████████████          | 768kB 4.8MB/s eta 0:00:01\r\u001b[K     |██████████████████████▎         | 778kB 4.8MB/s eta 0:00:01\r\u001b[K     |██████████████████████▌         | 788kB 4.8MB/s eta 0:00:01\r\u001b[K     |██████████████████████▉         | 798kB 4.8MB/s eta 0:00:01\r\u001b[K     |███████████████████████▏        | 808kB 4.8MB/s eta 0:00:01\r\u001b[K     |███████████████████████▍        | 819kB 4.8MB/s eta 0:00:01\r\u001b[K     |███████████████████████▊        | 829kB 4.8MB/s eta 0:00:01\r\u001b[K     |████████████████████████        | 839kB 4.8MB/s eta 0:00:01\r\u001b[K     |████████████████████████▎       | 849kB 4.8MB/s eta 0:00:01\r\u001b[K     |████████████████████████▋       | 860kB 4.8MB/s eta 0:00:01\r\u001b[K     |████████████████████████▉       | 870kB 4.8MB/s eta 0:00:01\r\u001b[K     |█████████████████████████▏      | 880kB 4.8MB/s eta 0:00:01\r\u001b[K     |█████████████████████████▌      | 890kB 4.8MB/s eta 0:00:01\r\u001b[K     |█████████████████████████▊      | 901kB 4.8MB/s eta 0:00:01\r\u001b[K     |██████████████████████████      | 911kB 4.8MB/s eta 0:00:01\r\u001b[K     |██████████████████████████▍     | 921kB 4.8MB/s eta 0:00:01\r\u001b[K     |██████████████████████████▋     | 931kB 4.8MB/s eta 0:00:01\r\u001b[K     |███████████████████████████     | 942kB 4.8MB/s eta 0:00:01\r\u001b[K     |███████████████████████████▏    | 952kB 4.8MB/s eta 0:00:01\r\u001b[K     |███████████████████████████▌    | 962kB 4.8MB/s eta 0:00:01\r\u001b[K     |███████████████████████████▉    | 972kB 4.8MB/s eta 0:00:01\r\u001b[K     |████████████████████████████    | 983kB 4.8MB/s eta 0:00:01\r\u001b[K     |████████████████████████████▍   | 993kB 4.8MB/s eta 0:00:01\r\u001b[K     |████████████████████████████▊   | 1.0MB 4.8MB/s eta 0:00:01\r\u001b[K     |█████████████████████████████   | 1.0MB 4.8MB/s eta 0:00:01\r\u001b[K     |█████████████████████████████▎  | 1.0MB 4.8MB/s eta 0:00:01\r\u001b[K     |█████████████████████████████▋  | 1.0MB 4.8MB/s eta 0:00:01\r\u001b[K     |█████████████████████████████▉  | 1.0MB 4.8MB/s eta 0:00:01\r\u001b[K     |██████████████████████████████▏ | 1.1MB 4.8MB/s eta 0:00:01\r\u001b[K     |██████████████████████████████▍ | 1.1MB 4.8MB/s eta 0:00:01\r\u001b[K     |██████████████████████████████▊ | 1.1MB 4.8MB/s eta 0:00:01\r\u001b[K     |███████████████████████████████ | 1.1MB 4.8MB/s eta 0:00:01\r\u001b[K     |███████████████████████████████▎| 1.1MB 4.8MB/s eta 0:00:01\r\u001b[K     |███████████████████████████████▋| 1.1MB 4.8MB/s eta 0:00:01\r\u001b[K     |████████████████████████████████| 1.1MB 4.8MB/s eta 0:00:01\r\u001b[K     |████████████████████████████████| 1.1MB 4.8MB/s \n",
            "\u001b[?25hRequirement already satisfied: numpy>=1.9.1 in /usr/local/lib/python3.6/dist-packages (from pyEDFlib) (1.17.4)\n",
            "Building wheels for collected packages: pyEDFlib\n",
            "  Building wheel for pyEDFlib (setup.py) ... \u001b[?25l\u001b[?25hdone\n",
            "  Created wheel for pyEDFlib: filename=pyEDFlib-0.1.15-cp36-cp36m-linux_x86_64.whl size=920118 sha256=bb733707af72f3d3451d365a54a77b7b4b5208f4841bdf4f159fa3671419486a\n",
            "  Stored in directory: /root/.cache/pip/wheels/57/e3/8e/ce6236e9ada08b8ff91ef922c7418dbd66f1182dfbb22f8579\n",
            "Successfully built pyEDFlib\n",
            "Installing collected packages: pyEDFlib\n",
            "Successfully installed pyEDFlib-0.1.15\n",
            "Requirement already satisfied: progressbar2 in /usr/local/lib/python3.6/dist-packages (3.38.0)\n",
            "Requirement already satisfied: python-utils>=2.3.0 in /usr/local/lib/python3.6/dist-packages (from progressbar2) (2.3.0)\n",
            "Requirement already satisfied: six in /usr/local/lib/python3.6/dist-packages (from progressbar2) (1.12.0)\n"
          ],
          "name": "stdout"
        }
      ]
    },
    {
      "cell_type": "markdown",
      "metadata": {
        "id": "-BNRjiy0hckX",
        "colab_type": "text"
      },
      "source": [
        "#Librerías"
      ]
    },
    {
      "cell_type": "code",
      "metadata": {
        "id": "dbliV9ktoI5F",
        "colab_type": "code",
        "colab": {}
      },
      "source": [
        "%tensorflow_version 1.x\n",
        "import tensorflow as tf\n",
        "import tensorflow.keras as keras\n",
        "\n",
        "from tensorflow.keras import Sequential\n",
        "from tensorflow.keras.layers import Dense\n",
        "from tensorflow.keras.layers import Dropout\n",
        "from tensorflow.keras.layers import Conv1D\n",
        "from tensorflow.keras.layers import MaxPooling1D\n",
        "from tensorflow.keras.layers import AveragePooling1D\n",
        "from tensorflow.keras.layers import GlobalAveragePooling1D\n",
        "from tensorflow.keras.layers import GlobalMaxPooling1D\n",
        "from tensorflow.keras.layers import Flatten\n",
        "from tensorflow.keras import optimizers\n",
        "from tensorflow.keras.regularizers import l2\n",
        "from tensorflow.keras.wrappers.scikit_learn import KerasClassifier\n",
        "\n",
        "import pandas as pd\n",
        "import pyedflib as pyedf\n",
        "import numpy as np\n",
        "import matplotlib.pyplot as plt\n",
        "import os\n",
        "import time\n",
        "from tqdm import tqdm\n",
        "import progressbar\n",
        "\n",
        "from sklearn.model_selection import train_test_split\n",
        "from sklearn.model_selection import GridSearchCV\n",
        "from sklearn.metrics import confusion_matrix \n",
        "from sklearn.ensemble import AdaBoostClassifier\n",
        "import sklearn as sk\n",
        "import itertools"
      ],
      "execution_count": 0,
      "outputs": []
    },
    {
      "cell_type": "markdown",
      "metadata": {
        "id": "NG1AdmN0FjVA",
        "colab_type": "text"
      },
      "source": [
        "#Clases"
      ]
    },
    {
      "cell_type": "code",
      "metadata": {
        "id": "rT-Z0AiyFiq-",
        "colab_type": "code",
        "colab": {}
      },
      "source": [
        "#Esta no esta terminada.\n",
        "class Resultados:\n",
        "    def __init__(self, p_y_pred, p_y_true):#, p_labels):\n",
        "        self.y_pred = p_y_pred\n",
        "        self.y_true = p_y_true\n",
        "        self.convertirClases()\n",
        "        #self.labels = p_labels\n",
        "\n",
        "    def convertirClases(self):\n",
        "      self.y_pred_convertidos = ((self.y_pred == 1) + (self.y_pred == 2)) + 2*((self.y_pred == 3) + (self.y_pred == 4)) + 3*(self.y_pred == 5)\n",
        "      self.y_true_convertidos = ((self.y_true == 1) + (self.y_true == 2)) + 2*((self.y_true == 3) + (self.y_true == 4)) + 3*(self.y_true == 5)\n",
        "\n",
        "    def darMatrizConfusion(self):\n",
        "      cm = confusion_matrix(self.y_pred, self.y_true)#, self.labels)\n",
        "      ax = plt.subplot()\n",
        "      sns.heatmap(cm, annot = True, ax = ax); #annot=True to annotate cells\n",
        "\n",
        "    def calcularError(self):\n",
        "      error = np.sum(self.y_pred_convertidos != self.y_true_convertidos)\n",
        "      error = error/len(self.y_pred_convertidos)\n",
        "\n",
        "      return error\n",
        "\n",
        "      "
      ],
      "execution_count": 0,
      "outputs": []
    },
    {
      "cell_type": "markdown",
      "metadata": {
        "id": "Aivhu85eoNx8",
        "colab_type": "text"
      },
      "source": [
        "#Lectura de los Datos"
      ]
    },
    {
      "cell_type": "code",
      "metadata": {
        "id": "Y9fVcGp6pV7W",
        "colab_type": "code",
        "colab": {}
      },
      "source": [
        "filenameDatos = \"drive/My Drive/sleep-cassette\"\n",
        "filenameDescripcion = \"drive/My Drive/SC-subjects.xls\"\n",
        "\n",
        "ArchivoLightsOff=pd.read_excel(filenameDescripcion, sheet_name='Blad1')\n",
        "\n",
        "TiempoLightsOff=ArchivoLightsOff[\"LightsOff\"].values\n",
        "TiempoLightsOffSegundos=TiempoLightsOff\n",
        "HorasSuenio=8\n",
        "\n",
        "for i in range (0, len(TiempoLightsOff)):\n",
        "  segundos=int(TiempoLightsOff[i].hour) * 3600 + int(TiempoLightsOff[i].minute) * 60\n",
        "  TiempoLightsOffSegundos[i]=segundos\n",
        "\n",
        "listaArchivos = os.listdir(filenameDatos)\n",
        "\n",
        "listaHypnograms = [i for i in listaArchivos if \"Hypnogram\" in i] \n",
        "listaPSGs = [i for i in listaArchivos if \"PSG\" in i]\n",
        "\n",
        "listaHypnograms.sort()\n",
        "listaPSGs.sort()\n",
        "\n",
        "print(\"Importando datos...\")\n",
        "\n",
        "start = time.time()\n",
        "\n",
        "Datos=np.zeros(3000)\n",
        "Etiquetas=[0]\n",
        "\n",
        "p = 0\n",
        "numArchivos = 10\n",
        "\n",
        "with progressbar.ProgressBar(max_value=numArchivos*960) as bar:\n",
        "  for i in range(0,numArchivos):#len(listaHypnograms)):\n",
        "\n",
        "    hyp = listaHypnograms[i]\n",
        "    psg = listaPSGs[i]\n",
        "\n",
        "    print(\"Hyp: {}, PSG: {}\".format(hyp,psg))\n",
        "\n",
        "    fileHyp = pyedf.EdfReader(filenameDatos + \"/\" + hyp)\n",
        "    filePSG = pyedf.EdfReader(filenameDatos + \"/\" + psg)\n",
        "\n",
        "    hypTime, hypDur, hypEtiqueta = fileHyp.readAnnotations()\n",
        "\n",
        "    tiempoComienzo = fileHyp.starttime_hour*3600+fileHyp.starttime_minute*60+fileHyp.starttime_second\n",
        "    offset=TiempoLightsOffSegundos[i]-tiempoComienzo\n",
        "    if offset<0:\n",
        "      offset+=24*3600\n",
        "    LimiteSuperior=offset+HorasSuenio*3600\n",
        "    ventana=30\n",
        "    tiempo=offset\n",
        "    j=0\n",
        "    referenciaSenial=0\n",
        "    FrecuenciaMuestreo = filePSG.getSampleFrequency(referenciaSenial)\n",
        "\n",
        "    while tiempo<LimiteSuperior:\n",
        "      if tiempo>hypTime[j]:\n",
        "        j+=1\n",
        "        \n",
        "      ventanaMuestra = np.round(FrecuenciaMuestreo * ventana)\n",
        "      muestraInicial = np.round(FrecuenciaMuestreo * tiempo)\n",
        "      senial=filePSG.readSignal(referenciaSenial)\n",
        "      senialActual=senial[muestraInicial:muestraInicial+ventanaMuestra]\n",
        "      etiquetaActual=hypEtiqueta[j]\n",
        "      Datos=np.vstack((Datos,senialActual))\n",
        "      #print((Datos).shape)\n",
        "      Etiquetas=np.vstack((Etiquetas,etiquetaActual))\n",
        "      tiempo+=ventana\n",
        "      p+=1\n",
        "      bar.update(p)\n",
        "\n",
        "    fileHyp._close() \n",
        "    filePSG._close()\n",
        "#print(listaHypnograms)\n",
        "#print(listaPSGs)\n",
        "\n",
        "print(\"Termino.\")\n",
        "print(\"Tiempo: {} segundos.\".format(time.time()-start))"
      ],
      "execution_count": 0,
      "outputs": []
    },
    {
      "cell_type": "code",
      "metadata": {
        "id": "zTq6m6HZqImV",
        "colab_type": "code",
        "colab": {}
      },
      "source": [
        "def appendDatos(pDatos1, pDatos2, pDatos3):\n",
        "  Datos_Generales=np.zeros((pDatos1.shape[0],3000,3))\n",
        "\n",
        "  for i in progressbar.progressbar(range(0,pDatos1.shape[0])):\n",
        "\n",
        "    Datos_Generales[i,:,0]=pDatos1[i]\n",
        "    Datos_Generales[i,:,1]=pDatos2[i]\n",
        "    Datos_Generales[i,:,2]=pDatos3[i]\n",
        "    \n",
        "  return Datos_Generales\n"
      ],
      "execution_count": 0,
      "outputs": []
    },
    {
      "cell_type": "code",
      "metadata": {
        "id": "oXKEo6bq2c_m",
        "colab_type": "code",
        "outputId": "6270fae6-0714-416e-ec3f-924b3bf2e4b7",
        "colab": {
          "base_uri": "https://localhost:8080/",
          "height": 35
        }
      },
      "source": [
        "test = appendDatos(Datos1, Datos2, Datos3)"
      ],
      "execution_count": 0,
      "outputs": [
        {
          "output_type": "execute_result",
          "data": {
            "text/plain": [
              "(3, 3000, 8864)"
            ]
          },
          "metadata": {
            "tags": []
          },
          "execution_count": 56
        }
      ]
    },
    {
      "cell_type": "code",
      "metadata": {
        "id": "xhi9yZL7jWbY",
        "colab_type": "code",
        "outputId": "e2d04f6c-e10f-4559-9144-74e60eeb1109",
        "colab": {
          "base_uri": "https://localhost:8080/",
          "height": 35
        }
      },
      "source": [
        "#filePSG = pyedf.EdfReader(filenameDatos + \"/\" + psg)\n",
        "#filePSG._close()\n",
        "filenameDatos + \"/\" + psg"
      ],
      "execution_count": 0,
      "outputs": [
        {
          "output_type": "execute_result",
          "data": {
            "text/plain": [
              "'drive/My Drive/sleep-cassette/SC4002E0-PSG.edf'"
            ]
          },
          "metadata": {
            "tags": []
          },
          "execution_count": 16
        }
      ]
    },
    {
      "cell_type": "code",
      "metadata": {
        "id": "kf3DBKIQpPy6",
        "colab_type": "code",
        "colab": {}
      },
      "source": [
        "#Esto solo se corre una vez.\n",
        "Etiquetas = Etiquetas[1:len(Etiquetas)]\n",
        "Datos = Datos[1:Datos.shape[0]]"
      ],
      "execution_count": 0,
      "outputs": []
    },
    {
      "cell_type": "code",
      "metadata": {
        "id": "vqNHjkpQM14h",
        "colab_type": "code",
        "colab": {}
      },
      "source": [
        "numArchivos = 10\n",
        "def eliminarClaseDesconocida(pDatos, pEtiquetas):\n",
        "  et = []\n",
        "  dat = np.zeros(3000)\n",
        "\n",
        "  with progressbar.ProgressBar(max_value=numArchivos*960) as bar:\n",
        "    for i in range(0, len(pEtiquetas)):\n",
        "      bar.update(i)\n",
        "      if pEtiquetas[i] != 'Sleep stage ?':\n",
        "        \n",
        "        if pEtiquetas[i]==\"Sleep stage W\":\n",
        "          et = np.append(et,0)\n",
        "          dat = np.vstack((dat, pDatos[i,:]))\n",
        "        elif pEtiquetas[i]==\"Sleep stage 1\":\n",
        "          et = np.append(et,1)\n",
        "          dat = np.vstack((dat, pDatos[i,:]))\n",
        "        elif pEtiquetas[i]==\"Sleep stage 2\":\n",
        "          et = np.append(et,2)\n",
        "          dat = np.vstack((dat, pDatos[i,:]))\n",
        "        elif pEtiquetas[i]==\"Sleep stage 3\":\n",
        "          et = np.append(et,3)\n",
        "          dat = np.vstack((dat, pDatos[i,:]))\n",
        "        elif pEtiquetas[i]==\"Sleep stage 4\":\n",
        "          et = np.append(et,4)\n",
        "          dat = np.vstack((dat, pDatos[i,:]))\n",
        "        elif pEtiquetas[i]==\"Sleep stage R\":\n",
        "          et = np.append(et,5)\n",
        "          dat = np.vstack((dat, pDatos[i,:]))\n",
        "        else:\n",
        "          pass\n",
        "          #print(\"Hay una clase distinta a las definidas.\")\n",
        "\n",
        "  dat = dat[1:dat.shape[0]]\n",
        "  return dat, et\n",
        "\n",
        "#Datos1, Etiquetas = eliminarClaseDesconocida(unosDatos, unosEtiquetas)\n",
        "#np.save(\"Datos\", unosDatos)\n",
        "#np.save(\"Etiquetas\", unosEtiquetas)\n",
        "\n",
        "#print(len(unosEtiquetas))\n",
        "#print(len(unosDatos))"
      ],
      "execution_count": 0,
      "outputs": []
    },
    {
      "cell_type": "markdown",
      "metadata": {
        "id": "hzhUvNhtoToM",
        "colab_type": "text"
      },
      "source": [
        "#Entrenamiento del Modelo"
      ]
    },
    {
      "cell_type": "code",
      "metadata": {
        "id": "EuS9aI-kWy-v",
        "colab_type": "code",
        "colab": {}
      },
      "source": [
        "#unosEtiquetas=np.load(\"drive/My Drive/Etiquetas.npy\")\n",
        "#unosDatos=np.load(\"drive/My Drive/Datos.npy\")\n",
        "#np.save(\"drive/My Drive/Datos1\", Datos1)\n",
        "#np.save(\"drive/My Drive/Etiquetas\", unosEtiquetas)\n",
        "#np.save(\"drive/My Drive/Etiquetas\", unosEtiquetas)\n",
        "#Datos1 = np.load(\"drive/My Drive/Datos1.npy\")\n",
        "#Datos2 = np.load(\"drive/My Drive/Datos2.npy\")\n",
        "#Datos3 = np.load(\"drive/My Drive/Datos3.npy\")\n",
        "\n",
        "#Datos1, unosEtiquetas = eliminarClaseDesconocida(Datos1, unosEtiquetas)\n",
        "\n",
        "#unosDatos = appendDatos(Datos1, Datos2, Datos3)\n",
        "#np.save(\"drive/My Drive/DatosCompletos.npy\", unosDatos)\n",
        "unosDatos = np.load(\"drive/My Drive/DatosCompletos.npy\")\n",
        "unosEtiquetas=np.load(\"drive/My Drive/Etiquetas.npy\")"
      ],
      "execution_count": 0,
      "outputs": []
    },
    {
      "cell_type": "code",
      "metadata": {
        "id": "Z1l-HpMoSXCv",
        "colab_type": "code",
        "outputId": "998be201-2262-4bf6-b988-aa45617f5397",
        "colab": {
          "base_uri": "https://localhost:8080/",
          "height": 35
        }
      },
      "source": [
        "unosEtiquetas.shape"
      ],
      "execution_count": 0,
      "outputs": [
        {
          "output_type": "execute_result",
          "data": {
            "text/plain": [
              "(8864,)"
            ]
          },
          "metadata": {
            "tags": []
          },
          "execution_count": 12
        }
      ]
    },
    {
      "cell_type": "code",
      "metadata": {
        "id": "q3whNaa5S7ka",
        "colab_type": "code",
        "outputId": "5bcf8c33-bbce-4bc2-d639-b881c31de43b",
        "colab": {
          "base_uri": "https://localhost:8080/",
          "height": 35
        }
      },
      "source": [
        "unosDatos.shape"
      ],
      "execution_count": 0,
      "outputs": [
        {
          "output_type": "execute_result",
          "data": {
            "text/plain": [
              "(8864, 3000, 3)"
            ]
          },
          "metadata": {
            "tags": []
          },
          "execution_count": 62
        }
      ]
    },
    {
      "cell_type": "code",
      "metadata": {
        "id": "0b1TTqXl1eEZ",
        "colab_type": "code",
        "outputId": "edfbdd90-22b2-426e-e7d4-f2a008c3fc88",
        "colab": {
          "base_uri": "https://localhost:8080/",
          "height": 142
        }
      },
      "source": [
        "unosDatos[1,:,:]"
      ],
      "execution_count": 0,
      "outputs": [
        {
          "output_type": "execute_result",
          "data": {
            "text/plain": [
              "array([[ -24.70915751,  -11.87252747, -130.34456654],\n",
              "       [ -23.67765568,   -7.64981685, -129.35897436],\n",
              "       [ -22.64615385,  -11.39267399, -126.89499389],\n",
              "       ...,\n",
              "       [   5.01684982,    2.23516484,   17.0014652 ],\n",
              "       [   5.67326007,   -3.61904762,    1.23199023],\n",
              "       [  16.73846154,  -16.57509158,   -2.21758242]])"
            ]
          },
          "metadata": {
            "tags": []
          },
          "execution_count": 63
        }
      ]
    },
    {
      "cell_type": "code",
      "metadata": {
        "id": "1SZKHJ8m1003",
        "colab_type": "code",
        "outputId": "9714609e-99e8-4b9a-a124-c384219d898a",
        "colab": {
          "base_uri": "https://localhost:8080/",
          "height": 53
        }
      },
      "source": [
        "Datos3[0,:]"
      ],
      "execution_count": 0,
      "outputs": [
        {
          "output_type": "execute_result",
          "data": {
            "text/plain": [
              "array([  45.09084249,   42.62686203,   58.88913309, ..., -171.24664225,\n",
              "       -128.37338217,  -89.93528694])"
            ]
          },
          "metadata": {
            "tags": []
          },
          "execution_count": 49
        }
      ]
    },
    {
      "cell_type": "code",
      "metadata": {
        "id": "7gpvaGVTVhg8",
        "colab_type": "code",
        "outputId": "0a789ec1-f7d9-4678-8c44-0e7002c2feb2",
        "colab": {
          "base_uri": "https://localhost:8080/",
          "height": 35
        }
      },
      "source": [
        "#x_train, x_test, y_train, y_test = train_test_split(np.transpose(unosDatos), unosEtiquetas , random_state = 0, test_size=0.10)\n",
        "#x_train = np.expand_dims(np.transpose(x_train), axis=3) # reshape (569, 30) to (569, 30, 1) \n",
        "\n",
        "print(x_train.shape)"
      ],
      "execution_count": 0,
      "outputs": [
        {
          "output_type": "stream",
          "text": [
            "(7977, 3000, 3)\n"
          ],
          "name": "stdout"
        }
      ]
    },
    {
      "cell_type": "markdown",
      "metadata": {
        "id": "ZNDN_jn4GUq2",
        "colab_type": "text"
      },
      "source": [
        "#Implementación en Keras"
      ]
    },
    {
      "cell_type": "markdown",
      "metadata": {
        "id": "Lr8mo_2xZolJ",
        "colab_type": "text"
      },
      "source": [
        "Se separan los datos de entrenamiento y validación"
      ]
    },
    {
      "cell_type": "code",
      "metadata": {
        "id": "hARh2hKqpioi",
        "colab_type": "code",
        "colab": {}
      },
      "source": [
        "x_train, x_test, y_train, y_test = train_test_split(unosDatos, unosEtiquetas , random_state = 0, test_size=0.10)\n",
        "#x_train = np.expand_dims(np.transpose(x_train), axis=3) # reshape (569, 30) to (569, 30, 1) \n",
        "#x_test = np.expand_dims(np.transpose(x_test), axis=3) # reshape (569, 30) to (569, 30, 1) "
      ],
      "execution_count": 0,
      "outputs": []
    },
    {
      "cell_type": "markdown",
      "metadata": {
        "id": "tp7kfuqjTA38",
        "colab_type": "text"
      },
      "source": [
        "Creación del modelo"
      ]
    },
    {
      "cell_type": "code",
      "metadata": {
        "id": "R54HzoQ0LDZ0",
        "colab_type": "code",
        "outputId": "0c7f9847-3552-48be-e844-2ac2776d1ed8",
        "colab": {
          "base_uri": "https://localhost:8080/",
          "height": 553
        }
      },
      "source": [
        "def crearModelo(pTasa, pAlpha, pNumFiltros, pTamFiltros, pTamPooling, pNumNeuronas, pOptimizer):\n",
        "  #Numero de clases\n",
        "  numClases = 4\n",
        "\n",
        "  modelo = Sequential()\n",
        "\n",
        "  #Esto corresponderia a la parte convolucional.\n",
        "  #modelo.add(Conv1D(pNumFiltros[0], int(pTamFiltros[0]), activation = 'relu', input_shape = (3000,1)))\n",
        "  modelo.add(Conv1D(pNumFiltros[0], int(pTamFiltros[0]), activation = 'relu', input_shape = (3000,3)))\n",
        "  #modelo.add(MaxPooling1D(int(pTamPooling[0])))\n",
        "  modelo.add(Conv1D(pNumFiltros[1], int(pTamFiltros[1]), activation = 'relu'))\n",
        "  modelo.add(MaxPooling1D(int(pTamPooling[0])))\n",
        "  modelo.add(Conv1D(pNumFiltros[2], int(pTamFiltros[2]), activation = 'relu'))\n",
        "  modelo.add(Conv1D(pNumFiltros[3], int(pTamFiltros[3]), activation = 'relu'))\n",
        "  modelo.add(AveragePooling1D(int(pTamPooling[1])))\n",
        "  modelo.add(Conv1D(pNumFiltros[4], int(pTamFiltros[4]), activation = 'relu'))\n",
        "  modelo.add(Conv1D(pNumFiltros[5], int(pTamFiltros[5]), activation = 'relu'))\n",
        "  #modelo.add(GlobalAveragePooling1D())\n",
        "  modelo.add(GlobalMaxPooling1D())\n",
        "  #modelo.add(MaxPooling1D(int(pTamPooling[2])))\n",
        "  #modelo.add(Flatten())\n",
        "\n",
        "  #Esto corresponderia a la parte de red neuronal normalita. (Puse cualquier cosa por ahora)\n",
        "  #modelo.add(Dropout(0.5))\n",
        "  modelo.add(Dense(pNumNeuronas[0], activation = 'relu'))\n",
        "  #modelo.add(Dropout(0.5))\n",
        "  #modelo.add(Dense(pNumNeuronas[1], activation = 'relu'))#, activity_regularizer=l2(pAlpha)))\n",
        "  #modelo.add(Dense(pNumNeuronas[2], activation = 'relu', activity_regularizer=l2(pAlpha)))\n",
        "  modelo.add(Dense(numClases, activation = 'softmax', activity_regularizer = l2(pAlpha)))\n",
        "\n",
        "  sgd = optimizers.SGD(lr = pTasa, momentum=0.9)\n",
        "  adam = optimizers.Adam(learning_rate = pTasa)\n",
        "  if pOptimizer == \"adam\":\n",
        "    opt=adam\n",
        "  elif pOptimizer ==\"sgd\":\n",
        "    opt=sgd\n",
        "  elif pOptimizer ==\"rmsprop\":\n",
        "    opt = \"rmsprop\"\n",
        "  \n",
        "  modelo.compile(loss='sparse_categorical_crossentropy', optimizer = opt, metrics = ['sparse_categorical_accuracy'])\n",
        "  #modelo.summary()\n",
        "\n",
        "  return modelo\n",
        "\n",
        "modelo = crearModelo(tasa, alpha, numFiltros, tamFiltros, tamPooling ,numNeuronas, optimizer)\n",
        "modelo.summary()"
      ],
      "execution_count": 68,
      "outputs": [
        {
          "output_type": "stream",
          "text": [
            "Model: \"sequential_42\"\n",
            "_________________________________________________________________\n",
            "Layer (type)                 Output Shape              Param #   \n",
            "=================================================================\n",
            "conv1d_234 (Conv1D)          (None, 2991, 10)          310       \n",
            "_________________________________________________________________\n",
            "conv1d_235 (Conv1D)          (None, 2982, 10)          1010      \n",
            "_________________________________________________________________\n",
            "max_pooling1d_47 (MaxPooling (None, 298, 10)           0         \n",
            "_________________________________________________________________\n",
            "conv1d_236 (Conv1D)          (None, 291, 8)            648       \n",
            "_________________________________________________________________\n",
            "conv1d_237 (Conv1D)          (None, 284, 8)            520       \n",
            "_________________________________________________________________\n",
            "average_pooling1d_36 (Averag (None, 35, 8)             0         \n",
            "_________________________________________________________________\n",
            "conv1d_238 (Conv1D)          (None, 30, 6)             294       \n",
            "_________________________________________________________________\n",
            "conv1d_239 (Conv1D)          (None, 25, 6)             222       \n",
            "_________________________________________________________________\n",
            "global_max_pooling1d_16 (Glo (None, 6)                 0         \n",
            "_________________________________________________________________\n",
            "dense_40 (Dense)             (None, 30)                210       \n",
            "_________________________________________________________________\n",
            "dense_41 (Dense)             (None, 4)                 124       \n",
            "=================================================================\n",
            "Total params: 3,338\n",
            "Trainable params: 3,338\n",
            "Non-trainable params: 0\n",
            "_________________________________________________________________\n"
          ],
          "name": "stdout"
        }
      ]
    },
    {
      "cell_type": "code",
      "metadata": {
        "id": "M46eR6ELpaJ2",
        "colab_type": "code",
        "outputId": "e9c06d0c-7cba-4f5c-8a4a-97b251dd47c7",
        "colab": {
          "base_uri": "https://localhost:8080/",
          "height": 1000
        }
      },
      "source": [
        "numFiltros = np.array([10, 10, 8, 8, 6, 6])\n",
        "tamFiltros = np.array([10, 10, 8, 8, 6, 6])\n",
        "tamPooling = np.array([10, 8, 6])\n",
        "optimizer=\"adam\"\n",
        "numNeuronas = np.array([30, 20, 10])\n",
        "\n",
        "tasa = 0.001\n",
        "alpha = 0.01\n",
        "\n",
        "modelo = crearModelo(tasa, alpha, numFiltros, tamFiltros, tamPooling ,numNeuronas, optimizer)\n",
        "\n",
        "epocas = 100\n",
        "batchSize = 128\n",
        "hist = modelo.fit(x_train, y_train, verbose = 1, validation_data=(x_test, y_test), epochs = epocas, batch_size = batchSize)\n",
        "\n",
        "graficarHistoria(hist)"
      ],
      "execution_count": 69,
      "outputs": [
        {
          "output_type": "stream",
          "text": [
            "Train on 7977 samples, validate on 887 samples\n",
            "Epoch 1/100\n",
            "7977/7977 [==============================] - 2s 303us/sample - loss: 1.2143 - sparse_categorical_accuracy: 0.4814 - val_loss: 1.2088 - val_sparse_categorical_accuracy: 0.4961\n",
            "Epoch 2/100\n",
            "7977/7977 [==============================] - 1s 114us/sample - loss: 1.0615 - sparse_categorical_accuracy: 0.5800 - val_loss: 1.1387 - val_sparse_categorical_accuracy: 0.5186\n",
            "Epoch 3/100\n",
            "7977/7977 [==============================] - 1s 114us/sample - loss: 1.0283 - sparse_categorical_accuracy: 0.5906 - val_loss: 1.1206 - val_sparse_categorical_accuracy: 0.5333\n",
            "Epoch 4/100\n",
            "7977/7977 [==============================] - 1s 112us/sample - loss: 1.0120 - sparse_categorical_accuracy: 0.6029 - val_loss: 1.1059 - val_sparse_categorical_accuracy: 0.5490\n",
            "Epoch 5/100\n",
            "7977/7977 [==============================] - 1s 115us/sample - loss: 0.9979 - sparse_categorical_accuracy: 0.6123 - val_loss: 1.0951 - val_sparse_categorical_accuracy: 0.5547\n",
            "Epoch 6/100\n",
            "7977/7977 [==============================] - 1s 114us/sample - loss: 0.9818 - sparse_categorical_accuracy: 0.6230 - val_loss: 1.0809 - val_sparse_categorical_accuracy: 0.5490\n",
            "Epoch 7/100\n",
            "7977/7977 [==============================] - 1s 115us/sample - loss: 0.9735 - sparse_categorical_accuracy: 0.6237 - val_loss: 1.0870 - val_sparse_categorical_accuracy: 0.5614\n",
            "Epoch 8/100\n",
            "7977/7977 [==============================] - 1s 117us/sample - loss: 0.9618 - sparse_categorical_accuracy: 0.6259 - val_loss: 1.0677 - val_sparse_categorical_accuracy: 0.5671\n",
            "Epoch 9/100\n",
            "7977/7977 [==============================] - 1s 117us/sample - loss: 0.9584 - sparse_categorical_accuracy: 0.6287 - val_loss: 1.0863 - val_sparse_categorical_accuracy: 0.5626\n",
            "Epoch 10/100\n",
            "7977/7977 [==============================] - 1s 114us/sample - loss: 0.9557 - sparse_categorical_accuracy: 0.6282 - val_loss: 1.0566 - val_sparse_categorical_accuracy: 0.5738\n",
            "Epoch 11/100\n",
            "7977/7977 [==============================] - 1s 117us/sample - loss: 0.9465 - sparse_categorical_accuracy: 0.6301 - val_loss: 1.0740 - val_sparse_categorical_accuracy: 0.5637\n",
            "Epoch 12/100\n",
            "7977/7977 [==============================] - 1s 117us/sample - loss: 0.9404 - sparse_categorical_accuracy: 0.6322 - val_loss: 1.0858 - val_sparse_categorical_accuracy: 0.5592\n",
            "Epoch 13/100\n",
            "7977/7977 [==============================] - 1s 113us/sample - loss: 0.9395 - sparse_categorical_accuracy: 0.6323 - val_loss: 1.0692 - val_sparse_categorical_accuracy: 0.5750\n",
            "Epoch 14/100\n",
            "7977/7977 [==============================] - 1s 114us/sample - loss: 0.9338 - sparse_categorical_accuracy: 0.6363 - val_loss: 1.0711 - val_sparse_categorical_accuracy: 0.5727\n",
            "Epoch 15/100\n",
            "7977/7977 [==============================] - 1s 116us/sample - loss: 0.9263 - sparse_categorical_accuracy: 0.6351 - val_loss: 1.0644 - val_sparse_categorical_accuracy: 0.5660\n",
            "Epoch 16/100\n",
            "7977/7977 [==============================] - 1s 115us/sample - loss: 0.9233 - sparse_categorical_accuracy: 0.6388 - val_loss: 1.0554 - val_sparse_categorical_accuracy: 0.5817\n",
            "Epoch 17/100\n",
            "7977/7977 [==============================] - 1s 113us/sample - loss: 0.9241 - sparse_categorical_accuracy: 0.6378 - val_loss: 1.0566 - val_sparse_categorical_accuracy: 0.5660\n",
            "Epoch 18/100\n",
            "7977/7977 [==============================] - 1s 116us/sample - loss: 0.9253 - sparse_categorical_accuracy: 0.6356 - val_loss: 1.0650 - val_sparse_categorical_accuracy: 0.5750\n",
            "Epoch 19/100\n",
            "7977/7977 [==============================] - 1s 113us/sample - loss: 0.9138 - sparse_categorical_accuracy: 0.6403 - val_loss: 1.0573 - val_sparse_categorical_accuracy: 0.5682\n",
            "Epoch 20/100\n",
            "7977/7977 [==============================] - 1s 118us/sample - loss: 0.9121 - sparse_categorical_accuracy: 0.6423 - val_loss: 1.0638 - val_sparse_categorical_accuracy: 0.5705\n",
            "Epoch 21/100\n",
            "7977/7977 [==============================] - 1s 117us/sample - loss: 0.9179 - sparse_categorical_accuracy: 0.6376 - val_loss: 1.0619 - val_sparse_categorical_accuracy: 0.5705\n",
            "Epoch 22/100\n",
            "7977/7977 [==============================] - 1s 117us/sample - loss: 0.9044 - sparse_categorical_accuracy: 0.6445 - val_loss: 1.0989 - val_sparse_categorical_accuracy: 0.5648\n",
            "Epoch 23/100\n",
            "7977/7977 [==============================] - 1s 113us/sample - loss: 0.9109 - sparse_categorical_accuracy: 0.6392 - val_loss: 1.1299 - val_sparse_categorical_accuracy: 0.5569\n",
            "Epoch 24/100\n",
            "7977/7977 [==============================] - 1s 114us/sample - loss: 0.9064 - sparse_categorical_accuracy: 0.6412 - val_loss: 1.0501 - val_sparse_categorical_accuracy: 0.5660\n",
            "Epoch 25/100\n",
            "7977/7977 [==============================] - 1s 127us/sample - loss: 0.8989 - sparse_categorical_accuracy: 0.6445 - val_loss: 1.0970 - val_sparse_categorical_accuracy: 0.5671\n",
            "Epoch 26/100\n",
            "7977/7977 [==============================] - 1s 127us/sample - loss: 0.9002 - sparse_categorical_accuracy: 0.6441 - val_loss: 1.0635 - val_sparse_categorical_accuracy: 0.5761\n",
            "Epoch 27/100\n",
            "7977/7977 [==============================] - 1s 127us/sample - loss: 0.9004 - sparse_categorical_accuracy: 0.6442 - val_loss: 1.0684 - val_sparse_categorical_accuracy: 0.5614\n",
            "Epoch 28/100\n",
            "7977/7977 [==============================] - 1s 120us/sample - loss: 0.8911 - sparse_categorical_accuracy: 0.6481 - val_loss: 1.0504 - val_sparse_categorical_accuracy: 0.5648\n",
            "Epoch 29/100\n",
            "7977/7977 [==============================] - 1s 117us/sample - loss: 0.8836 - sparse_categorical_accuracy: 0.6482 - val_loss: 1.0525 - val_sparse_categorical_accuracy: 0.5626\n",
            "Epoch 30/100\n",
            "7977/7977 [==============================] - 1s 115us/sample - loss: 0.8802 - sparse_categorical_accuracy: 0.6533 - val_loss: 1.0780 - val_sparse_categorical_accuracy: 0.5693\n",
            "Epoch 31/100\n",
            "7977/7977 [==============================] - 1s 117us/sample - loss: 0.8838 - sparse_categorical_accuracy: 0.6495 - val_loss: 1.0554 - val_sparse_categorical_accuracy: 0.5727\n",
            "Epoch 32/100\n",
            "7977/7977 [==============================] - 1s 117us/sample - loss: 0.8786 - sparse_categorical_accuracy: 0.6545 - val_loss: 1.0462 - val_sparse_categorical_accuracy: 0.5750\n",
            "Epoch 33/100\n",
            "7977/7977 [==============================] - 1s 127us/sample - loss: 0.8744 - sparse_categorical_accuracy: 0.6566 - val_loss: 1.0715 - val_sparse_categorical_accuracy: 0.5682\n",
            "Epoch 34/100\n",
            "7977/7977 [==============================] - 1s 127us/sample - loss: 0.8684 - sparse_categorical_accuracy: 0.6545 - val_loss: 1.0615 - val_sparse_categorical_accuracy: 0.5671\n",
            "Epoch 35/100\n",
            "7977/7977 [==============================] - 1s 126us/sample - loss: 0.8653 - sparse_categorical_accuracy: 0.6586 - val_loss: 1.0517 - val_sparse_categorical_accuracy: 0.5626\n",
            "Epoch 36/100\n",
            "7977/7977 [==============================] - 1s 124us/sample - loss: 0.8587 - sparse_categorical_accuracy: 0.6619 - val_loss: 1.0563 - val_sparse_categorical_accuracy: 0.5671\n",
            "Epoch 37/100\n",
            "7977/7977 [==============================] - 1s 118us/sample - loss: 0.8596 - sparse_categorical_accuracy: 0.6580 - val_loss: 1.0786 - val_sparse_categorical_accuracy: 0.5648\n",
            "Epoch 38/100\n",
            "7977/7977 [==============================] - 1s 118us/sample - loss: 0.8685 - sparse_categorical_accuracy: 0.6533 - val_loss: 1.0905 - val_sparse_categorical_accuracy: 0.5671\n",
            "Epoch 39/100\n",
            "7977/7977 [==============================] - 1s 117us/sample - loss: 0.8542 - sparse_categorical_accuracy: 0.6665 - val_loss: 1.0597 - val_sparse_categorical_accuracy: 0.5693\n",
            "Epoch 40/100\n",
            "7977/7977 [==============================] - 1s 116us/sample - loss: 0.8509 - sparse_categorical_accuracy: 0.6623 - val_loss: 1.0833 - val_sparse_categorical_accuracy: 0.5660\n",
            "Epoch 41/100\n",
            "7977/7977 [==============================] - 1s 116us/sample - loss: 0.8523 - sparse_categorical_accuracy: 0.6648 - val_loss: 1.0555 - val_sparse_categorical_accuracy: 0.5795\n",
            "Epoch 42/100\n",
            "7977/7977 [==============================] - 1s 119us/sample - loss: 0.8414 - sparse_categorical_accuracy: 0.6697 - val_loss: 1.0672 - val_sparse_categorical_accuracy: 0.5705\n",
            "Epoch 43/100\n",
            "7977/7977 [==============================] - 1s 116us/sample - loss: 0.8415 - sparse_categorical_accuracy: 0.6679 - val_loss: 1.0680 - val_sparse_categorical_accuracy: 0.5660\n",
            "Epoch 44/100\n",
            "7977/7977 [==============================] - 1s 117us/sample - loss: 0.8468 - sparse_categorical_accuracy: 0.6706 - val_loss: 1.0676 - val_sparse_categorical_accuracy: 0.5513\n",
            "Epoch 45/100\n",
            "7977/7977 [==============================] - 1s 114us/sample - loss: 0.8495 - sparse_categorical_accuracy: 0.6614 - val_loss: 1.0656 - val_sparse_categorical_accuracy: 0.5558\n",
            "Epoch 46/100\n",
            "7977/7977 [==============================] - 1s 119us/sample - loss: 0.8382 - sparse_categorical_accuracy: 0.6644 - val_loss: 1.0682 - val_sparse_categorical_accuracy: 0.5660\n",
            "Epoch 47/100\n",
            "7977/7977 [==============================] - 1s 115us/sample - loss: 0.8323 - sparse_categorical_accuracy: 0.6747 - val_loss: 1.0881 - val_sparse_categorical_accuracy: 0.5547\n",
            "Epoch 48/100\n",
            "7977/7977 [==============================] - 1s 118us/sample - loss: 0.8289 - sparse_categorical_accuracy: 0.6764 - val_loss: 1.0838 - val_sparse_categorical_accuracy: 0.5603\n",
            "Epoch 49/100\n",
            "7977/7977 [==============================] - 1s 117us/sample - loss: 0.8237 - sparse_categorical_accuracy: 0.6741 - val_loss: 1.0871 - val_sparse_categorical_accuracy: 0.5479\n",
            "Epoch 50/100\n",
            "7977/7977 [==============================] - 1s 118us/sample - loss: 0.8299 - sparse_categorical_accuracy: 0.6747 - val_loss: 1.0888 - val_sparse_categorical_accuracy: 0.5614\n",
            "Epoch 51/100\n",
            "7977/7977 [==============================] - 1s 118us/sample - loss: 0.8234 - sparse_categorical_accuracy: 0.6768 - val_loss: 1.0920 - val_sparse_categorical_accuracy: 0.5671\n",
            "Epoch 52/100\n",
            "7977/7977 [==============================] - 1s 117us/sample - loss: 0.8145 - sparse_categorical_accuracy: 0.6792 - val_loss: 1.0800 - val_sparse_categorical_accuracy: 0.5626\n",
            "Epoch 53/100\n",
            "7977/7977 [==============================] - 1s 119us/sample - loss: 0.8153 - sparse_categorical_accuracy: 0.6793 - val_loss: 1.0752 - val_sparse_categorical_accuracy: 0.5536\n",
            "Epoch 54/100\n",
            "7977/7977 [==============================] - 1s 118us/sample - loss: 0.8125 - sparse_categorical_accuracy: 0.6820 - val_loss: 1.0988 - val_sparse_categorical_accuracy: 0.5750\n",
            "Epoch 55/100\n",
            "7977/7977 [==============================] - 1s 117us/sample - loss: 0.8079 - sparse_categorical_accuracy: 0.6840 - val_loss: 1.0853 - val_sparse_categorical_accuracy: 0.5682\n",
            "Epoch 56/100\n",
            "7977/7977 [==============================] - 1s 117us/sample - loss: 0.8107 - sparse_categorical_accuracy: 0.6832 - val_loss: 1.0844 - val_sparse_categorical_accuracy: 0.5750\n",
            "Epoch 57/100\n",
            "7977/7977 [==============================] - 1s 115us/sample - loss: 0.8087 - sparse_categorical_accuracy: 0.6850 - val_loss: 1.0955 - val_sparse_categorical_accuracy: 0.5682\n",
            "Epoch 58/100\n",
            "7977/7977 [==============================] - 1s 116us/sample - loss: 0.8062 - sparse_categorical_accuracy: 0.6855 - val_loss: 1.0867 - val_sparse_categorical_accuracy: 0.5693\n",
            "Epoch 59/100\n",
            "7977/7977 [==============================] - 1s 116us/sample - loss: 0.8104 - sparse_categorical_accuracy: 0.6797 - val_loss: 1.1206 - val_sparse_categorical_accuracy: 0.5581\n",
            "Epoch 60/100\n",
            "7977/7977 [==============================] - 1s 119us/sample - loss: 0.7964 - sparse_categorical_accuracy: 0.6884 - val_loss: 1.1080 - val_sparse_categorical_accuracy: 0.5547\n",
            "Epoch 61/100\n",
            "1664/7977 [=====>........................] - ETA: 0s - loss: 0.7655 - sparse_categorical_accuracy: 0.7163"
          ],
          "name": "stdout"
        },
        {
          "output_type": "error",
          "ename": "KeyboardInterrupt",
          "evalue": "ignored",
          "traceback": [
            "\u001b[0;31m---------------------------------------------------------------------------\u001b[0m",
            "\u001b[0;31mKeyboardInterrupt\u001b[0m                         Traceback (most recent call last)",
            "\u001b[0;32m<ipython-input-69-e75e5a47006b>\u001b[0m in \u001b[0;36m<module>\u001b[0;34m()\u001b[0m\n\u001b[1;32m     12\u001b[0m \u001b[0mepocas\u001b[0m \u001b[0;34m=\u001b[0m \u001b[0;36m100\u001b[0m\u001b[0;34m\u001b[0m\u001b[0;34m\u001b[0m\u001b[0m\n\u001b[1;32m     13\u001b[0m \u001b[0mbatchSize\u001b[0m \u001b[0;34m=\u001b[0m \u001b[0;36m128\u001b[0m\u001b[0;34m\u001b[0m\u001b[0;34m\u001b[0m\u001b[0m\n\u001b[0;32m---> 14\u001b[0;31m \u001b[0mhist\u001b[0m \u001b[0;34m=\u001b[0m \u001b[0mmodelo\u001b[0m\u001b[0;34m.\u001b[0m\u001b[0mfit\u001b[0m\u001b[0;34m(\u001b[0m\u001b[0mx_train\u001b[0m\u001b[0;34m,\u001b[0m \u001b[0my_train\u001b[0m\u001b[0;34m,\u001b[0m \u001b[0mverbose\u001b[0m \u001b[0;34m=\u001b[0m \u001b[0;36m1\u001b[0m\u001b[0;34m,\u001b[0m \u001b[0mvalidation_data\u001b[0m\u001b[0;34m=\u001b[0m\u001b[0;34m(\u001b[0m\u001b[0mx_test\u001b[0m\u001b[0;34m,\u001b[0m \u001b[0my_test\u001b[0m\u001b[0;34m)\u001b[0m\u001b[0;34m,\u001b[0m \u001b[0mepochs\u001b[0m \u001b[0;34m=\u001b[0m \u001b[0mepocas\u001b[0m\u001b[0;34m,\u001b[0m \u001b[0mbatch_size\u001b[0m \u001b[0;34m=\u001b[0m \u001b[0mbatchSize\u001b[0m\u001b[0;34m)\u001b[0m\u001b[0;34m\u001b[0m\u001b[0;34m\u001b[0m\u001b[0m\n\u001b[0m\u001b[1;32m     15\u001b[0m \u001b[0;34m\u001b[0m\u001b[0m\n\u001b[1;32m     16\u001b[0m \u001b[0mgraficarHistoria\u001b[0m\u001b[0;34m(\u001b[0m\u001b[0mhist\u001b[0m\u001b[0;34m)\u001b[0m\u001b[0;34m\u001b[0m\u001b[0;34m\u001b[0m\u001b[0m\n",
            "\u001b[0;32m/usr/local/lib/python3.6/dist-packages/tensorflow_core/python/keras/engine/training.py\u001b[0m in \u001b[0;36mfit\u001b[0;34m(self, x, y, batch_size, epochs, verbose, callbacks, validation_split, validation_data, shuffle, class_weight, sample_weight, initial_epoch, steps_per_epoch, validation_steps, validation_freq, max_queue_size, workers, use_multiprocessing, **kwargs)\u001b[0m\n\u001b[1;32m    725\u001b[0m         \u001b[0mmax_queue_size\u001b[0m\u001b[0;34m=\u001b[0m\u001b[0mmax_queue_size\u001b[0m\u001b[0;34m,\u001b[0m\u001b[0;34m\u001b[0m\u001b[0;34m\u001b[0m\u001b[0m\n\u001b[1;32m    726\u001b[0m         \u001b[0mworkers\u001b[0m\u001b[0;34m=\u001b[0m\u001b[0mworkers\u001b[0m\u001b[0;34m,\u001b[0m\u001b[0;34m\u001b[0m\u001b[0;34m\u001b[0m\u001b[0m\n\u001b[0;32m--> 727\u001b[0;31m         use_multiprocessing=use_multiprocessing)\n\u001b[0m\u001b[1;32m    728\u001b[0m \u001b[0;34m\u001b[0m\u001b[0m\n\u001b[1;32m    729\u001b[0m   def evaluate(self,\n",
            "\u001b[0;32m/usr/local/lib/python3.6/dist-packages/tensorflow_core/python/keras/engine/training_arrays.py\u001b[0m in \u001b[0;36mfit\u001b[0;34m(self, model, x, y, batch_size, epochs, verbose, callbacks, validation_split, validation_data, shuffle, class_weight, sample_weight, initial_epoch, steps_per_epoch, validation_steps, validation_freq, **kwargs)\u001b[0m\n\u001b[1;32m    673\u001b[0m         \u001b[0mvalidation_steps\u001b[0m\u001b[0;34m=\u001b[0m\u001b[0mvalidation_steps\u001b[0m\u001b[0;34m,\u001b[0m\u001b[0;34m\u001b[0m\u001b[0;34m\u001b[0m\u001b[0m\n\u001b[1;32m    674\u001b[0m         \u001b[0mvalidation_freq\u001b[0m\u001b[0;34m=\u001b[0m\u001b[0mvalidation_freq\u001b[0m\u001b[0;34m,\u001b[0m\u001b[0;34m\u001b[0m\u001b[0;34m\u001b[0m\u001b[0m\n\u001b[0;32m--> 675\u001b[0;31m         steps_name='steps_per_epoch')\n\u001b[0m\u001b[1;32m    676\u001b[0m \u001b[0;34m\u001b[0m\u001b[0m\n\u001b[1;32m    677\u001b[0m   def evaluate(self,\n",
            "\u001b[0;32m/usr/local/lib/python3.6/dist-packages/tensorflow_core/python/keras/engine/training_arrays.py\u001b[0m in \u001b[0;36mmodel_iteration\u001b[0;34m(model, inputs, targets, sample_weights, batch_size, epochs, verbose, callbacks, val_inputs, val_targets, val_sample_weights, shuffle, initial_epoch, steps_per_epoch, validation_steps, validation_freq, mode, validation_in_fit, prepared_feed_values_from_dataset, steps_name, **kwargs)\u001b[0m\n\u001b[1;32m    392\u001b[0m \u001b[0;34m\u001b[0m\u001b[0m\n\u001b[1;32m    393\u001b[0m         \u001b[0;31m# Get outputs.\u001b[0m\u001b[0;34m\u001b[0m\u001b[0;34m\u001b[0m\u001b[0;34m\u001b[0m\u001b[0m\n\u001b[0;32m--> 394\u001b[0;31m         \u001b[0mbatch_outs\u001b[0m \u001b[0;34m=\u001b[0m \u001b[0mf\u001b[0m\u001b[0;34m(\u001b[0m\u001b[0mins_batch\u001b[0m\u001b[0;34m)\u001b[0m\u001b[0;34m\u001b[0m\u001b[0;34m\u001b[0m\u001b[0m\n\u001b[0m\u001b[1;32m    395\u001b[0m         \u001b[0;32mif\u001b[0m \u001b[0;32mnot\u001b[0m \u001b[0misinstance\u001b[0m\u001b[0;34m(\u001b[0m\u001b[0mbatch_outs\u001b[0m\u001b[0;34m,\u001b[0m \u001b[0mlist\u001b[0m\u001b[0;34m)\u001b[0m\u001b[0;34m:\u001b[0m\u001b[0;34m\u001b[0m\u001b[0;34m\u001b[0m\u001b[0m\n\u001b[1;32m    396\u001b[0m           \u001b[0mbatch_outs\u001b[0m \u001b[0;34m=\u001b[0m \u001b[0;34m[\u001b[0m\u001b[0mbatch_outs\u001b[0m\u001b[0;34m]\u001b[0m\u001b[0;34m\u001b[0m\u001b[0;34m\u001b[0m\u001b[0m\n",
            "\u001b[0;32m/usr/local/lib/python3.6/dist-packages/tensorflow_core/python/keras/backend.py\u001b[0m in \u001b[0;36m__call__\u001b[0;34m(self, inputs)\u001b[0m\n\u001b[1;32m   3474\u001b[0m \u001b[0;34m\u001b[0m\u001b[0m\n\u001b[1;32m   3475\u001b[0m     fetched = self._callable_fn(*array_vals,\n\u001b[0;32m-> 3476\u001b[0;31m                                 run_metadata=self.run_metadata)\n\u001b[0m\u001b[1;32m   3477\u001b[0m     \u001b[0mself\u001b[0m\u001b[0;34m.\u001b[0m\u001b[0m_call_fetch_callbacks\u001b[0m\u001b[0;34m(\u001b[0m\u001b[0mfetched\u001b[0m\u001b[0;34m[\u001b[0m\u001b[0;34m-\u001b[0m\u001b[0mlen\u001b[0m\u001b[0;34m(\u001b[0m\u001b[0mself\u001b[0m\u001b[0;34m.\u001b[0m\u001b[0m_fetches\u001b[0m\u001b[0;34m)\u001b[0m\u001b[0;34m:\u001b[0m\u001b[0;34m]\u001b[0m\u001b[0;34m)\u001b[0m\u001b[0;34m\u001b[0m\u001b[0;34m\u001b[0m\u001b[0m\n\u001b[1;32m   3478\u001b[0m     output_structure = nest.pack_sequence_as(\n",
            "\u001b[0;32m/usr/local/lib/python3.6/dist-packages/tensorflow_core/python/client/session.py\u001b[0m in \u001b[0;36m__call__\u001b[0;34m(self, *args, **kwargs)\u001b[0m\n\u001b[1;32m   1470\u001b[0m         ret = tf_session.TF_SessionRunCallable(self._session._session,\n\u001b[1;32m   1471\u001b[0m                                                \u001b[0mself\u001b[0m\u001b[0;34m.\u001b[0m\u001b[0m_handle\u001b[0m\u001b[0;34m,\u001b[0m \u001b[0margs\u001b[0m\u001b[0;34m,\u001b[0m\u001b[0;34m\u001b[0m\u001b[0;34m\u001b[0m\u001b[0m\n\u001b[0;32m-> 1472\u001b[0;31m                                                run_metadata_ptr)\n\u001b[0m\u001b[1;32m   1473\u001b[0m         \u001b[0;32mif\u001b[0m \u001b[0mrun_metadata\u001b[0m\u001b[0;34m:\u001b[0m\u001b[0;34m\u001b[0m\u001b[0;34m\u001b[0m\u001b[0m\n\u001b[1;32m   1474\u001b[0m           \u001b[0mproto_data\u001b[0m \u001b[0;34m=\u001b[0m \u001b[0mtf_session\u001b[0m\u001b[0;34m.\u001b[0m\u001b[0mTF_GetBuffer\u001b[0m\u001b[0;34m(\u001b[0m\u001b[0mrun_metadata_ptr\u001b[0m\u001b[0;34m)\u001b[0m\u001b[0;34m\u001b[0m\u001b[0;34m\u001b[0m\u001b[0m\n",
            "\u001b[0;31mKeyboardInterrupt\u001b[0m: "
          ]
        }
      ]
    },
    {
      "cell_type": "code",
      "metadata": {
        "id": "Q8yCL4TiDkZA",
        "colab_type": "code",
        "colab": {}
      },
      "source": [
        "numFiltros = np.array([100, 50, 20])\n",
        "tamFiltros = np.array([6, 6, 6])\n",
        "tamPooling = np.array([6, 6, 6])\n",
        "optimizer=\"adam\"\n",
        "numNeuronas = np.array([10, 8, 6])\n",
        "\n",
        "parametros = dict(batch_size = [30],\n",
        "               epochs = [5],\n",
        "               pOptimizer = [\"adam\", \"sgd\"],#,\"rmsprop\"],\n",
        "               pTasa = [0.01],\n",
        "               pAlphas = [0.001],\n",
        "               pNumFiltros = [numFiltros],\n",
        "              pTamFiltros = [tamFiltros],\n",
        "              pTamPooling = [tamPooling],\n",
        "              pNumNeuronas = [numNeuronas]\n",
        "              )"
      ],
      "execution_count": 0,
      "outputs": []
    },
    {
      "cell_type": "code",
      "metadata": {
        "id": "BnjxayYrBy_9",
        "colab_type": "code",
        "colab": {}
      },
      "source": [
        "def GridSearch(pXtrain, pYtrain, pXtest, pYtest, pParameters):\n",
        "  i=0\n",
        "  parameters = []\n",
        "  bestScore = 0\n",
        "  bestModel=None\n",
        "  bestHist = None\n",
        "  contador=0\n",
        "  for k in parametros.keys():\n",
        "    parameters.append(pParameters.get(k))\n",
        "  with progressbar.ProgressBar(max_value=len(list(itertools.product(*parameters)))) as bar:\n",
        "    for p in itertools.product(*parameters):\n",
        "      contador=+1\n",
        "      bar.update(contador)\n",
        "      modelo=crearModelo(p[3],p[4],p[5],p[6],p[7],p[8], p[2])\n",
        "      hist = modelo.fit(pXtrain, pYtrain, verbose = 1, validation_data=(pXtest, pYtest), epochs = p[1], batch_size = p[0])\n",
        "      l, score =modelo.evaluate(pXtest,pYtest)\n",
        "      if score>bestScore:\n",
        "        bestScore = score\n",
        "        bestModel = modelo\n",
        "        bestHist = hist\n",
        "  return bestScore, bestModel, bestHist"
      ],
      "execution_count": 0,
      "outputs": []
    },
    {
      "cell_type": "code",
      "metadata": {
        "id": "SIxa-xRJ9U3s",
        "colab_type": "code",
        "outputId": "b4312a36-e3f4-4b34-a035-7a13c7a8b6ed",
        "colab": {
          "base_uri": "https://localhost:8080/",
          "height": 720
        }
      },
      "source": [
        "bestScore, bestModel, bestHist = GridSearch(x_train,y_train,x_test,y_test,parametros)\n",
        "graficarHistoria(bestHist)"
      ],
      "execution_count": 0,
      "outputs": [
        {
          "output_type": "stream",
          "text": [
            "\r                                                                               \r\rN/A% (0 of 2) |                          | Elapsed Time: 0:00:00 ETA:  --:--:--"
          ],
          "name": "stderr"
        },
        {
          "output_type": "stream",
          "text": [
            "Train on 7977 samples, validate on 887 samples\n",
            "Epoch 1/5\n",
            "7977/7977 [==============================] - 3s 361us/sample - loss: 1.6520 - sparse_categorical_accuracy: 0.3236 - val_loss: 1.6377 - val_sparse_categorical_accuracy: 0.2954\n",
            "Epoch 2/5\n",
            "7977/7977 [==============================] - 2s 302us/sample - loss: 1.6042 - sparse_categorical_accuracy: 0.3412 - val_loss: 1.6478 - val_sparse_categorical_accuracy: 0.2954\n",
            "Epoch 3/5\n",
            "7977/7977 [==============================] - 2s 304us/sample - loss: 1.6057 - sparse_categorical_accuracy: 0.3421 - val_loss: 1.6405 - val_sparse_categorical_accuracy: 0.2954\n",
            "Epoch 4/5\n",
            "7977/7977 [==============================] - 2s 305us/sample - loss: 1.6134 - sparse_categorical_accuracy: 0.3273 - val_loss: 1.6373 - val_sparse_categorical_accuracy: 0.2954\n",
            "Epoch 5/5\n",
            "7977/7977 [==============================] - 2s 307us/sample - loss: 1.6135 - sparse_categorical_accuracy: 0.3273 - val_loss: 1.6402 - val_sparse_categorical_accuracy: 0.2954\n",
            "887/887 [==============================] - 0s 143us/sample - loss: 1.6402 - sparse_categorical_accuracy: 0.2954\n"
          ],
          "name": "stdout"
        },
        {
          "output_type": "stream",
          "text": [
            "\r                                                                               \r\r 50% (1 of 2) |#############             | Elapsed Time: 0:00:13 ETA:   0:00:13"
          ],
          "name": "stderr"
        },
        {
          "output_type": "stream",
          "text": [
            "Train on 7977 samples, validate on 887 samples\n",
            "Epoch 1/5\n",
            "7977/7977 [==============================] - 3s 349us/sample - loss: 1.6346 - sparse_categorical_accuracy: 0.3383 - val_loss: 1.6308 - val_sparse_categorical_accuracy: 0.2965\n",
            "Epoch 2/5\n",
            "7977/7977 [==============================] - 2s 306us/sample - loss: 1.5496 - sparse_categorical_accuracy: 0.3894 - val_loss: 1.5556 - val_sparse_categorical_accuracy: 0.3901\n",
            "Epoch 3/5\n",
            "7977/7977 [==============================] - 2s 302us/sample - loss: 1.4849 - sparse_categorical_accuracy: 0.4159 - val_loss: 1.5129 - val_sparse_categorical_accuracy: 0.3890\n",
            "Epoch 4/5\n",
            "7977/7977 [==============================] - 2s 303us/sample - loss: 1.4540 - sparse_categorical_accuracy: 0.4355 - val_loss: 1.4913 - val_sparse_categorical_accuracy: 0.4002\n",
            "Epoch 5/5\n",
            "7977/7977 [==============================] - 2s 304us/sample - loss: 1.4258 - sparse_categorical_accuracy: 0.4369 - val_loss: 1.4619 - val_sparse_categorical_accuracy: 0.4036\n",
            "887/887 [==============================] - 0s 144us/sample - loss: 1.4619 - sparse_categorical_accuracy: 0.4036\n"
          ],
          "name": "stdout"
        },
        {
          "output_type": "stream",
          "text": [
            "\r                                                                               \r\r100% (2 of 2) |##########################| Elapsed Time: 0:00:27 Time:  0:00:27\n"
          ],
          "name": "stderr"
        },
        {
          "output_type": "display_data",
          "data": {
            "image/png": "[encoded data removed]",
            "text/plain": [
              "<Figure size 432x288 with 1 Axes>"
            ]
          },
          "metadata": {
            "tags": []
          }
        }
      ]
    },
    {
      "cell_type": "code",
      "metadata": {
        "id": "Jx-8FwHyPopv",
        "colab_type": "code",
        "colab": {}
      },
      "source": [
        "backUpEtiquetas = unosEtiquetas\n",
        "def convertirClases(pY):\n",
        "      y = ((pY == 1) + (pY == 2)) + 2*((pY == 3) + (pY == 4)) + 3*(pY == 5)\n",
        "\n",
        "      return y\n",
        "\n",
        "unosEtiquetas = convertirClases(unosEtiquetas)\n",
        "\n"
      ],
      "execution_count": 0,
      "outputs": []
    },
    {
      "cell_type": "code",
      "metadata": {
        "id": "ckh_fHHNHhJZ",
        "colab_type": "code",
        "colab": {
          "base_uri": "https://localhost:8080/",
          "height": 88
        },
        "outputId": "d219b9dd-cfbe-4c5b-d2b8-3c3b46f6c1f1"
      },
      "source": [
        "print(backUpEtiquetas[10:50].astype(int))\n",
        "print(unosEtiquetas[10:50])"
      ],
      "execution_count": 46,
      "outputs": [
        {
          "output_type": "stream",
          "text": [
            "[1 1 2 2 2 2 3 3 3 3 3 3 3 3 3 3 3 3 3 2 3 4 4 4 4 4 3 4 4 3 3 4 3 3 3 3 4\n",
            " 0 0 0]\n",
            "[1 1 1 1 1 1 2 2 2 2 2 2 2 2 2 2 2 2 2 1 2 2 2 2 2 2 2 2 2 2 2 2 2 2 2 2 2\n",
            " 0 0 0]\n"
          ],
          "name": "stdout"
        }
      ]
    },
    {
      "cell_type": "markdown",
      "metadata": {
        "id": "l8qUiO-OGaM1",
        "colab_type": "text"
      },
      "source": [
        "#Implementación en AdaBoost"
      ]
    },
    {
      "cell_type": "code",
      "metadata": {
        "id": "xu9oyoRKGf1e",
        "colab_type": "code",
        "outputId": "1b9b65f7-0331-485d-a3fd-8c58937320f5",
        "colab": {
          "base_uri": "https://localhost:8080/",
          "height": 935
        }
      },
      "source": [
        "epocas = 100\n",
        "batchSize = 32\n",
        "\n",
        "#Esto no se por que esta fallando.\n",
        "estimadorBase = KerasClassifier(build_fn = crearModelo(tasa, alpha, numFiltros, tamFiltros, tamPooling ,numNeuronas, optimizer), epochs = epocas, batch_size = batchSize, verbose = 0)\n",
        "\n",
        "print(\"Calculando...\")\n",
        "\n",
        "numEstimadores = 3\n",
        "adaBoost = AdaBoostClassifier(base_estimator = estimadorBase, n_estimators = numEstimadores) #Variar otros parametros como la tasa de aprendizaje\n",
        "adaBoost.fit(x_train, y_train)\n",
        "\n",
        "print(confusion_matrix(adaBoost.predict(x_train),y_train))\n",
        "print(confusion_matrix(adaBoost.predict(x_test),y_test))"
      ],
      "execution_count": 0,
      "outputs": [
        {
          "output_type": "stream",
          "text": [
            "Model: \"sequential_18\"\n",
            "_________________________________________________________________\n",
            "Layer (type)                 Output Shape              Param #   \n",
            "=================================================================\n",
            "conv1d_45 (Conv1D)           (None, 2995, 100)         700       \n",
            "_________________________________________________________________\n",
            "max_pooling1d_15 (MaxPooling (None, 499, 100)          0         \n",
            "_________________________________________________________________\n",
            "conv1d_46 (Conv1D)           (None, 490, 50)           50050     \n",
            "_________________________________________________________________\n",
            "average_pooling1d_15 (Averag (None, 49, 50)            0         \n",
            "_________________________________________________________________\n",
            "conv1d_47 (Conv1D)           (None, 35, 20)            15020     \n",
            "_________________________________________________________________\n",
            "global_average_pooling1d_15  (None, 20)                0         \n",
            "_________________________________________________________________\n",
            "flatten_15 (Flatten)         (None, 20)                0         \n",
            "_________________________________________________________________\n",
            "dropout_15 (Dropout)         (None, 20)                0         \n",
            "_________________________________________________________________\n",
            "dense_60 (Dense)             (None, 10)                210       \n",
            "_________________________________________________________________\n",
            "dense_61 (Dense)             (None, 8)                 88        \n",
            "_________________________________________________________________\n",
            "dense_62 (Dense)             (None, 6)                 54        \n",
            "_________________________________________________________________\n",
            "dense_63 (Dense)             (None, 6)                 42        \n",
            "=================================================================\n",
            "Total params: 66,164\n",
            "Trainable params: 66,164\n",
            "Non-trainable params: 0\n",
            "_________________________________________________________________\n",
            "Calculando...\n"
          ],
          "name": "stdout"
        },
        {
          "output_type": "error",
          "ename": "ValueError",
          "evalue": "ignored",
          "traceback": [
            "\u001b[0;31m---------------------------------------------------------------------------\u001b[0m",
            "\u001b[0;31mValueError\u001b[0m                                Traceback (most recent call last)",
            "\u001b[0;32m<ipython-input-51-73911fc45e5c>\u001b[0m in \u001b[0;36m<module>\u001b[0;34m()\u001b[0m\n\u001b[1;32m      9\u001b[0m \u001b[0mnumEstimadores\u001b[0m \u001b[0;34m=\u001b[0m \u001b[0;36m3\u001b[0m\u001b[0;34m\u001b[0m\u001b[0;34m\u001b[0m\u001b[0m\n\u001b[1;32m     10\u001b[0m \u001b[0madaBoost\u001b[0m \u001b[0;34m=\u001b[0m \u001b[0mAdaBoostClassifier\u001b[0m\u001b[0;34m(\u001b[0m\u001b[0mbase_estimator\u001b[0m \u001b[0;34m=\u001b[0m \u001b[0mestimadorBase\u001b[0m\u001b[0;34m,\u001b[0m \u001b[0mn_estimators\u001b[0m \u001b[0;34m=\u001b[0m \u001b[0mnumEstimadores\u001b[0m\u001b[0;34m)\u001b[0m \u001b[0;31m#Variar otros parametros como la tasa de aprendizaje\u001b[0m\u001b[0;34m\u001b[0m\u001b[0;34m\u001b[0m\u001b[0m\n\u001b[0;32m---> 11\u001b[0;31m \u001b[0madaBoost\u001b[0m\u001b[0;34m.\u001b[0m\u001b[0mfit\u001b[0m\u001b[0;34m(\u001b[0m\u001b[0mx_train\u001b[0m\u001b[0;34m,\u001b[0m \u001b[0my_train\u001b[0m\u001b[0;34m)\u001b[0m\u001b[0;34m\u001b[0m\u001b[0;34m\u001b[0m\u001b[0m\n\u001b[0m\u001b[1;32m     12\u001b[0m \u001b[0;34m\u001b[0m\u001b[0m\n\u001b[1;32m     13\u001b[0m \u001b[0mprint\u001b[0m\u001b[0;34m(\u001b[0m\u001b[0mconfusion_matrix\u001b[0m\u001b[0;34m(\u001b[0m\u001b[0madaBoost\u001b[0m\u001b[0;34m.\u001b[0m\u001b[0mpredict\u001b[0m\u001b[0;34m(\u001b[0m\u001b[0mx_train\u001b[0m\u001b[0;34m)\u001b[0m\u001b[0;34m,\u001b[0m\u001b[0my_train\u001b[0m\u001b[0;34m)\u001b[0m\u001b[0;34m)\u001b[0m\u001b[0;34m\u001b[0m\u001b[0;34m\u001b[0m\u001b[0m\n",
            "\u001b[0;32m/usr/local/lib/python3.6/dist-packages/sklearn/ensemble/weight_boosting.py\u001b[0m in \u001b[0;36mfit\u001b[0;34m(self, X, y, sample_weight)\u001b[0m\n\u001b[1;32m    425\u001b[0m \u001b[0;34m\u001b[0m\u001b[0m\n\u001b[1;32m    426\u001b[0m         \u001b[0;31m# Fit\u001b[0m\u001b[0;34m\u001b[0m\u001b[0;34m\u001b[0m\u001b[0;34m\u001b[0m\u001b[0m\n\u001b[0;32m--> 427\u001b[0;31m         \u001b[0;32mreturn\u001b[0m \u001b[0msuper\u001b[0m\u001b[0;34m(\u001b[0m\u001b[0;34m)\u001b[0m\u001b[0;34m.\u001b[0m\u001b[0mfit\u001b[0m\u001b[0;34m(\u001b[0m\u001b[0mX\u001b[0m\u001b[0;34m,\u001b[0m \u001b[0my\u001b[0m\u001b[0;34m,\u001b[0m \u001b[0msample_weight\u001b[0m\u001b[0;34m)\u001b[0m\u001b[0;34m\u001b[0m\u001b[0;34m\u001b[0m\u001b[0m\n\u001b[0m\u001b[1;32m    428\u001b[0m \u001b[0;34m\u001b[0m\u001b[0m\n\u001b[1;32m    429\u001b[0m     \u001b[0;32mdef\u001b[0m \u001b[0m_validate_estimator\u001b[0m\u001b[0;34m(\u001b[0m\u001b[0mself\u001b[0m\u001b[0;34m)\u001b[0m\u001b[0;34m:\u001b[0m\u001b[0;34m\u001b[0m\u001b[0;34m\u001b[0m\u001b[0m\n",
            "\u001b[0;32m/usr/local/lib/python3.6/dist-packages/sklearn/ensemble/weight_boosting.py\u001b[0m in \u001b[0;36mfit\u001b[0;34m(self, X, y, sample_weight)\u001b[0m\n\u001b[1;32m    133\u001b[0m \u001b[0;34m\u001b[0m\u001b[0m\n\u001b[1;32m    134\u001b[0m         \u001b[0;31m# Check parameters\u001b[0m\u001b[0;34m\u001b[0m\u001b[0;34m\u001b[0m\u001b[0;34m\u001b[0m\u001b[0m\n\u001b[0;32m--> 135\u001b[0;31m         \u001b[0mself\u001b[0m\u001b[0;34m.\u001b[0m\u001b[0m_validate_estimator\u001b[0m\u001b[0;34m(\u001b[0m\u001b[0;34m)\u001b[0m\u001b[0;34m\u001b[0m\u001b[0;34m\u001b[0m\u001b[0m\n\u001b[0m\u001b[1;32m    136\u001b[0m \u001b[0;34m\u001b[0m\u001b[0m\n\u001b[1;32m    137\u001b[0m         \u001b[0;31m# Clear any previous fit results\u001b[0m\u001b[0;34m\u001b[0m\u001b[0;34m\u001b[0m\u001b[0;34m\u001b[0m\u001b[0m\n",
            "\u001b[0;32m/usr/local/lib/python3.6/dist-packages/sklearn/ensemble/weight_boosting.py\u001b[0m in \u001b[0;36m_validate_estimator\u001b[0;34m(self)\u001b[0m\n\u001b[1;32m    443\u001b[0m         \u001b[0;32mif\u001b[0m \u001b[0;32mnot\u001b[0m \u001b[0mhas_fit_parameter\u001b[0m\u001b[0;34m(\u001b[0m\u001b[0mself\u001b[0m\u001b[0;34m.\u001b[0m\u001b[0mbase_estimator_\u001b[0m\u001b[0;34m,\u001b[0m \u001b[0;34m\"sample_weight\"\u001b[0m\u001b[0;34m)\u001b[0m\u001b[0;34m:\u001b[0m\u001b[0;34m\u001b[0m\u001b[0;34m\u001b[0m\u001b[0m\n\u001b[1;32m    444\u001b[0m             raise ValueError(\"%s doesn't support sample_weight.\"\n\u001b[0;32m--> 445\u001b[0;31m                              % self.base_estimator_.__class__.__name__)\n\u001b[0m\u001b[1;32m    446\u001b[0m \u001b[0;34m\u001b[0m\u001b[0m\n\u001b[1;32m    447\u001b[0m     \u001b[0;32mdef\u001b[0m \u001b[0m_boost\u001b[0m\u001b[0;34m(\u001b[0m\u001b[0mself\u001b[0m\u001b[0;34m,\u001b[0m \u001b[0miboost\u001b[0m\u001b[0;34m,\u001b[0m \u001b[0mX\u001b[0m\u001b[0;34m,\u001b[0m \u001b[0my\u001b[0m\u001b[0;34m,\u001b[0m \u001b[0msample_weight\u001b[0m\u001b[0;34m,\u001b[0m \u001b[0mrandom_state\u001b[0m\u001b[0;34m)\u001b[0m\u001b[0;34m:\u001b[0m\u001b[0;34m\u001b[0m\u001b[0;34m\u001b[0m\u001b[0m\n",
            "\u001b[0;31mValueError\u001b[0m: KerasClassifier doesn't support sample_weight."
          ]
        }
      ]
    },
    {
      "cell_type": "markdown",
      "metadata": {
        "id": "pN-cEkgDFy3U",
        "colab_type": "text"
      },
      "source": [
        "#Resultados"
      ]
    },
    {
      "cell_type": "code",
      "metadata": {
        "id": "LO5euyGuFxdI",
        "colab_type": "code",
        "colab": {}
      },
      "source": [
        "def graficarHistoria(pHist):\n",
        "  plt.plot(pHist.history['sparse_categorical_accuracy'], label = 'Accuracy Entrenamiento')\n",
        "  plt.plot(pHist.history['val_sparse_categorical_accuracy'], label = 'Accuracy Validacion')\n",
        "  plt.xlabel('Epoca')\n",
        "  plt.ylabel('Accuracy')\n",
        "  plt.title(\"Accuracy vs Epoca\")\n",
        "  plt.legend()\n",
        "  plt.show()"
      ],
      "execution_count": 0,
      "outputs": []
    },
    {
      "cell_type": "code",
      "metadata": {
        "id": "7Mt5I00ySoCj",
        "colab_type": "code",
        "outputId": "d834d14a-14e1-41c7-9834-0ce7753ad722",
        "colab": {
          "base_uri": "https://localhost:8080/",
          "height": 295
        }
      },
      "source": [
        "graficarHistoria(hist)"
      ],
      "execution_count": 21,
      "outputs": [
        {
          "output_type": "display_data",
          "data": {
            "image/png": "[encoded data removed]",
            "text/plain": [
              "<Figure size 432x288 with 1 Axes>"
            ]
          },
          "metadata": {
            "tags": []
          }
        }
      ]
    },
    {
      "cell_type": "code",
      "metadata": {
        "id": "6aQdP54tHKlv",
        "colab_type": "code",
        "colab": {}
      },
      "source": [
        ""
      ],
      "execution_count": 0,
      "outputs": []
    }
  ]
}