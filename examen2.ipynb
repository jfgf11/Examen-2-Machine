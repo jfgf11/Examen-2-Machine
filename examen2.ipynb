{
  "nbformat": 4,
  "nbformat_minor": 0,
  "metadata": {
    "colab": {
      "name": "examen2.ipynb",
      "provenance": [],
      "collapsed_sections": [],
      "toc_visible": true,
      "machine_shape": "hm",
      "include_colab_link": true
    },
    "kernelspec": {
      "name": "python3",
      "display_name": "Python 3"
    },
    "accelerator": "TPU"
  },
  "cells": [
    {
      "cell_type": "markdown",
      "metadata": {
        "id": "view-in-github",
        "colab_type": "text"
      },
      "source": [
        "<a href=\"https://colab.research.google.com/github/jfgf11/Examen-2-Machine/blob/master/examen2.ipynb\" target=\"_parent\"><img src=\"https://colab.research.google.com/assets/colab-badge.svg\" alt=\"Open In Colab\"/></a>"
      ]
    },
    {
      "cell_type": "markdown",
      "metadata": {
        "id": "Geb2T0_TB3BM",
        "colab_type": "text"
      },
      "source": [
        "\n",
        "# Examen 2\n",
        "\n",
        "\n"
      ]
    },
    {
      "cell_type": "code",
      "metadata": {
        "id": "brhsDHYQokNd",
        "colab_type": "code",
        "outputId": "b5530f73-d707-4e45-a648-1bfb368d4ede",
        "colab": {
          "base_uri": "https://localhost:8080/",
          "height": 132
        }
      },
      "source": [
        "#Se monta el Drive para importar y guardar los datos y modelos.\n",
        "from google.colab import drive\n",
        "drive.mount('/content/drive')#,force_remount = True)"
      ],
      "execution_count": 1,
      "outputs": [
        {
          "output_type": "stream",
          "text": [
            "Go to this URL in a browser: https://accounts.google.com/o/oauth2/auth?client_id=947318989803-6bn6qk8qdgf4n4g3pfee6491hc0brc4i.apps.googleusercontent.com&redirect_uri=urn%3aietf%3awg%3aoauth%3a2.0%3aoob&response_type=code&scope=email%20https%3a%2f%2fwww.googleapis.com%2fauth%2fdocs.test%20https%3a%2f%2fwww.googleapis.com%2fauth%2fdrive%20https%3a%2f%2fwww.googleapis.com%2fauth%2fdrive.photos.readonly%20https%3a%2f%2fwww.googleapis.com%2fauth%2fpeopleapi.readonly\n",
            "\n",
            "Enter your authorization code:\n",
            "··········\n",
            "Mounted at /content/drive\n"
          ],
          "name": "stdout"
        }
      ]
    },
    {
      "cell_type": "markdown",
      "metadata": {
        "id": "nigPT0LkuBmI",
        "colab_type": "text"
      },
      "source": [
        "#Instalación"
      ]
    },
    {
      "cell_type": "code",
      "metadata": {
        "id": "UT9ry2xHBUyV",
        "colab_type": "code",
        "outputId": "2a094041-2da1-426a-de87-fded5f5cca86",
        "colab": {
          "base_uri": "https://localhost:8080/",
          "height": 736
        }
      },
      "source": [
        "#Se instalan las librerías que se necesitan.\n",
        "!pip install pyEDFlib\n",
        "!pip install progressbar2\n",
        "!pip install matplotlib --upgrade\n",
        "!pip install h5py"
      ],
      "execution_count": 2,
      "outputs": [
        {
          "output_type": "stream",
          "text": [
            "Collecting pyEDFlib\n",
            "\u001b[?25l  Downloading https://files.pythonhosted.org/packages/bc/8b/47ce5a889e1f6917390ba2328b494424d018cf9c263ab59e14ac851e194f/pyEDFlib-0.1.15.tar.gz (1.1MB)\n",
            "\r\u001b[K     |▎                               | 10kB 18.1MB/s eta 0:00:01\r\u001b[K     |▋                               | 20kB 2.2MB/s eta 0:00:01\r\u001b[K     |▉                               | 30kB 3.2MB/s eta 0:00:01\r\u001b[K     |█▏                              | 40kB 2.1MB/s eta 0:00:01\r\u001b[K     |█▌                              | 51kB 2.6MB/s eta 0:00:01\r\u001b[K     |█▊                              | 61kB 3.1MB/s eta 0:00:01\r\u001b[K     |██                              | 71kB 3.6MB/s eta 0:00:01\r\u001b[K     |██▍                             | 81kB 4.1MB/s eta 0:00:01\r\u001b[K     |██▋                             | 92kB 4.6MB/s eta 0:00:01\r\u001b[K     |███                             | 102kB 3.5MB/s eta 0:00:01\r\u001b[K     |███▏                            | 112kB 3.5MB/s eta 0:00:01\r\u001b[K     |███▌                            | 122kB 3.5MB/s eta 0:00:01\r\u001b[K     |███▉                            | 133kB 3.5MB/s eta 0:00:01\r\u001b[K     |████                            | 143kB 3.5MB/s eta 0:00:01\r\u001b[K     |████▍                           | 153kB 3.5MB/s eta 0:00:01\r\u001b[K     |████▊                           | 163kB 3.5MB/s eta 0:00:01\r\u001b[K     |█████                           | 174kB 3.5MB/s eta 0:00:01\r\u001b[K     |█████▎                          | 184kB 3.5MB/s eta 0:00:01\r\u001b[K     |█████▋                          | 194kB 3.5MB/s eta 0:00:01\r\u001b[K     |█████▉                          | 204kB 3.5MB/s eta 0:00:01\r\u001b[K     |██████▏                         | 215kB 3.5MB/s eta 0:00:01\r\u001b[K     |██████▍                         | 225kB 3.5MB/s eta 0:00:01\r\u001b[K     |██████▊                         | 235kB 3.5MB/s eta 0:00:01\r\u001b[K     |███████                         | 245kB 3.5MB/s eta 0:00:01\r\u001b[K     |███████▎                        | 256kB 3.5MB/s eta 0:00:01\r\u001b[K     |███████▋                        | 266kB 3.5MB/s eta 0:00:01\r\u001b[K     |████████                        | 276kB 3.5MB/s eta 0:00:01\r\u001b[K     |████████▏                       | 286kB 3.5MB/s eta 0:00:01\r\u001b[K     |████████▌                       | 296kB 3.5MB/s eta 0:00:01\r\u001b[K     |████████▉                       | 307kB 3.5MB/s eta 0:00:01\r\u001b[K     |█████████                       | 317kB 3.5MB/s eta 0:00:01\r\u001b[K     |█████████▍                      | 327kB 3.5MB/s eta 0:00:01\r\u001b[K     |█████████▋                      | 337kB 3.5MB/s eta 0:00:01\r\u001b[K     |██████████                      | 348kB 3.5MB/s eta 0:00:01\r\u001b[K     |██████████▎                     | 358kB 3.5MB/s eta 0:00:01\r\u001b[K     |██████████▌                     | 368kB 3.5MB/s eta 0:00:01\r\u001b[K     |██████████▉                     | 378kB 3.5MB/s eta 0:00:01\r\u001b[K     |███████████▏                    | 389kB 3.5MB/s eta 0:00:01\r\u001b[K     |███████████▍                    | 399kB 3.5MB/s eta 0:00:01\r\u001b[K     |███████████▊                    | 409kB 3.5MB/s eta 0:00:01\r\u001b[K     |████████████                    | 419kB 3.5MB/s eta 0:00:01\r\u001b[K     |████████████▎                   | 430kB 3.5MB/s eta 0:00:01\r\u001b[K     |████████████▋                   | 440kB 3.5MB/s eta 0:00:01\r\u001b[K     |████████████▉                   | 450kB 3.5MB/s eta 0:00:01\r\u001b[K     |█████████████▏                  | 460kB 3.5MB/s eta 0:00:01\r\u001b[K     |█████████████▌                  | 471kB 3.5MB/s eta 0:00:01\r\u001b[K     |█████████████▊                  | 481kB 3.5MB/s eta 0:00:01\r\u001b[K     |██████████████                  | 491kB 3.5MB/s eta 0:00:01\r\u001b[K     |██████████████▍                 | 501kB 3.5MB/s eta 0:00:01\r\u001b[K     |██████████████▋                 | 512kB 3.5MB/s eta 0:00:01\r\u001b[K     |███████████████                 | 522kB 3.5MB/s eta 0:00:01\r\u001b[K     |███████████████▏                | 532kB 3.5MB/s eta 0:00:01\r\u001b[K     |███████████████▌                | 542kB 3.5MB/s eta 0:00:01\r\u001b[K     |███████████████▉                | 552kB 3.5MB/s eta 0:00:01\r\u001b[K     |████████████████                | 563kB 3.5MB/s eta 0:00:01\r\u001b[K     |████████████████▍               | 573kB 3.5MB/s eta 0:00:01\r\u001b[K     |████████████████▊               | 583kB 3.5MB/s eta 0:00:01\r\u001b[K     |█████████████████               | 593kB 3.5MB/s eta 0:00:01\r\u001b[K     |█████████████████▎              | 604kB 3.5MB/s eta 0:00:01\r\u001b[K     |█████████████████▋              | 614kB 3.5MB/s eta 0:00:01\r\u001b[K     |█████████████████▉              | 624kB 3.5MB/s eta 0:00:01\r\u001b[K     |██████████████████▏             | 634kB 3.5MB/s eta 0:00:01\r\u001b[K     |██████████████████▍             | 645kB 3.5MB/s eta 0:00:01\r\u001b[K     |██████████████████▊             | 655kB 3.5MB/s eta 0:00:01\r\u001b[K     |███████████████████             | 665kB 3.5MB/s eta 0:00:01\r\u001b[K     |███████████████████▎            | 675kB 3.5MB/s eta 0:00:01\r\u001b[K     |███████████████████▋            | 686kB 3.5MB/s eta 0:00:01\r\u001b[K     |████████████████████            | 696kB 3.5MB/s eta 0:00:01\r\u001b[K     |████████████████████▏           | 706kB 3.5MB/s eta 0:00:01\r\u001b[K     |████████████████████▌           | 716kB 3.5MB/s eta 0:00:01\r\u001b[K     |████████████████████▉           | 727kB 3.5MB/s eta 0:00:01\r\u001b[K     |█████████████████████           | 737kB 3.5MB/s eta 0:00:01\r\u001b[K     |█████████████████████▍          | 747kB 3.5MB/s eta 0:00:01\r\u001b[K     |█████████████████████▋          | 757kB 3.5MB/s eta 0:00:01\r\u001b[K     |██████████████████████          | 768kB 3.5MB/s eta 0:00:01\r\u001b[K     |██████████████████████▎         | 778kB 3.5MB/s eta 0:00:01\r\u001b[K     |██████████████████████▌         | 788kB 3.5MB/s eta 0:00:01\r\u001b[K     |██████████████████████▉         | 798kB 3.5MB/s eta 0:00:01\r\u001b[K     |███████████████████████▏        | 808kB 3.5MB/s eta 0:00:01\r\u001b[K     |███████████████████████▍        | 819kB 3.5MB/s eta 0:00:01\r\u001b[K     |███████████████████████▊        | 829kB 3.5MB/s eta 0:00:01\r\u001b[K     |████████████████████████        | 839kB 3.5MB/s eta 0:00:01\r\u001b[K     |████████████████████████▎       | 849kB 3.5MB/s eta 0:00:01\r\u001b[K     |████████████████████████▋       | 860kB 3.5MB/s eta 0:00:01\r\u001b[K     |████████████████████████▉       | 870kB 3.5MB/s eta 0:00:01\r\u001b[K     |█████████████████████████▏      | 880kB 3.5MB/s eta 0:00:01\r\u001b[K     |█████████████████████████▌      | 890kB 3.5MB/s eta 0:00:01\r\u001b[K     |█████████████████████████▊      | 901kB 3.5MB/s eta 0:00:01\r\u001b[K     |██████████████████████████      | 911kB 3.5MB/s eta 0:00:01\r\u001b[K     |██████████████████████████▍     | 921kB 3.5MB/s eta 0:00:01\r\u001b[K     |██████████████████████████▋     | 931kB 3.5MB/s eta 0:00:01\r\u001b[K     |███████████████████████████     | 942kB 3.5MB/s eta 0:00:01\r\u001b[K     |███████████████████████████▏    | 952kB 3.5MB/s eta 0:00:01\r\u001b[K     |███████████████████████████▌    | 962kB 3.5MB/s eta 0:00:01\r\u001b[K     |███████████████████████████▉    | 972kB 3.5MB/s eta 0:00:01\r\u001b[K     |████████████████████████████    | 983kB 3.5MB/s eta 0:00:01\r\u001b[K     |████████████████████████████▍   | 993kB 3.5MB/s eta 0:00:01\r\u001b[K     |████████████████████████████▊   | 1.0MB 3.5MB/s eta 0:00:01\r\u001b[K     |█████████████████████████████   | 1.0MB 3.5MB/s eta 0:00:01\r\u001b[K     |█████████████████████████████▎  | 1.0MB 3.5MB/s eta 0:00:01\r\u001b[K     |█████████████████████████████▋  | 1.0MB 3.5MB/s eta 0:00:01\r\u001b[K     |█████████████████████████████▉  | 1.0MB 3.5MB/s eta 0:00:01\r\u001b[K     |██████████████████████████████▏ | 1.1MB 3.5MB/s eta 0:00:01\r\u001b[K     |██████████████████████████████▍ | 1.1MB 3.5MB/s eta 0:00:01\r\u001b[K     |██████████████████████████████▊ | 1.1MB 3.5MB/s eta 0:00:01\r\u001b[K     |███████████████████████████████ | 1.1MB 3.5MB/s eta 0:00:01\r\u001b[K     |███████████████████████████████▎| 1.1MB 3.5MB/s eta 0:00:01\r\u001b[K     |███████████████████████████████▋| 1.1MB 3.5MB/s eta 0:00:01\r\u001b[K     |████████████████████████████████| 1.1MB 3.5MB/s eta 0:00:01\r\u001b[K     |████████████████████████████████| 1.1MB 3.5MB/s \n",
            "\u001b[?25hRequirement already satisfied: numpy>=1.9.1 in /usr/local/lib/python3.6/dist-packages (from pyEDFlib) (1.17.4)\n",
            "Building wheels for collected packages: pyEDFlib\n",
            "  Building wheel for pyEDFlib (setup.py) ... \u001b[?25l\u001b[?25hdone\n",
            "  Created wheel for pyEDFlib: filename=pyEDFlib-0.1.15-cp36-cp36m-linux_x86_64.whl size=920135 sha256=7189adc09eb4e38fb4d0eb5463dd4c649ae614ad9e8ec5dfd2e38de9b6163b5c\n",
            "  Stored in directory: /root/.cache/pip/wheels/57/e3/8e/ce6236e9ada08b8ff91ef922c7418dbd66f1182dfbb22f8579\n",
            "Successfully built pyEDFlib\n",
            "Installing collected packages: pyEDFlib\n",
            "Successfully installed pyEDFlib-0.1.15\n",
            "Requirement already satisfied: progressbar2 in /usr/local/lib/python3.6/dist-packages (3.38.0)\n",
            "Requirement already satisfied: python-utils>=2.3.0 in /usr/local/lib/python3.6/dist-packages (from progressbar2) (2.3.0)\n",
            "Requirement already satisfied: six in /usr/local/lib/python3.6/dist-packages (from progressbar2) (1.12.0)\n",
            "Collecting matplotlib\n",
            "\u001b[?25l  Downloading https://files.pythonhosted.org/packages/4e/11/06958a2b895a3853206dea1fb2a5b11bf044f626f90745987612af9c8f2c/matplotlib-3.1.2-cp36-cp36m-manylinux1_x86_64.whl (13.1MB)\n",
            "\u001b[K     |████████████████████████████████| 13.1MB 189kB/s \n",
            "\u001b[?25hRequirement already satisfied, skipping upgrade: python-dateutil>=2.1 in /usr/local/lib/python3.6/dist-packages (from matplotlib) (2.6.1)\n",
            "Requirement already satisfied, skipping upgrade: numpy>=1.11 in /usr/local/lib/python3.6/dist-packages (from matplotlib) (1.17.4)\n",
            "Requirement already satisfied, skipping upgrade: pyparsing!=2.0.4,!=2.1.2,!=2.1.6,>=2.0.1 in /usr/local/lib/python3.6/dist-packages (from matplotlib) (2.4.5)\n",
            "Requirement already satisfied, skipping upgrade: cycler>=0.10 in /usr/local/lib/python3.6/dist-packages (from matplotlib) (0.10.0)\n",
            "Requirement already satisfied, skipping upgrade: kiwisolver>=1.0.1 in /usr/local/lib/python3.6/dist-packages (from matplotlib) (1.1.0)\n",
            "Requirement already satisfied, skipping upgrade: six>=1.5 in /usr/local/lib/python3.6/dist-packages (from python-dateutil>=2.1->matplotlib) (1.12.0)\n",
            "Requirement already satisfied, skipping upgrade: setuptools in /usr/local/lib/python3.6/dist-packages (from kiwisolver>=1.0.1->matplotlib) (41.6.0)\n",
            "\u001b[31mERROR: albumentations 0.1.12 has requirement imgaug<0.2.7,>=0.2.5, but you'll have imgaug 0.2.9 which is incompatible.\u001b[0m\n",
            "Installing collected packages: matplotlib\n",
            "  Found existing installation: matplotlib 3.1.1\n",
            "    Uninstalling matplotlib-3.1.1:\n",
            "      Successfully uninstalled matplotlib-3.1.1\n",
            "Successfully installed matplotlib-3.1.2\n"
          ],
          "name": "stdout"
        },
        {
          "output_type": "display_data",
          "data": {
            "application/vnd.colab-display-data+json": {
              "pip_warning": {
                "packages": [
                  "matplotlib",
                  "mpl_toolkits"
                ]
              }
            }
          },
          "metadata": {
            "tags": []
          }
        },
        {
          "output_type": "stream",
          "text": [
            "Requirement already satisfied: h5py in /usr/local/lib/python3.6/dist-packages (2.8.0)\n",
            "Requirement already satisfied: numpy>=1.7 in /usr/local/lib/python3.6/dist-packages (from h5py) (1.17.4)\n",
            "Requirement already satisfied: six in /usr/local/lib/python3.6/dist-packages (from h5py) (1.12.0)\n"
          ],
          "name": "stdout"
        }
      ]
    },
    {
      "cell_type": "markdown",
      "metadata": {
        "id": "-BNRjiy0hckX",
        "colab_type": "text"
      },
      "source": [
        "#Librerías"
      ]
    },
    {
      "cell_type": "code",
      "metadata": {
        "id": "dbliV9ktoI5F",
        "colab_type": "code",
        "outputId": "5674e7da-53c6-4fe6-92af-879788f2bd1e",
        "colab": {
          "base_uri": "https://localhost:8080/",
          "height": 75
        }
      },
      "source": [
        "#Se importan las librerías requeridas.\n",
        "#Se deben primero instalar las librerías que hacen falta con la celda en la\n",
        "#sección de Instalación.\n",
        "%tensorflow_version 1.x\n",
        "import tensorflow as tf\n",
        "import tensorflow.keras as keras\n",
        "\n",
        "from tensorflow.keras import Sequential\n",
        "from tensorflow.keras.layers import Dense\n",
        "from tensorflow.keras.layers import Dropout\n",
        "from tensorflow.keras.layers import Conv1D\n",
        "from tensorflow.keras.layers import MaxPooling1D\n",
        "from tensorflow.keras.layers import AveragePooling1D\n",
        "from tensorflow.keras.layers import GlobalAveragePooling1D\n",
        "from tensorflow.keras.layers import GlobalMaxPooling1D\n",
        "from tensorflow.keras.layers import Flatten\n",
        "from tensorflow.keras.layers import concatenate\n",
        "from tensorflow.keras.layers import Input\n",
        "from tensorflow.keras.layers import LSTM\n",
        "from tensorflow.keras.layers import Reshape\n",
        "from tensorflow.keras.layers import BatchNormalization\n",
        "from tensorflow.keras.layers import Activation\n",
        "from tensorflow.keras import optimizers\n",
        "from tensorflow.keras.regularizers import l2\n",
        "from tensorflow.keras.wrappers.scikit_learn import KerasClassifier\n",
        "from tensorflow.keras.models import model_from_json\n",
        "from tensorflow.keras.models import Model\n",
        "from tensorflow.keras.utils import model_to_dot\n",
        "from tensorflow.keras.utils import plot_model\n",
        "from IPython.display import SVG\n",
        "\n",
        "import pandas as pd\n",
        "import pyedflib as pyedf\n",
        "import h5py\n",
        "import numpy as np\n",
        "import matplotlib.pyplot as plt\n",
        "import os\n",
        "import time\n",
        "from tqdm import tqdm\n",
        "import seaborn as sns\n",
        "import progressbar\n",
        "import matplotlib.pyplot as plt\n",
        "%matplotlib inline\n",
        "\n",
        "import sklearn as sk\n",
        "from sklearn.model_selection import train_test_split\n",
        "from sklearn.model_selection import GridSearchCV\n",
        "from sklearn.metrics import confusion_matrix \n",
        "from sklearn.metrics import f1_score\n",
        "from sklearn.metrics import precision_score\n",
        "from sklearn.metrics import recall_score\n",
        "from sklearn.metrics import classification_report\n",
        "from sklearn.utils.class_weight import compute_class_weight\n",
        "\n",
        "from imblearn.over_sampling import SMOTE\n",
        "from imblearn.combine import SMOTETomek\n",
        "from imblearn.over_sampling import RandomOverSampler\n",
        "\n",
        "import itertools"
      ],
      "execution_count": 1,
      "outputs": [
        {
          "output_type": "stream",
          "text": [
            "/usr/local/lib/python3.6/dist-packages/sklearn/externals/six.py:31: DeprecationWarning: The module is deprecated in version 0.21 and will be removed in version 0.23 since we've dropped support for Python 2.7. Please rely on the official version of six (https://pypi.org/project/six/).\n",
            "  \"(https://pypi.org/project/six/).\", DeprecationWarning)\n"
          ],
          "name": "stderr"
        }
      ]
    },
    {
      "cell_type": "markdown",
      "metadata": {
        "id": "NG1AdmN0FjVA",
        "colab_type": "text"
      },
      "source": [
        "#Clases"
      ]
    },
    {
      "cell_type": "code",
      "metadata": {
        "id": "rT-Z0AiyFiq-",
        "colab_type": "code",
        "colab": {}
      },
      "source": [
        "#Esta no esta terminada.\n",
        "\n",
        "#Clase utilizada para presentar los resultados de los modelos.\n",
        "#En esta se incluyen una gráfica de la historia de entrenamiento y validación,\n",
        "#\n",
        "class Resultados:\n",
        "    def __init__(self, p_y_pred, p_y_true, pHist):\n",
        "        self.y_pred = p_y_pred\n",
        "        self.y_true = p_y_true\n",
        "        self.hist = pHist\n",
        "\n",
        "    # def convertirClases(self):\n",
        "    #   #Esto depronto no lo vamos a usar.\n",
        "    #   self.y_pred_convertidos = ((self.y_pred == 1) + (self.y_pred == 2)) + 2*((self.y_pred == 3) + (self.y_pred == 4)) + 3*(self.y_pred == 5)\n",
        "    #   self.y_true_convertidos = ((self.y_true == 1) + (self.y_true == 2)) + 2*((self.y_true == 3) + (self.y_true == 4)) + 3*(self.y_true == 5)\n",
        "\n",
        "    def darEtiqueta(self, pEstadoSueno):\n",
        "      et = 0\n",
        "\n",
        "      if(pEstadoSueno == \"Sleep stage 1\"):\n",
        "        et = 1\n",
        "      elif(pEstadoSueno == \"Sleep stage 2\"):\n",
        "        et = 2\n",
        "      elif(pEstadoSueno == \"Sleep stage 3\"):\n",
        "        et = 3\n",
        "      elif(pEstadoSueno == \"Sleep stage 4\"):\n",
        "        et = 4\n",
        "      elif(pEstadoSueno == \"Sleep stage R\"):\n",
        "        et = 5\n",
        "      else:\n",
        "        print(\"Primero eliminar la clase desconocida.\")\n",
        "      \n",
        "      return et\n",
        "      \n",
        "    def darEstadosSueno(self, pEtiquetas):\n",
        "      estados = pEtiquetas \n",
        "\n",
        "      estados[estados == 0] = \"Despierto\"\n",
        "      estados[estados == 1] = \"Sueño ligero\"\n",
        "      estados[estados == 2] = \"Sueño profundo\"\n",
        "      estados[estados == 3] = \"Sueño REM\"\n",
        "      \n",
        "      return estados\n",
        "\n",
        "    def graficarMatrizConfusion(self):\n",
        "      cm = confusion_matrix(self.y_true, self.y_pred)#, self.labels)\n",
        "      #print(cm)\n",
        "      #estados = self.darEstadosSueno(np.array([0, 1, 2, 3]))\n",
        "      \n",
        "      ax = sns.heatmap(cm, annot = True, cbar = False); #annot=True to annotate cells\n",
        "      \n",
        "      #plt.ylim()\n",
        "      #plt.ylim(bottom = 3.5, top = -0.5)\n",
        "      ax.xaxis.tick_top()\n",
        "      plt.xlabel(\"Clase Prediccion\")\n",
        "      plt.ylabel(\"Clase Verdadera\")\n",
        "      plt.title(\"Matriz de Confusion\")\n",
        "\n",
        "      plt.show()\n",
        "\n",
        "\n",
        "    def graficarNoches(self, pPred, pTrue):\n",
        "      tiempo = np.arange(0, len(pPred)*30, 30)\n",
        "      estados = darEstadosSueno(np.array([0, 1, 2, 3]))\n",
        "\n",
        "      plt.plot(tiempo, pPred, label = \"Predicciones Modelo\")\n",
        "      plt.plot(tiempo, pTrue, label = \"Etiquetas Experto\")\n",
        "      plt.set_yticklabels(estados)\n",
        "      plt.xlabel(\"Tiempo (s)\")\n",
        "      plt.ylabel(\"Estado de Sueño\")\n",
        "      plt.title(\"Estado del Sueño en una Noche\")\n",
        "\n",
        "      plt.show()\n",
        "\n",
        "    def graficarHistoria(self):\n",
        "      plt.plot(self.hist.history['sparse_categorical_accuracy'], label = 'Accuracy Entrenamiento')\n",
        "      plt.plot(self.hist.history['val_sparse_categorical_accuracy'], label = 'Accuracy Validacion')\n",
        "      plt.xlabel('Epoca')\n",
        "      plt.ylabel('Accuracy')\n",
        "      plt.title(\"Accuracy vs Epoca\")\n",
        "      plt.legend()\n",
        "      plt.show()\n",
        "\n",
        "    def calcularError(self):\n",
        "      error = np.sum(self.y_pred != self.y_true)\n",
        "      error = error/len(self.y_pred)\n",
        "\n",
        "      return error\n",
        "\n",
        "    def calcularF1(self):\n",
        "      f1 = f1_score(self.y_true, self.y_pred, average = 'micro')\n",
        "      return f1\n",
        "\n",
        "    def calcularPrecision(self):\n",
        "      precision = precision_score(self.y_true, self.y_pred, average = 'micro')\n",
        "      return precision\n",
        "\n",
        "    def calcularRecall(self):\n",
        "      recall = recall_score(self.y_true, self.y_pred, average = 'micro')\n",
        "      return recall\n",
        "\n",
        "    def darReporte(self):\n",
        "      print(classification_report(self.y_true, self.y_pred, labels = np.arange(0, max(self.y_true)+1))\n"
      ],
      "execution_count": 0,
      "outputs": []
    },
    {
      "cell_type": "markdown",
      "metadata": {
        "id": "Aivhu85eoNx8",
        "colab_type": "text"
      },
      "source": [
        "#Lectura de los Datos"
      ]
    },
    {
      "cell_type": "code",
      "metadata": {
        "id": "-gpIuWCCQlwR",
        "colab_type": "code",
        "colab": {}
      },
      "source": [
        "rutaDatos = \"drive/My Drive/DatosExamen2/processed\"\n",
        "\n",
        "def importarDatos():\n",
        "  datos = np.zeros((1,3000))\n",
        "  #datos2 = np.zeros((1,30, 3))\n",
        "  etiquetas = np.zeros(1)\n",
        "\n",
        "  p = 0\n",
        "\n",
        "  with progressbar.ProgressBar(max_value = 15) as bar:\n",
        "    for i in range(0,2):\n",
        "        for j in range(0,10):\n",
        "          if i == 1 and j == 5:\n",
        "            datos = datos[1:len(datos)]\n",
        "            #datos2 = datos2[1:len(datos2)]\n",
        "            etiquetas = etiquetas[1:len(etiquetas)]\n",
        "            return datos, etiquetas#datos2, etiquetas\n",
        "\n",
        "          numInferior = str(i) + str(j) + \"0\"\n",
        "          numSuperior = str(i) + str(j) + \"9\"\n",
        "\n",
        "          temp1 = np.load(rutaDatos + \"/Datos1_\" + numInferior  + \"_\" + numSuperior + \".npy\")\n",
        "          temp2 = np.load(rutaDatos + \"/Datos2_\" + numInferior  + \"_\" + numSuperior + \".npy\")\n",
        "          temp3 = np.load(rutaDatos + \"/Datos3_\" + numInferior  + \"_\" + numSuperior + \".npy\")\n",
        "          #temp2 = np.load(rutaDatos + \"/DatosCompletos2_\" + numInferior  + \"_\" + numSuperior + \".npy\")\n",
        "          # temp3 = np.load(rutaDatos + \"/Etiquetas_\" + numInferior +  \"_\" + numSuperior + \".npy\")\n",
        "\n",
        "          # datos = np.vstack((datos, temp1))\n",
        "          #datos2 = np.vstack((datos2, temp2))\n",
        "          # etiquetas = np.append(etiquetas, temp3)\n",
        "          \n",
        "          print(\"\\n\")\n",
        "          print(numInferior)\n",
        "          print(temp1.shape[0])\n",
        "          print(temp2.shape[0])\n",
        "          print(temp3.shape[0])\n",
        "          \n",
        "          p+=1\n",
        "          bar.update(p)\n",
        "        \n",
        "  datos = datos[1:len(datos)]\n",
        "  #datos2 = datos2[1:len(datos2)]\n",
        "  etiquetas = etiquetas[1:len(etiquetas)]\n",
        "  \n",
        "  return datos, etiquetas #datos2, etiquetas\n",
        "\n",
        "# unosDatos, unosDatos2, unosEtiquetas = importarDatos()\n",
        "unosDatos, unosEtiquetas = importarDatos()"
      ],
      "execution_count": 0,
      "outputs": []
    },
    {
      "cell_type": "code",
      "metadata": {
        "id": "KGWok7K1SBs9",
        "colab_type": "code",
        "outputId": "4bf63fc2-0782-4270-cd08-8e90ed3e7836",
        "colab": {
          "base_uri": "https://localhost:8080/",
          "height": 55
        }
      },
      "source": [
        "#Para cargar los datos totales\n",
        "start = time.time()\n",
        "\n",
        "unosDatos = np.load(\"drive/My Drive/DatosExamen2/processed/DatosTotalesCorregidos_020_149.npy\")\n",
        "unosDatos2 = np.load(\"drive/My Drive/DatosExamen2/processed/DatosTotalesCorregidos2_020_149.npy\")\n",
        "unosEtiquetas = np.load(\"drive/My Drive/DatosExamen2/processed/EtiquetasTotalesCorregidas_020_149.npy\")\n",
        "\n",
        "print(\"Tiempo: {} segundos\".format(time.time() - start))\n",
        "\n",
        "print(unosDatos2.shape)"
      ],
      "execution_count": 3,
      "outputs": [
        {
          "output_type": "stream",
          "text": [
            "Tiempo: 255.85004329681396 segundos\n",
            "(124643, 30, 3)\n"
          ],
          "name": "stdout"
        }
      ]
    },
    {
      "cell_type": "code",
      "metadata": {
        "id": "Y9fVcGp6pV7W",
        "colab_type": "code",
        "outputId": "06c1d5e0-b83c-4bf0-a25f-773f23a668d0",
        "colab": {
          "base_uri": "https://localhost:8080/",
          "height": 93
        }
      },
      "source": [
        "filenameDatos = \"drive/My Drive/sleep-cassette\"\n",
        "filenameDescripcion = \"drive/My Drive/SC-subjects.xls\"\n",
        "\n",
        "ArchivoLightsOff=pd.read_excel(filenameDescripcion, sheet_name='Blad1')\n",
        "\n",
        "TiempoLightsOff=ArchivoLightsOff[\"LightsOff\"].values\n",
        "TiempoLightsOffSegundos=TiempoLightsOff\n",
        "HorasSuenio=8\n",
        "\n",
        "for i in range (0, len(TiempoLightsOff)):\n",
        "  segundos=int(TiempoLightsOff[i].hour) * 3600 + int(TiempoLightsOff[i].minute) * 60\n",
        "  TiempoLightsOffSegundos[i]=segundos\n",
        "\n",
        "listaArchivos = os.listdir(filenameDatos)\n",
        "\n",
        "listaHypnograms = [i for i in listaArchivos if \"Hypnogram\" in i] \n",
        "listaPSGs = [i for i in listaArchivos if \"PSG\" in i]\n",
        "\n",
        "listaHypnograms.sort()\n",
        "listaPSGs.sort()\n",
        "\n",
        "# print(\"Importando datos...\")\n",
        "\n",
        "start = time.time()\n",
        "\n",
        "Datos1=np.zeros(3000)\n",
        "Datos2=np.zeros(3000)\n",
        "Datos3=np.zeros(3000)\n",
        "\n",
        "Etiquetas=[0]\n",
        "\n",
        "p = 0\n",
        "inicioNumArchivos = 20\n",
        "numArchivos = 130\n",
        "\n",
        "with progressbar.ProgressBar(max_value=numArchivos*960) as bar:\n",
        "  for i in range(inicioNumArchivos,inicioNumArchivos+numArchivos):#len(listaHypnograms)):\n",
        "\n",
        "    hyp = listaHypnograms[i]\n",
        "    psg = listaPSGs[i]\n",
        "\n",
        "    #print(\"Hyp: {}, PSG: {}\".format(hyp,psg))\n",
        "\n",
        "    fileHyp = pyedf.EdfReader(filenameDatos + \"/\" + hyp)\n",
        "    filePSG = pyedf.EdfReader(filenameDatos + \"/\" + psg)\n",
        "\n",
        "    hypTime, hypDur, hypEtiqueta = fileHyp.readAnnotations()\n",
        "\n",
        "    tiempoComienzo = fileHyp.starttime_hour*3600+fileHyp.starttime_minute*60+fileHyp.starttime_second\n",
        "    offset=TiempoLightsOffSegundos[i]-tiempoComienzo\n",
        "    if offset<0:\n",
        "      offset+=24*3600\n",
        "    LimiteSuperior=offset+HorasSuenio*3600\n",
        "    ventana=30\n",
        "    tiempo=offset\n",
        "    j=0\n",
        "    referenciaSenial=0\n",
        "    FrecuenciaMuestreo = filePSG.getSampleFrequency(referenciaSenial)\n",
        "\n",
        "    while tiempo<LimiteSuperior:\n",
        "      if tiempo>=hypTime[j+1]:\n",
        "        j+=1\n",
        "        \n",
        "      # ventanaMuestra = np.round(FrecuenciaMuestreo * ventana)\n",
        "      # muestraInicial = np.round(FrecuenciaMuestreo * tiempo)\n",
        "      # senial1=filePSG.readSignal(0)\n",
        "      # senial2=filePSG.readSignal(1)\n",
        "      # senial3=filePSG.readSignal(2)\n",
        "      # senialActual1=senial1[muestraInicial:muestraInicial+ventanaMuestra]\n",
        "      # senialActual2=senial2[muestraInicial:muestraInicial+ventanaMuestra]\n",
        "      # senialActual3=senial3[muestraInicial:muestraInicial+ventanaMuestra]\n",
        "      \n",
        "      etiquetaActual=hypEtiqueta[j]\n",
        "      \n",
        "      # Datos1=np.vstack((Datos1,senialActual1))\n",
        "      # Datos2=np.vstack((Datos2,senialActual2))\n",
        "      # Datos3=np.vstack((Datos3,senialActual3))\n",
        "\n",
        "      Etiquetas=np.vstack((Etiquetas,etiquetaActual))\n",
        "      tiempo+=ventana\n",
        "      p+=1\n",
        "      bar.update(p)\n",
        "\n",
        "    fileHyp._close() \n",
        "    filePSG._close()\n",
        "#print(listaHypnograms)\n",
        "#print(listaPSGs)\n",
        "\n",
        "Etiquetas = Etiquetas[1:len(Etiquetas)]"
      ],
      "execution_count": 0,
      "outputs": [
        {
          "output_type": "stream",
          "text": [
            "\r                                                                               \r\rN/A% (0 of 124800) |                     | Elapsed Time: 0:00:00 ETA:  --:--:--"
          ],
          "name": "stderr"
        },
        {
          "output_type": "stream",
          "text": [
            "Importando datos...\n"
          ],
          "name": "stdout"
        },
        {
          "output_type": "stream",
          "text": [
            "100% (124800 of 124800) |################| Elapsed Time: 0:05:08 Time:  0:05:08\n"
          ],
          "name": "stderr"
        },
        {
          "output_type": "stream",
          "text": [
            "Termino.\n",
            "Tiempo: 309.40125346183777 segundos.\n"
          ],
          "name": "stdout"
        }
      ]
    },
    {
      "cell_type": "code",
      "metadata": {
        "id": "zTq6m6HZqImV",
        "colab_type": "code",
        "outputId": "7edbe63c-361a-48bc-b49a-b8e1faebfaba",
        "colab": {
          "base_uri": "https://localhost:8080/",
          "height": 55
        }
      },
      "source": [
        "def appendDatos(pDatos1, pDatos2, pDatos3):\n",
        "  Datos_Generales=np.zeros((pDatos1.shape[0],3000,3))\n",
        "\n",
        "  for i in progressbar.progressbar(range(0,pDatos1.shape[0])):\n",
        "    \n",
        "    Datos_Generales[i,:,0]=pDatos1[i]\n",
        "    Datos_Generales[i,:,1]=pDatos2[i]\n",
        "    Datos_Generales[i,:,2]=pDatos3[i]\n",
        "    \n",
        "  return Datos_Generales\n",
        "\n",
        "Datos1=np.zeros(3000)\n",
        "Datos2=np.zeros(3000)\n",
        "Datos3=np.zeros(3000)\n",
        "\n",
        "for i in range(0, 2):\n",
        "  for j in range(0, 10):\n",
        "    if i == 0 and j > 1 or i == 1 and j < 5:\n",
        "      intervalo = str(i) + str(j) + \"0_\" + str(i) + str(j) + \"9\"\n",
        "\n",
        "      temp1 = np.load(\"drive/My Drive/DatosExamen2/raw/Datos1_\" + intervalo + \"_raw.npy\")\n",
        "      temp2 = np.load(\"drive/My Drive/DatosExamen2/raw/Datos2_\" + intervalo + \"_raw.npy\")\n",
        "      temp3 = np.load(\"drive/My Drive/DatosExamen2/raw/Datos3_\" + intervalo + \"_raw.npy\")\n",
        "\n",
        "      Datos1 = np.vstack((Datos1,temp1))\n",
        "      Datos2 = np.vstack((Datos2,temp2))\n",
        "      Datos3 = np.vstack((Datos3,temp3))\n",
        "\n",
        "Datos1 = Datos1[1:len(Datos1)]\n",
        "Datos2 = Datos2[1:len(Datos2)]\n",
        "Datos3 = Datos3[1:len(Datos3)]\n",
        "\n",
        "DatosCompletosRaw = appendDatos(Datos1, Datos2, Datos3)\n",
        "\n",
        "print(DatosCompletosRaw.shape)"
      ],
      "execution_count": 0,
      "outputs": [
        {
          "output_type": "stream",
          "text": [
            "100% (124800 of 124800) |################| Elapsed Time: 0:00:02 Time:  0:00:02\n"
          ],
          "name": "stderr"
        },
        {
          "output_type": "stream",
          "text": [
            "(124800, 3000, 3)\n"
          ],
          "name": "stdout"
        }
      ]
    },
    {
      "cell_type": "code",
      "metadata": {
        "id": "CNspWeclOM_Z",
        "colab_type": "code",
        "colab": {}
      },
      "source": [
        "np.save(\"drive/My Drive/DatosExamen2/raw/DatosCompletos_020_149_raw\", DatosCompletosRaw)\n",
        "np.save(\"drive/My Drive/DatosExamen2/raw/EtiquetasCompletas_020_149_raw\", Etiquetas)"
      ],
      "execution_count": 0,
      "outputs": []
    },
    {
      "cell_type": "code",
      "metadata": {
        "id": "zRfFK8aaPVoV",
        "colab_type": "code",
        "colab": {}
      },
      "source": [
        "#Prueba\n",
        "# DatosCompletosRaw = Etiquetas[Etiquetas != \"Sleep stage ?\"]\n",
        "\n",
        "#unosDatos = DatosCompletosRaw[np.array([Etiquetas != \"Sleep stage ?\"])[0,:,0], :, :]\n",
        "# unosEtiquetas = Etiquetas[Etiquetas != \"Sleep stage ?\"]\n",
        "# test = np.array([Etiquetas == \"Sleep stage ?\"]).nonzero()\n",
        "#print(unosDatos.shape)\n",
        "# print(test)\n",
        "\n",
        "unosEtiquetasTest = (unosEtiquetas == \"Sleep stage 1\") + 2*(unosEtiquetas == \"Sleep stage 2\") + 3*(unosEtiquetas == \"Sleep stage 3\") + 4*(unosEtiquetas == \"Sleep stage 4\") + 5*(unosEtiquetas == \"Sleep stage R\")"
      ],
      "execution_count": 0,
      "outputs": []
    },
    {
      "cell_type": "code",
      "metadata": {
        "id": "BLMrNyBNQGsd",
        "colab_type": "code",
        "colab": {}
      },
      "source": [
        "# np.save(\"drive/My Drive/DatosExamen2/processed/DatosTotalesCorregidos_020_149\", unosDatos)\n",
        "np.save(\"drive/My Drive/DatosExamen2/processed/EtiquetasTotalesCorregidas_020_149\", unosEtiquetas)"
      ],
      "execution_count": 0,
      "outputs": []
    },
    {
      "cell_type": "code",
      "metadata": {
        "id": "vqNHjkpQM14h",
        "colab_type": "code",
        "colab": {}
      },
      "source": [
        "def eliminarClaseDesconocida(pDatos, pEtiquetas):\n",
        "  et = []\n",
        "  dat = np.zeros((3000,3))\n",
        "\n",
        "  with progressbar.ProgressBar(max_value=numArchivos*960) as bar:\n",
        "    for i in range(0, len(pEtiquetas)):\n",
        "      bar.update(i)\n",
        "      if pEtiquetas[i] != 'Sleep stage ?':\n",
        "        \n",
        "        if pEtiquetas[i]==\"Sleep stage W\":\n",
        "          et = np.append(et,0)\n",
        "          dat = np.vstack((dat, pDatos[i,:,:]))\n",
        "        elif pEtiquetas[i]==\"Sleep stage 1\":\n",
        "          et = np.append(et,1)\n",
        "          dat = np.vstack((dat, pDatos[i,:,:]))\n",
        "        elif pEtiquetas[i]==\"Sleep stage 2\":\n",
        "          et = np.append(et,2)\n",
        "          dat = np.vstack((dat, pDatos[i,:,:]))\n",
        "        elif pEtiquetas[i]==\"Sleep stage 3\":\n",
        "          et = np.append(et,3)\n",
        "          dat = np.vstack((dat, pDatos[i,:,:]))\n",
        "        elif pEtiquetas[i]==\"Sleep stage 4\":\n",
        "          et = np.append(et,4)\n",
        "          dat = np.vstack((dat, pDatos[i,:,:]))\n",
        "        elif pEtiquetas[i]==\"Sleep stage R\":\n",
        "          et = np.append(et,5)\n",
        "          dat = np.vstack((dat, pDatos[i,:,:]))\n",
        "        else:\n",
        "          pass\n",
        "          #print(\"Hay una clase distinta a las definidas.\")\n",
        "\n",
        "  dat = dat[1:dat.shape[0]]\n",
        "  return dat, et\n",
        "\n",
        "Datos, Etiquetas = eliminarClaseDesconocida(DatosCompletosRaw, Etiquetas)\n",
        "print(Datos.shape)\n",
        "np.save(\"content/drive/My Drive/DatosExamen2/processed/DatosTotalesCorregidos_020_149\", Datos)\n",
        "np.save(\"content/drive/My Drive/DatosExamen2/processed/EtiquetasTotalesCorregidas_020_149\", Etiquetas)"
      ],
      "execution_count": 0,
      "outputs": []
    },
    {
      "cell_type": "markdown",
      "metadata": {
        "id": "YZvoS1t1pKc-",
        "colab_type": "text"
      },
      "source": [
        "#Preparación de Datos"
      ]
    },
    {
      "cell_type": "code",
      "metadata": {
        "id": "-Shz6TlvpNrC",
        "colab_type": "code",
        "colab": {}
      },
      "source": [
        "#Probar under y over sampling\n",
        "smote = SMOTE(ratio = 'not majority', k_neighbors = 3)\n",
        "smotetomek = SMOTETomek(ratio = 'not majority')\n",
        "randomOverSampler = RandomOverSampler(sampling_strategy = 'not majority', random_state = 0)"
      ],
      "execution_count": 0,
      "outputs": []
    },
    {
      "cell_type": "code",
      "metadata": {
        "id": "hARh2hKqpioi",
        "colab_type": "code",
        "colab": {}
      },
      "source": [
        "def convertirClases(pY):\n",
        "      y = ((pY == 1) + (pY == 2)) + 2*((pY == 3) + (pY == 4)) + 3*(pY == 5)\n",
        "      #y = pY==1\n",
        "      return y\n",
        "\n",
        "#x_train = np.expand_dims(np.transpose(x_train), axis=3) # reshape (569, 30) to (569, 30, 1) \n",
        "#x_test = np.expand_dims(np.transpose(x_test), axis=3) # reshape (569, 30) to (569, 30, 1) "
      ],
      "execution_count": 0,
      "outputs": []
    },
    {
      "cell_type": "code",
      "metadata": {
        "id": "6ET6r1jQtijD",
        "colab_type": "code",
        "colab": {}
      },
      "source": [
        "unosEtiquetas = convertirClases(unosEtiquetas)"
      ],
      "execution_count": 0,
      "outputs": []
    },
    {
      "cell_type": "code",
      "metadata": {
        "id": "SAz3soFAU1uh",
        "colab_type": "code",
        "outputId": "01c53e0a-2265-4ab1-de20-3a5521013a3d",
        "colab": {
          "base_uri": "https://localhost:8080/",
          "height": 55
        }
      },
      "source": [
        "print(\"Separando datos en entrenamiento y validacion...\")\n",
        "\n",
        "x_train1, x_test1, y_train, y_test = train_test_split(unosDatos, unosEtiquetas , random_state = 0, test_size=0.20)\n",
        "x_train2, x_test2 = train_test_split(unosDatos2, unosEtiquetas , random_state = 0, test_size=0.20)[0:2]\n",
        "\n",
        "print(\"Termino.\")\n",
        "\n",
        "unosDatos = None\n",
        "\n",
        "# x_train2, x_test2, y_train2, y_test2 = train_test_split(unosDatos2, unosEtiquetas, random_state = 0, test_size=0.10)\n",
        "# x_train2, x_test2 = train_test_split(unosDatos2, unosEtiquetas, random_state = 0, test_size=0.20)[0:2]\n",
        "\n",
        "unosDatos2 = None\n",
        "unosEtiquetas = None\n",
        "\n",
        "# print(x_train1.shape)\n",
        "# print(x_train2.shape)\n",
        "\n",
        "# unosDatos = None\n",
        "# unosEtiquetas = None"
      ],
      "execution_count": 5,
      "outputs": [
        {
          "output_type": "stream",
          "text": [
            "Separando datos en entrenamiento y validacion...\n",
            "Termino.\n"
          ],
          "name": "stdout"
        }
      ]
    },
    {
      "cell_type": "code",
      "metadata": {
        "colab_type": "code",
        "id": "OFzdlIEq61qW",
        "outputId": "f7b53891-08f2-45bf-d98d-ce963fdadb30",
        "colab": {
          "base_uri": "https://localhost:8080/",
          "height": 93
        }
      },
      "source": [
        "# x_train2 = np.reshape(x_train, (-1, 9000),'F')\n",
        "\n",
        "x_train1 = np.reshape(x_train1, (-1, 9000),'F')\n",
        "x_train2 = np.reshape(x_train2, (-1, 90), 'F')\n",
        "\n",
        "print(\"Oversampling...\")\n",
        "\n",
        "# x_train2, y_train2 = randomOverSampler.fit_resample(x_train2, y_train2)\n",
        "\n",
        "# x_train, y_train = smote.fit_resample(x_train, y_train)\n",
        "x_train2 = randomOverSampler.fit_resample(x_train2, y_train)[0]\n",
        "x_train1, y_train = randomOverSampler.fit_resample(x_train1, y_train)\n",
        "\n",
        "print(\"Reshaping...\")\n",
        "\n",
        "# x_train2 = np.reshape(x_train2, (-1, 3000, 3), 'F')\n",
        "\n",
        "x_train1 = np.reshape(x_train1, (-1, 3000, 3), 'F')\n",
        "x_train2 = np.reshape(x_train2, (-1, 30, 3), 'F')\n",
        "\n",
        "print(x_train1.shape)\n",
        "print(x_train2.shape)\n",
        "\n",
        "#print(x_test[0,0:5,0])\n",
        "#print(test[0,0:5])"
      ],
      "execution_count": 6,
      "outputs": [
        {
          "output_type": "stream",
          "text": [
            "Oversampling...\n",
            "Reshaping...\n",
            "(262434, 3000, 3)\n",
            "(262434, 30, 3)\n"
          ],
          "name": "stdout"
        }
      ]
    },
    {
      "cell_type": "code",
      "metadata": {
        "id": "p5ftbFB4GshI",
        "colab_type": "code",
        "colab": {}
      },
      "source": [
        "np.array_equal(y_train, y_train2)"
      ],
      "execution_count": 0,
      "outputs": []
    },
    {
      "cell_type": "code",
      "metadata": {
        "id": "H2x9BxUw3mTz",
        "colab_type": "code",
        "colab": {}
      },
      "source": [
        "#Para obtener los pesos de cada clase\n",
        "pesosClases = compute_class_weight(class_weight = 'balanced', classes = np.array([0, 1, 2, 3, 4, 5]), y = y_train)\n",
        "\n",
        "pesosClases = {0: pesosClases[0],\n",
        "               1: pesosClases[1],\n",
        "               2: pesosClases[2],\n",
        "               3: pesosClases[3],\n",
        "               4: pesosClases[4],\n",
        "               5: pesosClases[5]}"
      ],
      "execution_count": 0,
      "outputs": []
    },
    {
      "cell_type": "code",
      "metadata": {
        "id": "IkPiWYxAobAI",
        "colab_type": "code",
        "outputId": "45586983-b2eb-4050-a07a-52a054a32135",
        "colab": {
          "base_uri": "https://localhost:8080/",
          "height": 131
        }
      },
      "source": [
        "def encontrarCantidadClase(pEtiquetas, pClase):\n",
        "  return np.sum(pEtiquetas == pClase)\n",
        "\n",
        "for i in range(0,6):  \n",
        "  print(encontrarCantidadClase(y_train, i))"
      ],
      "execution_count": 7,
      "outputs": [
        {
          "output_type": "stream",
          "text": [
            "43739\n",
            "43739\n",
            "43739\n",
            "43739\n",
            "43739\n",
            "43739\n"
          ],
          "name": "stdout"
        }
      ]
    },
    {
      "cell_type": "code",
      "metadata": {
        "id": "6svFkb-C9niH",
        "colab_type": "code",
        "colab": {}
      },
      "source": [
        "np.save(\"drive/My Drive/DatosExamen2/processed/DatosOversample_x_train1\", x_train1)\n",
        "\n",
        "print(\"Ya el largo.\")\n",
        "\n",
        "np.save(\"drive/My Drive/DatosExamen2/processed/DatosOversample_y_train1\", y_train)\n",
        "np.save(\"drive/My Drive/DatosExamen2/processed/DatosOversample_x_test1\", x_test1)\n",
        "np.save(\"drive/My Drive/DatosExamen2/processed/DatosOversample_y_test1\", y_test)\n",
        "\n",
        "print(\"En 2.\")\n",
        "np.save(\"drive/My Drive/DatosExamen2/processed/DatosOversample_x_train2\", x_train2)\n",
        "np.save(\"drive/My Drive/DatosExamen2/processed/DatosOversample_x_test2\", x_test2)"
      ],
      "execution_count": 0,
      "outputs": []
    },
    {
      "cell_type": "code",
      "metadata": {
        "id": "b0b50Qyy2Dlc",
        "colab_type": "code",
        "colab": {}
      },
      "source": [
        "datosOversampled = np.load(\"drive/My Drive/DatosExamen2/processed/DatosOversampled.npz\")\n",
        "\n",
        "x_train1 =  \n",
        "x_train2 = datosOversampled['x_train2']\n",
        "\n",
        "x_test1 = datosOversampled['x_test1']\n",
        "x_test2 = datosOversampled['x_test2']\n",
        "\n",
        "y_train = datosOversampled['y_train']\n",
        "y_test = datosOversampled['y_test']"
      ],
      "execution_count": 0,
      "outputs": []
    },
    {
      "cell_type": "code",
      "metadata": {
        "id": "Jjh2mv0WuHPU",
        "colab_type": "code",
        "colab": {}
      },
      "source": [
        "np.savez_compressed(\"drive/My Drive/DatosExamen2/processed/DatosOversampled\", x_train1 = x_train1, x_test1 = x_test1, x_train2 = x_train2, x_test2 = x_test2, y_train = y_train, y_test = y_test)"
      ],
      "execution_count": 0,
      "outputs": []
    },
    {
      "cell_type": "code",
      "metadata": {
        "id": "0tTqyltr2IR8",
        "colab_type": "code",
        "outputId": "91cb59df-f10f-4f55-94ac-1c0e4697fe1b",
        "colab": {
          "base_uri": "https://localhost:8080/",
          "height": 131
        }
      },
      "source": [
        "pesosClases"
      ],
      "execution_count": 0,
      "outputs": [
        {
          "output_type": "execute_result",
          "data": {
            "text/plain": [
              "{0: 0.8538698087930825,\n",
              " 1: 1.275068767191798,\n",
              " 2: 0.3802618287333645,\n",
              " 3: 3.1608340377571147,\n",
              " 4: 7.809663046505152,\n",
              " 5: 1.030498447518786}"
            ]
          },
          "metadata": {
            "tags": []
          },
          "execution_count": 32
        }
      ]
    },
    {
      "cell_type": "code",
      "metadata": {
        "id": "15GNyMujxR7l",
        "colab_type": "code",
        "outputId": "b9b99700-f2d1-42eb-a793-fe80872f8eef",
        "colab": {
          "base_uri": "https://localhost:8080/",
          "height": 36
        }
      },
      "source": [
        "y_train.shape"
      ],
      "execution_count": 8,
      "outputs": [
        {
          "output_type": "execute_result",
          "data": {
            "text/plain": [
              "(262434,)"
            ]
          },
          "metadata": {
            "tags": []
          },
          "execution_count": 8
        }
      ]
    },
    {
      "cell_type": "markdown",
      "metadata": {
        "id": "hzhUvNhtoToM",
        "colab_type": "text"
      },
      "source": [
        "#Entrenamiento del Modelo"
      ]
    },
    {
      "cell_type": "markdown",
      "metadata": {
        "id": "ZNDN_jn4GUq2",
        "colab_type": "text"
      },
      "source": [
        "#Implementación en Keras"
      ]
    },
    {
      "cell_type": "markdown",
      "metadata": {
        "id": "tp7kfuqjTA38",
        "colab_type": "text"
      },
      "source": [
        "Creación del modelo"
      ]
    },
    {
      "cell_type": "code",
      "metadata": {
        "id": "R54HzoQ0LDZ0",
        "colab_type": "code",
        "colab": {}
      },
      "source": [
        "#Numero de clases\n",
        "numClases = 6\n",
        "\n",
        "def crearModelo(pTasa, pAlpha, pNumFiltros, pTamFiltros, pTamPooling, pNumNeuronas, pOptimizer):\n",
        "  modelo = Sequential()\n",
        "\n",
        "  #Esto corresponderia a la parte convolucional.\n",
        "  modelo.add(Conv1D(pNumFiltros[0], int(pTamFiltros[0]), activation = 'relu', input_shape = (3000,3)))\n",
        "  # modelo.add(BatchNormalization())\n",
        "  # modelo.add(Activation('relu'))\n",
        "  modelo.add(MaxPooling1D(int(pTamPooling[0])))\n",
        "\n",
        "  modelo.add(Conv1D(pNumFiltros[1], int(pTamFiltros[1]), activation = 'relu'))\n",
        "  # modelo.add(BatchNormalization())\n",
        "  # modelo.add(Activation('relu'))\n",
        "  modelo.add(MaxPooling1D(int(pTamPooling[1])))\n",
        "  \n",
        "  modelo.add(Conv1D(pNumFiltros[2], int(pTamFiltros[2]), activation = 'relu'))\n",
        "  # modelo.add(BatchNormalization())\n",
        "  # modelo.add(Activation('relu'))\n",
        "  modelo.add(MaxPooling1D(int(pTamPooling[2])))\n",
        "\n",
        "  modelo.add(Conv1D(pNumFiltros[3], int(pTamFiltros[3]), activation = 'relu'))\n",
        "  # modelo.add(BatchNormalization())\n",
        "  # modelo.add(Activation('relu'))\n",
        "\n",
        "  #modelo.add(AveragePooling1D(int(pTamPooling[1])))\n",
        "\n",
        "  # modelo.add(GlobalAveragePooling1D())\n",
        "  #modelo.add(MaxPooling1D(int(pTamPooling[2])))\n",
        "  modelo.add(Flatten())\n",
        "\n",
        "  #Esto corresponderia a la parte de red neuronal normalita. (Puse cualquier cosa por ahora)\n",
        "  #modelo.add(Dropout(0.5))\n",
        "  #modelo.add(Dense(pNumNeuronas[0], activation = 'relu'))\n",
        " \n",
        "  \n",
        "  # modelo.add(Dense(pNumNeuronas[1], activation = 'relu'))#, activity_regularizer=l2(pAlpha)))\n",
        "  # modelo.add(Dense(pNumNeuronas[2], activation = 'relu', activity_regularizer=l2(pAlpha)))\n",
        "  #modelo.add(Dense(pNumNeuronas[3], activation = 'relu', activity_regularizer=l2(pAlpha)))\n",
        "\n",
        "  modelo.add(Dense(numClases, activation = 'softmax'))#, activity_regularizer = l2(pAlpha)))\n",
        "  \n",
        "  #modelo.add(Dense(numClases, activation = 'softmax'))\n",
        "\n",
        "  sgd = optimizers.SGD(lr = pTasa, momentum=0.9)\n",
        "  adam = optimizers.Adam(learning_rate = pTasa)\n",
        "  if pOptimizer == \"adam\":\n",
        "    opt=adam\n",
        "  elif pOptimizer ==\"sgd\":\n",
        "    opt=sgd\n",
        "  elif pOptimizer ==\"rmsprop\":\n",
        "    opt = \"rmsprop\"\n",
        "  \n",
        "  modelo.compile(loss='sparse_categorical_crossentropy', optimizer = opt, metrics = ['sparse_categorical_accuracy'])\n",
        "  modelo.summary()\n",
        "\n",
        "  return modelo\n",
        "\n",
        "def crearModelo2(pTasa, pAlpha, pNumFiltros, pTamFiltros, pTamPooling, pNumNeuronas, pOptimizer):\n",
        "\n",
        "  capaEntrada = Input(shape = (3000,3))\n",
        "  # pooling0 = MaxPooling1D(int(pTamPooling[0]), padding='same')(capaEntrada)\n",
        "  # pooling0 = Reshape((-1, int(pNumFiltros[0])))(pooling0)\n",
        "  \n",
        "  capa1 = Conv1D(pNumFiltros[0], int(pTamFiltros[0]), padding='same', activation = 'relu')(capaEntrada)\n",
        "  pooling1 = MaxPooling1D(int(pTamPooling[1]), padding='same')(capa1)\n",
        "\n",
        "  capa2 = Conv1D(pNumFiltros[1], int(pTamFiltros[1]), padding='same', activation = 'relu')(capa1)\n",
        "  pooling2 = MaxPooling1D(int(pTamPooling[2]), padding='same')(capa2)\n",
        "\n",
        "  capa3 = Conv1D(pNumFiltros[2], int(pTamFiltros[2]), padding='same', activation = 'relu')(capa2)\n",
        "  pooling3 = MaxPooling1D(int(pTamPooling[3]), padding='same')(capa3)\n",
        "\n",
        "  capas = concatenate([pooling1, pooling2, pooling3], axis=1)\n",
        "  # capas = Flatten()(capas)\n",
        "  #capas = GlobalMaxPooling1D()(capas)\n",
        "  capas = GlobalAveragePooling1D()(capas)\n",
        "  # capas = Dropout(0.5)(capas)\n",
        "\n",
        "  # capa4 = LSTM(pNumNeuronas[0])(capas)\n",
        "  \n",
        "  #capa4 = Dense(pNumNeuronas[0], activation='relu')(capas)\n",
        "  #capaSalida = Dense(numClases, activation='softmax')(capaSalida)\n",
        "  capaSalida = Dense(numClases, activation='softmax')(capas)\n",
        "\n",
        "  modelo = Sequential()\n",
        "  modelo.add(Model(capaEntrada, capaSalida))\n",
        "\n",
        "  sgd = optimizers.SGD(lr = pTasa)#, momentum=0.9)\n",
        "  adam = optimizers.Adam(learning_rate = pTasa)\n",
        "  if pOptimizer == \"adam\":\n",
        "    opt=adam\n",
        "  elif pOptimizer ==\"sgd\":\n",
        "    opt=sgd\n",
        "  elif pOptimizer ==\"rmsprop\":\n",
        "    opt = \"rmsprop\"\n",
        "  \n",
        "  modelo.compile(loss='sparse_categorical_crossentropy', optimizer = opt, metrics = ['sparse_categorical_accuracy'])\n",
        "  modelo.layers[0].summary()\n",
        "  \n",
        "  return modelo\n",
        "\n",
        "def crearModelo3(pTasa, pAlpha, pNumFiltros, pTamFiltros, pTamPooling, pNumNeuronas, pOptimizer):\n",
        "  capaEntrada1 = Input(shape = (3000,3), name = 'entrada1')\n",
        "  capaEntrada2 = Input(shape = (30, 3), name = 'entrada2')\n",
        "\n",
        "  capa1_1 = Conv1D(pNumFiltros[0], int(pTamFiltros[0]), activation = 'relu', padding='same')(capaEntrada1)\n",
        "\n",
        "  pooling1_1 = MaxPooling1D(int(pTamPooling[0]), padding='same')(capa1_1)\n",
        "\n",
        "  capa2_1 = Conv1D(pNumFiltros[1], int(pTamFiltros[1]), activation = 'relu', padding='same')(pooling1_1)\n",
        "\n",
        "  pooling2_1 = MaxPooling1D(int(pTamPooling[1]), padding='same')(capa2_1)\n",
        "\n",
        "  capa3_1 = Conv1D(pNumFiltros[2], int(pTamFiltros[2]), activation = 'relu', padding='same')(pooling2_1)\n",
        "\n",
        "  pooling3_1 = MaxPooling1D(int(pTamPooling[2]), padding='same')(capa3_1)\n",
        "\n",
        "  capa1_2 = Conv1D(pNumFiltros[5], int(pTamFiltros[5]), activation = 'relu', padding='same')(capaEntrada2)\n",
        "  pooling1_2 = MaxPooling1D(int(pTamPooling[5]), padding='same')(capa1_2)\n",
        "  \n",
        "  capas1 = concatenate([pooling1_1, pooling2_1, pooling3_1])\n",
        "\n",
        "  capas1 = GlobalAveragePooling1D()(capas1)\n",
        "\n",
        "  capas = concatenate([capas1, pooling1_2])\n",
        "\n",
        "  # capas = MaxPooling1D(int(pTamPooling[3]))(capas)\n",
        "  # capas = Dropout(0.5)(capas)\n",
        "  # capas = Dense(pNumNeuronas[0], activation = 'softmax')(capas)\n",
        "  capaSalida = Dense(numClases, activation = 'softmax')(capas)\n",
        "\n",
        "  #modelo = Sequential()\n",
        "  modelo = Model(inputs = [capaEntrada1, capaEntrada2], outputs = capaSalida)\n",
        "\n",
        "  sgd = optimizers.SGD(lr = pTasa)#, momentum=0.9)\n",
        "  adam = optimizers.Adam(learning_rate = pTasa)\n",
        "  if pOptimizer == \"adam\":\n",
        "    opt=adam\n",
        "  elif pOptimizer ==\"sgd\":\n",
        "    opt=sgd\n",
        "  elif pOptimizer ==\"rmsprop\":\n",
        "    opt = \"rmsprop\"\n",
        "  \n",
        "  modelo.compile(loss='sparse_categorical_crossentropy', optimizer = opt, metrics = ['sparse_categorical_accuracy'])\n",
        "  modelo.summary()\n",
        "\n",
        "  return modelo\n",
        "\n",
        "def crearModelo4(pTasa, pAlpha, pNumFiltros, pTamFiltros, pTamPooling, pNumNeuronas, pOptimizer):\n",
        "  capaEntrada1 = Input(shape = (3000,3), name = 'entrada1')\n",
        "  capaEntrada2 = Input(shape = (30, 3), name = 'entrada2')\n",
        "\n",
        "  capa1_1 = Conv1D(pNumFiltros[0], int(pTamFiltros[0]), activation = 'relu', padding='same')(capaEntrada1)\n",
        "\n",
        "  pooling1_1 = MaxPooling1D(int(pTamPooling[0]), padding='same')(capa1_1)\n",
        "\n",
        "  capa2_1 = Conv1D(pNumFiltros[1], int(pTamFiltros[1]), activation = 'relu', padding='same')(capa1_1)\n",
        "\n",
        "  pooling2_1 = MaxPooling1D(int(pTamPooling[1]), padding='same')(capa2_1)\n",
        "\n",
        "  capa3_1 = Conv1D(pNumFiltros[2], int(pTamFiltros[2]), activation = 'relu', padding='same')(capa2_1)\n",
        "\n",
        "  pooling3_1 = MaxPooling1D(int(pTamPooling[2]), padding='same')(capa3_1)\n",
        "\n",
        "  capa1_2 = Conv1D(pNumFiltros[5], int(pTamFiltros[5]), activation = 'relu', padding='same')(capaEntrada2)\n",
        "  pooling1_2 = MaxPooling1D(int(pTamPooling[5]), padding='same')(capa1_2)\n",
        "  \n",
        "  flatten1 = Flatten()(pooling3_1)\n",
        "  flatten2 = Flatten()(pooling1_2)\n",
        "\n",
        "  capas = concatenate([flatten1, flatten2])\n",
        "\n",
        "  # capas = MaxPooling1D(int(pTamPooling[3]))(capas)\n",
        "  # capas = Dropout(0.5)(capas)\n",
        "  # capas = Dense(pNumNeuronas[0], activation = 'softmax')(capas)\n",
        "  capaSalida = Dense(numClases, activation = 'softmax')(capas)\n",
        "\n",
        "  #modelo = Sequential()\n",
        "  modelo = Model(inputs = [capaEntrada1, capaEntrada2], outputs = capaSalida)\n",
        "\n",
        "  sgd = optimizers.SGD(lr = pTasa)#, momentum=0.9)\n",
        "  adam = optimizers.Adam(learning_rate = pTasa)\n",
        "  if pOptimizer == \"adam\":\n",
        "    opt=adam\n",
        "  elif pOptimizer ==\"sgd\":\n",
        "    opt=sgd\n",
        "  elif pOptimizer ==\"rmsprop\":\n",
        "    opt = \"rmsprop\"\n",
        "  \n",
        "  modelo.compile(loss='sparse_categorical_crossentropy', optimizer = opt, metrics = ['sparse_categorical_accuracy'])\n",
        "  modelo.summary()\n",
        "\n",
        "  return modelo\n"
      ],
      "execution_count": 0,
      "outputs": []
    },
    {
      "cell_type": "code",
      "metadata": {
        "id": "8uQr-vM_x5xK",
        "colab_type": "code",
        "outputId": "1caa351f-f4ba-4c88-c3db-de42fe4b2fc2",
        "colab": {
          "base_uri": "https://localhost:8080/",
          "height": 1000
        }
      },
      "source": [
        "numFiltros = np.array([100, 100, 100, 100, 100, 100])\n",
        "tamFiltros = np.array([8, 8, 8, 8, 8, 8])\n",
        "tamPooling = np.array([3, 3, 3, 3, 3, 3])\n",
        "optimizer=\"adam\"\n",
        "numNeuronas = np.array([10, 20, 10])\n",
        "\n",
        "tasa = 0.001\n",
        "alpha = 0.01\n",
        "\n",
        "modelo = crearModelo2(tasa, alpha, numFiltros, tamFiltros, tamPooling, numNeuronas, optimizer)\n",
        "\n",
        "#Esta linea muestra un diagrama de la red neuronal.\n",
        "SVG(model_to_dot(modelo, show_shapes = True, expand_nested = True, dpi = 60).create(prog='dot', format='svg'))"
      ],
      "execution_count": 17,
      "outputs": [
        {
          "output_type": "stream",
          "text": [
            "Model: \"model_3\"\n",
            "__________________________________________________________________________________________________\n",
            "Layer (type)                    Output Shape         Param #     Connected to                     \n",
            "==================================================================================================\n",
            "input_3 (InputLayer)            [(None, 3000, 3)]    0                                            \n",
            "__________________________________________________________________________________________________\n",
            "conv1d_14 (Conv1D)              (None, 3000, 100)    2500        input_3[0][0]                    \n",
            "__________________________________________________________________________________________________\n",
            "conv1d_15 (Conv1D)              (None, 3000, 100)    80100       conv1d_14[0][0]                  \n",
            "__________________________________________________________________________________________________\n",
            "conv1d_16 (Conv1D)              (None, 3000, 100)    80100       conv1d_15[0][0]                  \n",
            "__________________________________________________________________________________________________\n",
            "max_pooling1d_14 (MaxPooling1D) (None, 1000, 100)    0           conv1d_14[0][0]                  \n",
            "__________________________________________________________________________________________________\n",
            "max_pooling1d_15 (MaxPooling1D) (None, 1000, 100)    0           conv1d_15[0][0]                  \n",
            "__________________________________________________________________________________________________\n",
            "max_pooling1d_16 (MaxPooling1D) (None, 1000, 100)    0           conv1d_16[0][0]                  \n",
            "__________________________________________________________________________________________________\n",
            "concatenate_4 (Concatenate)     (None, 3000, 100)    0           max_pooling1d_14[0][0]           \n",
            "                                                                 max_pooling1d_15[0][0]           \n",
            "                                                                 max_pooling1d_16[0][0]           \n",
            "__________________________________________________________________________________________________\n",
            "global_average_pooling1d_1 (Glo (None, 100)          0           concatenate_4[0][0]              \n",
            "__________________________________________________________________________________________________\n",
            "dense_3 (Dense)                 (None, 6)            606         global_average_pooling1d_1[0][0] \n",
            "==================================================================================================\n",
            "Total params: 163,306\n",
            "Trainable params: 163,306\n",
            "Non-trainable params: 0\n",
            "__________________________________________________________________________________________________\n"
          ],
          "name": "stdout"
        },
        {
          "output_type": "execute_result",
          "data": {
            "text/plain": [
              "<IPython.core.display.SVG object>"
            ],
            "image/svg+xml": "<svg height=\"615pt\" viewBox=\"0.00 0.00 850.00 738.00\" width=\"708pt\" xmlns=\"http://www.w3.org/2000/svg\" xmlns:xlink=\"http://www.w3.org/1999/xlink\">\n<g class=\"graph\" id=\"graph0\" transform=\"scale(.8333 .8333) rotate(0) translate(4 734)\">\n<title>G</title>\n<polygon fill=\"#ffffff\" points=\"-4,4 -4,-734 846,-734 846,4 -4,4\" stroke=\"transparent\"/>\n<g class=\"cluster\" id=\"clust1\">\n<title>cluster_model_3</title>\n<polygon fill=\"none\" points=\"8,-8 8,-675 834,-675 834,-8 8,-8\" stroke=\"#000000\" stroke-dasharray=\"5,2\"/>\n<text fill=\"#000000\" font-family=\"Times,serif\" font-size=\"14.00\" text-anchor=\"middle\" x=\"42\" y=\"-659.8\">model_3</text>\n</g>\n<!-- 140416406463768 -->\n<g class=\"node\" id=\"node1\">\n<title>140416406463768</title>\n<polygon fill=\"none\" points=\"437.5,-683.5 437.5,-729.5 764.5,-729.5 764.5,-683.5 437.5,-683.5\" stroke=\"#000000\"/>\n<text fill=\"#000000\" font-family=\"Times,serif\" font-size=\"14.00\" text-anchor=\"middle\" x=\"525.5\" y=\"-702.8\">model_3_input: InputLayer</text>\n<polyline fill=\"none\" points=\"613.5,-683.5 613.5,-729.5 \" stroke=\"#000000\"/>\n<text fill=\"#000000\" font-family=\"Times,serif\" font-size=\"14.00\" text-anchor=\"middle\" x=\"642.5\" y=\"-714.3\">input:</text>\n<polyline fill=\"none\" points=\"613.5,-706.5 671.5,-706.5 \" stroke=\"#000000\"/>\n<text fill=\"#000000\" font-family=\"Times,serif\" font-size=\"14.00\" text-anchor=\"middle\" x=\"642.5\" y=\"-691.3\">output:</text>\n<polyline fill=\"none\" points=\"671.5,-683.5 671.5,-729.5 \" stroke=\"#000000\"/>\n<text fill=\"#000000\" font-family=\"Times,serif\" font-size=\"14.00\" text-anchor=\"middle\" x=\"718\" y=\"-714.3\">[(?, 3000, 3)]</text>\n<polyline fill=\"none\" points=\"671.5,-706.5 764.5,-706.5 \" stroke=\"#000000\"/>\n<text fill=\"#000000\" font-family=\"Times,serif\" font-size=\"14.00\" text-anchor=\"middle\" x=\"718\" y=\"-691.3\">[(?, 3000, 3)]</text>\n</g>\n<!-- 140416407240040 -->\n<g class=\"node\" id=\"node2\">\n<title>140416407240040</title>\n<polygon fill=\"none\" points=\"459,-597.5 459,-643.5 743,-643.5 743,-597.5 459,-597.5\" stroke=\"#000000\"/>\n<text fill=\"#000000\" font-family=\"Times,serif\" font-size=\"14.00\" text-anchor=\"middle\" x=\"525.5\" y=\"-616.8\">input_3: InputLayer</text>\n<polyline fill=\"none\" points=\"592,-597.5 592,-643.5 \" stroke=\"#000000\"/>\n<text fill=\"#000000\" font-family=\"Times,serif\" font-size=\"14.00\" text-anchor=\"middle\" x=\"621\" y=\"-628.3\">input:</text>\n<polyline fill=\"none\" points=\"592,-620.5 650,-620.5 \" stroke=\"#000000\"/>\n<text fill=\"#000000\" font-family=\"Times,serif\" font-size=\"14.00\" text-anchor=\"middle\" x=\"621\" y=\"-605.3\">output:</text>\n<polyline fill=\"none\" points=\"650,-597.5 650,-643.5 \" stroke=\"#000000\"/>\n<text fill=\"#000000\" font-family=\"Times,serif\" font-size=\"14.00\" text-anchor=\"middle\" x=\"696.5\" y=\"-628.3\">[(?, 3000, 3)]</text>\n<polyline fill=\"none\" points=\"650,-620.5 743,-620.5 \" stroke=\"#000000\"/>\n<text fill=\"#000000\" font-family=\"Times,serif\" font-size=\"14.00\" text-anchor=\"middle\" x=\"696.5\" y=\"-605.3\">[(?, 3000, 3)]</text>\n</g>\n<!-- 140416406463768&#45;&gt;140416407240040 -->\n<g class=\"edge\" id=\"edge12\">\n<title>140416406463768-&gt;140416407240040</title>\n<path d=\"M601,-683.4536C601,-674.2957 601,-663.5862 601,-653.6244\" fill=\"none\" stroke=\"#000000\"/>\n<polygon fill=\"#000000\" points=\"604.5001,-653.61 601,-643.61 597.5001,-653.6101 604.5001,-653.61\" stroke=\"#000000\"/>\n</g>\n<!-- 140416407240432 -->\n<g class=\"node\" id=\"node3\">\n<title>140416407240432</title>\n<polygon fill=\"none\" points=\"452.5,-514.5 452.5,-560.5 749.5,-560.5 749.5,-514.5 452.5,-514.5\" stroke=\"#000000\"/>\n<text fill=\"#000000\" font-family=\"Times,serif\" font-size=\"14.00\" text-anchor=\"middle\" x=\"522.5\" y=\"-533.8\">conv1d_14: Conv1D</text>\n<polyline fill=\"none\" points=\"592.5,-514.5 592.5,-560.5 \" stroke=\"#000000\"/>\n<text fill=\"#000000\" font-family=\"Times,serif\" font-size=\"14.00\" text-anchor=\"middle\" x=\"621.5\" y=\"-545.3\">input:</text>\n<polyline fill=\"none\" points=\"592.5,-537.5 650.5,-537.5 \" stroke=\"#000000\"/>\n<text fill=\"#000000\" font-family=\"Times,serif\" font-size=\"14.00\" text-anchor=\"middle\" x=\"621.5\" y=\"-522.3\">output:</text>\n<polyline fill=\"none\" points=\"650.5,-514.5 650.5,-560.5 \" stroke=\"#000000\"/>\n<text fill=\"#000000\" font-family=\"Times,serif\" font-size=\"14.00\" text-anchor=\"middle\" x=\"700\" y=\"-545.3\">(?, 3000, 3)</text>\n<polyline fill=\"none\" points=\"650.5,-537.5 749.5,-537.5 \" stroke=\"#000000\"/>\n<text fill=\"#000000\" font-family=\"Times,serif\" font-size=\"14.00\" text-anchor=\"middle\" x=\"700\" y=\"-522.3\">(?, 3000, 100)</text>\n</g>\n<!-- 140416407240040&#45;&gt;140416407240432 -->\n<g class=\"edge\" id=\"edge1\">\n<title>140416407240040-&gt;140416407240432</title>\n<path d=\"M601,-597.3799C601,-589.1745 601,-579.7679 601,-570.8786\" fill=\"none\" stroke=\"#000000\"/>\n<polygon fill=\"#000000\" points=\"604.5001,-570.784 601,-560.784 597.5001,-570.784 604.5001,-570.784\" stroke=\"#000000\"/>\n</g>\n<!-- 140416407258504 -->\n<g class=\"node\" id=\"node4\">\n<title>140416407258504</title>\n<polygon fill=\"none\" points=\"376.5,-431.5 376.5,-477.5 673.5,-477.5 673.5,-431.5 376.5,-431.5\" stroke=\"#000000\"/>\n<text fill=\"#000000\" font-family=\"Times,serif\" font-size=\"14.00\" text-anchor=\"middle\" x=\"446.5\" y=\"-450.8\">conv1d_15: Conv1D</text>\n<polyline fill=\"none\" points=\"516.5,-431.5 516.5,-477.5 \" stroke=\"#000000\"/>\n<text fill=\"#000000\" font-family=\"Times,serif\" font-size=\"14.00\" text-anchor=\"middle\" x=\"545.5\" y=\"-462.3\">input:</text>\n<polyline fill=\"none\" points=\"516.5,-454.5 574.5,-454.5 \" stroke=\"#000000\"/>\n<text fill=\"#000000\" font-family=\"Times,serif\" font-size=\"14.00\" text-anchor=\"middle\" x=\"545.5\" y=\"-439.3\">output:</text>\n<polyline fill=\"none\" points=\"574.5,-431.5 574.5,-477.5 \" stroke=\"#000000\"/>\n<text fill=\"#000000\" font-family=\"Times,serif\" font-size=\"14.00\" text-anchor=\"middle\" x=\"624\" y=\"-462.3\">(?, 3000, 100)</text>\n<polyline fill=\"none\" points=\"574.5,-454.5 673.5,-454.5 \" stroke=\"#000000\"/>\n<text fill=\"#000000\" font-family=\"Times,serif\" font-size=\"14.00\" text-anchor=\"middle\" x=\"624\" y=\"-439.3\">(?, 3000, 100)</text>\n</g>\n<!-- 140416407240432&#45;&gt;140416407258504 -->\n<g class=\"edge\" id=\"edge2\">\n<title>140416407240432-&gt;140416407258504</title>\n<path d=\"M579.8298,-514.3799C571.5815,-505.3718 562.0074,-494.916 553.1898,-485.2863\" fill=\"none\" stroke=\"#000000\"/>\n<polygon fill=\"#000000\" points=\"555.6549,-482.7956 546.3203,-477.784 550.4922,-487.5229 555.6549,-482.7956\" stroke=\"#000000\"/>\n</g>\n<!-- 140416407258448 -->\n<g class=\"node\" id=\"node6\">\n<title>140416407258448</title>\n<polygon fill=\"none\" points=\"440,-265.5 440,-311.5 826,-311.5 826,-265.5 440,-265.5\" stroke=\"#000000\"/>\n<text fill=\"#000000\" font-family=\"Times,serif\" font-size=\"14.00\" text-anchor=\"middle\" x=\"554.5\" y=\"-284.8\">max_pooling1d_14: MaxPooling1D</text>\n<polyline fill=\"none\" points=\"669,-265.5 669,-311.5 \" stroke=\"#000000\"/>\n<text fill=\"#000000\" font-family=\"Times,serif\" font-size=\"14.00\" text-anchor=\"middle\" x=\"698\" y=\"-296.3\">input:</text>\n<polyline fill=\"none\" points=\"669,-288.5 727,-288.5 \" stroke=\"#000000\"/>\n<text fill=\"#000000\" font-family=\"Times,serif\" font-size=\"14.00\" text-anchor=\"middle\" x=\"698\" y=\"-273.3\">output:</text>\n<polyline fill=\"none\" points=\"727,-265.5 727,-311.5 \" stroke=\"#000000\"/>\n<text fill=\"#000000\" font-family=\"Times,serif\" font-size=\"14.00\" text-anchor=\"middle\" x=\"776.5\" y=\"-296.3\">(?, 3000, 100)</text>\n<polyline fill=\"none\" points=\"727,-288.5 826,-288.5 \" stroke=\"#000000\"/>\n<text fill=\"#000000\" font-family=\"Times,serif\" font-size=\"14.00\" text-anchor=\"middle\" x=\"776.5\" y=\"-273.3\">(?, 1000, 100)</text>\n</g>\n<!-- 140416407240432&#45;&gt;140416407258448 -->\n<g class=\"edge\" id=\"edge4\">\n<title>140416407240432-&gt;140416407258448</title>\n<path d=\"M640.29,-514.3698C654.9169,-504.4569 670.888,-491.9421 683,-478 710.3817,-446.4809 716.9244,-435.5178 727,-395 732.0409,-374.7285 737.074,-366.2992 727,-348 720.1793,-335.6104 709.5696,-325.4404 697.8965,-317.2339\" fill=\"none\" stroke=\"#000000\"/>\n<polygon fill=\"#000000\" points=\"699.5375,-314.1259 689.2478,-311.6017 695.7176,-319.9917 699.5375,-314.1259\" stroke=\"#000000\"/>\n</g>\n<!-- 140416407266416 -->\n<g class=\"node\" id=\"node5\">\n<title>140416407266416</title>\n<polygon fill=\"none\" points=\"16.5,-348.5 16.5,-394.5 313.5,-394.5 313.5,-348.5 16.5,-348.5\" stroke=\"#000000\"/>\n<text fill=\"#000000\" font-family=\"Times,serif\" font-size=\"14.00\" text-anchor=\"middle\" x=\"86.5\" y=\"-367.8\">conv1d_16: Conv1D</text>\n<polyline fill=\"none\" points=\"156.5,-348.5 156.5,-394.5 \" stroke=\"#000000\"/>\n<text fill=\"#000000\" font-family=\"Times,serif\" font-size=\"14.00\" text-anchor=\"middle\" x=\"185.5\" y=\"-379.3\">input:</text>\n<polyline fill=\"none\" points=\"156.5,-371.5 214.5,-371.5 \" stroke=\"#000000\"/>\n<text fill=\"#000000\" font-family=\"Times,serif\" font-size=\"14.00\" text-anchor=\"middle\" x=\"185.5\" y=\"-356.3\">output:</text>\n<polyline fill=\"none\" points=\"214.5,-348.5 214.5,-394.5 \" stroke=\"#000000\"/>\n<text fill=\"#000000\" font-family=\"Times,serif\" font-size=\"14.00\" text-anchor=\"middle\" x=\"264\" y=\"-379.3\">(?, 3000, 100)</text>\n<polyline fill=\"none\" points=\"214.5,-371.5 313.5,-371.5 \" stroke=\"#000000\"/>\n<text fill=\"#000000\" font-family=\"Times,serif\" font-size=\"14.00\" text-anchor=\"middle\" x=\"264\" y=\"-356.3\">(?, 3000, 100)</text>\n</g>\n<!-- 140416407258504&#45;&gt;140416407266416 -->\n<g class=\"edge\" id=\"edge3\">\n<title>140416407258504-&gt;140416407266416</title>\n<path d=\"M425.198,-431.4901C378.4762,-420.7181 322.6928,-407.857 274.781,-396.8106\" fill=\"none\" stroke=\"#000000\"/>\n<polygon fill=\"#000000\" points=\"275.5269,-393.3908 264.9961,-394.5547 273.9542,-400.2119 275.5269,-393.3908\" stroke=\"#000000\"/>\n</g>\n<!-- 140416407266472 -->\n<g class=\"node\" id=\"node7\">\n<title>140416407266472</title>\n<polygon fill=\"none\" points=\"332,-348.5 332,-394.5 718,-394.5 718,-348.5 332,-348.5\" stroke=\"#000000\"/>\n<text fill=\"#000000\" font-family=\"Times,serif\" font-size=\"14.00\" text-anchor=\"middle\" x=\"446.5\" y=\"-367.8\">max_pooling1d_15: MaxPooling1D</text>\n<polyline fill=\"none\" points=\"561,-348.5 561,-394.5 \" stroke=\"#000000\"/>\n<text fill=\"#000000\" font-family=\"Times,serif\" font-size=\"14.00\" text-anchor=\"middle\" x=\"590\" y=\"-379.3\">input:</text>\n<polyline fill=\"none\" points=\"561,-371.5 619,-371.5 \" stroke=\"#000000\"/>\n<text fill=\"#000000\" font-family=\"Times,serif\" font-size=\"14.00\" text-anchor=\"middle\" x=\"590\" y=\"-356.3\">output:</text>\n<polyline fill=\"none\" points=\"619,-348.5 619,-394.5 \" stroke=\"#000000\"/>\n<text fill=\"#000000\" font-family=\"Times,serif\" font-size=\"14.00\" text-anchor=\"middle\" x=\"668.5\" y=\"-379.3\">(?, 3000, 100)</text>\n<polyline fill=\"none\" points=\"619,-371.5 718,-371.5 \" stroke=\"#000000\"/>\n<text fill=\"#000000\" font-family=\"Times,serif\" font-size=\"14.00\" text-anchor=\"middle\" x=\"668.5\" y=\"-356.3\">(?, 1000, 100)</text>\n</g>\n<!-- 140416407258504&#45;&gt;140416407266472 -->\n<g class=\"edge\" id=\"edge5\">\n<title>140416407258504-&gt;140416407266472</title>\n<path d=\"M525,-431.3799C525,-423.1745 525,-413.7679 525,-404.8786\" fill=\"none\" stroke=\"#000000\"/>\n<polygon fill=\"#000000\" points=\"528.5001,-404.784 525,-394.784 521.5001,-404.784 528.5001,-404.784\" stroke=\"#000000\"/>\n</g>\n<!-- 140416951353416 -->\n<g class=\"node\" id=\"node8\">\n<title>140416951353416</title>\n<polygon fill=\"none\" points=\"16,-265.5 16,-311.5 402,-311.5 402,-265.5 16,-265.5\" stroke=\"#000000\"/>\n<text fill=\"#000000\" font-family=\"Times,serif\" font-size=\"14.00\" text-anchor=\"middle\" x=\"130.5\" y=\"-284.8\">max_pooling1d_16: MaxPooling1D</text>\n<polyline fill=\"none\" points=\"245,-265.5 245,-311.5 \" stroke=\"#000000\"/>\n<text fill=\"#000000\" font-family=\"Times,serif\" font-size=\"14.00\" text-anchor=\"middle\" x=\"274\" y=\"-296.3\">input:</text>\n<polyline fill=\"none\" points=\"245,-288.5 303,-288.5 \" stroke=\"#000000\"/>\n<text fill=\"#000000\" font-family=\"Times,serif\" font-size=\"14.00\" text-anchor=\"middle\" x=\"274\" y=\"-273.3\">output:</text>\n<polyline fill=\"none\" points=\"303,-265.5 303,-311.5 \" stroke=\"#000000\"/>\n<text fill=\"#000000\" font-family=\"Times,serif\" font-size=\"14.00\" text-anchor=\"middle\" x=\"352.5\" y=\"-296.3\">(?, 3000, 100)</text>\n<polyline fill=\"none\" points=\"303,-288.5 402,-288.5 \" stroke=\"#000000\"/>\n<text fill=\"#000000\" font-family=\"Times,serif\" font-size=\"14.00\" text-anchor=\"middle\" x=\"352.5\" y=\"-273.3\">(?, 1000, 100)</text>\n</g>\n<!-- 140416407266416&#45;&gt;140416951353416 -->\n<g class=\"edge\" id=\"edge6\">\n<title>140416407266416-&gt;140416951353416</title>\n<path d=\"M177.2565,-348.3799C181.7954,-339.8178 187.0277,-329.9477 191.9183,-320.7222\" fill=\"none\" stroke=\"#000000\"/>\n<polygon fill=\"#000000\" points=\"195.0652,-322.2586 196.6567,-311.784 188.8805,-318.98 195.0652,-322.2586\" stroke=\"#000000\"/>\n</g>\n<!-- 140416951344824 -->\n<g class=\"node\" id=\"node9\">\n<title>140416951344824</title>\n<polygon fill=\"none\" points=\"160.5,-182.5 160.5,-228.5 681.5,-228.5 681.5,-182.5 160.5,-182.5\" stroke=\"#000000\"/>\n<text fill=\"#000000\" font-family=\"Times,serif\" font-size=\"14.00\" text-anchor=\"middle\" x=\"248\" y=\"-201.8\">concatenate_4: Concatenate</text>\n<polyline fill=\"none\" points=\"335.5,-182.5 335.5,-228.5 \" stroke=\"#000000\"/>\n<text fill=\"#000000\" font-family=\"Times,serif\" font-size=\"14.00\" text-anchor=\"middle\" x=\"364.5\" y=\"-213.3\">input:</text>\n<polyline fill=\"none\" points=\"335.5,-205.5 393.5,-205.5 \" stroke=\"#000000\"/>\n<text fill=\"#000000\" font-family=\"Times,serif\" font-size=\"14.00\" text-anchor=\"middle\" x=\"364.5\" y=\"-190.3\">output:</text>\n<polyline fill=\"none\" points=\"393.5,-182.5 393.5,-228.5 \" stroke=\"#000000\"/>\n<text fill=\"#000000\" font-family=\"Times,serif\" font-size=\"14.00\" text-anchor=\"middle\" x=\"537.5\" y=\"-213.3\">[(?, 1000, 100), (?, 1000, 100), (?, 1000, 100)]</text>\n<polyline fill=\"none\" points=\"393.5,-205.5 681.5,-205.5 \" stroke=\"#000000\"/>\n<text fill=\"#000000\" font-family=\"Times,serif\" font-size=\"14.00\" text-anchor=\"middle\" x=\"537.5\" y=\"-190.3\">(?, 3000, 100)</text>\n</g>\n<!-- 140416407258448&#45;&gt;140416951344824 -->\n<g class=\"edge\" id=\"edge7\">\n<title>140416407258448-&gt;140416951344824</title>\n<path d=\"M574.2277,-265.4901C547.92,-255.1904 516.7337,-242.9806 489.3856,-232.2736\" fill=\"none\" stroke=\"#000000\"/>\n<polygon fill=\"#000000\" points=\"490.4744,-228.9413 479.8866,-228.5547 487.9224,-235.4595 490.4744,-228.9413\" stroke=\"#000000\"/>\n</g>\n<!-- 140416407266472&#45;&gt;140416951344824 -->\n<g class=\"edge\" id=\"edge8\">\n<title>140416407266472-&gt;140416951344824</title>\n<path d=\"M470.6227,-348.4756C455.3622,-339.352 440.3893,-327.3126 431,-312 417.5914,-290.1325 415.7409,-260.8585 416.8796,-238.5363\" fill=\"none\" stroke=\"#000000\"/>\n<polygon fill=\"#000000\" points=\"420.374,-238.7392 417.6114,-228.5109 413.3926,-238.2295 420.374,-238.7392\" stroke=\"#000000\"/>\n</g>\n<!-- 140416951353416&#45;&gt;140416951344824 -->\n<g class=\"edge\" id=\"edge9\">\n<title>140416951353416-&gt;140416951344824</title>\n<path d=\"M267.7723,-265.4901C294.08,-255.1904 325.2663,-242.9806 352.6144,-232.2736\" fill=\"none\" stroke=\"#000000\"/>\n<polygon fill=\"#000000\" points=\"354.0776,-235.4595 362.1134,-228.5547 351.5256,-228.9413 354.0776,-235.4595\" stroke=\"#000000\"/>\n</g>\n<!-- 140416406377080 -->\n<g class=\"node\" id=\"node10\">\n<title>140416406377080</title>\n<polygon fill=\"none\" points=\"170.5,-99.5 170.5,-145.5 671.5,-145.5 671.5,-99.5 170.5,-99.5\" stroke=\"#000000\"/>\n<text fill=\"#000000\" font-family=\"Times,serif\" font-size=\"14.00\" text-anchor=\"middle\" x=\"342.5\" y=\"-118.8\">global_average_pooling1d_1: GlobalAveragePooling1D</text>\n<polyline fill=\"none\" points=\"514.5,-99.5 514.5,-145.5 \" stroke=\"#000000\"/>\n<text fill=\"#000000\" font-family=\"Times,serif\" font-size=\"14.00\" text-anchor=\"middle\" x=\"543.5\" y=\"-130.3\">input:</text>\n<polyline fill=\"none\" points=\"514.5,-122.5 572.5,-122.5 \" stroke=\"#000000\"/>\n<text fill=\"#000000\" font-family=\"Times,serif\" font-size=\"14.00\" text-anchor=\"middle\" x=\"543.5\" y=\"-107.3\">output:</text>\n<polyline fill=\"none\" points=\"572.5,-99.5 572.5,-145.5 \" stroke=\"#000000\"/>\n<text fill=\"#000000\" font-family=\"Times,serif\" font-size=\"14.00\" text-anchor=\"middle\" x=\"622\" y=\"-130.3\">(?, 3000, 100)</text>\n<polyline fill=\"none\" points=\"572.5,-122.5 671.5,-122.5 \" stroke=\"#000000\"/>\n<text fill=\"#000000\" font-family=\"Times,serif\" font-size=\"14.00\" text-anchor=\"middle\" x=\"622\" y=\"-107.3\">(?, 100)</text>\n</g>\n<!-- 140416951344824&#45;&gt;140416406377080 -->\n<g class=\"edge\" id=\"edge10\">\n<title>140416951344824-&gt;140416406377080</title>\n<path d=\"M421,-182.3799C421,-174.1745 421,-164.7679 421,-155.8786\" fill=\"none\" stroke=\"#000000\"/>\n<polygon fill=\"#000000\" points=\"424.5001,-155.784 421,-145.784 417.5001,-155.784 424.5001,-155.784\" stroke=\"#000000\"/>\n</g>\n<!-- 140416406376800 -->\n<g class=\"node\" id=\"node11\">\n<title>140416406376800</title>\n<polygon fill=\"none\" points=\"307.5,-16.5 307.5,-62.5 534.5,-62.5 534.5,-16.5 307.5,-16.5\" stroke=\"#000000\"/>\n<text fill=\"#000000\" font-family=\"Times,serif\" font-size=\"14.00\" text-anchor=\"middle\" x=\"361\" y=\"-35.8\">dense_3: Dense</text>\n<polyline fill=\"none\" points=\"414.5,-16.5 414.5,-62.5 \" stroke=\"#000000\"/>\n<text fill=\"#000000\" font-family=\"Times,serif\" font-size=\"14.00\" text-anchor=\"middle\" x=\"443.5\" y=\"-47.3\">input:</text>\n<polyline fill=\"none\" points=\"414.5,-39.5 472.5,-39.5 \" stroke=\"#000000\"/>\n<text fill=\"#000000\" font-family=\"Times,serif\" font-size=\"14.00\" text-anchor=\"middle\" x=\"443.5\" y=\"-24.3\">output:</text>\n<polyline fill=\"none\" points=\"472.5,-16.5 472.5,-62.5 \" stroke=\"#000000\"/>\n<text fill=\"#000000\" font-family=\"Times,serif\" font-size=\"14.00\" text-anchor=\"middle\" x=\"503.5\" y=\"-47.3\">(?, 100)</text>\n<polyline fill=\"none\" points=\"472.5,-39.5 534.5,-39.5 \" stroke=\"#000000\"/>\n<text fill=\"#000000\" font-family=\"Times,serif\" font-size=\"14.00\" text-anchor=\"middle\" x=\"503.5\" y=\"-24.3\">(?, 6)</text>\n</g>\n<!-- 140416406377080&#45;&gt;140416406376800 -->\n<g class=\"edge\" id=\"edge11\">\n<title>140416406377080-&gt;140416406376800</title>\n<path d=\"M421,-99.3799C421,-91.1745 421,-81.7679 421,-72.8786\" fill=\"none\" stroke=\"#000000\"/>\n<polygon fill=\"#000000\" points=\"424.5001,-72.784 421,-62.784 417.5001,-72.784 424.5001,-72.784\" stroke=\"#000000\"/>\n</g>\n</g>\n</svg>"
          },
          "metadata": {
            "tags": []
          },
          "execution_count": 17
        }
      ]
    },
    {
      "cell_type": "code",
      "metadata": {
        "id": "M46eR6ELpaJ2",
        "colab_type": "code",
        "outputId": "d7028969-769e-4b58-857d-d42595c5fdc7",
        "colab": {
          "base_uri": "https://localhost:8080/",
          "height": 466
        }
      },
      "source": [
        "epocas = 4\n",
        "batchSize = 512#512\n",
        "# hist = modelo.fit(x_train, y_train, verbose = 1, validation_data=(x_test, y_test), epochs = epocas, batch_size = batchSize)\n",
        "# hist = modelo.fit(x_train, y_train, verbose = 1, validation_data=(x_test, y_test), epochs = epocas, batch_size = batchSize, class_weight = pesosClases)\n",
        "\n",
        "#Esta es para crearModelo3.\n",
        "\n",
        "hists = []\n",
        "hist = None\n",
        "\n",
        "for i in range(0,1):\n",
        "  # hist = modelo.fit(x_train, y_train, verbose = 1, validation_data=(x_test, y_test), epochs = epocas, batch_size = batchSize)#, class_weight = pesosClases)\n",
        "# # hist = modelo.fit([x_train1, x_train2], y_train, validation_data=([x_test1, x_test2], y_test), epochs = epocas, batch_size = batchSize)#, class_weight = pesosClases)\n",
        "  hist = modelo.fit([x_train1, x_train2], y_train, verbose = 1, validation_data=([x_test1, x_test2], y_test), epochs = epocas, batch_size = batchSize)\n",
        "  \n",
        "  hists.append(hist)\n",
        "\n",
        "  rutaModelo = \"drive/My Drive/ModelosExamen2/Modelo6.json\"\n",
        "  rutaPesos = \"drive/My Drive/ModelosExamen2/PesosModelo6.h5\"\n",
        "  rutaDiagrama = \"drive/My Drive/ModelosExamen2/DiagramaModelo6.png\"\n",
        "\n",
        "  # guardarModelo(modelo, rutaModelo, rutaPesos, rutaDiagrama)\n",
        "\n",
        "  y_prob = modelo.predict([x_train1, x_train2])\n",
        "  y_pred = y_prob.argmax(axis=-1)\n",
        "                        \n",
        "  resultadosEntrenamiento = Resultados(y_train, y_pred, hist)\n",
        "  resultadosEntrenamiento.graficarHistoria()\n",
        "\n",
        "  y_prob = modelo.predict([x_test1, x_test2])\n",
        "  y_pred = y_prob.argmax(axis=-1)\n",
        "                        \n",
        "  resultadosValidacion = Resultados(y_test, y_pred, hist)\n",
        "\n",
        "  resultadosEntrenamiento.darReporte()\n",
        "  resultadosValidacion.darReporte()\n",
        "  \n",
        "  resultadosEntrenamiento.graficarMatrizConfusion()\n",
        "  resultadosValidacion.graficarMatrizConfusion()"
      ],
      "execution_count": 18,
      "outputs": [
        {
          "output_type": "stream",
          "text": [
            "Train on 262434 samples, validate on 24929 samples\n",
            "Epoch 1/4\n",
            " 30720/262434 [==>...........................] - ETA: 44:39 - loss: 1.6506 - sparse_categorical_accuracy: 0.3229"
          ],
          "name": "stdout"
        },
        {
          "output_type": "error",
          "ename": "KeyboardInterrupt",
          "evalue": "ignored",
          "traceback": [
            "\u001b[0;31m---------------------------------------------------------------------------\u001b[0m",
            "\u001b[0;31mKeyboardInterrupt\u001b[0m                         Traceback (most recent call last)",
            "\u001b[0;32m<ipython-input-18-e172ba8f04de>\u001b[0m in \u001b[0;36m<module>\u001b[0;34m()\u001b[0m\n\u001b[1;32m     12\u001b[0m   \u001b[0;31m# hist = modelo.fit(x_train, y_train, verbose = 1, validation_data=(x_test, y_test), epochs = epocas, batch_size = batchSize)#, class_weight = pesosClases)\u001b[0m\u001b[0;34m\u001b[0m\u001b[0;34m\u001b[0m\u001b[0;34m\u001b[0m\u001b[0m\n\u001b[1;32m     13\u001b[0m \u001b[0;31m# # hist = modelo.fit([x_train1, x_train2], y_train, validation_data=([x_test1, x_test2], y_test), epochs = epocas, batch_size = batchSize)#, class_weight = pesosClases)\u001b[0m\u001b[0;34m\u001b[0m\u001b[0;34m\u001b[0m\u001b[0;34m\u001b[0m\u001b[0m\n\u001b[0;32m---> 14\u001b[0;31m   \u001b[0mhist\u001b[0m \u001b[0;34m=\u001b[0m \u001b[0mmodelo\u001b[0m\u001b[0;34m.\u001b[0m\u001b[0mfit\u001b[0m\u001b[0;34m(\u001b[0m\u001b[0;34m[\u001b[0m\u001b[0mx_train1\u001b[0m\u001b[0;34m,\u001b[0m \u001b[0mx_train2\u001b[0m\u001b[0;34m]\u001b[0m\u001b[0;34m,\u001b[0m \u001b[0my_train\u001b[0m\u001b[0;34m,\u001b[0m \u001b[0mverbose\u001b[0m \u001b[0;34m=\u001b[0m \u001b[0;36m1\u001b[0m\u001b[0;34m,\u001b[0m \u001b[0mvalidation_data\u001b[0m\u001b[0;34m=\u001b[0m\u001b[0;34m(\u001b[0m\u001b[0;34m[\u001b[0m\u001b[0mx_test1\u001b[0m\u001b[0;34m,\u001b[0m \u001b[0mx_test2\u001b[0m\u001b[0;34m]\u001b[0m\u001b[0;34m,\u001b[0m \u001b[0my_test\u001b[0m\u001b[0;34m)\u001b[0m\u001b[0;34m,\u001b[0m \u001b[0mepochs\u001b[0m \u001b[0;34m=\u001b[0m \u001b[0mepocas\u001b[0m\u001b[0;34m,\u001b[0m \u001b[0mbatch_size\u001b[0m \u001b[0;34m=\u001b[0m \u001b[0mbatchSize\u001b[0m\u001b[0;34m)\u001b[0m\u001b[0;34m\u001b[0m\u001b[0;34m\u001b[0m\u001b[0m\n\u001b[0m\u001b[1;32m     15\u001b[0m \u001b[0;34m\u001b[0m\u001b[0m\n\u001b[1;32m     16\u001b[0m   \u001b[0mhists\u001b[0m\u001b[0;34m.\u001b[0m\u001b[0mappend\u001b[0m\u001b[0;34m(\u001b[0m\u001b[0mhist\u001b[0m\u001b[0;34m)\u001b[0m\u001b[0;34m\u001b[0m\u001b[0;34m\u001b[0m\u001b[0m\n",
            "\u001b[0;32m/usr/local/lib/python3.6/dist-packages/tensorflow_core/python/keras/engine/training.py\u001b[0m in \u001b[0;36mfit\u001b[0;34m(self, x, y, batch_size, epochs, verbose, callbacks, validation_split, validation_data, shuffle, class_weight, sample_weight, initial_epoch, steps_per_epoch, validation_steps, validation_freq, max_queue_size, workers, use_multiprocessing, **kwargs)\u001b[0m\n\u001b[1;32m    725\u001b[0m         \u001b[0mmax_queue_size\u001b[0m\u001b[0;34m=\u001b[0m\u001b[0mmax_queue_size\u001b[0m\u001b[0;34m,\u001b[0m\u001b[0;34m\u001b[0m\u001b[0;34m\u001b[0m\u001b[0m\n\u001b[1;32m    726\u001b[0m         \u001b[0mworkers\u001b[0m\u001b[0;34m=\u001b[0m\u001b[0mworkers\u001b[0m\u001b[0;34m,\u001b[0m\u001b[0;34m\u001b[0m\u001b[0;34m\u001b[0m\u001b[0m\n\u001b[0;32m--> 727\u001b[0;31m         use_multiprocessing=use_multiprocessing)\n\u001b[0m\u001b[1;32m    728\u001b[0m \u001b[0;34m\u001b[0m\u001b[0m\n\u001b[1;32m    729\u001b[0m   def evaluate(self,\n",
            "\u001b[0;32m/usr/local/lib/python3.6/dist-packages/tensorflow_core/python/keras/engine/training_arrays.py\u001b[0m in \u001b[0;36mfit\u001b[0;34m(self, model, x, y, batch_size, epochs, verbose, callbacks, validation_split, validation_data, shuffle, class_weight, sample_weight, initial_epoch, steps_per_epoch, validation_steps, validation_freq, **kwargs)\u001b[0m\n\u001b[1;32m    673\u001b[0m         \u001b[0mvalidation_steps\u001b[0m\u001b[0;34m=\u001b[0m\u001b[0mvalidation_steps\u001b[0m\u001b[0;34m,\u001b[0m\u001b[0;34m\u001b[0m\u001b[0;34m\u001b[0m\u001b[0m\n\u001b[1;32m    674\u001b[0m         \u001b[0mvalidation_freq\u001b[0m\u001b[0;34m=\u001b[0m\u001b[0mvalidation_freq\u001b[0m\u001b[0;34m,\u001b[0m\u001b[0;34m\u001b[0m\u001b[0;34m\u001b[0m\u001b[0m\n\u001b[0;32m--> 675\u001b[0;31m         steps_name='steps_per_epoch')\n\u001b[0m\u001b[1;32m    676\u001b[0m \u001b[0;34m\u001b[0m\u001b[0m\n\u001b[1;32m    677\u001b[0m   def evaluate(self,\n",
            "\u001b[0;32m/usr/local/lib/python3.6/dist-packages/tensorflow_core/python/keras/engine/training_arrays.py\u001b[0m in \u001b[0;36mmodel_iteration\u001b[0;34m(model, inputs, targets, sample_weights, batch_size, epochs, verbose, callbacks, val_inputs, val_targets, val_sample_weights, shuffle, initial_epoch, steps_per_epoch, validation_steps, validation_freq, mode, validation_in_fit, prepared_feed_values_from_dataset, steps_name, **kwargs)\u001b[0m\n\u001b[1;32m    392\u001b[0m \u001b[0;34m\u001b[0m\u001b[0m\n\u001b[1;32m    393\u001b[0m         \u001b[0;31m# Get outputs.\u001b[0m\u001b[0;34m\u001b[0m\u001b[0;34m\u001b[0m\u001b[0;34m\u001b[0m\u001b[0m\n\u001b[0;32m--> 394\u001b[0;31m         \u001b[0mbatch_outs\u001b[0m \u001b[0;34m=\u001b[0m \u001b[0mf\u001b[0m\u001b[0;34m(\u001b[0m\u001b[0mins_batch\u001b[0m\u001b[0;34m)\u001b[0m\u001b[0;34m\u001b[0m\u001b[0;34m\u001b[0m\u001b[0m\n\u001b[0m\u001b[1;32m    395\u001b[0m         \u001b[0;32mif\u001b[0m \u001b[0;32mnot\u001b[0m \u001b[0misinstance\u001b[0m\u001b[0;34m(\u001b[0m\u001b[0mbatch_outs\u001b[0m\u001b[0;34m,\u001b[0m \u001b[0mlist\u001b[0m\u001b[0;34m)\u001b[0m\u001b[0;34m:\u001b[0m\u001b[0;34m\u001b[0m\u001b[0;34m\u001b[0m\u001b[0m\n\u001b[1;32m    396\u001b[0m           \u001b[0mbatch_outs\u001b[0m \u001b[0;34m=\u001b[0m \u001b[0;34m[\u001b[0m\u001b[0mbatch_outs\u001b[0m\u001b[0;34m]\u001b[0m\u001b[0;34m\u001b[0m\u001b[0;34m\u001b[0m\u001b[0m\n",
            "\u001b[0;32m/usr/local/lib/python3.6/dist-packages/tensorflow_core/python/keras/backend.py\u001b[0m in \u001b[0;36m__call__\u001b[0;34m(self, inputs)\u001b[0m\n\u001b[1;32m   3474\u001b[0m \u001b[0;34m\u001b[0m\u001b[0m\n\u001b[1;32m   3475\u001b[0m     fetched = self._callable_fn(*array_vals,\n\u001b[0;32m-> 3476\u001b[0;31m                                 run_metadata=self.run_metadata)\n\u001b[0m\u001b[1;32m   3477\u001b[0m     \u001b[0mself\u001b[0m\u001b[0;34m.\u001b[0m\u001b[0m_call_fetch_callbacks\u001b[0m\u001b[0;34m(\u001b[0m\u001b[0mfetched\u001b[0m\u001b[0;34m[\u001b[0m\u001b[0;34m-\u001b[0m\u001b[0mlen\u001b[0m\u001b[0;34m(\u001b[0m\u001b[0mself\u001b[0m\u001b[0;34m.\u001b[0m\u001b[0m_fetches\u001b[0m\u001b[0;34m)\u001b[0m\u001b[0;34m:\u001b[0m\u001b[0;34m]\u001b[0m\u001b[0;34m)\u001b[0m\u001b[0;34m\u001b[0m\u001b[0;34m\u001b[0m\u001b[0m\n\u001b[1;32m   3478\u001b[0m     output_structure = nest.pack_sequence_as(\n",
            "\u001b[0;32m/usr/local/lib/python3.6/dist-packages/tensorflow_core/python/client/session.py\u001b[0m in \u001b[0;36m__call__\u001b[0;34m(self, *args, **kwargs)\u001b[0m\n\u001b[1;32m   1470\u001b[0m         ret = tf_session.TF_SessionRunCallable(self._session._session,\n\u001b[1;32m   1471\u001b[0m                                                \u001b[0mself\u001b[0m\u001b[0;34m.\u001b[0m\u001b[0m_handle\u001b[0m\u001b[0;34m,\u001b[0m \u001b[0margs\u001b[0m\u001b[0;34m,\u001b[0m\u001b[0;34m\u001b[0m\u001b[0;34m\u001b[0m\u001b[0m\n\u001b[0;32m-> 1472\u001b[0;31m                                                run_metadata_ptr)\n\u001b[0m\u001b[1;32m   1473\u001b[0m         \u001b[0;32mif\u001b[0m \u001b[0mrun_metadata\u001b[0m\u001b[0;34m:\u001b[0m\u001b[0;34m\u001b[0m\u001b[0;34m\u001b[0m\u001b[0m\n\u001b[1;32m   1474\u001b[0m           \u001b[0mproto_data\u001b[0m \u001b[0;34m=\u001b[0m \u001b[0mtf_session\u001b[0m\u001b[0;34m.\u001b[0m\u001b[0mTF_GetBuffer\u001b[0m\u001b[0;34m(\u001b[0m\u001b[0mrun_metadata_ptr\u001b[0m\u001b[0;34m)\u001b[0m\u001b[0;34m\u001b[0m\u001b[0;34m\u001b[0m\u001b[0m\n",
            "\u001b[0;31mKeyboardInterrupt\u001b[0m: "
          ]
        }
      ]
    },
    {
      "cell_type": "code",
      "metadata": {
        "id": "TfazZkiWnfcb",
        "colab_type": "code",
        "colab": {}
      },
      "source": [
        "def guardarModelo(pModelo, pRutaModelo, pRutaPesos, pRutaDiagrama):\n",
        "  modelo_json = pModelo.to_json()\n",
        "\n",
        "  with open(pRutaModelo, \"w\") as archivo_json:\n",
        "      archivo_json.write(modelo_json)\n",
        "\n",
        "  pModelo.save_weights(pRutaPesos)\n",
        "\n",
        "  plot_model(pModelo, to_file = pRutaDiagrama, show_shapes = True)\n",
        "\n",
        "def cargarModelo(pRutaModelo, pRutaPesos):\n",
        "  archivo_json = open(pRutaModelo, 'r')\n",
        "  modelo_json = archivo_json.read()\n",
        "  archivo_json.close()\n",
        "  modelo = model_from_json(modelo_json)\n",
        "\n",
        "  modelo.load_weights(pRutaPesos)\n",
        "\n",
        "  return modelo"
      ],
      "execution_count": 0,
      "outputs": []
    },
    {
      "cell_type": "code",
      "metadata": {
        "id": "UCFUKRJooiAF",
        "colab_type": "code",
        "colab": {}
      },
      "source": [
        "rutaModelo = \"drive/My Drive/ModelosExamen2/Modelo.json\"\n",
        "rutaPesos = \"drive/My Drive/ModelosExamen2/PesosModelo.h5\"\n",
        "rutaDiagrama = \"drive/My Drive/ModelosExamen2/DiagramaModelo.png\""
      ],
      "execution_count": 0,
      "outputs": []
    },
    {
      "cell_type": "code",
      "metadata": {
        "id": "hgd1izCbpr2B",
        "colab_type": "code",
        "colab": {}
      },
      "source": [
        "guardarModelo(modelo, rutaModelo, rutaPesos)"
      ],
      "execution_count": 0,
      "outputs": []
    },
    {
      "cell_type": "code",
      "metadata": {
        "id": "Q8yCL4TiDkZA",
        "colab_type": "code",
        "colab": {}
      },
      "source": [
        "numFiltros = np.array([100, 50, 20])\n",
        "tamFiltros = np.array([6, 6, 6])\n",
        "tamPooling = np.array([6, 6, 6])\n",
        "optimizer=\"adam\"\n",
        "numNeuronas = np.array([10, 8, 6])\n",
        "\n",
        "parametros = dict(batch_size = [30],\n",
        "               epochs = [5],\n",
        "               pOptimizer = [\"adam\", \"sgd\"],#,\"rmsprop\"],\n",
        "               pTasa = [0.01],\n",
        "               pAlphas = [0.001],\n",
        "               pNumFiltros = [numFiltros],\n",
        "              pTamFiltros = [tamFiltros],\n",
        "              pTamPooling = [tamPooling],\n",
        "              pNumNeuronas = [numNeuronas]\n",
        "              )"
      ],
      "execution_count": 0,
      "outputs": []
    },
    {
      "cell_type": "code",
      "metadata": {
        "id": "BnjxayYrBy_9",
        "colab_type": "code",
        "colab": {}
      },
      "source": [
        "def GridSearch(pXtrain, pYtrain, pXtest, pYtest, pParameters):\n",
        "  i=0\n",
        "  parameters = []\n",
        "  bestScore = 0\n",
        "  bestModel=None\n",
        "  bestHist = None\n",
        "  contador=0\n",
        "  for k in parametros.keys():\n",
        "    parameters.append(pParameters.get(k))\n",
        "  with progressbar.ProgressBar(max_value=len(list(itertools.product(*parameters)))) as bar:\n",
        "    for p in itertools.product(*parameters):\n",
        "      contador=+1\n",
        "      bar.update(contador)\n",
        "      modelo=crearModelo(p[3],p[4],p[5],p[6],p[7],p[8], p[2])\n",
        "      hist = modelo.fit(pXtrain, pYtrain, verbose = 1, validation_data=(pXtest, pYtest), epochs = p[1], batch_size = p[0])\n",
        "      l, score =modelo.evaluate(pXtest,pYtest)\n",
        "      if score>bestScore:\n",
        "        bestScore = score\n",
        "        bestModel = modelo\n",
        "        bestHist = hist\n",
        "  return bestScore, bestModel, bestHist"
      ],
      "execution_count": 0,
      "outputs": []
    },
    {
      "cell_type": "code",
      "metadata": {
        "id": "SIxa-xRJ9U3s",
        "colab_type": "code",
        "outputId": "b4312a36-e3f4-4b34-a035-7a13c7a8b6ed",
        "colab": {
          "base_uri": "https://localhost:8080/",
          "height": 720
        }
      },
      "source": [
        "bestScore, bestModel, bestHist = GridSearch(x_train,y_train,x_test,y_test,parametros)\n",
        "graficarHistoria(bestHist)"
      ],
      "execution_count": 0,
      "outputs": [
        {
          "output_type": "stream",
          "text": [
            "\r                                                                               \r\rN/A% (0 of 2) |                          | Elapsed Time: 0:00:00 ETA:  --:--:--"
          ],
          "name": "stderr"
        },
        {
          "output_type": "stream",
          "text": [
            "Train on 7977 samples, validate on 887 samples\n",
            "Epoch 1/5\n",
            "7977/7977 [==============================] - 3s 361us/sample - loss: 1.6520 - sparse_categorical_accuracy: 0.3236 - val_loss: 1.6377 - val_sparse_categorical_accuracy: 0.2954\n",
            "Epoch 2/5\n",
            "7977/7977 [==============================] - 2s 302us/sample - loss: 1.6042 - sparse_categorical_accuracy: 0.3412 - val_loss: 1.6478 - val_sparse_categorical_accuracy: 0.2954\n",
            "Epoch 3/5\n",
            "7977/7977 [==============================] - 2s 304us/sample - loss: 1.6057 - sparse_categorical_accuracy: 0.3421 - val_loss: 1.6405 - val_sparse_categorical_accuracy: 0.2954\n",
            "Epoch 4/5\n",
            "7977/7977 [==============================] - 2s 305us/sample - loss: 1.6134 - sparse_categorical_accuracy: 0.3273 - val_loss: 1.6373 - val_sparse_categorical_accuracy: 0.2954\n",
            "Epoch 5/5\n",
            "7977/7977 [==============================] - 2s 307us/sample - loss: 1.6135 - sparse_categorical_accuracy: 0.3273 - val_loss: 1.6402 - val_sparse_categorical_accuracy: 0.2954\n",
            "887/887 [==============================] - 0s 143us/sample - loss: 1.6402 - sparse_categorical_accuracy: 0.2954\n"
          ],
          "name": "stdout"
        },
        {
          "output_type": "stream",
          "text": [
            "\r                                                                               \r\r 50% (1 of 2) |#############             | Elapsed Time: 0:00:13 ETA:   0:00:13"
          ],
          "name": "stderr"
        },
        {
          "output_type": "stream",
          "text": [
            "Train on 7977 samples, validate on 887 samples\n",
            "Epoch 1/5\n",
            "7977/7977 [==============================] - 3s 349us/sample - loss: 1.6346 - sparse_categorical_accuracy: 0.3383 - val_loss: 1.6308 - val_sparse_categorical_accuracy: 0.2965\n",
            "Epoch 2/5\n",
            "7977/7977 [==============================] - 2s 306us/sample - loss: 1.5496 - sparse_categorical_accuracy: 0.3894 - val_loss: 1.5556 - val_sparse_categorical_accuracy: 0.3901\n",
            "Epoch 3/5\n",
            "7977/7977 [==============================] - 2s 302us/sample - loss: 1.4849 - sparse_categorical_accuracy: 0.4159 - val_loss: 1.5129 - val_sparse_categorical_accuracy: 0.3890\n",
            "Epoch 4/5\n",
            "7977/7977 [==============================] - 2s 303us/sample - loss: 1.4540 - sparse_categorical_accuracy: 0.4355 - val_loss: 1.4913 - val_sparse_categorical_accuracy: 0.4002\n",
            "Epoch 5/5\n",
            "7977/7977 [==============================] - 2s 304us/sample - loss: 1.4258 - sparse_categorical_accuracy: 0.4369 - val_loss: 1.4619 - val_sparse_categorical_accuracy: 0.4036\n",
            "887/887 [==============================] - 0s 144us/sample - loss: 1.4619 - sparse_categorical_accuracy: 0.4036\n"
          ],
          "name": "stdout"
        },
        {
          "output_type": "stream",
          "text": [
            "\r                                                                               \r\r100% (2 of 2) |##########################| Elapsed Time: 0:00:27 Time:  0:00:27\n"
          ],
          "name": "stderr"
        },
        {
          "output_type": "display_data",
          "data": {
            "image/png": "[encoded data removed]",
            "text/plain": [
              "<Figure size 432x288 with 1 Axes>"
            ]
          },
          "metadata": {
            "tags": []
          }
        }
      ]
    },
    {
      "cell_type": "markdown",
      "metadata": {
        "id": "pN-cEkgDFy3U",
        "colab_type": "text"
      },
      "source": [
        "#Resultados"
      ]
    },
    {
      "cell_type": "code",
      "metadata": {
        "id": "LO5euyGuFxdI",
        "colab_type": "code",
        "outputId": "cfac8d8e-6de3-47ba-a5ef-09b3b31cc321",
        "colab": {
          "base_uri": "https://localhost:8080/",
          "height": 35
        }
      },
      "source": [
        "resultadosEntrenamiento.calcularF1Micro()"
      ],
      "execution_count": 0,
      "outputs": [
        {
          "output_type": "execute_result",
          "data": {
            "text/plain": [
              "0.5143608748883227"
            ]
          },
          "metadata": {
            "tags": []
          },
          "execution_count": 28
        }
      ]
    },
    {
      "cell_type": "code",
      "metadata": {
        "id": "YFH8al18tm-Z",
        "colab_type": "code",
        "colab": {}
      },
      "source": [
        "y_pred_train = modeloCargado.predict_classes(x_train)\n",
        "y_pred_test = modeloCargado.predict_classes(x_test)"
      ],
      "execution_count": 0,
      "outputs": []
    },
    {
      "cell_type": "code",
      "metadata": {
        "id": "7Mt5I00ySoCj",
        "colab_type": "code",
        "colab": {}
      },
      "source": [
        "resultadosEntrenamiento = Resultados(y_train, y_pred_train)\n",
        "resultadosValidacion = Resultados(y_test, y_pred_test)"
      ],
      "execution_count": 0,
      "outputs": []
    },
    {
      "cell_type": "code",
      "metadata": {
        "id": "6aQdP54tHKlv",
        "colab_type": "code",
        "outputId": "e6c52f77-0f73-464a-f803-f5708753dfef",
        "colab": {
          "base_uri": "https://localhost:8080/",
          "height": 295
        }
      },
      "source": [
        "#resultadosEntrenamiento.graficarMatrizConfusion()\n",
        "resultadosValidacion.graficarMatrizConfusion()"
      ],
      "execution_count": 0,
      "outputs": [
        {
          "output_type": "display_data",
          "data": {
            "image/png": "[encoded data removed]",
            "text/plain": [
              "<Figure size 432x288 with 1 Axes>"
            ]
          },
          "metadata": {
            "tags": []
          }
        }
      ]
    },
    {
      "cell_type": "code",
      "metadata": {
        "id": "LZZ3IrzruoyW",
        "colab_type": "code",
        "colab": {}
      },
      "source": [
        ""
      ],
      "execution_count": 0,
      "outputs": []
    }
  ]
}