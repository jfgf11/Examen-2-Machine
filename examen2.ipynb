{
  "nbformat": 4,
  "nbformat_minor": 0,
  "metadata": {
    "colab": {
      "name": "examen2.ipynb",
      "provenance": [],
      "collapsed_sections": [],
      "toc_visible": true,
      "machine_shape": "hm",
      "include_colab_link": true
    },
    "kernelspec": {
      "name": "python3",
      "display_name": "Python 3"
    },
    "accelerator": "GPU"
  },
  "cells": [
    {
      "cell_type": "markdown",
      "metadata": {
        "id": "view-in-github",
        "colab_type": "text"
      },
      "source": [
        "<a href=\"https://colab.research.google.com/github/jfgf11/Examen-2-Machine/blob/master/examen2.ipynb\" target=\"_parent\"><img src=\"https://colab.research.google.com/assets/colab-badge.svg\" alt=\"Open In Colab\"/></a>"
      ]
    },
    {
      "cell_type": "markdown",
      "metadata": {
        "id": "Geb2T0_TB3BM",
        "colab_type": "text"
      },
      "source": [
        "\n",
        "# Examen 2\n",
        "\n",
        "\n"
      ]
    },
    {
      "cell_type": "code",
      "metadata": {
        "id": "brhsDHYQokNd",
        "colab_type": "code",
        "outputId": "2566bc40-bf08-43f3-ce0c-92f8d1c70983",
        "colab": {
          "base_uri": "https://localhost:8080/",
          "height": 36
        }
      },
      "source": [
        "#Se monta el Drive para importar y guardar los datos y modelos.\n",
        "from google.colab import drive\n",
        "drive.mount('/content/drive')#,force_remount = True)"
      ],
      "execution_count": 1,
      "outputs": [
        {
          "output_type": "stream",
          "text": [
            "Drive already mounted at /content/drive; to attempt to forcibly remount, call drive.mount(\"/content/drive\", force_remount=True).\n"
          ],
          "name": "stdout"
        }
      ]
    },
    {
      "cell_type": "markdown",
      "metadata": {
        "id": "nigPT0LkuBmI",
        "colab_type": "text"
      },
      "source": [
        "#Instalación"
      ]
    },
    {
      "cell_type": "code",
      "metadata": {
        "id": "UT9ry2xHBUyV",
        "colab_type": "code",
        "outputId": "259e85b0-e5e2-41d1-d036-5ee2fe8d3218",
        "colab": {
          "base_uri": "https://localhost:8080/",
          "height": 322
        }
      },
      "source": [
        "#Se instalan las librerías que se necesitan.\n",
        "!pip install pyEDFlib\n",
        "!pip install progressbar2\n",
        "!pip install matplotlib --upgrade\n",
        "!pip install h5py"
      ],
      "execution_count": 2,
      "outputs": [
        {
          "output_type": "stream",
          "text": [
            "Requirement already satisfied: pyEDFlib in /usr/local/lib/python3.6/dist-packages (0.1.15)\n",
            "Requirement already satisfied: numpy>=1.9.1 in /usr/local/lib/python3.6/dist-packages (from pyEDFlib) (1.17.4)\n",
            "Requirement already satisfied: progressbar2 in /usr/local/lib/python3.6/dist-packages (3.38.0)\n",
            "Requirement already satisfied: six in /usr/local/lib/python3.6/dist-packages (from progressbar2) (1.12.0)\n",
            "Requirement already satisfied: python-utils>=2.3.0 in /usr/local/lib/python3.6/dist-packages (from progressbar2) (2.3.0)\n",
            "Requirement already up-to-date: matplotlib in /usr/local/lib/python3.6/dist-packages (3.1.2)\n",
            "Requirement already satisfied, skipping upgrade: numpy>=1.11 in /usr/local/lib/python3.6/dist-packages (from matplotlib) (1.17.4)\n",
            "Requirement already satisfied, skipping upgrade: pyparsing!=2.0.4,!=2.1.2,!=2.1.6,>=2.0.1 in /usr/local/lib/python3.6/dist-packages (from matplotlib) (2.4.5)\n",
            "Requirement already satisfied, skipping upgrade: python-dateutil>=2.1 in /usr/local/lib/python3.6/dist-packages (from matplotlib) (2.6.1)\n",
            "Requirement already satisfied, skipping upgrade: cycler>=0.10 in /usr/local/lib/python3.6/dist-packages (from matplotlib) (0.10.0)\n",
            "Requirement already satisfied, skipping upgrade: kiwisolver>=1.0.1 in /usr/local/lib/python3.6/dist-packages (from matplotlib) (1.1.0)\n",
            "Requirement already satisfied, skipping upgrade: six>=1.5 in /usr/local/lib/python3.6/dist-packages (from python-dateutil>=2.1->matplotlib) (1.12.0)\n",
            "Requirement already satisfied, skipping upgrade: setuptools in /usr/local/lib/python3.6/dist-packages (from kiwisolver>=1.0.1->matplotlib) (41.6.0)\n",
            "Requirement already satisfied: h5py in /usr/local/lib/python3.6/dist-packages (2.8.0)\n",
            "Requirement already satisfied: six in /usr/local/lib/python3.6/dist-packages (from h5py) (1.12.0)\n",
            "Requirement already satisfied: numpy>=1.7 in /usr/local/lib/python3.6/dist-packages (from h5py) (1.17.4)\n"
          ],
          "name": "stdout"
        }
      ]
    },
    {
      "cell_type": "markdown",
      "metadata": {
        "id": "-BNRjiy0hckX",
        "colab_type": "text"
      },
      "source": [
        "#Librerías"
      ]
    },
    {
      "cell_type": "code",
      "metadata": {
        "id": "dbliV9ktoI5F",
        "colab_type": "code",
        "colab": {}
      },
      "source": [
        "#Se importan las librerías requeridas.\n",
        "#Se deben primero instalar las librerías que hacen falta con la celda en la\n",
        "#sección de Instalación.\n",
        "%tensorflow_version 1.x\n",
        "import tensorflow as tf\n",
        "import tensorflow.keras as keras\n",
        "\n",
        "from tensorflow.keras import Sequential\n",
        "from tensorflow.keras.layers import Dense\n",
        "from tensorflow.keras.layers import Dropout\n",
        "from tensorflow.keras.layers import Conv1D\n",
        "from tensorflow.keras.layers import MaxPooling1D\n",
        "from tensorflow.keras.layers import AveragePooling1D\n",
        "from tensorflow.keras.layers import GlobalAveragePooling1D\n",
        "from tensorflow.keras.layers import GlobalMaxPooling1D\n",
        "from tensorflow.keras.layers import Flatten\n",
        "from tensorflow.keras.layers import concatenate\n",
        "from tensorflow.keras.layers import Input\n",
        "from tensorflow.keras.layers import LSTM\n",
        "from tensorflow.keras.layers import Reshape\n",
        "from tensorflow.keras import optimizers\n",
        "from tensorflow.keras.regularizers import l2\n",
        "from tensorflow.keras.wrappers.scikit_learn import KerasClassifier\n",
        "from tensorflow.keras.models import model_from_json\n",
        "from tensorflow.keras.models import Model\n",
        "from tensorflow.keras.utils import model_to_dot\n",
        "from tensorflow.keras.utils import plot_model\n",
        "from IPython.display import SVG\n",
        "\n",
        "import pandas as pd\n",
        "import pyedflib as pyedf\n",
        "import h5py\n",
        "import numpy as np\n",
        "import matplotlib.pyplot as plt\n",
        "import os\n",
        "import time\n",
        "from tqdm import tqdm\n",
        "import seaborn as sns\n",
        "import progressbar\n",
        "import matplotlib.pyplot as plt\n",
        "%matplotlib inline\n",
        "\n",
        "import sklearn as sk\n",
        "from sklearn.model_selection import train_test_split\n",
        "from sklearn.model_selection import GridSearchCV\n",
        "from sklearn.metrics import confusion_matrix \n",
        "from sklearn.metrics import f1_score\n",
        "from sklearn.metrics import precision_score\n",
        "from sklearn.metrics import recall_score\n",
        "from sklearn.utils.class_weight import compute_class_weight\n",
        "\n",
        "from imblearn.over_sampling import SMOTE\n",
        "from imblearn.combine import SMOTETomek\n",
        "from imblearn.over_sampling import RandomOverSampler\n",
        "\n",
        "import itertools"
      ],
      "execution_count": 0,
      "outputs": []
    },
    {
      "cell_type": "markdown",
      "metadata": {
        "id": "NG1AdmN0FjVA",
        "colab_type": "text"
      },
      "source": [
        "#Clases"
      ]
    },
    {
      "cell_type": "code",
      "metadata": {
        "id": "rT-Z0AiyFiq-",
        "colab_type": "code",
        "colab": {}
      },
      "source": [
        "#Esta no esta terminada.\n",
        "\n",
        "#Clase utilizada para presentar los resultados de los modelos.\n",
        "#En esta se incluyen una gráfica de la historia de entrenamiento y validación,\n",
        "#\n",
        "class Resultados:\n",
        "    def __init__(self, p_y_pred, p_y_true, pHist):\n",
        "        self.y_pred = p_y_pred\n",
        "        self.y_true = p_y_true\n",
        "        self.hist = pHist\n",
        "\n",
        "    def convertirClases(self):\n",
        "      #Esto depronto no lo vamos a usar.\n",
        "      self.y_pred_convertidos = ((self.y_pred == 1) + (self.y_pred == 2)) + 2*((self.y_pred == 3) + (self.y_pred == 4)) + 3*(self.y_pred == 5)\n",
        "      self.y_true_convertidos = ((self.y_true == 1) + (self.y_true == 2)) + 2*((self.y_true == 3) + (self.y_true == 4)) + 3*(self.y_true == 5)\n",
        "\n",
        "    def darEtiqueta(self, pEstadoSueno):\n",
        "      et = 0\n",
        "\n",
        "      if(pEstadoSueno == \"Sleep stage 1\"):\n",
        "        et = 1\n",
        "      elif(pEstadoSueno == \"Sleep stage 2\"):\n",
        "        et = 2\n",
        "      elif(pEstadoSueno == \"Sleep stage 3\"):\n",
        "        et = 3\n",
        "      elif(pEstadoSueno == \"Sleep stage 4\"):\n",
        "        et = 4\n",
        "      elif(pEstadoSueno == \"Sleep stage R\"):\n",
        "        et = 5\n",
        "      else:\n",
        "        print(\"Primero eliminar la clase desconocida.\")\n",
        "      \n",
        "      return et\n",
        "      \n",
        "    def darEstadosSueno(self, pEtiquetas):\n",
        "      estados = pEtiquetas \n",
        "\n",
        "      estados[estados == 0] = \"Despierto\"\n",
        "      estados[estados == 1] = \"Sueño ligero\"\n",
        "      estados[estados == 2] = \"Sueño profundo\"\n",
        "      estados[estados == 3] = \"Sueño REM\"\n",
        "      \n",
        "      return estados\n",
        "\n",
        "    def graficarMatrizConfusion(self):\n",
        "      cm = confusion_matrix(self.y_true, self.y_pred)#, self.labels)\n",
        "      #print(cm)\n",
        "      #estados = self.darEstadosSueno(np.array([0, 1, 2, 3]))\n",
        "      \n",
        "      ax = sns.heatmap(cm, annot = True, cbar = False); #annot=True to annotate cells\n",
        "      \n",
        "      #plt.ylim()\n",
        "      #plt.ylim(bottom = 3.5, top = -0.5)\n",
        "      ax.xaxis.tick_top()\n",
        "      plt.xlabel(\"Clase Prediccion\")\n",
        "      plt.ylabel(\"Clase Verdadera\")\n",
        "      plt.title(\"Matriz de Confusion\")\n",
        "\n",
        "      plt.show()\n",
        "\n",
        "\n",
        "    def graficarNoches(self, pPred, pTrue):\n",
        "      tiempo = np.arange(0, len(pPred)*30, 30)\n",
        "      estados = darEstadosSueno(np.array([0, 1, 2, 3]))\n",
        "\n",
        "      plt.plot(tiempo, pPred, label = \"Predicciones Modelo\")\n",
        "      plt.plot(tiempo, pTrue, label = \"Etiquetas Experto\")\n",
        "      plt.set_yticklabels(estados)\n",
        "      plt.xlabel(\"Tiempo (s)\")\n",
        "      plt.ylabel(\"Estado de Sueño\")\n",
        "      plt.title(\"Estado del Sueño en una Noche\")\n",
        "\n",
        "      plt.show()\n",
        "\n",
        "    def graficarHistoria(self):\n",
        "      plt.plot(self.hist.history['sparse_categorical_accuracy'], label = 'Accuracy Entrenamiento')\n",
        "      plt.plot(self.hist.history['val_sparse_categorical_accuracy'], label = 'Accuracy Validacion')\n",
        "      plt.xlabel('Epoca')\n",
        "      plt.ylabel('Accuracy')\n",
        "      plt.title(\"Accuracy vs Epoca\")\n",
        "      plt.legend()\n",
        "      plt.show()\n",
        "\n",
        "    def calcularError(self):\n",
        "      error = np.sum(self.y_pred_convertidos != self.y_true_convertidos)\n",
        "      error = error/len(self.y_pred_convertidos)\n",
        "\n",
        "      return error\n",
        "\n",
        "    def calcularF1(self):\n",
        "      f1 = f1_score(self.y_true, self.y_pred, average = 'micro')\n",
        "      return f1\n",
        "\n",
        "    def calcularPrecision(self):\n",
        "      precision = precision_score(self.y_true, self.y_pred, average = 'micro')\n",
        "      return precision\n",
        "\n",
        "    def calcularRecall(self):\n",
        "      recall = recall_score(self.y_true, self.y_pred, average = 'micro')\n",
        "      return recall\n"
      ],
      "execution_count": 0,
      "outputs": []
    },
    {
      "cell_type": "markdown",
      "metadata": {
        "id": "Aivhu85eoNx8",
        "colab_type": "text"
      },
      "source": [
        "#Lectura de los Datos"
      ]
    },
    {
      "cell_type": "code",
      "metadata": {
        "id": "-gpIuWCCQlwR",
        "colab_type": "code",
        "outputId": "ad944e3c-ca2f-4c39-c2a4-2a6bd7191b45",
        "colab": {
          "base_uri": "https://localhost:8080/",
          "height": 36
        }
      },
      "source": [
        "rutaDatos = \"drive/My Drive/DatosExamen2/processed\"\n",
        "\n",
        "def importarDatos():\n",
        "  datos = np.zeros((1,3000, 3))\n",
        "  etiquetas = np.zeros(1)\n",
        "\n",
        "  p = 0\n",
        "\n",
        "  with progressbar.ProgressBar(max_value = 9) as bar:\n",
        "    for i in range(0,1):\n",
        "        for j in range(0,9):\n",
        "          if i == 1 and j == 0:\n",
        "            datos = datos[1:len(datos)]\n",
        "            etiquetas = etiquetas[1:len(etiquetas)]\n",
        "            return datos, etiquetas\n",
        "\n",
        "          numInferior = str(i) + str(j) + \"0\"\n",
        "          numSuperior = str(i) + str(j) + \"9\"\n",
        "\n",
        "          temp1 = np.load(rutaDatos + \"/DatosCompletos_\" + numInferior  + \"_\" + numSuperior + \".npy\")\n",
        "          temp2 = np.load(rutaDatos + \"/Etiquetas_\" + numInferior +  \"_\" + numSuperior + \".npy\")\n",
        "\n",
        "          datos = np.vstack((datos, temp1))\n",
        "          etiquetas = np.append(etiquetas, temp2)\n",
        "\n",
        "          p+=1\n",
        "          bar.update(p)\n",
        "        \n",
        "\n",
        "  datos = datos[1:len(datos)]\n",
        "  etiquetas = etiquetas[1:len(etiquetas)]\n",
        "  \n",
        "  return datos, etiquetas\n",
        "\n",
        "unosDatos, unosEtiquetas = importarDatos()"
      ],
      "execution_count": 2,
      "outputs": [
        {
          "output_type": "stream",
          "text": [
            "100% (9 of 9) |##########################| Elapsed Time: 0:00:37 Time:  0:00:37\n"
          ],
          "name": "stderr"
        }
      ]
    },
    {
      "cell_type": "code",
      "metadata": {
        "id": "KGWok7K1SBs9",
        "colab_type": "code",
        "colab": {}
      },
      "source": [
        "#Para cargar los datos totales\n",
        "unosDatos = np.load(\"drive/My Drive/DatosExamen2/processed/DatosTotales_0_149.npy\")\n",
        "unosEtiquetas = np.load(\"drive/My Drive/DatosExamen2/processed/EtiquetasTotales_0_149.npy\")\n",
        "# unosDatos = np.load(\"drive/My Drive/DatosExamen2/processed/DatosCompletos_010_019.npy\")\n",
        "# unosEtiquetas = np.load(\"drive/My Drive/DatosExamen2/processed/Etiquetas_010_019.npy\")\n",
        "#np.save(\"drive/My Drive/DatosExamen2/processed/DatosTotales_0_149\", unosDatos)\n",
        "#np.save(\"drive/My Drive/DatosExamen2/processed/EtiquetasTotales_0_149\", unosEtiquetas)"
      ],
      "execution_count": 0,
      "outputs": []
    },
    {
      "cell_type": "code",
      "metadata": {
        "id": "Y9fVcGp6pV7W",
        "colab_type": "code",
        "outputId": "ea9056e4-0b88-4dc3-e468-47d1ce030c9b",
        "colab": {
          "base_uri": "https://localhost:8080/",
          "height": 252
        }
      },
      "source": [
        "filenameDatos = \"drive/My Drive/sleep-cassette\"\n",
        "filenameDescripcion = \"drive/My Drive/SC-subjects.xls\"\n",
        "\n",
        "ArchivoLightsOff=pd.read_excel(filenameDescripcion, sheet_name='Blad1')\n",
        "\n",
        "TiempoLightsOff=ArchivoLightsOff[\"LightsOff\"].values\n",
        "TiempoLightsOffSegundos=TiempoLightsOff\n",
        "HorasSuenio=8\n",
        "\n",
        "for i in range (0, len(TiempoLightsOff)):\n",
        "  segundos=int(TiempoLightsOff[i].hour) * 3600 + int(TiempoLightsOff[i].minute) * 60\n",
        "  TiempoLightsOffSegundos[i]=segundos\n",
        "\n",
        "listaArchivos = os.listdir(filenameDatos)\n",
        "\n",
        "listaHypnograms = [i for i in listaArchivos if \"Hypnogram\" in i] \n",
        "listaPSGs = [i for i in listaArchivos if \"PSG\" in i]\n",
        "\n",
        "listaHypnograms.sort()\n",
        "listaPSGs.sort()\n",
        "\n",
        "print(\"Importando datos...\")\n",
        "\n",
        "start = time.time()\n",
        "\n",
        "Datos1=np.zeros(3000)\n",
        "Datos2=np.zeros(3000)\n",
        "Datos3=np.zeros(3000)\n",
        "\n",
        "Etiquetas=[0]\n",
        "\n",
        "p = 0\n",
        "inicioNumArchivos =10\n",
        "numArchivos = 10\n",
        "\n",
        "with progressbar.ProgressBar(max_value=numArchivos*960) as bar:\n",
        "  for i in range(inicioNumArchivos,inicioNumArchivos+numArchivos):#len(listaHypnograms)):\n",
        "\n",
        "    hyp = listaHypnograms[i]\n",
        "    psg = listaPSGs[i]\n",
        "\n",
        "    print(\"Hyp: {}, PSG: {}\".format(hyp,psg))\n",
        "\n",
        "    fileHyp = pyedf.EdfReader(filenameDatos + \"/\" + hyp)\n",
        "    filePSG = pyedf.EdfReader(filenameDatos + \"/\" + psg)\n",
        "\n",
        "    hypTime, hypDur, hypEtiqueta = fileHyp.readAnnotations()\n",
        "\n",
        "    tiempoComienzo = fileHyp.starttime_hour*3600+fileHyp.starttime_minute*60+fileHyp.starttime_second\n",
        "    offset=TiempoLightsOffSegundos[i]-tiempoComienzo\n",
        "    if offset<0:\n",
        "      offset+=24*3600\n",
        "    LimiteSuperior=offset+HorasSuenio*3600\n",
        "    ventana=30\n",
        "    tiempo=offset\n",
        "    j=0\n",
        "    referenciaSenial=0\n",
        "    FrecuenciaMuestreo = filePSG.getSampleFrequency(referenciaSenial)\n",
        "\n",
        "    while tiempo<LimiteSuperior:\n",
        "      if tiempo>hypTime[j]:\n",
        "        j+=1\n",
        "        \n",
        "      ventanaMuestra = np.round(FrecuenciaMuestreo * ventana)\n",
        "      muestraInicial = np.round(FrecuenciaMuestreo * tiempo)\n",
        "      senial1=filePSG.readSignal(0)\n",
        "      senial2=filePSG.readSignal(1)\n",
        "      senial3=filePSG.readSignal(2)\n",
        "      senialActual1=senial1[muestraInicial:muestraInicial+ventanaMuestra]\n",
        "      senialActual2=senial2[muestraInicial:muestraInicial+ventanaMuestra]\n",
        "      senialActual3=senial3[muestraInicial:muestraInicial+ventanaMuestra]\n",
        "      \n",
        "      etiquetaActual=hypEtiqueta[j]\n",
        "      \n",
        "      Datos1=np.vstack((Datos1,senialActual1))\n",
        "      Datos2=np.vstack((Datos2,senialActual2))\n",
        "      Datos3=np.vstack((Datos3,senialActual3))\n",
        "\n",
        "      Etiquetas=np.vstack((Etiquetas,etiquetaActual))\n",
        "      tiempo+=ventana\n",
        "      p+=1\n",
        "      bar.update(p)\n",
        "\n",
        "    fileHyp._close() \n",
        "    filePSG._close()\n",
        "#print(listaHypnograms)\n",
        "#print(listaPSGs)\n",
        "\n",
        "print(\"Termino.\")\n",
        "print(\"Tiempo: {} segundos.\".format(time.time()-start))"
      ],
      "execution_count": 0,
      "outputs": [
        {
          "output_type": "stream",
          "text": [
            "Importando datos...\n",
            "Hyp: SC4051EC-Hypnogram.edf, PSG: SC4051E0-PSG.edf\n"
          ],
          "name": "stdout"
        },
        {
          "output_type": "stream",
          "text": [
            " 10% (960 of 9600) |##                   | Elapsed Time: 0:21:33 ETA:   3:14:40"
          ],
          "name": "stderr"
        },
        {
          "output_type": "stream",
          "text": [
            "Hyp: SC4052EC-Hypnogram.edf, PSG: SC4052E0-PSG.edf\n"
          ],
          "name": "stdout"
        },
        {
          "output_type": "stream",
          "text": [
            " 20% (1920 of 9600) |####                | Elapsed Time: 0:44:00 ETA:   2:56:17"
          ],
          "name": "stderr"
        },
        {
          "output_type": "stream",
          "text": [
            "Hyp: SC4061EC-Hypnogram.edf, PSG: SC4061E0-PSG.edf\n"
          ],
          "name": "stdout"
        },
        {
          "output_type": "stream",
          "text": [
            " 30% (2880 of 9600) |######              | Elapsed Time: 1:06:09 ETA:   2:32:11"
          ],
          "name": "stderr"
        },
        {
          "output_type": "stream",
          "text": [
            "Hyp: SC4062EC-Hypnogram.edf, PSG: SC4062E0-PSG.edf\n"
          ],
          "name": "stdout"
        },
        {
          "output_type": "stream",
          "text": [
            " 40% (3840 of 9600) |########            | Elapsed Time: 1:28:43 ETA:   2:16:06"
          ],
          "name": "stderr"
        },
        {
          "output_type": "stream",
          "text": [
            "Hyp: SC4071EC-Hypnogram.edf, PSG: SC4071E0-PSG.edf\n"
          ],
          "name": "stdout"
        },
        {
          "output_type": "stream",
          "text": [
            " 50% (4800 of 9600) |##########          | Elapsed Time: 1:51:22 ETA:   1:52:49"
          ],
          "name": "stderr"
        },
        {
          "output_type": "stream",
          "text": [
            "Hyp: SC4072EH-Hypnogram.edf, PSG: SC4072E0-PSG.edf\n"
          ],
          "name": "stdout"
        },
        {
          "output_type": "stream",
          "text": [
            " 60% (5760 of 9600) |############        | Elapsed Time: 2:14:17 ETA:   1:31:07"
          ],
          "name": "stderr"
        },
        {
          "output_type": "stream",
          "text": [
            "Hyp: SC4081EC-Hypnogram.edf, PSG: SC4081E0-PSG.edf\n"
          ],
          "name": "stdout"
        },
        {
          "output_type": "stream",
          "text": [
            " 70% (6720 of 9600) |##############      | Elapsed Time: 2:37:42 ETA:   1:10:18"
          ],
          "name": "stderr"
        },
        {
          "output_type": "stream",
          "text": [
            "Hyp: SC4082EP-Hypnogram.edf, PSG: SC4082E0-PSG.edf\n"
          ],
          "name": "stdout"
        },
        {
          "output_type": "stream",
          "text": [
            " 80% (7680 of 9600) |################    | Elapsed Time: 2:59:58 ETA:   0:45:02"
          ],
          "name": "stderr"
        },
        {
          "output_type": "stream",
          "text": [
            "Hyp: SC4091EC-Hypnogram.edf, PSG: SC4091E0-PSG.edf\n"
          ],
          "name": "stdout"
        },
        {
          "output_type": "stream",
          "text": [
            " 90% (8640 of 9600) |##################  | Elapsed Time: 3:23:06 ETA:   0:23:05"
          ],
          "name": "stderr"
        },
        {
          "output_type": "stream",
          "text": [
            "Hyp: SC4092EC-Hypnogram.edf, PSG: SC4092E0-PSG.edf\n"
          ],
          "name": "stdout"
        },
        {
          "output_type": "stream",
          "text": [
            "100% (9600 of 9600) |####################| Elapsed Time: 3:47:30 Time:  3:47:30\n"
          ],
          "name": "stderr"
        },
        {
          "output_type": "stream",
          "text": [
            "Termino.\n",
            "Tiempo: 13654.461708545685 segundos.\n"
          ],
          "name": "stdout"
        }
      ]
    },
    {
      "cell_type": "code",
      "metadata": {
        "id": "zTq6m6HZqImV",
        "colab_type": "code",
        "colab": {}
      },
      "source": [
        "def appendDatos(pDatos1, pDatos2, pDatos3):\n",
        "  Datos_Generales=np.zeros((pDatos1.shape[0],3000,3))\n",
        "\n",
        "  for i in progressbar.progressbar(range(0,pDatos1.shape[0])):\n",
        "\n",
        "    Datos_Generales[i,:,0]=pDatos1[i]\n",
        "    Datos_Generales[i,:,1]=pDatos2[i]\n",
        "    Datos_Generales[i,:,2]=pDatos3[i]\n",
        "    \n",
        "  return Datos_Generales"
      ],
      "execution_count": 0,
      "outputs": []
    },
    {
      "cell_type": "code",
      "metadata": {
        "id": "kf3DBKIQpPy6",
        "colab_type": "code",
        "outputId": "d03b2d66-cc31-46e4-9bef-27c69c46b0eb",
        "colab": {
          "base_uri": "https://localhost:8080/",
          "height": 35
        }
      },
      "source": [
        "#Esto solo se corre una vez.\n",
        "#Etiquetas = Etiquetas[1:len(Etiquetas)]\n",
        "#Datos1 = Datos1[1:Datos1.shape[0]]\n",
        "#Datos2 = Datos2[1:Datos2.shape[0]]\n",
        "#Datos3 = Datos3[1:Datos3.shape[0]]"
      ],
      "execution_count": 0,
      "outputs": [
        {
          "output_type": "execute_result",
          "data": {
            "text/plain": [
              "(62592, 3000, 3)"
            ]
          },
          "metadata": {
            "tags": []
          },
          "execution_count": 9
        }
      ]
    },
    {
      "cell_type": "code",
      "metadata": {
        "id": "vqNHjkpQM14h",
        "colab_type": "code",
        "colab": {}
      },
      "source": [
        "numArchivos = 10\n",
        "\n",
        "def darEtiqueta(pEtiqueta):\n",
        "  et = 0\n",
        "\n",
        "  if(pEtiqueta == \"Sleep stage 1\"):\n",
        "    et = 1\n",
        "  elif(pEtiqueta == \"Sleep stage 2\"):\n",
        "    et = 2\n",
        "  elif(pEtiqueta == \"Sleep stage 3\"):\n",
        "    et = 3\n",
        "  elif(pEtiqueta == \"Sleep stage 4\"):\n",
        "    et = 4\n",
        "  elif(pEtiqueta == \"Sleep stage R\"):\n",
        "    et = 5\n",
        "  else:\n",
        "    print(\"Primero eliminar la clase desconocida.\")\n",
        "  \n",
        "  return et\n",
        "  \n",
        "def darEstadoSueno(pEtiqueta):\n",
        "  estado = \"Despierto\"\n",
        "\n",
        "  if(pEtiqueta == 1):\n",
        "    estado = \"Sueño ligero\"\n",
        "  elif(pEtiqueta == 2):\n",
        "    estado = \"Sueño profundo\"\n",
        "  elif(pEtiqueta == 3):\n",
        "    estado = \"Sueño REM\"\n",
        "  else:\n",
        "    print(\"Primero eliminar la clase desconocida.\")\n",
        "  \n",
        "  return estado\n",
        "\n",
        "def eliminarClaseDesconocida(pDatos, pEtiquetas):\n",
        "  et = []\n",
        "  dat = np.zeros(3000)\n",
        "\n",
        "  with progressbar.ProgressBar(max_value=numArchivos*960) as bar:\n",
        "    for i in range(0, len(pEtiquetas)):\n",
        "      bar.update(i)\n",
        "      if pEtiquetas[i] != 'Sleep stage ?':\n",
        "        \n",
        "        if pEtiquetas[i]==\"Sleep stage W\":\n",
        "          et = np.append(et,0)\n",
        "          dat = np.vstack((dat, pDatos[i,:]))\n",
        "        elif pEtiquetas[i]==\"Sleep stage 1\":\n",
        "          et = np.append(et,1)\n",
        "          dat = np.vstack((dat, pDatos[i,:]))\n",
        "        elif pEtiquetas[i]==\"Sleep stage 2\":\n",
        "          et = np.append(et,2)\n",
        "          dat = np.vstack((dat, pDatos[i,:]))\n",
        "        elif pEtiquetas[i]==\"Sleep stage 3\":\n",
        "          et = np.append(et,3)\n",
        "          dat = np.vstack((dat, pDatos[i,:]))\n",
        "        elif pEtiquetas[i]==\"Sleep stage 4\":\n",
        "          et = np.append(et,4)\n",
        "          dat = np.vstack((dat, pDatos[i,:]))\n",
        "        elif pEtiquetas[i]==\"Sleep stage R\":\n",
        "          et = np.append(et,5)\n",
        "          dat = np.vstack((dat, pDatos[i,:]))\n",
        "        else:\n",
        "          pass\n",
        "          #print(\"Hay una clase distinta a las definidas.\")\n",
        "\n",
        "  dat = dat[1:dat.shape[0]]\n",
        "  return dat, et\n",
        "#print(Datos1.shape)\n",
        "#Datos1, Etiquetas1 = eliminarClaseDesconocida(Datos1, Etiquetas)\n",
        "#Datos2, Etiquetas2 = eliminarClaseDesconocida(Datos2, Etiquetas)\n",
        "#Datos3, Etiquetas3 = eliminarClaseDesconocida(Datos3, Etiquetas)\n",
        "#print(Datos1.shape)\n",
        "#np.save(\"Datos\", unosDatos)\n",
        "#np.save(\"Etiquetas\", unosEtiquetas)\n",
        "\n",
        "#print(len(unosEtiquetas))\n",
        "#print(len(unosDatos))"
      ],
      "execution_count": 0,
      "outputs": []
    },
    {
      "cell_type": "markdown",
      "metadata": {
        "id": "YZvoS1t1pKc-",
        "colab_type": "text"
      },
      "source": [
        "#Preparación de Datos"
      ]
    },
    {
      "cell_type": "code",
      "metadata": {
        "id": "-Shz6TlvpNrC",
        "colab_type": "code",
        "colab": {}
      },
      "source": [
        "#Probar under y over sampling\n",
        "smote = SMOTE(ratio = 'not majority', k_neighbors = 3)\n",
        "smotetomek = SMOTETomek(ratio = 'not majority')\n",
        "randomOverSampler = RandomOverSampler(sampling_strategy = 'not majority')"
      ],
      "execution_count": 0,
      "outputs": []
    },
    {
      "cell_type": "code",
      "metadata": {
        "id": "hARh2hKqpioi",
        "colab_type": "code",
        "colab": {}
      },
      "source": [
        "def convertirClases(pY):\n",
        "      y = ((pY == 1) + (pY == 2)) + 2*((pY == 3) + (pY == 4)) + 3*(pY == 5)\n",
        "      #y = pY==1\n",
        "      return y\n",
        "\n",
        "#x_train = np.expand_dims(np.transpose(x_train), axis=3) # reshape (569, 30) to (569, 30, 1) \n",
        "#x_test = np.expand_dims(np.transpose(x_test), axis=3) # reshape (569, 30) to (569, 30, 1) "
      ],
      "execution_count": 0,
      "outputs": []
    },
    {
      "cell_type": "code",
      "metadata": {
        "id": "6ET6r1jQtijD",
        "colab_type": "code",
        "colab": {}
      },
      "source": [
        "unosEtiquetas = convertirClases(unosEtiquetas)"
      ],
      "execution_count": 0,
      "outputs": []
    },
    {
      "cell_type": "code",
      "metadata": {
        "id": "SAz3soFAU1uh",
        "colab_type": "code",
        "outputId": "0e614bcb-aa9e-42b9-9d98-9937e7097393",
        "colab": {
          "base_uri": "https://localhost:8080/",
          "height": 55
        }
      },
      "source": [
        "print(\"Separando datos en entrenamiento y validacion...\")\n",
        "\n",
        "x_train, x_test, y_train, y_test = train_test_split(unosDatos, unosEtiquetas , random_state = 0, test_size=0.10)\n",
        "# x_train, x_test, y_train, y_test = train_test_split(unosDatos, unosEtiquetas , random_state = 0, test_size=0.20)\n",
        "\n",
        "print(x_train.shape)\n",
        "\n",
        "unosDatos = None\n",
        "unosEtiquetas = None"
      ],
      "execution_count": 25,
      "outputs": [
        {
          "output_type": "stream",
          "text": [
            "Separando datos en entrenamiento y validacion...\n",
            "(122006, 3000, 3)\n"
          ],
          "name": "stdout"
        }
      ]
    },
    {
      "cell_type": "code",
      "metadata": {
        "colab_type": "code",
        "id": "OFzdlIEq61qW",
        "colab": {}
      },
      "source": [
        "x_train = np.reshape(x_train, (-1, 9000),'F')\n",
        "\n",
        "print(\"Oversampling...\")\n",
        "\n",
        "# x_train, y_train = smote.fit_resample(x_train, y_train)\n",
        "x_train, y_train = randomOverSampler.fit_resample(x_train, y_train)\n",
        "\n",
        "print(\"Reshaping...\")\n",
        "\n",
        "x_train = np.reshape(x_train, (-1, 3000, 3), 'F')\n",
        "\n",
        "print(x_train.shape)\n",
        "\n",
        "#print(x_test[0,0:5,0])\n",
        "#print(test[0,0:5])"
      ],
      "execution_count": 0,
      "outputs": []
    },
    {
      "cell_type": "code",
      "metadata": {
        "id": "H2x9BxUw3mTz",
        "colab_type": "code",
        "colab": {}
      },
      "source": [
        "#Para obtener los pesos de cada clase\n",
        "pesosClases = compute_class_weight(class_weight = 'balanced', classes = np.array([0, 1, 2, 3]), y = unosEtiquetas)\n",
        "\n",
        "pesosClases = {0: pesosClases[0],\n",
        "               1: pesosClases[1],\n",
        "               2: pesosClases[2],\n",
        "               3: pesosClases[3]}"
      ],
      "execution_count": 0,
      "outputs": []
    },
    {
      "cell_type": "code",
      "metadata": {
        "id": "VGstbhLV6VlY",
        "colab_type": "code",
        "colab": {
          "base_uri": "https://localhost:8080/",
          "height": 93
        },
        "outputId": "cf92fa4b-1039-44cf-a5e8-6bba03adb418"
      },
      "source": [
        "pesosClases"
      ],
      "execution_count": 30,
      "outputs": [
        {
          "output_type": "execute_result",
          "data": {
            "text/plain": [
              "{0: 1.3677206505508697,\n",
              " 1: 0.4791227822153107,\n",
              " 2: 1.1912390158172232,\n",
              " 3: 2.921868264505561}"
            ]
          },
          "metadata": {
            "tags": []
          },
          "execution_count": 30
        }
      ]
    },
    {
      "cell_type": "code",
      "metadata": {
        "id": "IkPiWYxAobAI",
        "colab_type": "code",
        "outputId": "63f0c8f9-721a-446e-962b-8e9b3003f170",
        "colab": {
          "base_uri": "https://localhost:8080/",
          "height": 93
        }
      },
      "source": [
        "def encontrarCantidadClase(pEtiquetas, pClase):\n",
        "  return np.sum(pEtiquetas == pClase)\n",
        "\n",
        "for i in range(0,4):  \n",
        "  print(encontrarCantidadClase(unosEtiquetas, i))"
      ],
      "execution_count": 16,
      "outputs": [
        {
          "output_type": "stream",
          "text": [
            "24779\n",
            "70735\n",
            "28450\n",
            "11599\n"
          ],
          "name": "stdout"
        }
      ]
    },
    {
      "cell_type": "code",
      "metadata": {
        "id": "6svFkb-C9niH",
        "colab_type": "code",
        "colab": {}
      },
      "source": [
        "np.save(\"drive/My Drive/DatosExamen2/processed/DatosOversample_x_train\", x_train)\n",
        "np.save(\"drive/My Drive/DatosExamen2/processed/DatosOversample_y_train\", y_train)\n",
        "np.save(\"drive/My Drive/DatosExamen2/processed/DatosOversample_x_test\", x_test)\n",
        "np.save(\"drive/My Drive/DatosExamen2/processed/DatosOversample_y_test\", y_test)"
      ],
      "execution_count": 0,
      "outputs": []
    },
    {
      "cell_type": "markdown",
      "metadata": {
        "id": "hzhUvNhtoToM",
        "colab_type": "text"
      },
      "source": [
        "#Entrenamiento del Modelo"
      ]
    },
    {
      "cell_type": "code",
      "metadata": {
        "id": "EuS9aI-kWy-v",
        "colab_type": "code",
        "colab": {}
      },
      "source": [
        "#unosEtiquetas=np.load(\"drive/My Drive/Etiquetas.npy\")\n",
        "#unosDatos=np.load(\"drive/My Drive/Datos.npy\")\n",
        "#np.save(\"drive/My Drive/Datos_Generales_10_19\", Datos_Generales_10_19)\n",
        "#np.save(\"drive/My Drive/Etiquetas\", unosEtiquetas)\n",
        "#np.save(\"drive/My Drive/Etiquetas_10_19\", Etiquetas)\n",
        "#Datos1_10_19=Datos1\n",
        "#Datos2_10_19=Datos2\n",
        "#Datos3_10_19=Datos3\n",
        "\n",
        "#np.save(\"drive/My Drive/Datos1_10_19.npy\",Datos1_10_19)\n",
        "#np.save(\"drive/My Drive/Datos2_10_19.npy\",Datos2_10_19)\n",
        "#np.save(\"drive/My Drive/Datos3_10_19.npy\",Datos3_10_19)\n",
        "\n",
        "#Datos1, unosEtiquetas = eliminarClaseDesconocida(Datos1, unosEtiquetas)\n",
        "\n",
        "#unosDatos = appendDatos(Datos1, Datos2, Datos3)\n",
        "#np.save(\"drive/My Drive/DatosCompletos.npy\", unosDatos)\n",
        "\n",
        "#unosDatos = np.load(\"drive/My Drive/DatosTotales_0_119.npy\")\n",
        "#unosEtiquetas=np.load(\"drive/My Drive/Etiqueta_0_119.npy\")"
      ],
      "execution_count": 0,
      "outputs": []
    },
    {
      "cell_type": "markdown",
      "metadata": {
        "id": "ZNDN_jn4GUq2",
        "colab_type": "text"
      },
      "source": [
        "#Implementación en Keras"
      ]
    },
    {
      "cell_type": "markdown",
      "metadata": {
        "id": "Lr8mo_2xZolJ",
        "colab_type": "text"
      },
      "source": [
        "Se separan los datos de entrenamiento y validación"
      ]
    },
    {
      "cell_type": "markdown",
      "metadata": {
        "id": "tp7kfuqjTA38",
        "colab_type": "text"
      },
      "source": [
        "Creación del modelo"
      ]
    },
    {
      "cell_type": "code",
      "metadata": {
        "id": "R54HzoQ0LDZ0",
        "colab_type": "code",
        "colab": {}
      },
      "source": [
        "#Numero de clases\n",
        "numClases = 4\n",
        "\n",
        "def crearModelo(pTasa, pAlpha, pNumFiltros, pTamFiltros, pTamPooling, pNumNeuronas, pOptimizer):\n",
        "  modelo = Sequential()\n",
        "\n",
        "  #Esto corresponderia a la parte convolucional.\n",
        "  modelo.add(Conv1D(pNumFiltros[0], int(pTamFiltros[0]), activation = 'relu', input_shape = (3000,3)))\n",
        "  modelo.add(Conv1D(pNumFiltros[1], int(pTamFiltros[1]), activation = 'relu'))\n",
        "  modelo.add(MaxPooling1D(int(pTamPooling[0])))\n",
        "  \n",
        "  modelo.add(Conv1D(pNumFiltros[2], int(pTamFiltros[2]), activation = 'relu'))\n",
        "  modelo.add(Conv1D(pNumFiltros[3], int(pTamFiltros[3]), activation = 'relu'))\n",
        "  modelo.add(AveragePooling1D(int(pTamPooling[1])))\n",
        "\n",
        " \n",
        "  modelo.add(GlobalAveragePooling1D())\n",
        "  #modelo.add(MaxPooling1D(int(pTamPooling[2])))\n",
        "  modelo.add(Flatten())\n",
        "\n",
        "  #Esto corresponderia a la parte de red neuronal normalita. (Puse cualquier cosa por ahora)\n",
        "  #modelo.add(Dropout(0.5))\n",
        "  #modelo.add(Dense(pNumNeuronas[0], activation = 'relu'))\n",
        " \n",
        "  \n",
        "  modelo.add(Dense(pNumNeuronas[1], activation = 'relu'))#, activity_regularizer=l2(pAlpha)))\n",
        "  modelo.add(Dense(pNumNeuronas[2], activation = 'relu', activity_regularizer=l2(pAlpha)))\n",
        "  #modelo.add(Dense(pNumNeuronas[3], activation = 'relu', activity_regularizer=l2(pAlpha)))\n",
        "\n",
        "  modelo.add(Dense(numClases, activation = 'softmax'))#, activity_regularizer = l2(pAlpha)))\n",
        "  \n",
        "  \n",
        "  #modelo.add(Dense(numClases, activation = 'softmax'))\n",
        "\n",
        "  sgd = optimizers.SGD(lr = pTasa, momentum=0.9)\n",
        "  adam = optimizers.Adam(learning_rate = pTasa)\n",
        "  if pOptimizer == \"adam\":\n",
        "    opt=adam\n",
        "  elif pOptimizer ==\"sgd\":\n",
        "    opt=sgd\n",
        "  elif pOptimizer ==\"rmsprop\":\n",
        "    opt = \"rmsprop\"\n",
        "  \n",
        "  modelo.compile(loss='sparse_categorical_crossentropy', optimizer = opt, metrics = ['sparse_categorical_accuracy'])\n",
        "  modelo.summary()\n",
        "\n",
        "  return modelo\n",
        "\n",
        "def crearModelo2(pTasa, pAlpha, pNumFiltros, pTamFiltros, pTamPooling, pNumNeuronas, pOptimizer):\n",
        "\n",
        "  capaEntrada = Input(shape = (3000,3))\n",
        "  # pooling0 = MaxPooling1D(int(pTamPooling[0]), padding='same')(capaEntrada)\n",
        "  # pooling0 = Reshape((-1, int(pNumFiltros[0])))(pooling0)\n",
        "  \n",
        "  capa1 = Conv1D(pNumFiltros[0], int(pTamFiltros[0]), padding='same', activation = 'relu')(capaEntrada)\n",
        "  pooling1 = MaxPooling1D(int(pTamPooling[1]), padding='same')(capa1)\n",
        "\n",
        "  capa2 = Conv1D(pNumFiltros[1], int(pTamFiltros[1]), padding='same', activation='relu')(capa1)\n",
        "  pooling2 = MaxPooling1D(int(pTamPooling[2]), padding='same')(capa2)\n",
        "\n",
        "  capa3 = Conv1D(pNumFiltros[2], int(pTamFiltros[2]), padding='same', activation='relu')(capa2)\n",
        "  pooling3 = MaxPooling1D(int(pTamPooling[3]), padding='same')(capa3)\n",
        "\n",
        "  capas = concatenate([pooling1, pooling2, pooling3], axis=1)\n",
        "  #capas = Flatten()(capas)\n",
        "  capas = GlobalAveragePooling1D()(capas)\n",
        "  #capas = GlobalMaxPooling1D()(capas)\n",
        "  #capas = Dropout(0.5)(capas)\n",
        "\n",
        "  #capa4 = LSTM(pNumNeuronas[0])(capas)\n",
        "  \n",
        "  #capa4 = Dense(pNumNeuronas[0], activation='relu')(capas)\n",
        "  #capaSalida = Dense(numClases, activation='softmax')(capaSalida)\n",
        "  capaSalida = Dense(numClases, activation='softmax')(capas)\n",
        "\n",
        "  modelo = Sequential()\n",
        "  modelo.add(Model(capaEntrada, capaSalida))\n",
        "\n",
        "  sgd = optimizers.SGD(lr = pTasa)#, momentum=0.9)\n",
        "  adam = optimizers.Adam(learning_rate = pTasa)\n",
        "  if pOptimizer == \"adam\":\n",
        "    opt=adam\n",
        "  elif pOptimizer ==\"sgd\":\n",
        "    opt=sgd\n",
        "  elif pOptimizer ==\"rmsprop\":\n",
        "    opt = \"rmsprop\"\n",
        "  \n",
        "  modelo.compile(loss='sparse_categorical_crossentropy', optimizer = opt, metrics = ['sparse_categorical_accuracy'])\n",
        "  modelo.layers[0].summary()\n",
        "  \n",
        "  return modelo"
      ],
      "execution_count": 0,
      "outputs": []
    },
    {
      "cell_type": "code",
      "metadata": {
        "id": "8uQr-vM_x5xK",
        "colab_type": "code",
        "outputId": "e893969f-c852-46b7-ebc5-9c59c5717c54",
        "colab": {
          "base_uri": "https://localhost:8080/",
          "height": 1000
        }
      },
      "source": [
        "numFiltros = np.array([80, 80, 80, 80, 5, 5])\n",
        "tamFiltros = np.array([3, 10, 30, 10, 10, 10])\n",
        "tamPooling = np.array([3, 3, 3, 3])\n",
        "optimizer=\"sgd\"\n",
        "numNeuronas = np.array([15, 20, 10])\n",
        "\n",
        "tasa = 0.001\n",
        "alpha = 0.01\n",
        "\n",
        "modelo = crearModelo2(tasa, alpha, numFiltros, tamFiltros, tamPooling, numNeuronas, optimizer)\n",
        "\n",
        "#Esta linea muestra un diagrama de la red neuronal.\n",
        "SVG(model_to_dot(modelo, show_shapes = True, expand_nested = True, dpi = 65).create(prog='dot', format='svg'))"
      ],
      "execution_count": 28,
      "outputs": [
        {
          "output_type": "stream",
          "text": [
            "Model: \"model_1\"\n",
            "__________________________________________________________________________________________________\n",
            "Layer (type)                    Output Shape         Param #     Connected to                     \n",
            "==================================================================================================\n",
            "input_2 (InputLayer)            [(None, 3000, 3)]    0                                            \n",
            "__________________________________________________________________________________________________\n",
            "conv1d_3 (Conv1D)               (None, 3000, 80)     800         input_2[0][0]                    \n",
            "__________________________________________________________________________________________________\n",
            "conv1d_4 (Conv1D)               (None, 3000, 80)     64080       conv1d_3[0][0]                   \n",
            "__________________________________________________________________________________________________\n",
            "conv1d_5 (Conv1D)               (None, 3000, 80)     192080      conv1d_4[0][0]                   \n",
            "__________________________________________________________________________________________________\n",
            "max_pooling1d_3 (MaxPooling1D)  (None, 1000, 80)     0           conv1d_3[0][0]                   \n",
            "__________________________________________________________________________________________________\n",
            "max_pooling1d_4 (MaxPooling1D)  (None, 1000, 80)     0           conv1d_4[0][0]                   \n",
            "__________________________________________________________________________________________________\n",
            "max_pooling1d_5 (MaxPooling1D)  (None, 1000, 80)     0           conv1d_5[0][0]                   \n",
            "__________________________________________________________________________________________________\n",
            "concatenate_1 (Concatenate)     (None, 3000, 80)     0           max_pooling1d_3[0][0]            \n",
            "                                                                 max_pooling1d_4[0][0]            \n",
            "                                                                 max_pooling1d_5[0][0]            \n",
            "__________________________________________________________________________________________________\n",
            "global_average_pooling1d_1 (Glo (None, 80)           0           concatenate_1[0][0]              \n",
            "__________________________________________________________________________________________________\n",
            "dense_1 (Dense)                 (None, 4)            324         global_average_pooling1d_1[0][0] \n",
            "==================================================================================================\n",
            "Total params: 257,284\n",
            "Trainable params: 257,284\n",
            "Non-trainable params: 0\n",
            "__________________________________________________________________________________________________\n"
          ],
          "name": "stdout"
        },
        {
          "output_type": "execute_result",
          "data": {
            "text/plain": [
              "<IPython.core.display.SVG object>"
            ],
            "image/svg+xml": "<svg height=\"666pt\" viewBox=\"0.00 0.00 822.00 738.00\" width=\"742pt\" xmlns=\"http://www.w3.org/2000/svg\" xmlns:xlink=\"http://www.w3.org/1999/xlink\">\n<g class=\"graph\" id=\"graph0\" transform=\"scale(.9028 .9028) rotate(0) translate(4 734)\">\n<title>G</title>\n<polygon fill=\"#ffffff\" points=\"-4,4 -4,-734 818,-734 818,4 -4,4\" stroke=\"transparent\"/>\n<g class=\"cluster\" id=\"clust1\">\n<title>cluster_model_1</title>\n<polygon fill=\"none\" points=\"8,-8 8,-675 806,-675 806,-8 8,-8\" stroke=\"#000000\" stroke-dasharray=\"5,2\"/>\n<text fill=\"#000000\" font-family=\"Times,serif\" font-size=\"14.00\" text-anchor=\"middle\" x=\"42\" y=\"-659.8\">model_1</text>\n</g>\n<!-- 140695824290032 -->\n<g class=\"node\" id=\"node1\">\n<title>140695824290032</title>\n<polygon fill=\"none\" points=\"415.5,-683.5 415.5,-729.5 742.5,-729.5 742.5,-683.5 415.5,-683.5\" stroke=\"#000000\"/>\n<text fill=\"#000000\" font-family=\"Times,serif\" font-size=\"14.00\" text-anchor=\"middle\" x=\"503.5\" y=\"-702.8\">model_1_input: InputLayer</text>\n<polyline fill=\"none\" points=\"591.5,-683.5 591.5,-729.5 \" stroke=\"#000000\"/>\n<text fill=\"#000000\" font-family=\"Times,serif\" font-size=\"14.00\" text-anchor=\"middle\" x=\"620.5\" y=\"-714.3\">input:</text>\n<polyline fill=\"none\" points=\"591.5,-706.5 649.5,-706.5 \" stroke=\"#000000\"/>\n<text fill=\"#000000\" font-family=\"Times,serif\" font-size=\"14.00\" text-anchor=\"middle\" x=\"620.5\" y=\"-691.3\">output:</text>\n<polyline fill=\"none\" points=\"649.5,-683.5 649.5,-729.5 \" stroke=\"#000000\"/>\n<text fill=\"#000000\" font-family=\"Times,serif\" font-size=\"14.00\" text-anchor=\"middle\" x=\"696\" y=\"-714.3\">[(?, 3000, 3)]</text>\n<polyline fill=\"none\" points=\"649.5,-706.5 742.5,-706.5 \" stroke=\"#000000\"/>\n<text fill=\"#000000\" font-family=\"Times,serif\" font-size=\"14.00\" text-anchor=\"middle\" x=\"696\" y=\"-691.3\">[(?, 3000, 3)]</text>\n</g>\n<!-- 140695824967216 -->\n<g class=\"node\" id=\"node2\">\n<title>140695824967216</title>\n<polygon fill=\"none\" points=\"437,-597.5 437,-643.5 721,-643.5 721,-597.5 437,-597.5\" stroke=\"#000000\"/>\n<text fill=\"#000000\" font-family=\"Times,serif\" font-size=\"14.00\" text-anchor=\"middle\" x=\"503.5\" y=\"-616.8\">input_2: InputLayer</text>\n<polyline fill=\"none\" points=\"570,-597.5 570,-643.5 \" stroke=\"#000000\"/>\n<text fill=\"#000000\" font-family=\"Times,serif\" font-size=\"14.00\" text-anchor=\"middle\" x=\"599\" y=\"-628.3\">input:</text>\n<polyline fill=\"none\" points=\"570,-620.5 628,-620.5 \" stroke=\"#000000\"/>\n<text fill=\"#000000\" font-family=\"Times,serif\" font-size=\"14.00\" text-anchor=\"middle\" x=\"599\" y=\"-605.3\">output:</text>\n<polyline fill=\"none\" points=\"628,-597.5 628,-643.5 \" stroke=\"#000000\"/>\n<text fill=\"#000000\" font-family=\"Times,serif\" font-size=\"14.00\" text-anchor=\"middle\" x=\"674.5\" y=\"-628.3\">[(?, 3000, 3)]</text>\n<polyline fill=\"none\" points=\"628,-620.5 721,-620.5 \" stroke=\"#000000\"/>\n<text fill=\"#000000\" font-family=\"Times,serif\" font-size=\"14.00\" text-anchor=\"middle\" x=\"674.5\" y=\"-605.3\">[(?, 3000, 3)]</text>\n</g>\n<!-- 140695824290032&#45;&gt;140695824967216 -->\n<g class=\"edge\" id=\"edge12\">\n<title>140695824290032-&gt;140695824967216</title>\n<path d=\"M579,-683.4536C579,-674.2957 579,-663.5862 579,-653.6244\" fill=\"none\" stroke=\"#000000\"/>\n<polygon fill=\"#000000\" points=\"582.5001,-653.61 579,-643.61 575.5001,-653.6101 582.5001,-653.61\" stroke=\"#000000\"/>\n</g>\n<!-- 140695824967944 -->\n<g class=\"node\" id=\"node3\">\n<title>140695824967944</title>\n<polygon fill=\"none\" points=\"437.5,-514.5 437.5,-560.5 720.5,-560.5 720.5,-514.5 437.5,-514.5\" stroke=\"#000000\"/>\n<text fill=\"#000000\" font-family=\"Times,serif\" font-size=\"14.00\" text-anchor=\"middle\" x=\"504\" y=\"-533.8\">conv1d_3: Conv1D</text>\n<polyline fill=\"none\" points=\"570.5,-514.5 570.5,-560.5 \" stroke=\"#000000\"/>\n<text fill=\"#000000\" font-family=\"Times,serif\" font-size=\"14.00\" text-anchor=\"middle\" x=\"599.5\" y=\"-545.3\">input:</text>\n<polyline fill=\"none\" points=\"570.5,-537.5 628.5,-537.5 \" stroke=\"#000000\"/>\n<text fill=\"#000000\" font-family=\"Times,serif\" font-size=\"14.00\" text-anchor=\"middle\" x=\"599.5\" y=\"-522.3\">output:</text>\n<polyline fill=\"none\" points=\"628.5,-514.5 628.5,-560.5 \" stroke=\"#000000\"/>\n<text fill=\"#000000\" font-family=\"Times,serif\" font-size=\"14.00\" text-anchor=\"middle\" x=\"674.5\" y=\"-545.3\">(?, 3000, 3)</text>\n<polyline fill=\"none\" points=\"628.5,-537.5 720.5,-537.5 \" stroke=\"#000000\"/>\n<text fill=\"#000000\" font-family=\"Times,serif\" font-size=\"14.00\" text-anchor=\"middle\" x=\"674.5\" y=\"-522.3\">(?, 3000, 80)</text>\n</g>\n<!-- 140695824967216&#45;&gt;140695824967944 -->\n<g class=\"edge\" id=\"edge1\">\n<title>140695824967216-&gt;140695824967944</title>\n<path d=\"M579,-597.3799C579,-589.1745 579,-579.7679 579,-570.8786\" fill=\"none\" stroke=\"#000000\"/>\n<polygon fill=\"#000000\" points=\"582.5001,-570.784 579,-560.784 575.5001,-570.784 582.5001,-570.784\" stroke=\"#000000\"/>\n</g>\n<!-- 140695824887760 -->\n<g class=\"node\" id=\"node4\">\n<title>140695824887760</title>\n<polygon fill=\"none\" points=\"361.5,-431.5 361.5,-477.5 644.5,-477.5 644.5,-431.5 361.5,-431.5\" stroke=\"#000000\"/>\n<text fill=\"#000000\" font-family=\"Times,serif\" font-size=\"14.00\" text-anchor=\"middle\" x=\"428\" y=\"-450.8\">conv1d_4: Conv1D</text>\n<polyline fill=\"none\" points=\"494.5,-431.5 494.5,-477.5 \" stroke=\"#000000\"/>\n<text fill=\"#000000\" font-family=\"Times,serif\" font-size=\"14.00\" text-anchor=\"middle\" x=\"523.5\" y=\"-462.3\">input:</text>\n<polyline fill=\"none\" points=\"494.5,-454.5 552.5,-454.5 \" stroke=\"#000000\"/>\n<text fill=\"#000000\" font-family=\"Times,serif\" font-size=\"14.00\" text-anchor=\"middle\" x=\"523.5\" y=\"-439.3\">output:</text>\n<polyline fill=\"none\" points=\"552.5,-431.5 552.5,-477.5 \" stroke=\"#000000\"/>\n<text fill=\"#000000\" font-family=\"Times,serif\" font-size=\"14.00\" text-anchor=\"middle\" x=\"598.5\" y=\"-462.3\">(?, 3000, 80)</text>\n<polyline fill=\"none\" points=\"552.5,-454.5 644.5,-454.5 \" stroke=\"#000000\"/>\n<text fill=\"#000000\" font-family=\"Times,serif\" font-size=\"14.00\" text-anchor=\"middle\" x=\"598.5\" y=\"-439.3\">(?, 3000, 80)</text>\n</g>\n<!-- 140695824967944&#45;&gt;140695824887760 -->\n<g class=\"edge\" id=\"edge2\">\n<title>140695824967944-&gt;140695824887760</title>\n<path d=\"M557.8298,-514.3799C549.5815,-505.3718 540.0074,-494.916 531.1898,-485.2863\" fill=\"none\" stroke=\"#000000\"/>\n<polygon fill=\"#000000\" points=\"533.6549,-482.7956 524.3203,-477.784 528.4922,-487.5229 533.6549,-482.7956\" stroke=\"#000000\"/>\n</g>\n<!-- 140695824883896 -->\n<g class=\"node\" id=\"node6\">\n<title>140695824883896</title>\n<polygon fill=\"none\" points=\"426.5,-265.5 426.5,-311.5 797.5,-311.5 797.5,-265.5 426.5,-265.5\" stroke=\"#000000\"/>\n<text fill=\"#000000\" font-family=\"Times,serif\" font-size=\"14.00\" text-anchor=\"middle\" x=\"537\" y=\"-284.8\">max_pooling1d_3: MaxPooling1D</text>\n<polyline fill=\"none\" points=\"647.5,-265.5 647.5,-311.5 \" stroke=\"#000000\"/>\n<text fill=\"#000000\" font-family=\"Times,serif\" font-size=\"14.00\" text-anchor=\"middle\" x=\"676.5\" y=\"-296.3\">input:</text>\n<polyline fill=\"none\" points=\"647.5,-288.5 705.5,-288.5 \" stroke=\"#000000\"/>\n<text fill=\"#000000\" font-family=\"Times,serif\" font-size=\"14.00\" text-anchor=\"middle\" x=\"676.5\" y=\"-273.3\">output:</text>\n<polyline fill=\"none\" points=\"705.5,-265.5 705.5,-311.5 \" stroke=\"#000000\"/>\n<text fill=\"#000000\" font-family=\"Times,serif\" font-size=\"14.00\" text-anchor=\"middle\" x=\"751.5\" y=\"-296.3\">(?, 3000, 80)</text>\n<polyline fill=\"none\" points=\"705.5,-288.5 797.5,-288.5 \" stroke=\"#000000\"/>\n<text fill=\"#000000\" font-family=\"Times,serif\" font-size=\"14.00\" text-anchor=\"middle\" x=\"751.5\" y=\"-273.3\">(?, 1000, 80)</text>\n</g>\n<!-- 140695824967944&#45;&gt;140695824883896 -->\n<g class=\"edge\" id=\"edge4\">\n<title>140695824967944-&gt;140695824883896</title>\n<path d=\"M614.0883,-514.3899C627.6597,-504.3107 642.6278,-491.6729 654,-478 680.6985,-445.9002 687.9244,-435.5178 698,-395 703.0409,-374.7285 707.6975,-366.5015 698,-348 691.6865,-335.9546 681.7046,-325.8641 670.7418,-317.6157\" fill=\"none\" stroke=\"#000000\"/>\n<polygon fill=\"#000000\" points=\"672.4158,-314.516 662.2117,-311.6653 668.4109,-320.2572 672.4158,-314.516\" stroke=\"#000000\"/>\n</g>\n<!-- 140695824836928 -->\n<g class=\"node\" id=\"node5\">\n<title>140695824836928</title>\n<polygon fill=\"none\" points=\"16.5,-348.5 16.5,-394.5 299.5,-394.5 299.5,-348.5 16.5,-348.5\" stroke=\"#000000\"/>\n<text fill=\"#000000\" font-family=\"Times,serif\" font-size=\"14.00\" text-anchor=\"middle\" x=\"83\" y=\"-367.8\">conv1d_5: Conv1D</text>\n<polyline fill=\"none\" points=\"149.5,-348.5 149.5,-394.5 \" stroke=\"#000000\"/>\n<text fill=\"#000000\" font-family=\"Times,serif\" font-size=\"14.00\" text-anchor=\"middle\" x=\"178.5\" y=\"-379.3\">input:</text>\n<polyline fill=\"none\" points=\"149.5,-371.5 207.5,-371.5 \" stroke=\"#000000\"/>\n<text fill=\"#000000\" font-family=\"Times,serif\" font-size=\"14.00\" text-anchor=\"middle\" x=\"178.5\" y=\"-356.3\">output:</text>\n<polyline fill=\"none\" points=\"207.5,-348.5 207.5,-394.5 \" stroke=\"#000000\"/>\n<text fill=\"#000000\" font-family=\"Times,serif\" font-size=\"14.00\" text-anchor=\"middle\" x=\"253.5\" y=\"-379.3\">(?, 3000, 80)</text>\n<polyline fill=\"none\" points=\"207.5,-371.5 299.5,-371.5 \" stroke=\"#000000\"/>\n<text fill=\"#000000\" font-family=\"Times,serif\" font-size=\"14.00\" text-anchor=\"middle\" x=\"253.5\" y=\"-356.3\">(?, 3000, 80)</text>\n</g>\n<!-- 140695824887760&#45;&gt;140695824836928 -->\n<g class=\"edge\" id=\"edge3\">\n<title>140695824887760-&gt;140695824836928</title>\n<path d=\"M407.3564,-431.4901C362.7683,-420.7631 309.5686,-407.9643 263.7823,-396.9491\" fill=\"none\" stroke=\"#000000\"/>\n<polygon fill=\"#000000\" points=\"264.3709,-393.4909 253.8296,-394.5547 262.7335,-400.2967 264.3709,-393.4909\" stroke=\"#000000\"/>\n</g>\n<!-- 140695825006096 -->\n<g class=\"node\" id=\"node7\">\n<title>140695825006096</title>\n<polygon fill=\"none\" points=\"317.5,-348.5 317.5,-394.5 688.5,-394.5 688.5,-348.5 317.5,-348.5\" stroke=\"#000000\"/>\n<text fill=\"#000000\" font-family=\"Times,serif\" font-size=\"14.00\" text-anchor=\"middle\" x=\"428\" y=\"-367.8\">max_pooling1d_4: MaxPooling1D</text>\n<polyline fill=\"none\" points=\"538.5,-348.5 538.5,-394.5 \" stroke=\"#000000\"/>\n<text fill=\"#000000\" font-family=\"Times,serif\" font-size=\"14.00\" text-anchor=\"middle\" x=\"567.5\" y=\"-379.3\">input:</text>\n<polyline fill=\"none\" points=\"538.5,-371.5 596.5,-371.5 \" stroke=\"#000000\"/>\n<text fill=\"#000000\" font-family=\"Times,serif\" font-size=\"14.00\" text-anchor=\"middle\" x=\"567.5\" y=\"-356.3\">output:</text>\n<polyline fill=\"none\" points=\"596.5,-348.5 596.5,-394.5 \" stroke=\"#000000\"/>\n<text fill=\"#000000\" font-family=\"Times,serif\" font-size=\"14.00\" text-anchor=\"middle\" x=\"642.5\" y=\"-379.3\">(?, 3000, 80)</text>\n<polyline fill=\"none\" points=\"596.5,-371.5 688.5,-371.5 \" stroke=\"#000000\"/>\n<text fill=\"#000000\" font-family=\"Times,serif\" font-size=\"14.00\" text-anchor=\"middle\" x=\"642.5\" y=\"-356.3\">(?, 1000, 80)</text>\n</g>\n<!-- 140695824887760&#45;&gt;140695825006096 -->\n<g class=\"edge\" id=\"edge5\">\n<title>140695824887760-&gt;140695825006096</title>\n<path d=\"M503,-431.3799C503,-423.1745 503,-413.7679 503,-404.8786\" fill=\"none\" stroke=\"#000000\"/>\n<polygon fill=\"#000000\" points=\"506.5001,-404.784 503,-394.784 499.5001,-404.784 506.5001,-404.784\" stroke=\"#000000\"/>\n</g>\n<!-- 140695824842592 -->\n<g class=\"node\" id=\"node8\">\n<title>140695824842592</title>\n<polygon fill=\"none\" points=\"16.5,-265.5 16.5,-311.5 387.5,-311.5 387.5,-265.5 16.5,-265.5\" stroke=\"#000000\"/>\n<text fill=\"#000000\" font-family=\"Times,serif\" font-size=\"14.00\" text-anchor=\"middle\" x=\"127\" y=\"-284.8\">max_pooling1d_5: MaxPooling1D</text>\n<polyline fill=\"none\" points=\"237.5,-265.5 237.5,-311.5 \" stroke=\"#000000\"/>\n<text fill=\"#000000\" font-family=\"Times,serif\" font-size=\"14.00\" text-anchor=\"middle\" x=\"266.5\" y=\"-296.3\">input:</text>\n<polyline fill=\"none\" points=\"237.5,-288.5 295.5,-288.5 \" stroke=\"#000000\"/>\n<text fill=\"#000000\" font-family=\"Times,serif\" font-size=\"14.00\" text-anchor=\"middle\" x=\"266.5\" y=\"-273.3\">output:</text>\n<polyline fill=\"none\" points=\"295.5,-265.5 295.5,-311.5 \" stroke=\"#000000\"/>\n<text fill=\"#000000\" font-family=\"Times,serif\" font-size=\"14.00\" text-anchor=\"middle\" x=\"341.5\" y=\"-296.3\">(?, 3000, 80)</text>\n<polyline fill=\"none\" points=\"295.5,-288.5 387.5,-288.5 \" stroke=\"#000000\"/>\n<text fill=\"#000000\" font-family=\"Times,serif\" font-size=\"14.00\" text-anchor=\"middle\" x=\"341.5\" y=\"-273.3\">(?, 1000, 80)</text>\n</g>\n<!-- 140695824836928&#45;&gt;140695824842592 -->\n<g class=\"edge\" id=\"edge6\">\n<title>140695824836928-&gt;140695824842592</title>\n<path d=\"M170.2565,-348.3799C174.7954,-339.8178 180.0277,-329.9477 184.9183,-320.7222\" fill=\"none\" stroke=\"#000000\"/>\n<polygon fill=\"#000000\" points=\"188.0652,-322.2586 189.6567,-311.784 181.8805,-318.98 188.0652,-322.2586\" stroke=\"#000000\"/>\n</g>\n<!-- 140695824842424 -->\n<g class=\"node\" id=\"node9\">\n<title>140695824842424</title>\n<polygon fill=\"none\" points=\"157.5,-182.5 157.5,-228.5 656.5,-228.5 656.5,-182.5 157.5,-182.5\" stroke=\"#000000\"/>\n<text fill=\"#000000\" font-family=\"Times,serif\" font-size=\"14.00\" text-anchor=\"middle\" x=\"245\" y=\"-201.8\">concatenate_1: Concatenate</text>\n<polyline fill=\"none\" points=\"332.5,-182.5 332.5,-228.5 \" stroke=\"#000000\"/>\n<text fill=\"#000000\" font-family=\"Times,serif\" font-size=\"14.00\" text-anchor=\"middle\" x=\"361.5\" y=\"-213.3\">input:</text>\n<polyline fill=\"none\" points=\"332.5,-205.5 390.5,-205.5 \" stroke=\"#000000\"/>\n<text fill=\"#000000\" font-family=\"Times,serif\" font-size=\"14.00\" text-anchor=\"middle\" x=\"361.5\" y=\"-190.3\">output:</text>\n<polyline fill=\"none\" points=\"390.5,-182.5 390.5,-228.5 \" stroke=\"#000000\"/>\n<text fill=\"#000000\" font-family=\"Times,serif\" font-size=\"14.00\" text-anchor=\"middle\" x=\"523.5\" y=\"-213.3\">[(?, 1000, 80), (?, 1000, 80), (?, 1000, 80)]</text>\n<polyline fill=\"none\" points=\"390.5,-205.5 656.5,-205.5 \" stroke=\"#000000\"/>\n<text fill=\"#000000\" font-family=\"Times,serif\" font-size=\"14.00\" text-anchor=\"middle\" x=\"523.5\" y=\"-190.3\">(?, 3000, 80)</text>\n</g>\n<!-- 140695824883896&#45;&gt;140695824842424 -->\n<g class=\"edge\" id=\"edge7\">\n<title>140695824883896-&gt;140695824842424</title>\n<path d=\"M555.1683,-265.4901C529.8403,-255.2353 499.836,-243.0872 473.4742,-232.414\" fill=\"none\" stroke=\"#000000\"/>\n<polygon fill=\"#000000\" points=\"474.5249,-229.0634 463.9422,-228.5547 471.8978,-235.5518 474.5249,-229.0634\" stroke=\"#000000\"/>\n</g>\n<!-- 140695825006096&#45;&gt;140695824842424 -->\n<g class=\"edge\" id=\"edge8\">\n<title>140695825006096-&gt;140695824842424</title>\n<path d=\"M455.1652,-348.2954C440.9085,-339.0011 426.7643,-326.9071 418,-312 405.1274,-290.1051 402.8625,-261.2421 403.5489,-239.0872\" fill=\"none\" stroke=\"#000000\"/>\n<polygon fill=\"#000000\" points=\"407.0593,-238.98 404.0894,-228.81 400.0689,-238.6123 407.0593,-238.98\" stroke=\"#000000\"/>\n</g>\n<!-- 140695824842592&#45;&gt;140695824842424 -->\n<g class=\"edge\" id=\"edge9\">\n<title>140695824842592-&gt;140695824842424</title>\n<path d=\"M258.8317,-265.4901C284.1597,-255.2353 314.164,-243.0872 340.5258,-232.414\" fill=\"none\" stroke=\"#000000\"/>\n<polygon fill=\"#000000\" points=\"342.1022,-235.5518 350.0578,-228.5547 339.4751,-229.0634 342.1022,-235.5518\" stroke=\"#000000\"/>\n</g>\n<!-- 140695824514184 -->\n<g class=\"node\" id=\"node10\">\n<title>140695824514184</title>\n<polygon fill=\"none\" points=\"160,-99.5 160,-145.5 654,-145.5 654,-99.5 160,-99.5\" stroke=\"#000000\"/>\n<text fill=\"#000000\" font-family=\"Times,serif\" font-size=\"14.00\" text-anchor=\"middle\" x=\"332\" y=\"-118.8\">global_average_pooling1d_1: GlobalAveragePooling1D</text>\n<polyline fill=\"none\" points=\"504,-99.5 504,-145.5 \" stroke=\"#000000\"/>\n<text fill=\"#000000\" font-family=\"Times,serif\" font-size=\"14.00\" text-anchor=\"middle\" x=\"533\" y=\"-130.3\">input:</text>\n<polyline fill=\"none\" points=\"504,-122.5 562,-122.5 \" stroke=\"#000000\"/>\n<text fill=\"#000000\" font-family=\"Times,serif\" font-size=\"14.00\" text-anchor=\"middle\" x=\"533\" y=\"-107.3\">output:</text>\n<polyline fill=\"none\" points=\"562,-99.5 562,-145.5 \" stroke=\"#000000\"/>\n<text fill=\"#000000\" font-family=\"Times,serif\" font-size=\"14.00\" text-anchor=\"middle\" x=\"608\" y=\"-130.3\">(?, 3000, 80)</text>\n<polyline fill=\"none\" points=\"562,-122.5 654,-122.5 \" stroke=\"#000000\"/>\n<text fill=\"#000000\" font-family=\"Times,serif\" font-size=\"14.00\" text-anchor=\"middle\" x=\"608\" y=\"-107.3\">(?, 80)</text>\n</g>\n<!-- 140695824842424&#45;&gt;140695824514184 -->\n<g class=\"edge\" id=\"edge10\">\n<title>140695824842424-&gt;140695824514184</title>\n<path d=\"M407,-182.3799C407,-174.1745 407,-164.7679 407,-155.8786\" fill=\"none\" stroke=\"#000000\"/>\n<polygon fill=\"#000000\" points=\"410.5001,-155.784 407,-145.784 403.5001,-155.784 410.5001,-155.784\" stroke=\"#000000\"/>\n</g>\n<!-- 140695825024056 -->\n<g class=\"node\" id=\"node11\">\n<title>140695825024056</title>\n<polygon fill=\"none\" points=\"297.5,-16.5 297.5,-62.5 516.5,-62.5 516.5,-16.5 297.5,-16.5\" stroke=\"#000000\"/>\n<text fill=\"#000000\" font-family=\"Times,serif\" font-size=\"14.00\" text-anchor=\"middle\" x=\"351\" y=\"-35.8\">dense_1: Dense</text>\n<polyline fill=\"none\" points=\"404.5,-16.5 404.5,-62.5 \" stroke=\"#000000\"/>\n<text fill=\"#000000\" font-family=\"Times,serif\" font-size=\"14.00\" text-anchor=\"middle\" x=\"433.5\" y=\"-47.3\">input:</text>\n<polyline fill=\"none\" points=\"404.5,-39.5 462.5,-39.5 \" stroke=\"#000000\"/>\n<text fill=\"#000000\" font-family=\"Times,serif\" font-size=\"14.00\" text-anchor=\"middle\" x=\"433.5\" y=\"-24.3\">output:</text>\n<polyline fill=\"none\" points=\"462.5,-16.5 462.5,-62.5 \" stroke=\"#000000\"/>\n<text fill=\"#000000\" font-family=\"Times,serif\" font-size=\"14.00\" text-anchor=\"middle\" x=\"489.5\" y=\"-47.3\">(?, 80)</text>\n<polyline fill=\"none\" points=\"462.5,-39.5 516.5,-39.5 \" stroke=\"#000000\"/>\n<text fill=\"#000000\" font-family=\"Times,serif\" font-size=\"14.00\" text-anchor=\"middle\" x=\"489.5\" y=\"-24.3\">(?, 4)</text>\n</g>\n<!-- 140695824514184&#45;&gt;140695825024056 -->\n<g class=\"edge\" id=\"edge11\">\n<title>140695824514184-&gt;140695825024056</title>\n<path d=\"M407,-99.3799C407,-91.1745 407,-81.7679 407,-72.8786\" fill=\"none\" stroke=\"#000000\"/>\n<polygon fill=\"#000000\" points=\"410.5001,-72.784 407,-62.784 403.5001,-72.784 410.5001,-72.784\" stroke=\"#000000\"/>\n</g>\n</g>\n</svg>"
          },
          "metadata": {
            "tags": []
          },
          "execution_count": 28
        }
      ]
    },
    {
      "cell_type": "code",
      "metadata": {
        "id": "M46eR6ELpaJ2",
        "colab_type": "code",
        "outputId": "440b77a0-21f2-48ee-d705-7a34a6c78150",
        "colab": {
          "base_uri": "https://localhost:8080/",
          "height": 74
        }
      },
      "source": [
        "epocas = 2000\n",
        "batchSize = 512\n",
        "# hist = modelo.fit(x_train, y_train, verbose = 1, validation_data=(x_test, y_test), epochs = epocas, batch_size = batchSize)\n",
        "hist = modelo.fit(x_train, y_train, verbose = 1, validation_data=(x_test, y_test), epochs = epocas, batch_size = batchSize, class_weight = pesosClases)\n",
        "\n",
        "resultadosEntrenamiento = Resultados(y_train, modelo.predict_classes(x_train), hist)\n",
        "resultadosValidacion = Resultados(y_test, modelo.predict_classes(x_test), hist)\n",
        "\n",
        "resultadosEntrenamiento.graficarHistoria()\n",
        "\n",
        "print(resultadosEntrenamiento.graficarMatrizConfusion())\n",
        "print(resultadosValidacion.graficarMatrizConfusion())\n",
        "\n",
        "print(\"\\nEstadisticas de Entrenamiento\")\n",
        "print(\"------------------------------\")\n",
        "print(\"Precision: {}\".format(resultadosEntrenamiento.calcularPrecision()))\n",
        "print(\"Recall: {}\".format(resultadosEntrenamiento.calcularRecall()))\n",
        "print(\"F1: {}\".format(resultadosEntrenamiento.calcularF1()))\n",
        "\n",
        "print(\"\\nEstadisticas de Validacion\")\n",
        "print(\"------------------------------\")\n",
        "print(\"Precision: {}\".format(resultadosValidacion.calcularPrecision()))\n",
        "print(\"Recall: {}\".format(resultadosValidacion.calcularRecall()))\n",
        "print(\"F1: {}\".format(resultadosValidacion.calcularF1()))"
      ],
      "execution_count": 0,
      "outputs": [
        {
          "output_type": "stream",
          "text": [
            "Train on 122006 samples, validate on 13557 samples\n",
            "Epoch 1/2000\n",
            "109568/122006 [=========================>....] - ETA: 11s - loss: 1.3788 - sparse_categorical_accuracy: 0.3595"
          ],
          "name": "stdout"
        }
      ]
    },
    {
      "cell_type": "code",
      "metadata": {
        "id": "TfazZkiWnfcb",
        "colab_type": "code",
        "colab": {}
      },
      "source": [
        "def guardarModelo(pModelo):\n",
        "  modelo_json = pModelo.to_json()\n",
        "\n",
        "  with open(\"drive/My Drive/ModelosExamen2/Modelo.json\", \"w\") as archivo_json:\n",
        "      archivo_json.write(modelo_json)\n",
        "\n",
        "  pModelo.save_weights(\"drive/My Drive/ModelosExamen2/PesosModelo.h5\")\n",
        "\n",
        "  plot_model(pModelo, to_file = \"drive/My Drive/ModelosExamen2/Modelo.png\", show_shapes = True)\n",
        "\n",
        "def cargarModelo(pRutaModelo, pRutaPesos):\n",
        "  archivo_json = open(pRutaModelo, 'r')\n",
        "  modelo_json = archivo_json.read()\n",
        "  archivo_json.close()\n",
        "  modelo = model_from_json(modelo_json)\n",
        "\n",
        "  modelo.load_weights(pRutaPesos)\n",
        "\n",
        "  return modelo"
      ],
      "execution_count": 0,
      "outputs": []
    },
    {
      "cell_type": "code",
      "metadata": {
        "id": "UCFUKRJooiAF",
        "colab_type": "code",
        "colab": {}
      },
      "source": [
        "rutaModelo = \"drive/My Drive/ModelosExamen2/ModeloOver.json\"\n",
        "rutaPesos = \"drive/My Drive/ModelosExamen2/PesosModeloOver.h5\""
      ],
      "execution_count": 0,
      "outputs": []
    },
    {
      "cell_type": "code",
      "metadata": {
        "id": "hgd1izCbpr2B",
        "colab_type": "code",
        "colab": {}
      },
      "source": [
        "guardarModelo(modelo)"
      ],
      "execution_count": 0,
      "outputs": []
    },
    {
      "cell_type": "code",
      "metadata": {
        "id": "uzDIpbwHo9uL",
        "colab_type": "code",
        "outputId": "a9bc00fe-d2f6-4c3a-8ead-5d454005265e",
        "colab": {
          "base_uri": "https://localhost:8080/",
          "height": 208
        }
      },
      "source": [
        "modeloCargado = cargarModelo(rutaModelo, rutaPesos)"
      ],
      "execution_count": 0,
      "outputs": [
        {
          "output_type": "stream",
          "text": [
            "WARNING:tensorflow:From /usr/local/lib/python3.6/dist-packages/tensorflow_core/python/ops/init_ops.py:97: calling GlorotUniform.__init__ (from tensorflow.python.ops.init_ops) with dtype is deprecated and will be removed in a future version.\n",
            "Instructions for updating:\n",
            "Call initializer instance with the dtype argument instead of passing it to the constructor\n",
            "WARNING:tensorflow:From /usr/local/lib/python3.6/dist-packages/tensorflow_core/python/ops/init_ops.py:97: calling Zeros.__init__ (from tensorflow.python.ops.init_ops) with dtype is deprecated and will be removed in a future version.\n",
            "Instructions for updating:\n",
            "Call initializer instance with the dtype argument instead of passing it to the constructor\n",
            "WARNING:tensorflow:From /usr/local/lib/python3.6/dist-packages/tensorflow_core/python/ops/resource_variable_ops.py:1630: calling BaseResourceVariable.__init__ (from tensorflow.python.ops.resource_variable_ops) with constraint is deprecated and will be removed in a future version.\n",
            "Instructions for updating:\n",
            "If using Keras pass *_constraint arguments to layers.\n"
          ],
          "name": "stdout"
        }
      ]
    },
    {
      "cell_type": "code",
      "metadata": {
        "id": "Q8yCL4TiDkZA",
        "colab_type": "code",
        "colab": {}
      },
      "source": [
        "numFiltros = np.array([100, 50, 20])\n",
        "tamFiltros = np.array([6, 6, 6])\n",
        "tamPooling = np.array([6, 6, 6])\n",
        "optimizer=\"adam\"\n",
        "numNeuronas = np.array([10, 8, 6])\n",
        "\n",
        "parametros = dict(batch_size = [30],\n",
        "               epochs = [5],\n",
        "               pOptimizer = [\"adam\", \"sgd\"],#,\"rmsprop\"],\n",
        "               pTasa = [0.01],\n",
        "               pAlphas = [0.001],\n",
        "               pNumFiltros = [numFiltros],\n",
        "              pTamFiltros = [tamFiltros],\n",
        "              pTamPooling = [tamPooling],\n",
        "              pNumNeuronas = [numNeuronas]\n",
        "              )"
      ],
      "execution_count": 0,
      "outputs": []
    },
    {
      "cell_type": "code",
      "metadata": {
        "id": "BnjxayYrBy_9",
        "colab_type": "code",
        "colab": {}
      },
      "source": [
        "def GridSearch(pXtrain, pYtrain, pXtest, pYtest, pParameters):\n",
        "  i=0\n",
        "  parameters = []\n",
        "  bestScore = 0\n",
        "  bestModel=None\n",
        "  bestHist = None\n",
        "  contador=0\n",
        "  for k in parametros.keys():\n",
        "    parameters.append(pParameters.get(k))\n",
        "  with progressbar.ProgressBar(max_value=len(list(itertools.product(*parameters)))) as bar:\n",
        "    for p in itertools.product(*parameters):\n",
        "      contador=+1\n",
        "      bar.update(contador)\n",
        "      modelo=crearModelo(p[3],p[4],p[5],p[6],p[7],p[8], p[2])\n",
        "      hist = modelo.fit(pXtrain, pYtrain, verbose = 1, validation_data=(pXtest, pYtest), epochs = p[1], batch_size = p[0])\n",
        "      l, score =modelo.evaluate(pXtest,pYtest)\n",
        "      if score>bestScore:\n",
        "        bestScore = score\n",
        "        bestModel = modelo\n",
        "        bestHist = hist\n",
        "  return bestScore, bestModel, bestHist"
      ],
      "execution_count": 0,
      "outputs": []
    },
    {
      "cell_type": "code",
      "metadata": {
        "id": "SIxa-xRJ9U3s",
        "colab_type": "code",
        "outputId": "b4312a36-e3f4-4b34-a035-7a13c7a8b6ed",
        "colab": {
          "base_uri": "https://localhost:8080/",
          "height": 720
        }
      },
      "source": [
        "bestScore, bestModel, bestHist = GridSearch(x_train,y_train,x_test,y_test,parametros)\n",
        "graficarHistoria(bestHist)"
      ],
      "execution_count": 0,
      "outputs": [
        {
          "output_type": "stream",
          "text": [
            "\r                                                                               \r\rN/A% (0 of 2) |                          | Elapsed Time: 0:00:00 ETA:  --:--:--"
          ],
          "name": "stderr"
        },
        {
          "output_type": "stream",
          "text": [
            "Train on 7977 samples, validate on 887 samples\n",
            "Epoch 1/5\n",
            "7977/7977 [==============================] - 3s 361us/sample - loss: 1.6520 - sparse_categorical_accuracy: 0.3236 - val_loss: 1.6377 - val_sparse_categorical_accuracy: 0.2954\n",
            "Epoch 2/5\n",
            "7977/7977 [==============================] - 2s 302us/sample - loss: 1.6042 - sparse_categorical_accuracy: 0.3412 - val_loss: 1.6478 - val_sparse_categorical_accuracy: 0.2954\n",
            "Epoch 3/5\n",
            "7977/7977 [==============================] - 2s 304us/sample - loss: 1.6057 - sparse_categorical_accuracy: 0.3421 - val_loss: 1.6405 - val_sparse_categorical_accuracy: 0.2954\n",
            "Epoch 4/5\n",
            "7977/7977 [==============================] - 2s 305us/sample - loss: 1.6134 - sparse_categorical_accuracy: 0.3273 - val_loss: 1.6373 - val_sparse_categorical_accuracy: 0.2954\n",
            "Epoch 5/5\n",
            "7977/7977 [==============================] - 2s 307us/sample - loss: 1.6135 - sparse_categorical_accuracy: 0.3273 - val_loss: 1.6402 - val_sparse_categorical_accuracy: 0.2954\n",
            "887/887 [==============================] - 0s 143us/sample - loss: 1.6402 - sparse_categorical_accuracy: 0.2954\n"
          ],
          "name": "stdout"
        },
        {
          "output_type": "stream",
          "text": [
            "\r                                                                               \r\r 50% (1 of 2) |#############             | Elapsed Time: 0:00:13 ETA:   0:00:13"
          ],
          "name": "stderr"
        },
        {
          "output_type": "stream",
          "text": [
            "Train on 7977 samples, validate on 887 samples\n",
            "Epoch 1/5\n",
            "7977/7977 [==============================] - 3s 349us/sample - loss: 1.6346 - sparse_categorical_accuracy: 0.3383 - val_loss: 1.6308 - val_sparse_categorical_accuracy: 0.2965\n",
            "Epoch 2/5\n",
            "7977/7977 [==============================] - 2s 306us/sample - loss: 1.5496 - sparse_categorical_accuracy: 0.3894 - val_loss: 1.5556 - val_sparse_categorical_accuracy: 0.3901\n",
            "Epoch 3/5\n",
            "7977/7977 [==============================] - 2s 302us/sample - loss: 1.4849 - sparse_categorical_accuracy: 0.4159 - val_loss: 1.5129 - val_sparse_categorical_accuracy: 0.3890\n",
            "Epoch 4/5\n",
            "7977/7977 [==============================] - 2s 303us/sample - loss: 1.4540 - sparse_categorical_accuracy: 0.4355 - val_loss: 1.4913 - val_sparse_categorical_accuracy: 0.4002\n",
            "Epoch 5/5\n",
            "7977/7977 [==============================] - 2s 304us/sample - loss: 1.4258 - sparse_categorical_accuracy: 0.4369 - val_loss: 1.4619 - val_sparse_categorical_accuracy: 0.4036\n",
            "887/887 [==============================] - 0s 144us/sample - loss: 1.4619 - sparse_categorical_accuracy: 0.4036\n"
          ],
          "name": "stdout"
        },
        {
          "output_type": "stream",
          "text": [
            "\r                                                                               \r\r100% (2 of 2) |##########################| Elapsed Time: 0:00:27 Time:  0:00:27\n"
          ],
          "name": "stderr"
        },
        {
          "output_type": "display_data",
          "data": {
            "image/png": "[encoded data removed]",
            "text/plain": [
              "<Figure size 432x288 with 1 Axes>"
            ]
          },
          "metadata": {
            "tags": []
          }
        }
      ]
    },
    {
      "cell_type": "markdown",
      "metadata": {
        "id": "pN-cEkgDFy3U",
        "colab_type": "text"
      },
      "source": [
        "#Resultados"
      ]
    },
    {
      "cell_type": "code",
      "metadata": {
        "id": "LO5euyGuFxdI",
        "colab_type": "code",
        "outputId": "cfac8d8e-6de3-47ba-a5ef-09b3b31cc321",
        "colab": {
          "base_uri": "https://localhost:8080/",
          "height": 36
        }
      },
      "source": [
        "resultadosEntrenamiento.calcularF1Micro()"
      ],
      "execution_count": 28,
      "outputs": [
        {
          "output_type": "execute_result",
          "data": {
            "text/plain": [
              "0.5143608748883227"
            ]
          },
          "metadata": {
            "tags": []
          },
          "execution_count": 28
        }
      ]
    },
    {
      "cell_type": "code",
      "metadata": {
        "id": "YFH8al18tm-Z",
        "colab_type": "code",
        "colab": {}
      },
      "source": [
        "y_pred_train = modeloCargado.predict_classes(x_train)\n",
        "y_pred_test = modeloCargado.predict_classes(x_test)"
      ],
      "execution_count": 0,
      "outputs": []
    },
    {
      "cell_type": "code",
      "metadata": {
        "id": "7Mt5I00ySoCj",
        "colab_type": "code",
        "colab": {}
      },
      "source": [
        "resultadosEntrenamiento = Resultados(y_train, y_pred_train)\n",
        "resultadosValidacion = Resultados(y_test, y_pred_test)"
      ],
      "execution_count": 0,
      "outputs": []
    },
    {
      "cell_type": "code",
      "metadata": {
        "id": "6aQdP54tHKlv",
        "colab_type": "code",
        "outputId": "e6c52f77-0f73-464a-f803-f5708753dfef",
        "colab": {
          "base_uri": "https://localhost:8080/",
          "height": 295
        }
      },
      "source": [
        "#resultadosEntrenamiento.graficarMatrizConfusion()\n",
        "resultadosValidacion.graficarMatrizConfusion()"
      ],
      "execution_count": 0,
      "outputs": [
        {
          "output_type": "display_data",
          "data": {
            "image/png": "[encoded data removed]",
            "text/plain": [
              "<Figure size 432x288 with 1 Axes>"
            ]
          },
          "metadata": {
            "tags": []
          }
        }
      ]
    },
    {
      "cell_type": "code",
      "metadata": {
        "id": "LZZ3IrzruoyW",
        "colab_type": "code",
        "colab": {}
      },
      "source": [
        ""
      ],
      "execution_count": 0,
      "outputs": []
    }
  ]
}