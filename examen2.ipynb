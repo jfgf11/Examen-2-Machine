{
  "nbformat": 4,
  "nbformat_minor": 0,
  "metadata": {
    "colab": {
      "name": "examen2.ipynb",
      "provenance": [],
      "collapsed_sections": [],
      "toc_visible": true,
      "include_colab_link": true
    },
    "kernelspec": {
      "name": "python3",
      "display_name": "Python 3"
    }
  },
  "cells": [
    {
      "cell_type": "markdown",
      "metadata": {
        "id": "view-in-github",
        "colab_type": "text"
      },
      "source": [
        "<a href=\"https://colab.research.google.com/github/jfgf11/Examen-2-Machine/blob/master/examen2.ipynb\" target=\"_parent\"><img src=\"https://colab.research.google.com/assets/colab-badge.svg\" alt=\"Open In Colab\"/></a>"
      ]
    },
    {
      "cell_type": "markdown",
      "metadata": {
        "id": "Geb2T0_TB3BM",
        "colab_type": "text"
      },
      "source": [
        "\n",
        "# Examen 2\n",
        "\n",
        "\n"
      ]
    },
    {
      "cell_type": "code",
      "metadata": {
        "id": "UT9ry2xHBUyV",
        "colab_type": "code",
        "outputId": "46a8578b-2c28-4e1d-8b3e-33bd6df959df",
        "colab": {
          "base_uri": "https://localhost:8080/",
          "height": 221
        }
      },
      "source": [
        "!pip install pyEDFlib"
      ],
      "execution_count": 0,
      "outputs": [
        {
          "output_type": "stream",
          "text": [
            "Collecting pyEDFlib\n",
            "\u001b[?25l  Downloading https://files.pythonhosted.org/packages/bc/8b/47ce5a889e1f6917390ba2328b494424d018cf9c263ab59e14ac851e194f/pyEDFlib-0.1.15.tar.gz (1.1MB)\n",
            "\u001b[K     |████████████████████████████████| 1.1MB 2.8MB/s \n",
            "\u001b[?25hRequirement already satisfied: numpy>=1.9.1 in /usr/local/lib/python3.6/dist-packages (from pyEDFlib) (1.17.4)\n",
            "Building wheels for collected packages: pyEDFlib\n",
            "  Building wheel for pyEDFlib (setup.py) ... \u001b[?25l\u001b[?25hdone\n",
            "  Created wheel for pyEDFlib: filename=pyEDFlib-0.1.15-cp36-cp36m-linux_x86_64.whl size=920093 sha256=49167aa3bea946454e57905faf571a41e5ab34ebe88a70bdaab6e9efb8e08b20\n",
            "  Stored in directory: /root/.cache/pip/wheels/57/e3/8e/ce6236e9ada08b8ff91ef922c7418dbd66f1182dfbb22f8579\n",
            "Successfully built pyEDFlib\n",
            "Installing collected packages: pyEDFlib\n",
            "Successfully installed pyEDFlib-0.1.15\n"
          ],
          "name": "stdout"
        }
      ]
    },
    {
      "cell_type": "code",
      "metadata": {
        "id": "dbliV9ktoI5F",
        "colab_type": "code",
        "colab": {}
      },
      "source": [
        "%tensorflow_version 1.x\n",
        "import tensorflow as tf\n",
        "import tensorflow.keras as keras\n",
        "\n",
        "from tensorflow.keras import Sequential\n",
        "from tensorflow.keras.layers import Dense\n",
        "from tensorflow.keras.layers import Conv1D\n",
        "from tensorflow.keras.layers import MaxPooling1D\n",
        "from tensorflow.keras.layers import AveragePooling1D\n",
        "\n",
        "import pyedflib as pyedf\n",
        "import numpy as np\n",
        "import matplotlib.pyplot as ptl"
      ],
      "execution_count": 0,
      "outputs": []
    },
    {
      "cell_type": "markdown",
      "metadata": {
        "id": "Aivhu85eoNx8",
        "colab_type": "text"
      },
      "source": [
        "#Lectura de los Datos"
      ]
    },
    {
      "cell_type": "code",
      "metadata": {
        "id": "PV9NsUqXByIC",
        "colab_type": "code",
        "outputId": "ad51e5a8-637d-4deb-a382-35647c95a9d5",
        "colab": {
          "base_uri": "https://localhost:8080/",
          "height": 593
        }
      },
      "source": [
        "# Lectura del archivo de estados de sueño (etiquetas)\n",
        "st_FileHypEdf = pyedf.EdfReader(\"SC4001EC-Hypnogram.edf\")\n",
        "print(st_FileHypEdf)\n",
        "\n",
        "# Datos en ventanas de 30 segundos, \n",
        "#v_HypTime es el tiempo de inicio, v_HypDur es la duración en un estado específico (pueden ser varias ventanas),\n",
        "# v_Hyp es la etiqueta.\n",
        "\n",
        "v_HypTime, v_HypDur, v_Hyp = st_FileHypEdf.readAnnotations()\n",
        "\n",
        "ptl.figure()\n",
        "ptl.plot(v_HypTime, v_Hyp)\n",
        "\n",
        "# Lectura de las señales s_SigNum señales con nombres v_Signal_Labels\n",
        "st_FileEdf = pyedf.EdfReader(\"SC4001E0-PSG.edf\")\n",
        "print(st_FileEdf)\n",
        "s_SigNum = st_FileEdf.signals_in_file\n",
        "print(s_SigNum)\n",
        "v_Signal_Labels = st_FileEdf.getSignalLabels()\n",
        "\n",
        "\n",
        "# Conversion a segundos usando frecuencia de muestreo.\n",
        "s_SigRef = 0\n",
        "s_NSamples = st_FileEdf.getNSamples()[0]\n",
        "s_FsHz = st_FileEdf.getSampleFrequency(s_SigRef)\n",
        "print(s_NSamples)\n",
        "\n",
        "# v_Sig = np.zeros((s_NSamples, 1))\n",
        "v_Sig = st_FileEdf.readSignal(s_SigRef)\n",
        "v_Time = np.arange(0, s_NSamples) / s_FsHz\n",
        "\n",
        "s_WinSizeSec = 30\n",
        "s_WinSizeSam = np.round(s_FsHz * s_WinSizeSec)\n",
        "\n",
        "\n",
        "# plot de señales en ventanas de 30s\n",
        "s_FirstInd = 0\n",
        "ptl.figure()\n",
        "while 1:\n",
        "    s_LastInd = s_FirstInd + s_WinSizeSam\n",
        "    if s_LastInd > s_NSamples:\n",
        "        break\n",
        "\n",
        "    ptl.plot(v_Time[s_FirstInd:s_LastInd], v_Sig[s_FirstInd:s_LastInd], linewidth=1)\n",
        "    ptl.xlabel('Time (sec)')\n",
        "    ptl.xlim(v_Time[s_FirstInd], v_Time[s_LastInd - 1])\n",
        "    ptl.pause(0.5)\n",
        "\n",
        "    s_FirstInd = s_LastInd\n",
        "\n",
        "ptl.show()"
      ],
      "execution_count": 0,
      "outputs": [
        {
          "output_type": "stream",
          "text": [
            "<pyedflib.edfreader.EdfReader object at 0x3b04018>\n"
          ],
          "name": "stdout"
        },
        {
          "output_type": "error",
          "ename": "OSError",
          "evalue": "ignored",
          "traceback": [
            "\u001b[0;31m---------------------------------------------------------------------------\u001b[0m",
            "\u001b[0;31mOSError\u001b[0m                                   Traceback (most recent call last)",
            "\u001b[0;32m<ipython-input-2-91ff11aba653>\u001b[0m in \u001b[0;36m<module>\u001b[0;34m()\u001b[0m\n\u001b[1;32m     19\u001b[0m \u001b[0;34m\u001b[0m\u001b[0m\n\u001b[1;32m     20\u001b[0m \u001b[0;31m# Lectura de las señales s_SigNum señales con nombres v_Signal_Labels\u001b[0m\u001b[0;34m\u001b[0m\u001b[0;34m\u001b[0m\u001b[0;34m\u001b[0m\u001b[0m\n\u001b[0;32m---> 21\u001b[0;31m \u001b[0mst_FileEdf\u001b[0m \u001b[0;34m=\u001b[0m \u001b[0mpyedf\u001b[0m\u001b[0;34m.\u001b[0m\u001b[0mEdfReader\u001b[0m\u001b[0;34m(\u001b[0m\u001b[0;34m\"SC4001E0-PSG.edf\"\u001b[0m\u001b[0;34m)\u001b[0m\u001b[0;34m\u001b[0m\u001b[0;34m\u001b[0m\u001b[0m\n\u001b[0m\u001b[1;32m     22\u001b[0m \u001b[0mprint\u001b[0m\u001b[0;34m(\u001b[0m\u001b[0mst_FileEdf\u001b[0m\u001b[0;34m)\u001b[0m\u001b[0;34m\u001b[0m\u001b[0;34m\u001b[0m\u001b[0m\n\u001b[1;32m     23\u001b[0m \u001b[0ms_SigNum\u001b[0m \u001b[0;34m=\u001b[0m \u001b[0mst_FileEdf\u001b[0m\u001b[0;34m.\u001b[0m\u001b[0msignals_in_file\u001b[0m\u001b[0;34m\u001b[0m\u001b[0;34m\u001b[0m\u001b[0m\n",
            "\u001b[0;32mpyedflib/_extensions/_pyedflib.pyx\u001b[0m in \u001b[0;36mpyedflib._extensions._pyedflib.CyEdfReader.__init__\u001b[0;34m()\u001b[0m\n",
            "\u001b[0;32mpyedflib/_extensions/_pyedflib.pyx\u001b[0m in \u001b[0;36mpyedflib._extensions._pyedflib.CyEdfReader.open\u001b[0;34m()\u001b[0m\n",
            "\u001b[0;32mpyedflib/_extensions/_pyedflib.pyx\u001b[0m in \u001b[0;36mpyedflib._extensions._pyedflib.CyEdfReader.check_open_ok\u001b[0;34m()\u001b[0m\n",
            "\u001b[0;31mOSError\u001b[0m: can not open file, no such file or directory"
          ]
        },
        {
          "output_type": "display_data",
          "data": {
            "image/png": "[encoded data removed]",
            "text/plain": [
              "<Figure size 432x288 with 1 Axes>"
            ]
          },
          "metadata": {
            "tags": []
          }
        }
      ]
    },
    {
      "cell_type": "code",
      "metadata": {
        "id": "WooVuJPZEdH2",
        "colab_type": "code",
        "outputId": "2ce820e8-c60d-4d57-838d-ccff8a298daa",
        "colab": {
          "base_uri": "https://localhost:8080/",
          "height": 50
        }
      },
      "source": [
        "print(st_FileHypEdf)\n",
        "print(s_SigNum)\n"
      ],
      "execution_count": 0,
      "outputs": [
        {
          "output_type": "stream",
          "text": [
            "<pyedflib.edfreader.EdfReader object at 0x966c018>\n",
            "7\n"
          ],
          "name": "stdout"
        }
      ]
    },
    {
      "cell_type": "code",
      "metadata": {
        "id": "cI8kQmO-Fc8l",
        "colab_type": "code",
        "outputId": "4288f915-e41c-4672-c9b8-4f7266902baa",
        "colab": {
          "base_uri": "https://localhost:8080/",
          "height": 50
        }
      },
      "source": [
        "print(v_HypTime[-2])\n",
        "print(v_Hyp[-2])"
      ],
      "execution_count": 0,
      "outputs": [
        {
          "output_type": "stream",
          "text": [
            "52260.0\n",
            "Sleep stage W\n"
          ],
          "name": "stdout"
        }
      ]
    },
    {
      "cell_type": "code",
      "metadata": {
        "id": "LRX_oYI-Gzx_",
        "colab_type": "code",
        "outputId": "618f94a7-b096-4271-ebef-1de64c5d6e80",
        "colab": {
          "base_uri": "https://localhost:8080/",
          "height": 33
        }
      },
      "source": [
        "79500/30*153"
      ],
      "execution_count": 0,
      "outputs": [
        {
          "output_type": "execute_result",
          "data": {
            "text/plain": [
              "405450.0"
            ]
          },
          "metadata": {
            "tags": []
          },
          "execution_count": 17
        }
      ]
    },
    {
      "cell_type": "code",
      "metadata": {
        "id": "hS5qQ0hTIj1C",
        "colab_type": "code",
        "outputId": "c5d77089-03c7-4603-d5b5-f61b249fdf48",
        "colab": {
          "base_uri": "https://localhost:8080/",
          "height": 161
        }
      },
      "source": [
        "v_Signal_Labels"
      ],
      "execution_count": 0,
      "outputs": [
        {
          "output_type": "error",
          "ename": "NameError",
          "evalue": "ignored",
          "traceback": [
            "\u001b[0;31m---------------------------------------------------------------------------\u001b[0m",
            "\u001b[0;31mNameError\u001b[0m                                 Traceback (most recent call last)",
            "\u001b[0;32m<ipython-input-11-b4f97c9033d8>\u001b[0m in \u001b[0;36m<module>\u001b[0;34m()\u001b[0m\n\u001b[0;32m----> 1\u001b[0;31m \u001b[0mv_Signal_Labels\u001b[0m\u001b[0;34m\u001b[0m\u001b[0;34m\u001b[0m\u001b[0m\n\u001b[0m",
            "\u001b[0;31mNameError\u001b[0m: name 'v_Signal_Labels' is not defined"
          ]
        }
      ]
    },
    {
      "cell_type": "markdown",
      "metadata": {
        "id": "hzhUvNhtoToM",
        "colab_type": "text"
      },
      "source": [
        "#Entrenamiento del Modelo"
      ]
    },
    {
      "cell_type": "code",
      "metadata": {
        "id": "R54HzoQ0LDZ0",
        "colab_type": "code",
        "colab": {}
      },
      "source": [
        "#Ordenar estos parametros mejor. Quizas con un vector o algo asi para indicar cada capa de convolucion.\n",
        "numFiltros1 = 10\n",
        "tamFiltros1 = 5\n",
        "tamMaxPooling1 = 3\n",
        "numFiltros2 = 10\n",
        "tamFiltros2 = 5\n",
        "tamAveragePooling1 = 3\n",
        "\n",
        "#Numero de clases\n",
        "numClases = 7\n",
        "\n",
        "modelo = Sequential()\n",
        "\n",
        "#Esto corresponderia a la parte convolucional.\n",
        "modelo.add(Conv1D(numFiltros1, tamFiltros1, activation = 'relu', input_shape = (3000,1)))\n",
        "modelo.add(MaxPooling1D(tamMaxPooling1))\n",
        "modelo.add(Conv1D(numFiltros2, tamFiltros2, activation = 'relu'))\n",
        "modelo.add(AveragePooling1D(tamAveragePooling1))\n",
        "\n",
        "#Esto corresponderia a la parte de red neuronal normalita. (Puse cualquier cosa por ahora)\n",
        "modelo.add(Dense(20, activation = 'relu'))\n",
        "modelo.add(Dense(numClases, activation = 'softmax'))\n",
        "\n",
        "modelo.summary()"
      ],
      "execution_count": 0,
      "outputs": []
    }
  ]
}