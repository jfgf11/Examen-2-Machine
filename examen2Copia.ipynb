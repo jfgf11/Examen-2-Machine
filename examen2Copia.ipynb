{
  "nbformat": 4,
  "nbformat_minor": 0,
  "metadata": {
    "colab": {
      "name": "examen2.ipynb",
      "provenance": [],
      "collapsed_sections": [
        "-BNRjiy0hckX",
        "NG1AdmN0FjVA"
      ],
      "toc_visible": true,
      "include_colab_link": true
    },
    "kernelspec": {
      "name": "python3",
      "display_name": "Python 3"
    },
    "accelerator": "GPU"
  },
  "cells": [
    {
      "cell_type": "markdown",
      "metadata": {
        "id": "view-in-github",
        "colab_type": "text"
      },
      "source": [
        "<a href=\"https://colab.research.google.com/github/jfgf11/Examen-2-Machine/blob/master/examen2.ipynb\" target=\"_parent\"><img src=\"https://colab.research.google.com/assets/colab-badge.svg\" alt=\"Open In Colab\"/></a>"
      ]
    },
    {
      "cell_type": "markdown",
      "metadata": {
        "id": "Geb2T0_TB3BM",
        "colab_type": "text"
      },
      "source": [
        "\n",
        "# Examen 2\n",
        "\n",
        "\n"
      ]
    },
    {
      "cell_type": "code",
      "metadata": {
        "id": "brhsDHYQokNd",
        "colab_type": "code",
        "outputId": "ad819aa0-4c06-4ec7-eae9-074107037791",
        "colab": {
          "base_uri": "https://localhost:8080/",
          "height": 126
        }
      },
      "source": [
        "from google.colab import drive\n",
        "drive.mount('/content/drive')"
      ],
      "execution_count": 1,
      "outputs": [
        {
          "output_type": "stream",
          "text": [
            "Go to this URL in a browser: https://accounts.google.com/o/oauth2/auth?client_id=947318989803-6bn6qk8qdgf4n4g3pfee6491hc0brc4i.apps.googleusercontent.com&redirect_uri=urn%3aietf%3awg%3aoauth%3a2.0%3aoob&response_type=code&scope=email%20https%3a%2f%2fwww.googleapis.com%2fauth%2fdocs.test%20https%3a%2f%2fwww.googleapis.com%2fauth%2fdrive%20https%3a%2f%2fwww.googleapis.com%2fauth%2fdrive.photos.readonly%20https%3a%2f%2fwww.googleapis.com%2fauth%2fpeopleapi.readonly\n",
            "\n",
            "Enter your authorization code:\n",
            "··········\n",
            "Mounted at /content/drive\n"
          ],
          "name": "stdout"
        }
      ]
    },
    {
      "cell_type": "markdown",
      "metadata": {
        "id": "nigPT0LkuBmI",
        "colab_type": "text"
      },
      "source": [
        "#Instalación"
      ]
    },
    {
      "cell_type": "code",
      "metadata": {
        "id": "UT9ry2xHBUyV",
        "colab_type": "code",
        "outputId": "ad93ac1f-45b7-4d69-a061-72edd41334fd",
        "colab": {
          "base_uri": "https://localhost:8080/",
          "height": 234
        }
      },
      "source": [
        "!pip install pyEDFlib\n",
        "!pip install progressbar2"
      ],
      "execution_count": 2,
      "outputs": [
        {
          "output_type": "stream",
          "text": [
            "Collecting pyEDFlib\n",
            "\u001b[?25l  Downloading https://files.pythonhosted.org/packages/bc/8b/47ce5a889e1f6917390ba2328b494424d018cf9c263ab59e14ac851e194f/pyEDFlib-0.1.15.tar.gz (1.1MB)\n",
            "\u001b[K     |████████████████████████████████| 1.1MB 2.4MB/s \n",
            "\u001b[?25hRequirement already satisfied: numpy>=1.9.1 in /usr/local/lib/python3.6/dist-packages (from pyEDFlib) (1.17.4)\n",
            "Building wheels for collected packages: pyEDFlib\n",
            "  Building wheel for pyEDFlib (setup.py) ... \u001b[?25l\u001b[?25hdone\n",
            "  Created wheel for pyEDFlib: filename=pyEDFlib-0.1.15-cp36-cp36m-linux_x86_64.whl size=920114 sha256=4157c75cc3346e24e600126df3bccc892acc76c0abc70749609ab3054b65e1b1\n",
            "  Stored in directory: /root/.cache/pip/wheels/57/e3/8e/ce6236e9ada08b8ff91ef922c7418dbd66f1182dfbb22f8579\n",
            "Successfully built pyEDFlib\n",
            "Installing collected packages: pyEDFlib\n",
            "Successfully installed pyEDFlib-0.1.15\n"
          ],
          "name": "stdout"
        }
      ]
    },
    {
      "cell_type": "markdown",
      "metadata": {
        "id": "-BNRjiy0hckX",
        "colab_type": "text"
      },
      "source": [
        "#Librerías"
      ]
    },
    {
      "cell_type": "code",
      "metadata": {
        "id": "dbliV9ktoI5F",
        "colab_type": "code",
        "colab": {}
      },
      "source": [
        "%tensorflow_version 1.x\n",
        "import tensorflow as tf\n",
        "import tensorflow.keras as keras\n",
        "\n",
        "from tensorflow.keras import Sequential\n",
        "from tensorflow.keras.layers import Dense\n",
        "from tensorflow.keras.layers import Dropout\n",
        "from tensorflow.keras.layers import Conv1D\n",
        "from tensorflow.keras.layers import MaxPooling1D\n",
        "from tensorflow.keras.layers import AveragePooling1D\n",
        "from tensorflow.keras.layers import GlobalAveragePooling1D\n",
        "from tensorflow.keras.layers import Flatten\n",
        "from tensorflow.keras import optimizers\n",
        "from tensorflow.keras.regularizers import l2\n",
        "from tensorflow.keras.wrappers.scikit_learn import KerasClassifier\n",
        "\n",
        "import pandas as pd\n",
        "import pyedflib as pyedf\n",
        "import numpy as np\n",
        "import matplotlib.pyplot as plt\n",
        "import os\n",
        "import time\n",
        "from tqdm import tqdm\n",
        "import progressbar\n",
        "\n",
        "from sklearn.model_selection import train_test_split\n",
        "from sklearn.model_selection import GridSearchCV\n",
        "from sklearn.metrics import confusion_matrix \n",
        "from sklearn.ensemble import AdaBoostClassifier"
      ],
      "execution_count": 0,
      "outputs": []
    },
    {
      "cell_type": "markdown",
      "metadata": {
        "id": "NG1AdmN0FjVA",
        "colab_type": "text"
      },
      "source": [
        "#Clases"
      ]
    },
    {
      "cell_type": "code",
      "metadata": {
        "id": "rT-Z0AiyFiq-",
        "colab_type": "code",
        "colab": {}
      },
      "source": [
        "#Esta no esta terminada.\n",
        "class Resultados:\n",
        "    def __init__(self, p_y_pred, p_y_true):#, p_labels):\n",
        "        self.y_pred = p_y_pred\n",
        "        self.y_true = p_y_true\n",
        "        #self.labels = p_labels\n",
        "\n",
        "    def darMatrizConfusion(self):\n",
        "      cm = confusion_matrix(self.y_pred, self.y_true)#, self.labels)\n",
        "      ax = plt.subplot()\n",
        "      sns.heatmap(cm, annot = True, ax = ax); #annot=True to annotate cells\n",
        " \n",
        "      # labels, title and ticks\n",
        "      ax.set_xlabel('Predicted labels');\n",
        "      ax.set_ylabel('True labels'); \n",
        "      ax.set_title('Confusion Matrix'); \n",
        "      ax.xaxis.set_ticklabels(['Clase0', 'Clase1', 'Clase2']);\n",
        "      ax.yaxis.set_ticklabels(['Clase0', 'Clase1', 'Clase2']);"
      ],
      "execution_count": 0,
      "outputs": []
    },
    {
      "cell_type": "markdown",
      "metadata": {
        "id": "Aivhu85eoNx8",
        "colab_type": "text"
      },
      "source": [
        "#Lectura de los Datos"
      ]
    },
    {
      "cell_type": "code",
      "metadata": {
        "id": "Y9fVcGp6pV7W",
        "colab_type": "code",
        "colab": {}
      },
      "source": [
        "filenameDatos = \"drive/My Drive/sleep-cassette\"\n",
        "filenameDescripcion = \"drive/My Drive/SC-subjects.xls\"\n",
        "\n",
        "ArchivoLightsOff=pd.read_excel(filenameDescripcion, sheet_name='Blad1')\n",
        "\n",
        "TiempoLightsOff=ArchivoLightsOff[\"LightsOff\"].values\n",
        "TiempoLightsOffSegundos=TiempoLightsOff\n",
        "HorasSuenio=8\n",
        "\n",
        "for i in range (0, len(TiempoLightsOff)):\n",
        "  segundos=int(TiempoLightsOff[i].hour) * 3600 + int(TiempoLightsOff[i].minute) * 60\n",
        "  TiempoLightsOffSegundos[i]=segundos\n",
        "\n",
        "listaArchivos = os.listdir(filenameDatos)\n",
        "\n",
        "listaHypnograms = [i for i in listaArchivos if \"Hypnogram\" in i] \n",
        "listaPSGs = [i for i in listaArchivos if \"PSG\" in i]\n",
        "\n",
        "listaHypnograms.sort()\n",
        "listaPSGs.sort()\n",
        "\n",
        "print(\"Importando datos...\")\n",
        "\n",
        "start = time.time()\n",
        "\n",
        "Datos=np.zeros(3000)\n",
        "Etiquetas=[0]\n",
        "\n",
        "p = 0\n",
        "numArchivos = 10\n",
        "\n",
        "with progressbar.ProgressBar(max_value=numArchivos*960) as bar:\n",
        "  for i in range(0,numArchivos):#len(listaHypnograms)):\n",
        "\n",
        "    hyp = listaHypnograms[i]\n",
        "    psg = listaPSGs[i]\n",
        "\n",
        "    print(\"Hyp: {}, PSG: {}\".format(hyp,psg))\n",
        "\n",
        "    fileHyp = pyedf.EdfReader(filenameDatos + \"/\" + hyp)\n",
        "    filePSG = pyedf.EdfReader(filenameDatos + \"/\" + psg)\n",
        "\n",
        "    hypTime, hypDur, hypEtiqueta = fileHyp.readAnnotations()\n",
        "\n",
        "    tiempoComienzo = fileHyp.starttime_hour*3600+fileHyp.starttime_minute*60+fileHyp.starttime_second\n",
        "    offset=TiempoLightsOffSegundos[i]-tiempoComienzo\n",
        "    if offset<0:\n",
        "      offset+=24*3600\n",
        "    LimiteSuperior=offset+HorasSuenio*3600\n",
        "    ventana=30\n",
        "    tiempo=offset\n",
        "    j=0\n",
        "    referenciaSenial=0\n",
        "    FrecuenciaMuestreo = filePSG.getSampleFrequency(referenciaSenial)\n",
        "\n",
        "    while tiempo<LimiteSuperior:\n",
        "      if tiempo>hypTime[j]:\n",
        "        j+=1\n",
        "        \n",
        "      ventanaMuestra = np.round(FrecuenciaMuestreo * ventana)\n",
        "      muestraInicial = np.round(FrecuenciaMuestreo * tiempo)\n",
        "      senial=filePSG.readSignal(referenciaSenial)\n",
        "      senialActual=senial[muestraInicial:muestraInicial+ventanaMuestra]\n",
        "      etiquetaActual=hypEtiqueta[j]\n",
        "      Datos=np.vstack((Datos,senialActual))\n",
        "      #print((Datos).shape)\n",
        "      Etiquetas=np.vstack((Etiquetas,etiquetaActual))\n",
        "      tiempo+=ventana\n",
        "      p+=1\n",
        "      bar.update(p)\n",
        "\n",
        "    fileHyp._close() \n",
        "    filePSG._close()\n",
        "#print(listaHypnograms)\n",
        "#print(listaPSGs)\n",
        "\n",
        "print(\"Termino.\")\n",
        "print(\"Tiempo: {} segundos.\".format(time.time()-start))"
      ],
      "execution_count": 0,
      "outputs": []
    },
    {
      "cell_type": "code",
      "metadata": {
        "id": "xhi9yZL7jWbY",
        "colab_type": "code",
        "colab": {
          "base_uri": "https://localhost:8080/",
          "height": 35
        },
        "outputId": "e2d04f6c-e10f-4559-9144-74e60eeb1109"
      },
      "source": [
        "#filePSG = pyedf.EdfReader(filenameDatos + \"/\" + psg)\n",
        "#filePSG._close()\n",
        "filenameDatos + \"/\" + psg"
      ],
      "execution_count": 16,
      "outputs": [
        {
          "output_type": "execute_result",
          "data": {
            "text/plain": [
              "'drive/My Drive/sleep-cassette/SC4002E0-PSG.edf'"
            ]
          },
          "metadata": {
            "tags": []
          },
          "execution_count": 16
        }
      ]
    },
    {
      "cell_type": "code",
      "metadata": {
        "id": "kf3DBKIQpPy6",
        "colab_type": "code",
        "colab": {}
      },
      "source": [
        "#Esto solo se corre una vez.\n",
        "Etiquetas = Etiquetas[1:len(Etiquetas)]\n",
        "Datos = Datos[1:Datos.shape[0]]"
      ],
      "execution_count": 0,
      "outputs": []
    },
    {
      "cell_type": "code",
      "metadata": {
        "id": "vqNHjkpQM14h",
        "colab_type": "code",
        "outputId": "e9818ea8-4107-4815-ab28-df35bf069c5a",
        "colab": {
          "base_uri": "https://localhost:8080/",
          "height": 71
        }
      },
      "source": [
        "def eliminarClaseDesconocida(pDatos, pEtiquetas):\n",
        "  et = []\n",
        "  dat = np.zeros(3000)\n",
        "\n",
        "  with progressbar.ProgressBar(max_value=numArchivos*960) as bar:\n",
        "    for i in range(0, len(pEtiquetas)):\n",
        "      bar.update(i)\n",
        "      if pEtiquetas[i] != 'Sleep stage ?':\n",
        "        \n",
        "        if pEtiquetas[i]==\"Sleep stage W\":\n",
        "          et = np.append(et,0)\n",
        "          dat = np.vstack((dat, Datos[i,:]))\n",
        "        elif pEtiquetas[i]==\"Sleep stage 1\":\n",
        "          et = np.append(et,1)\n",
        "          dat = np.vstack((dat, Datos[i,:]))\n",
        "        elif pEtiquetas[i]==\"Sleep stage 2\":\n",
        "          et = np.append(et,2)\n",
        "          dat = np.vstack((dat, Datos[i,:]))\n",
        "        elif pEtiquetas[i]==\"Sleep stage 3\":\n",
        "          et = np.append(et,3)\n",
        "          dat = np.vstack((dat, Datos[i,:]))\n",
        "        elif pEtiquetas[i]==\"Sleep stage 4\":\n",
        "          et = np.append(et,4)\n",
        "          dat = np.vstack((dat, Datos[i,:]))\n",
        "        elif pEtiquetas[i]==\"Sleep stage R\":\n",
        "          et = np.append(et,5)\n",
        "          dat = np.vstack((dat, Datos[i,:]))\n",
        "        else:\n",
        "          pass\n",
        "          #print(\"Hay una clase distinta a las definidas.\")\n",
        "\n",
        "  dat = dat[1:dat.shape[0]]\n",
        "  return dat, et\n",
        "\n",
        "unosDatos, unosEtiquetas = eliminarClaseDesconocida(Datos, Etiquetas)\n",
        "#np.save(\"Datos\", unosDatos)\n",
        "#np.save(\"Etiquetas\", unosEtiquetas)\n",
        "\n",
        "print(len(unosEtiquetas))\n",
        "print(len(unosDatos))"
      ],
      "execution_count": 39,
      "outputs": [
        {
          "output_type": "stream",
          "text": [
            "100% (9600 of 9600) |####################| Elapsed Time: 0:03:20 Time:  0:03:20\n"
          ],
          "name": "stderr"
        },
        {
          "output_type": "stream",
          "text": [
            "8864\n",
            "8864\n"
          ],
          "name": "stdout"
        }
      ]
    },
    {
      "cell_type": "markdown",
      "metadata": {
        "id": "hzhUvNhtoToM",
        "colab_type": "text"
      },
      "source": [
        "#Entrenamiento del Modelo"
      ]
    },
    {
      "cell_type": "markdown",
      "metadata": {
        "id": "ZNDN_jn4GUq2",
        "colab_type": "text"
      },
      "source": [
        "#Implementación en Keras"
      ]
    },
    {
      "cell_type": "code",
      "metadata": {
        "id": "R54HzoQ0LDZ0",
        "colab_type": "code",
        "colab": {}
      },
      "source": [
        "def crearModelo(pTasa, pAlphas, pNumFiltros, pTamFiltros, pTamPooling, pNumNeuronas):\n",
        "  #Numero de clases\n",
        "  numClases = 6\n",
        "\n",
        "  modelo = Sequential()\n",
        "\n",
        "  #Esto corresponderia a la parte convolucional.\n",
        "  modelo.add(Conv1D(pNumFiltros[0], int(pTamFiltros[0]), activation = 'relu', input_shape = (3000,1)))\n",
        "  modelo.add(MaxPooling1D(int(pTamPooling[0])))\n",
        "  modelo.add(Conv1D(pNumFiltros[1], int(pTamFiltros[1]), activation = 'relu'))\n",
        "  modelo.add(AveragePooling1D(int(pTamPooling[1])))\n",
        "  modelo.add(Conv1D(pNumFiltros[2], int(pTamFiltros[2]), activation = 'relu'))\n",
        "  #modelo.add(GlobalAveragePooling1D())\n",
        "  modelo.add(MaxPooling1D(int(pTamPooling[2])))\n",
        "  modelo.add(Flatten())\n",
        "\n",
        "  #Esto corresponderia a la parte de red neuronal normalita. (Puse cualquier cosa por ahora)\n",
        "  modelo.add(Dense(pNumNeuronas[0], activation = 'relu'))\n",
        "  #modelo.add(Dropout(0.5))\n",
        "  modelo.add(Dense(pNumNeuronas[1], activation = 'relu'))#, activity_regularizer=l2(pAlpha)))\n",
        "  modelo.add(Dense(pNumNeuronas[2], activation = 'relu'))#, activity_regularizer=l2(pAlpha)))\n",
        "  modelo.add(Dense(numClases, activation = 'softmax'))\n",
        "\n",
        "  sgd = optimizers.SGD(lr = pTasa)\n",
        "  adam = optimizers.Adam(learning_rate = pTasa)\n",
        "\n",
        "  modelo.compile(loss='sparse_categorical_crossentropy', optimizer = adam, metrics = ['sparse_categorical_accuracy'])\n",
        "\n",
        "  modelo.summary()\n",
        "\n",
        "  return modelo"
      ],
      "execution_count": 0,
      "outputs": []
    },
    {
      "cell_type": "code",
      "metadata": {
        "id": "hARh2hKqpioi",
        "colab_type": "code",
        "colab": {}
      },
      "source": [
        "x_train, x_test, y_train, y_test = train_test_split(unosDatos, unosEtiquetas , random_state = 0, test_size=0.10)\n",
        "x_train = np.expand_dims(x_train, axis=2) # reshape (569, 30) to (569, 30, 1) \n",
        "x_test = np.expand_dims(x_test, axis=2) # reshape (569, 30) to (569, 30, 1) "
      ],
      "execution_count": 0,
      "outputs": []
    },
    {
      "cell_type": "code",
      "metadata": {
        "id": "M46eR6ELpaJ2",
        "colab_type": "code",
        "colab": {
          "base_uri": "https://localhost:8080/",
          "height": 831
        },
        "outputId": "7b976791-bf2a-4219-91fc-1907d110e833"
      },
      "source": [
        "numFiltros = np.array([20, 20, 20])\n",
        "tamFiltros = np.array([5, 5, 5])\n",
        "tamPooling = np.array([6, 6, 6])\n",
        "\n",
        "numNeuronas = np.array([10, 8, 6])\n",
        "\n",
        "tasa = 0.001\n",
        "alpha = 10\n",
        "\n",
        "modelo = crearModelo(tasa, alpha, numFiltros, tamFiltros, tamPooling ,numNeuronas)\n",
        "\n",
        "epocas = 10\n",
        "batchSize = 128\n",
        "hist = modelo.fit(x_train, y_train, verbose = 0, validation_data=(x_test, y_test), epochs = epocas, batch_size = batchSize)\n",
        "\n",
        "graficarHistoria(hist)"
      ],
      "execution_count": 77,
      "outputs": [
        {
          "output_type": "stream",
          "text": [
            "Model: \"sequential_16\"\n",
            "_________________________________________________________________\n",
            "Layer (type)                 Output Shape              Param #   \n",
            "=================================================================\n",
            "conv1d_29 (Conv1D)           (None, 2996, 20)          120       \n",
            "_________________________________________________________________\n",
            "max_pooling1d_17 (MaxPooling (None, 499, 20)           0         \n",
            "_________________________________________________________________\n",
            "conv1d_30 (Conv1D)           (None, 495, 20)           2020      \n",
            "_________________________________________________________________\n",
            "average_pooling1d_7 (Average (None, 82, 20)            0         \n",
            "_________________________________________________________________\n",
            "conv1d_31 (Conv1D)           (None, 78, 20)            2020      \n",
            "_________________________________________________________________\n",
            "max_pooling1d_18 (MaxPooling (None, 13, 20)            0         \n",
            "_________________________________________________________________\n",
            "flatten_7 (Flatten)          (None, 260)               0         \n",
            "_________________________________________________________________\n",
            "dense_28 (Dense)             (None, 10)                2610      \n",
            "_________________________________________________________________\n",
            "dense_29 (Dense)             (None, 8)                 88        \n",
            "_________________________________________________________________\n",
            "dense_30 (Dense)             (None, 6)                 54        \n",
            "_________________________________________________________________\n",
            "dense_31 (Dense)             (None, 6)                 42        \n",
            "=================================================================\n",
            "Total params: 6,954\n",
            "Trainable params: 6,954\n",
            "Non-trainable params: 0\n",
            "_________________________________________________________________\n"
          ],
          "name": "stdout"
        },
        {
          "output_type": "display_data",
          "data": {
            "image/png": "[encoded data removed]",
            "text/plain": [
              "<Figure size 432x288 with 1 Axes>"
            ]
          },
          "metadata": {
            "tags": []
          }
        }
      ]
    },
    {
      "cell_type": "code",
      "metadata": {
        "id": "q06nkyUYR-CE",
        "colab_type": "code",
        "colab": {}
      },
      "source": [
        "#modelo = crearModelo()\n",
        "epocas = 100\n",
        "batchSize = 64\n",
        "hist = modelo.fit(x_train, y_train, validation_data=(x_test, y_test), epochs = epocas, batch_size = batchSize)\n",
        "\n",
        "#graficarHistoriaAccuracy(hist)\n",
        "#graficarHistoriaValAccuracy(hist)\n",
        "graficarHistoria(hist)"
      ],
      "execution_count": 0,
      "outputs": []
    },
    {
      "cell_type": "code",
      "metadata": {
        "id": "KrlFIXqczP3l",
        "colab_type": "code",
        "colab": {}
      },
      "source": [
        "#Probando GridSearchCV\n",
        "estimador = KerasClassifier(build_fn=crearModelo)\n",
        "\n",
        "parametros = {'batch_size': [25,32],\n",
        "              'epochs': [5,10],\n",
        "              'optimizer': ['adam', 'rmsprop'],\n",
        "              'pTasa': [0.01, 0.1]\n",
        "              'pAlphas': [0.001]\n",
        "              'pNumFiltros': numFiltros\n",
        "              'pTamFiltros': tamFiltros\n",
        "              'pTamPooling': tamPooling\n",
        "              'pNumNeuronas': numNeuronas\n",
        "              }\n",
        "busqueda = GridSearchCV(estimator=estimador,\n",
        "                           param_grid = parametros,\n",
        "                           scoring = 'sparse_categorical_accuracy',\n",
        "                           cv = 10)\n",
        "busqueda = busqueda.fit(x_train, y_train)\n",
        "mejoresParametros = busqueda.best_params_\n",
        "mejorAccuracy = busqueda.best_score_"
      ],
      "execution_count": 0,
      "outputs": []
    },
    {
      "cell_type": "markdown",
      "metadata": {
        "id": "l8qUiO-OGaM1",
        "colab_type": "text"
      },
      "source": [
        "#Implementación en AdaBoost"
      ]
    },
    {
      "cell_type": "code",
      "metadata": {
        "id": "xu9oyoRKGf1e",
        "colab_type": "code",
        "colab": {}
      },
      "source": [
        "epocas = 100\n",
        "batchSize = 32\n",
        "\n",
        "#Esto no se por que esta fallando.\n",
        "estimadorBase = KerasClassifier(build_fn = crearModelo, epochs = epocas, batch_size = batchSize, verbose = 0)\n",
        "\n",
        "print(\"Calculando...\")\n",
        "\n",
        "numEstimadores = 3\n",
        "adaBoost = AdaBoostClassifier(base_estimator = estimadorBase, n_estimators = numEstimadores) #Variar otros parametros como la tasa de aprendizaje\n",
        "adaBoost.fit(x_train, y_train)\n",
        "\n",
        "print(confusion_matrix(adaBoost.predict(x_train),y_train))\n",
        "print(confusion_matrix(adaBoost.predict(x_test),y_test))"
      ],
      "execution_count": 0,
      "outputs": []
    },
    {
      "cell_type": "markdown",
      "metadata": {
        "id": "pN-cEkgDFy3U",
        "colab_type": "text"
      },
      "source": [
        "#Resultados"
      ]
    },
    {
      "cell_type": "code",
      "metadata": {
        "id": "LO5euyGuFxdI",
        "colab_type": "code",
        "colab": {}
      },
      "source": [
        "def graficarHistoria(pHist):\n",
        "  plt.plot(pHist.history['sparse_categorical_accuracy'], label = 'Accuracy Entrenamiento')\n",
        "  plt.plot(hist.history['val_sparse_categorical_accuracy'], label = 'Accuracy Validacion')\n",
        "  plt.xlabel('Epoca')\n",
        "  plt.ylabel('Accuracy')\n",
        "  plt.title(\"Accuracy vs Epoca\")\n",
        "  plt.legend()\n",
        "  plt.show()"
      ],
      "execution_count": 0,
      "outputs": []
    },
    {
      "cell_type": "code",
      "metadata": {
        "id": "7Mt5I00ySoCj",
        "colab_type": "code",
        "outputId": "ae7ba614-c2c0-4368-ca62-d19f1cbe51e6",
        "colab": {
          "base_uri": "https://localhost:8080/",
          "height": 295
        }
      },
      "source": [
        "graficarHistoria(hist)"
      ],
      "execution_count": 68,
      "outputs": [
        {
          "output_type": "display_data",
          "data": {
            "image/png": "[encoded data removed]",
            "text/plain": [
              "<Figure size 432x288 with 1 Axes>"
            ]
          },
          "metadata": {
            "tags": []
          }
        }
      ]
    },
    {
      "cell_type": "code",
      "metadata": {
        "id": "6aQdP54tHKlv",
        "colab_type": "code",
        "colab": {}
      },
      "source": [
        ""
      ],
      "execution_count": 0,
      "outputs": []
    }
  ]
}